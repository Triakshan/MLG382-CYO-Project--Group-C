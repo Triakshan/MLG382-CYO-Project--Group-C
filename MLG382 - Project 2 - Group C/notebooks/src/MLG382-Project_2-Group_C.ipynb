{
 "cells": [
  {
   "cell_type": "markdown",
   "metadata": {},
   "source": [
    "# Github Repository URL"
   ]
  },
  {
   "cell_type": "markdown",
   "metadata": {},
   "source": [
    "https://github.com/Triakshan/MLG382-CYO-Project--Group-C"
   ]
  },
  {
   "cell_type": "markdown",
   "metadata": {},
   "source": [
    "# 1. Problem Statement"
   ]
  },
  {
   "cell_type": "markdown",
   "metadata": {},
   "source": [
    "The Dunder Mifflin Paper Company, a well-known paper supplier situated in Scranton, Pennsylvania, is suffering a disturbing trend of excessive staff turnover, which is reducing operational efficiency and worker morale. We, the analytical team, are concerned about the company's high attrition rates, which we feel are damaging to its culture and performance. This research intends to use specific employee data, including tenure, income, work satisfaction, and departmental functions, to uncover major variables influencing employee turnover. We will create a prediction model based on detailed data analysis to put employees into three risk categories for leaving: extremely probable, moderately likely, and marginally likely. Our ultimate objective is to deliver actionable information that will assist in developing successful retention strategies to minimize turnover and improve overall employee engagement. Although the setting and data are fictitious and created for instructional reasons, the approaches used will closely resemble real-world analytical applications in human resource management, providing meaningful learning benefits."
   ]
  },
  {
   "cell_type": "markdown",
   "metadata": {},
   "source": [
    "# 2. Hypothesis Generation"
   ]
  },
  {
   "cell_type": "markdown",
   "metadata": {},
   "source": [
    "We hypothesize that certain employee attributes and workplace conditions have a substantial impact on employee turnover at Dunder Mifflin Paper Company. We estimate that poorer job satisfaction, insufficient work-life balance, and longer travel lengths are highly related with increased risk of quitting the organization. Furthermore, we believe that employees with longer tenure, higher income, and recent promotions are less likely to quit, indicating that job stability and recognition are important determinants in employee retention. Our investigation aims to test these ideas by using predictive modelling approaches to categorize employees into distinct churn risk groups. By validating or disputing these assumptions, we will be able to pinpoint the most important areas for action to enhance retention methods and minimize staff turnover."
   ]
  },
  {
   "cell_type": "markdown",
   "metadata": {},
   "source": [
    "# 3. Prepare Data"
   ]
  },
  {
   "cell_type": "markdown",
   "metadata": {},
   "source": [
    "## Import the libraries"
   ]
  },
  {
   "cell_type": "code",
   "execution_count": 1,
   "metadata": {},
   "outputs": [],
   "source": [
    "import numpy as np\n",
    "import pandas as pd"
   ]
  },
  {
   "cell_type": "markdown",
   "metadata": {},
   "source": [
    "## Importing the dataset"
   ]
  },
  {
   "cell_type": "code",
   "execution_count": 2,
   "metadata": {},
   "outputs": [
    {
     "name": "stdout",
     "output_type": "stream",
     "text": [
      "<class 'pandas.core.frame.DataFrame'>\n",
      "RangeIndex: 1543 entries, 0 to 1542\n",
      "Data columns (total 17 columns):\n",
      " #   Column                   Non-Null Count  Dtype  \n",
      "---  ------                   --------------  -----  \n",
      " 0   EmployeeID               1543 non-null   int64  \n",
      " 1   Branch                   1535 non-null   object \n",
      " 2   Tenure                   1534 non-null   float64\n",
      " 3   Salary                   1534 non-null   float64\n",
      " 4   Department               1543 non-null   object \n",
      " 5   JobSatisfaction          1515 non-null   float64\n",
      " 6   WorkLifeBalance          1515 non-null   float64\n",
      " 7   CommuteDistance          1543 non-null   object \n",
      " 8   MaritalStatus            1543 non-null   object \n",
      " 9   Education                1543 non-null   object \n",
      " 10  PerformanceRating        1536 non-null   float64\n",
      " 11  TrainingHours            1352 non-null   float64\n",
      " 12  OverTime                 1443 non-null   object \n",
      " 13  NumProjects              1444 non-null   float64\n",
      " 14  YearsSincePromotion      1542 non-null   float64\n",
      " 15  EnvironmentSatisfaction  1515 non-null   float64\n",
      " 16  ChurnLikelihood          1543 non-null   object \n",
      "dtypes: float64(9), int64(1), object(7)\n",
      "memory usage: 205.1+ KB\n",
      "None\n"
     ]
    },
    {
     "data": {
      "text/html": [
       "<div>\n",
       "<style scoped>\n",
       "    .dataframe tbody tr th:only-of-type {\n",
       "        vertical-align: middle;\n",
       "    }\n",
       "\n",
       "    .dataframe tbody tr th {\n",
       "        vertical-align: top;\n",
       "    }\n",
       "\n",
       "    .dataframe thead th {\n",
       "        text-align: right;\n",
       "    }\n",
       "</style>\n",
       "<table border=\"1\" class=\"dataframe\">\n",
       "  <thead>\n",
       "    <tr style=\"text-align: right;\">\n",
       "      <th></th>\n",
       "      <th>EmployeeID</th>\n",
       "      <th>Branch</th>\n",
       "      <th>Tenure</th>\n",
       "      <th>Salary</th>\n",
       "      <th>Department</th>\n",
       "      <th>JobSatisfaction</th>\n",
       "      <th>WorkLifeBalance</th>\n",
       "      <th>CommuteDistance</th>\n",
       "      <th>MaritalStatus</th>\n",
       "      <th>Education</th>\n",
       "      <th>PerformanceRating</th>\n",
       "      <th>TrainingHours</th>\n",
       "      <th>OverTime</th>\n",
       "      <th>NumProjects</th>\n",
       "      <th>YearsSincePromotion</th>\n",
       "      <th>EnvironmentSatisfaction</th>\n",
       "      <th>ChurnLikelihood</th>\n",
       "    </tr>\n",
       "  </thead>\n",
       "  <tbody>\n",
       "    <tr>\n",
       "      <th>0</th>\n",
       "      <td>1</td>\n",
       "      <td>San Francisco</td>\n",
       "      <td>4.0</td>\n",
       "      <td>63000.0</td>\n",
       "      <td>Legal</td>\n",
       "      <td>3.0</td>\n",
       "      <td>3.0</td>\n",
       "      <td>Long</td>\n",
       "      <td>Married</td>\n",
       "      <td>High School</td>\n",
       "      <td>3.000000</td>\n",
       "      <td>88.0</td>\n",
       "      <td>True</td>\n",
       "      <td>3.0</td>\n",
       "      <td>0.0</td>\n",
       "      <td>2.0</td>\n",
       "      <td>Highly Likely to Churn</td>\n",
       "    </tr>\n",
       "    <tr>\n",
       "      <th>1</th>\n",
       "      <td>2</td>\n",
       "      <td>Chicago</td>\n",
       "      <td>14.0</td>\n",
       "      <td>72000.0</td>\n",
       "      <td>Accounting</td>\n",
       "      <td>4.0</td>\n",
       "      <td>4.0</td>\n",
       "      <td>Short</td>\n",
       "      <td>Single</td>\n",
       "      <td>Bachelor</td>\n",
       "      <td>3.666667</td>\n",
       "      <td>30.0</td>\n",
       "      <td>True</td>\n",
       "      <td>3.0</td>\n",
       "      <td>2.0</td>\n",
       "      <td>3.0</td>\n",
       "      <td>Moderately Likely to Churn</td>\n",
       "    </tr>\n",
       "    <tr>\n",
       "      <th>2</th>\n",
       "      <td>3</td>\n",
       "      <td>Miami</td>\n",
       "      <td>4.0</td>\n",
       "      <td>40000.0</td>\n",
       "      <td>Quality Assurance</td>\n",
       "      <td>3.0</td>\n",
       "      <td>3.0</td>\n",
       "      <td>Medium</td>\n",
       "      <td>Single</td>\n",
       "      <td>High School</td>\n",
       "      <td>3.666667</td>\n",
       "      <td>64.0</td>\n",
       "      <td>NaN</td>\n",
       "      <td>NaN</td>\n",
       "      <td>0.0</td>\n",
       "      <td>4.0</td>\n",
       "      <td>Highly Likely to Churn</td>\n",
       "    </tr>\n",
       "    <tr>\n",
       "      <th>3</th>\n",
       "      <td>4</td>\n",
       "      <td>Scranton</td>\n",
       "      <td>2.0</td>\n",
       "      <td>55000.0</td>\n",
       "      <td>Legal</td>\n",
       "      <td>3.0</td>\n",
       "      <td>3.5</td>\n",
       "      <td>Short</td>\n",
       "      <td>Married</td>\n",
       "      <td>Bachelor</td>\n",
       "      <td>3.666667</td>\n",
       "      <td>30.0</td>\n",
       "      <td>True</td>\n",
       "      <td>4.0</td>\n",
       "      <td>0.0</td>\n",
       "      <td>3.0</td>\n",
       "      <td>Moderately Likely to Churn</td>\n",
       "    </tr>\n",
       "    <tr>\n",
       "      <th>4</th>\n",
       "      <td>5</td>\n",
       "      <td>Scranton</td>\n",
       "      <td>10.0</td>\n",
       "      <td>55500.0</td>\n",
       "      <td>Legal</td>\n",
       "      <td>3.0</td>\n",
       "      <td>3.0</td>\n",
       "      <td>Medium</td>\n",
       "      <td>Married</td>\n",
       "      <td>Bachelor</td>\n",
       "      <td>3.333333</td>\n",
       "      <td>18.0</td>\n",
       "      <td>NaN</td>\n",
       "      <td>4.0</td>\n",
       "      <td>1.0</td>\n",
       "      <td>3.0</td>\n",
       "      <td>Moderately Likely to Churn</td>\n",
       "    </tr>\n",
       "  </tbody>\n",
       "</table>\n",
       "</div>"
      ],
      "text/plain": [
       "   EmployeeID         Branch  Tenure   Salary         Department  \\\n",
       "0           1  San Francisco     4.0  63000.0              Legal   \n",
       "1           2        Chicago    14.0  72000.0         Accounting   \n",
       "2           3          Miami     4.0  40000.0  Quality Assurance   \n",
       "3           4       Scranton     2.0  55000.0              Legal   \n",
       "4           5       Scranton    10.0  55500.0              Legal   \n",
       "\n",
       "   JobSatisfaction  WorkLifeBalance CommuteDistance MaritalStatus  \\\n",
       "0              3.0              3.0            Long       Married   \n",
       "1              4.0              4.0           Short        Single   \n",
       "2              3.0              3.0          Medium        Single   \n",
       "3              3.0              3.5           Short       Married   \n",
       "4              3.0              3.0          Medium       Married   \n",
       "\n",
       "     Education  PerformanceRating  TrainingHours OverTime  NumProjects  \\\n",
       "0  High School           3.000000           88.0     True          3.0   \n",
       "1     Bachelor           3.666667           30.0     True          3.0   \n",
       "2  High School           3.666667           64.0      NaN          NaN   \n",
       "3     Bachelor           3.666667           30.0     True          4.0   \n",
       "4     Bachelor           3.333333           18.0      NaN          4.0   \n",
       "\n",
       "   YearsSincePromotion  EnvironmentSatisfaction             ChurnLikelihood  \n",
       "0                  0.0                      2.0      Highly Likely to Churn  \n",
       "1                  2.0                      3.0  Moderately Likely to Churn  \n",
       "2                  0.0                      4.0      Highly Likely to Churn  \n",
       "3                  0.0                      3.0  Moderately Likely to Churn  \n",
       "4                  1.0                      3.0  Moderately Likely to Churn  "
      ]
     },
     "execution_count": 2,
     "metadata": {},
     "output_type": "execute_result"
    }
   ],
   "source": [
    "df = pd.read_csv('../../data/office_churn_dataset.csv')\n",
    "print(df.info())\n",
    "df.head()"
   ]
  },
  {
   "cell_type": "markdown",
   "metadata": {},
   "source": [
    "## Understanding each feature"
   ]
  },
  {
   "cell_type": "markdown",
   "metadata": {},
   "source": [
    "## Remove irrelevant columns"
   ]
  },
  {
   "cell_type": "code",
   "execution_count": 3,
   "metadata": {},
   "outputs": [
    {
     "name": "stdout",
     "output_type": "stream",
     "text": [
      "<class 'pandas.core.frame.DataFrame'>\n",
      "RangeIndex: 1543 entries, 0 to 1542\n",
      "Data columns (total 16 columns):\n",
      " #   Column                   Non-Null Count  Dtype  \n",
      "---  ------                   --------------  -----  \n",
      " 0   Branch                   1535 non-null   object \n",
      " 1   Tenure                   1534 non-null   float64\n",
      " 2   Salary                   1534 non-null   float64\n",
      " 3   Department               1543 non-null   object \n",
      " 4   JobSatisfaction          1515 non-null   float64\n",
      " 5   WorkLifeBalance          1515 non-null   float64\n",
      " 6   CommuteDistance          1543 non-null   object \n",
      " 7   MaritalStatus            1543 non-null   object \n",
      " 8   Education                1543 non-null   object \n",
      " 9   PerformanceRating        1536 non-null   float64\n",
      " 10  TrainingHours            1352 non-null   float64\n",
      " 11  OverTime                 1443 non-null   object \n",
      " 12  NumProjects              1444 non-null   float64\n",
      " 13  YearsSincePromotion      1542 non-null   float64\n",
      " 14  EnvironmentSatisfaction  1515 non-null   float64\n",
      " 15  ChurnLikelihood          1543 non-null   object \n",
      "dtypes: float64(9), object(7)\n",
      "memory usage: 193.0+ KB\n"
     ]
    }
   ],
   "source": [
    "irrelevant_features = ['EmployeeID']\n",
    "\n",
    "df.drop(columns=irrelevant_features, inplace=True)\n",
    "df.info()"
   ]
  },
  {
   "cell_type": "markdown",
   "metadata": {},
   "source": [
    "# 4. Exploratory Data Analysis (EDA)"
   ]
  },
  {
   "cell_type": "markdown",
   "metadata": {},
   "source": [
    "## i) Univariate Analysis"
   ]
  },
  {
   "cell_type": "markdown",
   "metadata": {},
   "source": [
    "### Reading random records"
   ]
  },
  {
   "cell_type": "code",
   "execution_count": null,
   "metadata": {},
   "outputs": [],
   "source": [
    "df.sample(5)"
   ]
  },
  {
   "cell_type": "markdown",
   "metadata": {},
   "source": [
    "### Analysis of numerical attributes"
   ]
  },
  {
   "cell_type": "code",
   "execution_count": null,
   "metadata": {},
   "outputs": [],
   "source": [
    "df.describe()"
   ]
  },
  {
   "cell_type": "markdown",
   "metadata": {},
   "source": [
    "### Visualization of the data"
   ]
  },
  {
   "cell_type": "markdown",
   "metadata": {},
   "source": [
    "#### Importing Libraries for Visualization"
   ]
  },
  {
   "cell_type": "code",
   "execution_count": null,
   "metadata": {},
   "outputs": [],
   "source": [
    "import matplotlib.pyplot as plt\n",
    "import plotly.express as px\n",
    "import seaborn as sns"
   ]
  },
  {
   "cell_type": "markdown",
   "metadata": {},
   "source": [
    "#### Categorical Visualization"
   ]
  },
  {
   "cell_type": "markdown",
   "metadata": {},
   "source": [
    "#### Numerical Visualization"
   ]
  },
  {
   "cell_type": "markdown",
   "metadata": {},
   "source": [
    "#### Comparing Target Values for Categorical Imbalances"
   ]
  },
  {
   "cell_type": "code",
   "execution_count": null,
   "metadata": {},
   "outputs": [],
   "source": [
    "labels = (\n",
    "    df['Churn']\n",
    "    .astype('str')\n",
    "    .str.replace('0','No', regex=True)\n",
    "    .str.replace('1','Yes', regex=True)\n",
    "    .value_counts()\n",
    ")\n",
    "\n",
    "fig = px.bar(\n",
    "    data_frame=labels, \n",
    "    x=labels.index, \n",
    "    y=labels.values, \n",
    "    title=f'Class Imbalance', \n",
    "    color=labels.index\n",
    ")\n",
    "\n",
    "fig.update_layout(xaxis_title='Churn Status', yaxis_title='Number of Customers')\n",
    "fig.show()"
   ]
  },
  {
   "cell_type": "markdown",
   "metadata": {},
   "source": [
    "## ii) Bivariate Analysis"
   ]
  },
  {
   "cell_type": "markdown",
   "metadata": {},
   "source": [
    "# 5. Preprocess Data"
   ]
  },
  {
   "cell_type": "markdown",
   "metadata": {},
   "source": [
    "## Analyze the data"
   ]
  },
  {
   "cell_type": "code",
   "execution_count": 4,
   "metadata": {},
   "outputs": [
    {
     "data": {
      "text/html": [
       "<pre style=\"white-space:pre;overflow-x:auto;line-height:normal;font-family:Menlo,'DejaVu Sans Mono',consolas,'Courier New',monospace\">╭──────────────────────────────────────────────── skimpy summary ─────────────────────────────────────────────────╮\n",
       "│ <span style=\"font-style: italic\">         Data Summary         </span> <span style=\"font-style: italic\">      Data Types       </span>                                                          │\n",
       "│ ┏━━━━━━━━━━━━━━━━━━━┳━━━━━━━━┓ ┏━━━━━━━━━━━━━┳━━━━━━━┓                                                          │\n",
       "│ ┃<span style=\"color: #008080; text-decoration-color: #008080; font-weight: bold\"> dataframe         </span>┃<span style=\"color: #008080; text-decoration-color: #008080; font-weight: bold\"> Values </span>┃ ┃<span style=\"color: #008080; text-decoration-color: #008080; font-weight: bold\"> Column Type </span>┃<span style=\"color: #008080; text-decoration-color: #008080; font-weight: bold\"> Count </span>┃                                                          │\n",
       "│ ┡━━━━━━━━━━━━━━━━━━━╇━━━━━━━━┩ ┡━━━━━━━━━━━━━╇━━━━━━━┩                                                          │\n",
       "│ │ Number of rows    │ 1543   │ │ float64     │ 9     │                                                          │\n",
       "│ │ Number of columns │ 16     │ │ string      │ 6     │                                                          │\n",
       "│ └───────────────────┴────────┘ │ bool        │ 1     │                                                          │\n",
       "│                                └─────────────┴───────┘                                                          │\n",
       "│ <span style=\"font-style: italic\">                                                    number                                                    </span>  │\n",
       "│ ┏━━━━━━━━━━━━━━━━━━━━━━━━┳━━━━━━┳━━━━━━━━┳━━━━━━━━┳━━━━━━━┳━━━━━━━━┳━━━━━━━━┳━━━━━━━┳━━━━━━━┳━━━━━━━┳━━━━━━━━┓  │\n",
       "│ ┃<span style=\"font-weight: bold\"> column_name            </span>┃<span style=\"font-weight: bold\"> NA   </span>┃<span style=\"font-weight: bold\"> NA %   </span>┃<span style=\"font-weight: bold\"> mean   </span>┃<span style=\"font-weight: bold\"> sd    </span>┃<span style=\"font-weight: bold\"> p0     </span>┃<span style=\"font-weight: bold\"> p25    </span>┃<span style=\"font-weight: bold\"> p50   </span>┃<span style=\"font-weight: bold\"> p75   </span>┃<span style=\"font-weight: bold\"> p100  </span>┃<span style=\"font-weight: bold\"> hist   </span>┃  │\n",
       "│ ┡━━━━━━━━━━━━━━━━━━━━━━━━╇━━━━━━╇━━━━━━━━╇━━━━━━━━╇━━━━━━━╇━━━━━━━━╇━━━━━━━━╇━━━━━━━╇━━━━━━━╇━━━━━━━╇━━━━━━━━┩  │\n",
       "│ │ <span style=\"color: #af87ff; text-decoration-color: #af87ff\">Tenure                </span> │ <span style=\"color: #008080; text-decoration-color: #008080\">   9</span> │ <span style=\"color: #008080; text-decoration-color: #008080\">  0.58</span> │ <span style=\"color: #008080; text-decoration-color: #008080\">   7.6</span> │ <span style=\"color: #008080; text-decoration-color: #008080\">  4.1</span> │ <span style=\"color: #008080; text-decoration-color: #008080\">     0</span> │ <span style=\"color: #008080; text-decoration-color: #008080\">     5</span> │ <span style=\"color: #008080; text-decoration-color: #008080\">    7</span> │ <span style=\"color: #008080; text-decoration-color: #008080\">   10</span> │ <span style=\"color: #008080; text-decoration-color: #008080\">   27</span> │ <span style=\"color: #008000; text-decoration-color: #008000\"> ▅▇▅▁ </span> │  │\n",
       "│ │ <span style=\"color: #af87ff; text-decoration-color: #af87ff\">Salary                </span> │ <span style=\"color: #008080; text-decoration-color: #008080\">   9</span> │ <span style=\"color: #008080; text-decoration-color: #008080\">  0.58</span> │ <span style=\"color: #008080; text-decoration-color: #008080\"> 67000</span> │ <span style=\"color: #008080; text-decoration-color: #008080\"> 8500</span> │ <span style=\"color: #008080; text-decoration-color: #008080\"> 40000</span> │ <span style=\"color: #008080; text-decoration-color: #008080\"> 61000</span> │ <span style=\"color: #008080; text-decoration-color: #008080\">66000</span> │ <span style=\"color: #008080; text-decoration-color: #008080\">72000</span> │ <span style=\"color: #008080; text-decoration-color: #008080\">98000</span> │ <span style=\"color: #008000; text-decoration-color: #008000\"> ▃▇▇▁ </span> │  │\n",
       "│ │ <span style=\"color: #af87ff; text-decoration-color: #af87ff\">JobSatisfaction       </span> │ <span style=\"color: #008080; text-decoration-color: #008080\">  28</span> │ <span style=\"color: #008080; text-decoration-color: #008080\">  1.81</span> │ <span style=\"color: #008080; text-decoration-color: #008080\">   3.4</span> │ <span style=\"color: #008080; text-decoration-color: #008080\">  1.1</span> │ <span style=\"color: #008080; text-decoration-color: #008080\">     1</span> │ <span style=\"color: #008080; text-decoration-color: #008080\">     3</span> │ <span style=\"color: #008080; text-decoration-color: #008080\">    3</span> │ <span style=\"color: #008080; text-decoration-color: #008080\">    4</span> │ <span style=\"color: #008080; text-decoration-color: #008080\">    5</span> │ <span style=\"color: #008000; text-decoration-color: #008000\">▁▅ ▇▇▅</span> │  │\n",
       "│ │ <span style=\"color: #af87ff; text-decoration-color: #af87ff\">WorkLifeBalance       </span> │ <span style=\"color: #008080; text-decoration-color: #008080\">  28</span> │ <span style=\"color: #008080; text-decoration-color: #008080\">  1.81</span> │ <span style=\"color: #008080; text-decoration-color: #008080\">   3.8</span> │ <span style=\"color: #008080; text-decoration-color: #008080\"> 0.48</span> │ <span style=\"color: #008080; text-decoration-color: #008080\">     2</span> │ <span style=\"color: #008080; text-decoration-color: #008080\">   3.5</span> │ <span style=\"color: #008080; text-decoration-color: #008080\">    4</span> │ <span style=\"color: #008080; text-decoration-color: #008080\">    4</span> │ <span style=\"color: #008080; text-decoration-color: #008080\">    5</span> │ <span style=\"color: #008000; text-decoration-color: #008000\">  ▃▇▇▃</span> │  │\n",
       "│ │ <span style=\"color: #af87ff; text-decoration-color: #af87ff\">PerformanceRating     </span> │ <span style=\"color: #008080; text-decoration-color: #008080\">   7</span> │ <span style=\"color: #008080; text-decoration-color: #008080\">  0.45</span> │ <span style=\"color: #008080; text-decoration-color: #008080\">   3.5</span> │ <span style=\"color: #008080; text-decoration-color: #008080\"> 0.41</span> │ <span style=\"color: #008080; text-decoration-color: #008080\">   1.6</span> │ <span style=\"color: #008080; text-decoration-color: #008080\">   3.3</span> │ <span style=\"color: #008080; text-decoration-color: #008080\">  3.4</span> │ <span style=\"color: #008080; text-decoration-color: #008080\">  3.7</span> │ <span style=\"color: #008080; text-decoration-color: #008080\">    5</span> │ <span style=\"color: #008000; text-decoration-color: #008000\"> ▁▂▇▃ </span> │  │\n",
       "│ │ <span style=\"color: #af87ff; text-decoration-color: #af87ff\">TrainingHours         </span> │ <span style=\"color: #008080; text-decoration-color: #008080\"> 191</span> │ <span style=\"color: #008080; text-decoration-color: #008080\"> 12.38</span> │ <span style=\"color: #008080; text-decoration-color: #008080\">    35</span> │ <span style=\"color: #008080; text-decoration-color: #008080\">   23</span> │ <span style=\"color: #008080; text-decoration-color: #008080\">   5.2</span> │ <span style=\"color: #008080; text-decoration-color: #008080\">    18</span> │ <span style=\"color: #008080; text-decoration-color: #008080\">   30</span> │ <span style=\"color: #008080; text-decoration-color: #008080\">   40</span> │ <span style=\"color: #008080; text-decoration-color: #008080\">   96</span> │ <span style=\"color: #008000; text-decoration-color: #008000\">▇▇▃▂▂▁</span> │  │\n",
       "│ │ <span style=\"color: #af87ff; text-decoration-color: #af87ff\">NumProjects           </span> │ <span style=\"color: #008080; text-decoration-color: #008080\">  99</span> │ <span style=\"color: #008080; text-decoration-color: #008080\">  6.42</span> │ <span style=\"color: #008080; text-decoration-color: #008080\">   3.5</span> │ <span style=\"color: #008080; text-decoration-color: #008080\"> 0.71</span> │ <span style=\"color: #008080; text-decoration-color: #008080\">   1.5</span> │ <span style=\"color: #008080; text-decoration-color: #008080\">     3</span> │ <span style=\"color: #008080; text-decoration-color: #008080\">  3.6</span> │ <span style=\"color: #008080; text-decoration-color: #008080\">    4</span> │ <span style=\"color: #008080; text-decoration-color: #008080\">  6.4</span> │ <span style=\"color: #008000; text-decoration-color: #008000\">▁▇ ▇▁ </span> │  │\n",
       "│ │ <span style=\"color: #af87ff; text-decoration-color: #af87ff\">YearsSincePromotion   </span> │ <span style=\"color: #008080; text-decoration-color: #008080\">   1</span> │ <span style=\"color: #008080; text-decoration-color: #008080\">  0.06</span> │ <span style=\"color: #008080; text-decoration-color: #008080\">   1.2</span> │ <span style=\"color: #008080; text-decoration-color: #008080\">  2.1</span> │ <span style=\"color: #008080; text-decoration-color: #008080\">     0</span> │ <span style=\"color: #008080; text-decoration-color: #008080\">     0</span> │ <span style=\"color: #008080; text-decoration-color: #008080\">    0</span> │ <span style=\"color: #008080; text-decoration-color: #008080\">    2</span> │ <span style=\"color: #008080; text-decoration-color: #008080\">   16</span> │ <span style=\"color: #008000; text-decoration-color: #008000\">  ▇▁  </span> │  │\n",
       "│ │ <span style=\"color: #af87ff; text-decoration-color: #af87ff\">EnvironmentSatisfactio</span> │ <span style=\"color: #008080; text-decoration-color: #008080\">  28</span> │ <span style=\"color: #008080; text-decoration-color: #008080\">  1.81</span> │ <span style=\"color: #008080; text-decoration-color: #008080\">   2.5</span> │ <span style=\"color: #008080; text-decoration-color: #008080\"> 0.69</span> │ <span style=\"color: #008080; text-decoration-color: #008080\">     1</span> │ <span style=\"color: #008080; text-decoration-color: #008080\">     2</span> │ <span style=\"color: #008080; text-decoration-color: #008080\">  2.8</span> │ <span style=\"color: #008080; text-decoration-color: #008080\">    3</span> │ <span style=\"color: #008080; text-decoration-color: #008080\">    5</span> │ <span style=\"color: #008000; text-decoration-color: #008000\">▁▇▁▇▁ </span> │  │\n",
       "│ │ <span style=\"color: #af87ff; text-decoration-color: #af87ff\">n                     </span> │      │        │        │       │        │        │       │       │       │        │  │\n",
       "│ └────────────────────────┴──────┴────────┴────────┴───────┴────────┴────────┴───────┴───────┴───────┴────────┘  │\n",
       "│ <span style=\"font-style: italic\">                                                     bool                                                     </span>  │\n",
       "│ ┏━━━━━━━━━━━━━━━━━━━━━━━━━━━━━━━━━━━━┳━━━━━━━━━━━━━━━━━┳━━━━━━━━━━━━━━━━━━━━━━━━━━━━━━━┳━━━━━━━━━━━━━━━━━━━━━┓  │\n",
       "│ ┃<span style=\"font-weight: bold\"> column_name                        </span>┃<span style=\"font-weight: bold\"> true            </span>┃<span style=\"font-weight: bold\"> true rate                     </span>┃<span style=\"font-weight: bold\"> hist                </span>┃  │\n",
       "│ ┡━━━━━━━━━━━━━━━━━━━━━━━━━━━━━━━━━━━━╇━━━━━━━━━━━━━━━━━╇━━━━━━━━━━━━━━━━━━━━━━━━━━━━━━━╇━━━━━━━━━━━━━━━━━━━━━┩  │\n",
       "│ │ <span style=\"color: #af87ff; text-decoration-color: #af87ff\">OverTime                          </span> │ <span style=\"color: #008080; text-decoration-color: #008080\">           1543</span> │ <span style=\"color: #008080; text-decoration-color: #008080\">                            1</span> │ <span style=\"color: #008000; text-decoration-color: #008000\">          ▇        </span> │  │\n",
       "│ └────────────────────────────────────┴─────────────────┴───────────────────────────────┴─────────────────────┘  │\n",
       "│ <span style=\"font-style: italic\">                                                    string                                                    </span>  │\n",
       "│ ┏━━━━━━━━━━━━━━━━━━━━━━━━━━━━━━━━━┳━━━━━━━━┳━━━━━━━━━━━━┳━━━━━━━━━━━━━━━━━━━━━━━━━━━━┳━━━━━━━━━━━━━━━━━━━━━━━┓  │\n",
       "│ ┃<span style=\"font-weight: bold\"> column_name                     </span>┃<span style=\"font-weight: bold\"> NA     </span>┃<span style=\"font-weight: bold\"> NA %       </span>┃<span style=\"font-weight: bold\"> words per row              </span>┃<span style=\"font-weight: bold\"> total words           </span>┃  │\n",
       "│ ┡━━━━━━━━━━━━━━━━━━━━━━━━━━━━━━━━━╇━━━━━━━━╇━━━━━━━━━━━━╇━━━━━━━━━━━━━━━━━━━━━━━━━━━━╇━━━━━━━━━━━━━━━━━━━━━━━┩  │\n",
       "│ │ <span style=\"color: #af87ff; text-decoration-color: #af87ff\">Branch                         </span> │ <span style=\"color: #008080; text-decoration-color: #008080\">     8</span> │ <span style=\"color: #008080; text-decoration-color: #008080\">      0.52</span> │ <span style=\"color: #008080; text-decoration-color: #008080\">                       1.3</span> │ <span style=\"color: #008080; text-decoration-color: #008080\">                 1991</span> │  │\n",
       "│ │ <span style=\"color: #af87ff; text-decoration-color: #af87ff\">Department                     </span> │ <span style=\"color: #008080; text-decoration-color: #008080\">     0</span> │ <span style=\"color: #008080; text-decoration-color: #008080\">         0</span> │ <span style=\"color: #008080; text-decoration-color: #008080\">                       1.6</span> │ <span style=\"color: #008080; text-decoration-color: #008080\">                 2441</span> │  │\n",
       "│ │ <span style=\"color: #af87ff; text-decoration-color: #af87ff\">CommuteDistance                </span> │ <span style=\"color: #008080; text-decoration-color: #008080\">     0</span> │ <span style=\"color: #008080; text-decoration-color: #008080\">         0</span> │ <span style=\"color: #008080; text-decoration-color: #008080\">                         1</span> │ <span style=\"color: #008080; text-decoration-color: #008080\">                 1543</span> │  │\n",
       "│ │ <span style=\"color: #af87ff; text-decoration-color: #af87ff\">MaritalStatus                  </span> │ <span style=\"color: #008080; text-decoration-color: #008080\">     0</span> │ <span style=\"color: #008080; text-decoration-color: #008080\">         0</span> │ <span style=\"color: #008080; text-decoration-color: #008080\">                         1</span> │ <span style=\"color: #008080; text-decoration-color: #008080\">                 1543</span> │  │\n",
       "│ │ <span style=\"color: #af87ff; text-decoration-color: #af87ff\">Education                      </span> │ <span style=\"color: #008080; text-decoration-color: #008080\">     0</span> │ <span style=\"color: #008080; text-decoration-color: #008080\">         0</span> │ <span style=\"color: #008080; text-decoration-color: #008080\">                       1.3</span> │ <span style=\"color: #008080; text-decoration-color: #008080\">                 2016</span> │  │\n",
       "│ │ <span style=\"color: #af87ff; text-decoration-color: #af87ff\">ChurnLikelihood                </span> │ <span style=\"color: #008080; text-decoration-color: #008080\">     0</span> │ <span style=\"color: #008080; text-decoration-color: #008080\">         0</span> │ <span style=\"color: #008080; text-decoration-color: #008080\">                         4</span> │ <span style=\"color: #008080; text-decoration-color: #008080\">                 6172</span> │  │\n",
       "│ └─────────────────────────────────┴────────┴────────────┴────────────────────────────┴───────────────────────┘  │\n",
       "╰────────────────────────────────────────────────────── End ──────────────────────────────────────────────────────╯\n",
       "</pre>\n"
      ],
      "text/plain": [
       "╭──────────────────────────────────────────────── skimpy summary ─────────────────────────────────────────────────╮\n",
       "│ \u001b[3m         Data Summary         \u001b[0m \u001b[3m      Data Types       \u001b[0m                                                          │\n",
       "│ ┏━━━━━━━━━━━━━━━━━━━┳━━━━━━━━┓ ┏━━━━━━━━━━━━━┳━━━━━━━┓                                                          │\n",
       "│ ┃\u001b[1;36m \u001b[0m\u001b[1;36mdataframe        \u001b[0m\u001b[1;36m \u001b[0m┃\u001b[1;36m \u001b[0m\u001b[1;36mValues\u001b[0m\u001b[1;36m \u001b[0m┃ ┃\u001b[1;36m \u001b[0m\u001b[1;36mColumn Type\u001b[0m\u001b[1;36m \u001b[0m┃\u001b[1;36m \u001b[0m\u001b[1;36mCount\u001b[0m\u001b[1;36m \u001b[0m┃                                                          │\n",
       "│ ┡━━━━━━━━━━━━━━━━━━━╇━━━━━━━━┩ ┡━━━━━━━━━━━━━╇━━━━━━━┩                                                          │\n",
       "│ │ Number of rows    │ 1543   │ │ float64     │ 9     │                                                          │\n",
       "│ │ Number of columns │ 16     │ │ string      │ 6     │                                                          │\n",
       "│ └───────────────────┴────────┘ │ bool        │ 1     │                                                          │\n",
       "│                                └─────────────┴───────┘                                                          │\n",
       "│ \u001b[3m                                                    number                                                    \u001b[0m  │\n",
       "│ ┏━━━━━━━━━━━━━━━━━━━━━━━━┳━━━━━━┳━━━━━━━━┳━━━━━━━━┳━━━━━━━┳━━━━━━━━┳━━━━━━━━┳━━━━━━━┳━━━━━━━┳━━━━━━━┳━━━━━━━━┓  │\n",
       "│ ┃\u001b[1m \u001b[0m\u001b[1mcolumn_name           \u001b[0m\u001b[1m \u001b[0m┃\u001b[1m \u001b[0m\u001b[1mNA  \u001b[0m\u001b[1m \u001b[0m┃\u001b[1m \u001b[0m\u001b[1mNA %  \u001b[0m\u001b[1m \u001b[0m┃\u001b[1m \u001b[0m\u001b[1mmean  \u001b[0m\u001b[1m \u001b[0m┃\u001b[1m \u001b[0m\u001b[1msd   \u001b[0m\u001b[1m \u001b[0m┃\u001b[1m \u001b[0m\u001b[1mp0    \u001b[0m\u001b[1m \u001b[0m┃\u001b[1m \u001b[0m\u001b[1mp25   \u001b[0m\u001b[1m \u001b[0m┃\u001b[1m \u001b[0m\u001b[1mp50  \u001b[0m\u001b[1m \u001b[0m┃\u001b[1m \u001b[0m\u001b[1mp75  \u001b[0m\u001b[1m \u001b[0m┃\u001b[1m \u001b[0m\u001b[1mp100 \u001b[0m\u001b[1m \u001b[0m┃\u001b[1m \u001b[0m\u001b[1mhist  \u001b[0m\u001b[1m \u001b[0m┃  │\n",
       "│ ┡━━━━━━━━━━━━━━━━━━━━━━━━╇━━━━━━╇━━━━━━━━╇━━━━━━━━╇━━━━━━━╇━━━━━━━━╇━━━━━━━━╇━━━━━━━╇━━━━━━━╇━━━━━━━╇━━━━━━━━┩  │\n",
       "│ │ \u001b[38;5;141mTenure                \u001b[0m │ \u001b[36m   9\u001b[0m │ \u001b[36m  0.58\u001b[0m │ \u001b[36m   7.6\u001b[0m │ \u001b[36m  4.1\u001b[0m │ \u001b[36m     0\u001b[0m │ \u001b[36m     5\u001b[0m │ \u001b[36m    7\u001b[0m │ \u001b[36m   10\u001b[0m │ \u001b[36m   27\u001b[0m │ \u001b[32m ▅▇▅▁ \u001b[0m │  │\n",
       "│ │ \u001b[38;5;141mSalary                \u001b[0m │ \u001b[36m   9\u001b[0m │ \u001b[36m  0.58\u001b[0m │ \u001b[36m 67000\u001b[0m │ \u001b[36m 8500\u001b[0m │ \u001b[36m 40000\u001b[0m │ \u001b[36m 61000\u001b[0m │ \u001b[36m66000\u001b[0m │ \u001b[36m72000\u001b[0m │ \u001b[36m98000\u001b[0m │ \u001b[32m ▃▇▇▁ \u001b[0m │  │\n",
       "│ │ \u001b[38;5;141mJobSatisfaction       \u001b[0m │ \u001b[36m  28\u001b[0m │ \u001b[36m  1.81\u001b[0m │ \u001b[36m   3.4\u001b[0m │ \u001b[36m  1.1\u001b[0m │ \u001b[36m     1\u001b[0m │ \u001b[36m     3\u001b[0m │ \u001b[36m    3\u001b[0m │ \u001b[36m    4\u001b[0m │ \u001b[36m    5\u001b[0m │ \u001b[32m▁▅ ▇▇▅\u001b[0m │  │\n",
       "│ │ \u001b[38;5;141mWorkLifeBalance       \u001b[0m │ \u001b[36m  28\u001b[0m │ \u001b[36m  1.81\u001b[0m │ \u001b[36m   3.8\u001b[0m │ \u001b[36m 0.48\u001b[0m │ \u001b[36m     2\u001b[0m │ \u001b[36m   3.5\u001b[0m │ \u001b[36m    4\u001b[0m │ \u001b[36m    4\u001b[0m │ \u001b[36m    5\u001b[0m │ \u001b[32m  ▃▇▇▃\u001b[0m │  │\n",
       "│ │ \u001b[38;5;141mPerformanceRating     \u001b[0m │ \u001b[36m   7\u001b[0m │ \u001b[36m  0.45\u001b[0m │ \u001b[36m   3.5\u001b[0m │ \u001b[36m 0.41\u001b[0m │ \u001b[36m   1.6\u001b[0m │ \u001b[36m   3.3\u001b[0m │ \u001b[36m  3.4\u001b[0m │ \u001b[36m  3.7\u001b[0m │ \u001b[36m    5\u001b[0m │ \u001b[32m ▁▂▇▃ \u001b[0m │  │\n",
       "│ │ \u001b[38;5;141mTrainingHours         \u001b[0m │ \u001b[36m 191\u001b[0m │ \u001b[36m 12.38\u001b[0m │ \u001b[36m    35\u001b[0m │ \u001b[36m   23\u001b[0m │ \u001b[36m   5.2\u001b[0m │ \u001b[36m    18\u001b[0m │ \u001b[36m   30\u001b[0m │ \u001b[36m   40\u001b[0m │ \u001b[36m   96\u001b[0m │ \u001b[32m▇▇▃▂▂▁\u001b[0m │  │\n",
       "│ │ \u001b[38;5;141mNumProjects           \u001b[0m │ \u001b[36m  99\u001b[0m │ \u001b[36m  6.42\u001b[0m │ \u001b[36m   3.5\u001b[0m │ \u001b[36m 0.71\u001b[0m │ \u001b[36m   1.5\u001b[0m │ \u001b[36m     3\u001b[0m │ \u001b[36m  3.6\u001b[0m │ \u001b[36m    4\u001b[0m │ \u001b[36m  6.4\u001b[0m │ \u001b[32m▁▇ ▇▁ \u001b[0m │  │\n",
       "│ │ \u001b[38;5;141mYearsSincePromotion   \u001b[0m │ \u001b[36m   1\u001b[0m │ \u001b[36m  0.06\u001b[0m │ \u001b[36m   1.2\u001b[0m │ \u001b[36m  2.1\u001b[0m │ \u001b[36m     0\u001b[0m │ \u001b[36m     0\u001b[0m │ \u001b[36m    0\u001b[0m │ \u001b[36m    2\u001b[0m │ \u001b[36m   16\u001b[0m │ \u001b[32m  ▇▁  \u001b[0m │  │\n",
       "│ │ \u001b[38;5;141mEnvironmentSatisfactio\u001b[0m │ \u001b[36m  28\u001b[0m │ \u001b[36m  1.81\u001b[0m │ \u001b[36m   2.5\u001b[0m │ \u001b[36m 0.69\u001b[0m │ \u001b[36m     1\u001b[0m │ \u001b[36m     2\u001b[0m │ \u001b[36m  2.8\u001b[0m │ \u001b[36m    3\u001b[0m │ \u001b[36m    5\u001b[0m │ \u001b[32m▁▇▁▇▁ \u001b[0m │  │\n",
       "│ │ \u001b[38;5;141mn                     \u001b[0m │      │        │        │       │        │        │       │       │       │        │  │\n",
       "│ └────────────────────────┴──────┴────────┴────────┴───────┴────────┴────────┴───────┴───────┴───────┴────────┘  │\n",
       "│ \u001b[3m                                                     bool                                                     \u001b[0m  │\n",
       "│ ┏━━━━━━━━━━━━━━━━━━━━━━━━━━━━━━━━━━━━┳━━━━━━━━━━━━━━━━━┳━━━━━━━━━━━━━━━━━━━━━━━━━━━━━━━┳━━━━━━━━━━━━━━━━━━━━━┓  │\n",
       "│ ┃\u001b[1m \u001b[0m\u001b[1mcolumn_name                       \u001b[0m\u001b[1m \u001b[0m┃\u001b[1m \u001b[0m\u001b[1mtrue           \u001b[0m\u001b[1m \u001b[0m┃\u001b[1m \u001b[0m\u001b[1mtrue rate                    \u001b[0m\u001b[1m \u001b[0m┃\u001b[1m \u001b[0m\u001b[1mhist               \u001b[0m\u001b[1m \u001b[0m┃  │\n",
       "│ ┡━━━━━━━━━━━━━━━━━━━━━━━━━━━━━━━━━━━━╇━━━━━━━━━━━━━━━━━╇━━━━━━━━━━━━━━━━━━━━━━━━━━━━━━━╇━━━━━━━━━━━━━━━━━━━━━┩  │\n",
       "│ │ \u001b[38;5;141mOverTime                          \u001b[0m │ \u001b[36m           1543\u001b[0m │ \u001b[36m                            1\u001b[0m │ \u001b[32m          ▇        \u001b[0m │  │\n",
       "│ └────────────────────────────────────┴─────────────────┴───────────────────────────────┴─────────────────────┘  │\n",
       "│ \u001b[3m                                                    string                                                    \u001b[0m  │\n",
       "│ ┏━━━━━━━━━━━━━━━━━━━━━━━━━━━━━━━━━┳━━━━━━━━┳━━━━━━━━━━━━┳━━━━━━━━━━━━━━━━━━━━━━━━━━━━┳━━━━━━━━━━━━━━━━━━━━━━━┓  │\n",
       "│ ┃\u001b[1m \u001b[0m\u001b[1mcolumn_name                    \u001b[0m\u001b[1m \u001b[0m┃\u001b[1m \u001b[0m\u001b[1mNA    \u001b[0m\u001b[1m \u001b[0m┃\u001b[1m \u001b[0m\u001b[1mNA %      \u001b[0m\u001b[1m \u001b[0m┃\u001b[1m \u001b[0m\u001b[1mwords per row             \u001b[0m\u001b[1m \u001b[0m┃\u001b[1m \u001b[0m\u001b[1mtotal words          \u001b[0m\u001b[1m \u001b[0m┃  │\n",
       "│ ┡━━━━━━━━━━━━━━━━━━━━━━━━━━━━━━━━━╇━━━━━━━━╇━━━━━━━━━━━━╇━━━━━━━━━━━━━━━━━━━━━━━━━━━━╇━━━━━━━━━━━━━━━━━━━━━━━┩  │\n",
       "│ │ \u001b[38;5;141mBranch                         \u001b[0m │ \u001b[36m     8\u001b[0m │ \u001b[36m      0.52\u001b[0m │ \u001b[36m                       1.3\u001b[0m │ \u001b[36m                 1991\u001b[0m │  │\n",
       "│ │ \u001b[38;5;141mDepartment                     \u001b[0m │ \u001b[36m     0\u001b[0m │ \u001b[36m         0\u001b[0m │ \u001b[36m                       1.6\u001b[0m │ \u001b[36m                 2441\u001b[0m │  │\n",
       "│ │ \u001b[38;5;141mCommuteDistance                \u001b[0m │ \u001b[36m     0\u001b[0m │ \u001b[36m         0\u001b[0m │ \u001b[36m                         1\u001b[0m │ \u001b[36m                 1543\u001b[0m │  │\n",
       "│ │ \u001b[38;5;141mMaritalStatus                  \u001b[0m │ \u001b[36m     0\u001b[0m │ \u001b[36m         0\u001b[0m │ \u001b[36m                         1\u001b[0m │ \u001b[36m                 1543\u001b[0m │  │\n",
       "│ │ \u001b[38;5;141mEducation                      \u001b[0m │ \u001b[36m     0\u001b[0m │ \u001b[36m         0\u001b[0m │ \u001b[36m                       1.3\u001b[0m │ \u001b[36m                 2016\u001b[0m │  │\n",
       "│ │ \u001b[38;5;141mChurnLikelihood                \u001b[0m │ \u001b[36m     0\u001b[0m │ \u001b[36m         0\u001b[0m │ \u001b[36m                         4\u001b[0m │ \u001b[36m                 6172\u001b[0m │  │\n",
       "│ └─────────────────────────────────┴────────┴────────────┴────────────────────────────┴───────────────────────┘  │\n",
       "╰────────────────────────────────────────────────────── End ──────────────────────────────────────────────────────╯\n"
      ]
     },
     "metadata": {},
     "output_type": "display_data"
    }
   ],
   "source": [
    "import skimpy as sk\n",
    "sk.skim(df)"
   ]
  },
  {
   "cell_type": "markdown",
   "metadata": {},
   "source": [
    "## Handling rows without Survived"
   ]
  },
  {
   "cell_type": "code",
   "execution_count": 5,
   "metadata": {},
   "outputs": [
    {
     "name": "stdout",
     "output_type": "stream",
     "text": [
      "<class 'pandas.core.frame.DataFrame'>\n",
      "RangeIndex: 1543 entries, 0 to 1542\n",
      "Data columns (total 16 columns):\n",
      " #   Column                   Non-Null Count  Dtype  \n",
      "---  ------                   --------------  -----  \n",
      " 0   Branch                   1535 non-null   object \n",
      " 1   Tenure                   1534 non-null   float64\n",
      " 2   Salary                   1534 non-null   float64\n",
      " 3   Department               1543 non-null   object \n",
      " 4   JobSatisfaction          1515 non-null   float64\n",
      " 5   WorkLifeBalance          1515 non-null   float64\n",
      " 6   CommuteDistance          1543 non-null   object \n",
      " 7   MaritalStatus            1543 non-null   object \n",
      " 8   Education                1543 non-null   object \n",
      " 9   PerformanceRating        1536 non-null   float64\n",
      " 10  TrainingHours            1352 non-null   float64\n",
      " 11  OverTime                 1443 non-null   object \n",
      " 12  NumProjects              1444 non-null   float64\n",
      " 13  YearsSincePromotion      1542 non-null   float64\n",
      " 14  EnvironmentSatisfaction  1515 non-null   float64\n",
      " 15  ChurnLikelihood          1543 non-null   object \n",
      "dtypes: float64(9), object(7)\n",
      "memory usage: 193.0+ KB\n",
      "None\n"
     ]
    },
    {
     "data": {
      "text/html": [
       "<div>\n",
       "<style scoped>\n",
       "    .dataframe tbody tr th:only-of-type {\n",
       "        vertical-align: middle;\n",
       "    }\n",
       "\n",
       "    .dataframe tbody tr th {\n",
       "        vertical-align: top;\n",
       "    }\n",
       "\n",
       "    .dataframe thead th {\n",
       "        text-align: right;\n",
       "    }\n",
       "</style>\n",
       "<table border=\"1\" class=\"dataframe\">\n",
       "  <thead>\n",
       "    <tr style=\"text-align: right;\">\n",
       "      <th></th>\n",
       "      <th>Branch</th>\n",
       "      <th>Tenure</th>\n",
       "      <th>Salary</th>\n",
       "      <th>Department</th>\n",
       "      <th>JobSatisfaction</th>\n",
       "      <th>WorkLifeBalance</th>\n",
       "      <th>CommuteDistance</th>\n",
       "      <th>MaritalStatus</th>\n",
       "      <th>Education</th>\n",
       "      <th>PerformanceRating</th>\n",
       "      <th>TrainingHours</th>\n",
       "      <th>OverTime</th>\n",
       "      <th>NumProjects</th>\n",
       "      <th>YearsSincePromotion</th>\n",
       "      <th>EnvironmentSatisfaction</th>\n",
       "      <th>ChurnLikelihood</th>\n",
       "    </tr>\n",
       "  </thead>\n",
       "  <tbody>\n",
       "    <tr>\n",
       "      <th>0</th>\n",
       "      <td>San Francisco</td>\n",
       "      <td>4.0</td>\n",
       "      <td>63000.0</td>\n",
       "      <td>Legal</td>\n",
       "      <td>3.0</td>\n",
       "      <td>3.0</td>\n",
       "      <td>Long</td>\n",
       "      <td>Married</td>\n",
       "      <td>High School</td>\n",
       "      <td>3.000000</td>\n",
       "      <td>88.0</td>\n",
       "      <td>True</td>\n",
       "      <td>3.0</td>\n",
       "      <td>0.0</td>\n",
       "      <td>2.0</td>\n",
       "      <td>Highly Likely to Churn</td>\n",
       "    </tr>\n",
       "    <tr>\n",
       "      <th>1</th>\n",
       "      <td>Chicago</td>\n",
       "      <td>14.0</td>\n",
       "      <td>72000.0</td>\n",
       "      <td>Accounting</td>\n",
       "      <td>4.0</td>\n",
       "      <td>4.0</td>\n",
       "      <td>Short</td>\n",
       "      <td>Single</td>\n",
       "      <td>Bachelor</td>\n",
       "      <td>3.666667</td>\n",
       "      <td>30.0</td>\n",
       "      <td>True</td>\n",
       "      <td>3.0</td>\n",
       "      <td>2.0</td>\n",
       "      <td>3.0</td>\n",
       "      <td>Moderately Likely to Churn</td>\n",
       "    </tr>\n",
       "    <tr>\n",
       "      <th>2</th>\n",
       "      <td>Miami</td>\n",
       "      <td>4.0</td>\n",
       "      <td>40000.0</td>\n",
       "      <td>Quality Assurance</td>\n",
       "      <td>3.0</td>\n",
       "      <td>3.0</td>\n",
       "      <td>Medium</td>\n",
       "      <td>Single</td>\n",
       "      <td>High School</td>\n",
       "      <td>3.666667</td>\n",
       "      <td>64.0</td>\n",
       "      <td>NaN</td>\n",
       "      <td>NaN</td>\n",
       "      <td>0.0</td>\n",
       "      <td>4.0</td>\n",
       "      <td>Highly Likely to Churn</td>\n",
       "    </tr>\n",
       "    <tr>\n",
       "      <th>3</th>\n",
       "      <td>Scranton</td>\n",
       "      <td>2.0</td>\n",
       "      <td>55000.0</td>\n",
       "      <td>Legal</td>\n",
       "      <td>3.0</td>\n",
       "      <td>3.5</td>\n",
       "      <td>Short</td>\n",
       "      <td>Married</td>\n",
       "      <td>Bachelor</td>\n",
       "      <td>3.666667</td>\n",
       "      <td>30.0</td>\n",
       "      <td>True</td>\n",
       "      <td>4.0</td>\n",
       "      <td>0.0</td>\n",
       "      <td>3.0</td>\n",
       "      <td>Moderately Likely to Churn</td>\n",
       "    </tr>\n",
       "    <tr>\n",
       "      <th>4</th>\n",
       "      <td>Scranton</td>\n",
       "      <td>10.0</td>\n",
       "      <td>55500.0</td>\n",
       "      <td>Legal</td>\n",
       "      <td>3.0</td>\n",
       "      <td>3.0</td>\n",
       "      <td>Medium</td>\n",
       "      <td>Married</td>\n",
       "      <td>Bachelor</td>\n",
       "      <td>3.333333</td>\n",
       "      <td>18.0</td>\n",
       "      <td>NaN</td>\n",
       "      <td>4.0</td>\n",
       "      <td>1.0</td>\n",
       "      <td>3.0</td>\n",
       "      <td>Moderately Likely to Churn</td>\n",
       "    </tr>\n",
       "  </tbody>\n",
       "</table>\n",
       "</div>"
      ],
      "text/plain": [
       "          Branch  Tenure   Salary         Department  JobSatisfaction  \\\n",
       "0  San Francisco     4.0  63000.0              Legal              3.0   \n",
       "1        Chicago    14.0  72000.0         Accounting              4.0   \n",
       "2          Miami     4.0  40000.0  Quality Assurance              3.0   \n",
       "3       Scranton     2.0  55000.0              Legal              3.0   \n",
       "4       Scranton    10.0  55500.0              Legal              3.0   \n",
       "\n",
       "   WorkLifeBalance CommuteDistance MaritalStatus    Education  \\\n",
       "0              3.0            Long       Married  High School   \n",
       "1              4.0           Short        Single     Bachelor   \n",
       "2              3.0          Medium        Single  High School   \n",
       "3              3.5           Short       Married     Bachelor   \n",
       "4              3.0          Medium       Married     Bachelor   \n",
       "\n",
       "   PerformanceRating  TrainingHours OverTime  NumProjects  \\\n",
       "0           3.000000           88.0     True          3.0   \n",
       "1           3.666667           30.0     True          3.0   \n",
       "2           3.666667           64.0      NaN          NaN   \n",
       "3           3.666667           30.0     True          4.0   \n",
       "4           3.333333           18.0      NaN          4.0   \n",
       "\n",
       "   YearsSincePromotion  EnvironmentSatisfaction             ChurnLikelihood  \n",
       "0                  0.0                      2.0      Highly Likely to Churn  \n",
       "1                  2.0                      3.0  Moderately Likely to Churn  \n",
       "2                  0.0                      4.0      Highly Likely to Churn  \n",
       "3                  0.0                      3.0  Moderately Likely to Churn  \n",
       "4                  1.0                      3.0  Moderately Likely to Churn  "
      ]
     },
     "execution_count": 5,
     "metadata": {},
     "output_type": "execute_result"
    }
   ],
   "source": [
    "df.dropna(subset='ChurnLikelihood', inplace=True)\n",
    "\n",
    "print(df.info())\n",
    "df.head()"
   ]
  },
  {
   "cell_type": "markdown",
   "metadata": {},
   "source": [
    "## Handling duplicate values"
   ]
  },
  {
   "cell_type": "code",
   "execution_count": 6,
   "metadata": {},
   "outputs": [
    {
     "name": "stdout",
     "output_type": "stream",
     "text": [
      "False    1543\n",
      "Name: count, dtype: int64\n"
     ]
    },
    {
     "data": {
      "text/html": [
       "<div>\n",
       "<style scoped>\n",
       "    .dataframe tbody tr th:only-of-type {\n",
       "        vertical-align: middle;\n",
       "    }\n",
       "\n",
       "    .dataframe tbody tr th {\n",
       "        vertical-align: top;\n",
       "    }\n",
       "\n",
       "    .dataframe thead th {\n",
       "        text-align: right;\n",
       "    }\n",
       "</style>\n",
       "<table border=\"1\" class=\"dataframe\">\n",
       "  <thead>\n",
       "    <tr style=\"text-align: right;\">\n",
       "      <th></th>\n",
       "      <th>Branch</th>\n",
       "      <th>Tenure</th>\n",
       "      <th>Salary</th>\n",
       "      <th>Department</th>\n",
       "      <th>JobSatisfaction</th>\n",
       "      <th>WorkLifeBalance</th>\n",
       "      <th>CommuteDistance</th>\n",
       "      <th>MaritalStatus</th>\n",
       "      <th>Education</th>\n",
       "      <th>PerformanceRating</th>\n",
       "      <th>TrainingHours</th>\n",
       "      <th>OverTime</th>\n",
       "      <th>NumProjects</th>\n",
       "      <th>YearsSincePromotion</th>\n",
       "      <th>EnvironmentSatisfaction</th>\n",
       "      <th>ChurnLikelihood</th>\n",
       "    </tr>\n",
       "  </thead>\n",
       "  <tbody>\n",
       "    <tr>\n",
       "      <th>0</th>\n",
       "      <td>San Francisco</td>\n",
       "      <td>4.0</td>\n",
       "      <td>63000.0</td>\n",
       "      <td>Legal</td>\n",
       "      <td>3.0</td>\n",
       "      <td>3.000000</td>\n",
       "      <td>Long</td>\n",
       "      <td>Married</td>\n",
       "      <td>High School</td>\n",
       "      <td>3.000000</td>\n",
       "      <td>88.000000</td>\n",
       "      <td>True</td>\n",
       "      <td>3.000000</td>\n",
       "      <td>0.0</td>\n",
       "      <td>2.000000</td>\n",
       "      <td>Highly Likely to Churn</td>\n",
       "    </tr>\n",
       "    <tr>\n",
       "      <th>1</th>\n",
       "      <td>Chicago</td>\n",
       "      <td>14.0</td>\n",
       "      <td>72000.0</td>\n",
       "      <td>Accounting</td>\n",
       "      <td>4.0</td>\n",
       "      <td>4.000000</td>\n",
       "      <td>Short</td>\n",
       "      <td>Single</td>\n",
       "      <td>Bachelor</td>\n",
       "      <td>3.666667</td>\n",
       "      <td>30.000000</td>\n",
       "      <td>True</td>\n",
       "      <td>3.000000</td>\n",
       "      <td>2.0</td>\n",
       "      <td>3.000000</td>\n",
       "      <td>Moderately Likely to Churn</td>\n",
       "    </tr>\n",
       "    <tr>\n",
       "      <th>2</th>\n",
       "      <td>Miami</td>\n",
       "      <td>4.0</td>\n",
       "      <td>40000.0</td>\n",
       "      <td>Quality Assurance</td>\n",
       "      <td>3.0</td>\n",
       "      <td>3.000000</td>\n",
       "      <td>Medium</td>\n",
       "      <td>Single</td>\n",
       "      <td>High School</td>\n",
       "      <td>3.666667</td>\n",
       "      <td>64.000000</td>\n",
       "      <td>NaN</td>\n",
       "      <td>NaN</td>\n",
       "      <td>0.0</td>\n",
       "      <td>4.000000</td>\n",
       "      <td>Highly Likely to Churn</td>\n",
       "    </tr>\n",
       "    <tr>\n",
       "      <th>3</th>\n",
       "      <td>Scranton</td>\n",
       "      <td>2.0</td>\n",
       "      <td>55000.0</td>\n",
       "      <td>Legal</td>\n",
       "      <td>3.0</td>\n",
       "      <td>3.500000</td>\n",
       "      <td>Short</td>\n",
       "      <td>Married</td>\n",
       "      <td>Bachelor</td>\n",
       "      <td>3.666667</td>\n",
       "      <td>30.000000</td>\n",
       "      <td>True</td>\n",
       "      <td>4.000000</td>\n",
       "      <td>0.0</td>\n",
       "      <td>3.000000</td>\n",
       "      <td>Moderately Likely to Churn</td>\n",
       "    </tr>\n",
       "    <tr>\n",
       "      <th>4</th>\n",
       "      <td>Scranton</td>\n",
       "      <td>10.0</td>\n",
       "      <td>55500.0</td>\n",
       "      <td>Legal</td>\n",
       "      <td>3.0</td>\n",
       "      <td>3.000000</td>\n",
       "      <td>Medium</td>\n",
       "      <td>Married</td>\n",
       "      <td>Bachelor</td>\n",
       "      <td>3.333333</td>\n",
       "      <td>18.000000</td>\n",
       "      <td>NaN</td>\n",
       "      <td>4.000000</td>\n",
       "      <td>1.0</td>\n",
       "      <td>3.000000</td>\n",
       "      <td>Moderately Likely to Churn</td>\n",
       "    </tr>\n",
       "    <tr>\n",
       "      <th>...</th>\n",
       "      <td>...</td>\n",
       "      <td>...</td>\n",
       "      <td>...</td>\n",
       "      <td>...</td>\n",
       "      <td>...</td>\n",
       "      <td>...</td>\n",
       "      <td>...</td>\n",
       "      <td>...</td>\n",
       "      <td>...</td>\n",
       "      <td>...</td>\n",
       "      <td>...</td>\n",
       "      <td>...</td>\n",
       "      <td>...</td>\n",
       "      <td>...</td>\n",
       "      <td>...</td>\n",
       "      <td>...</td>\n",
       "    </tr>\n",
       "    <tr>\n",
       "      <th>1538</th>\n",
       "      <td>Miami</td>\n",
       "      <td>6.0</td>\n",
       "      <td>58000.0</td>\n",
       "      <td>Research and Development</td>\n",
       "      <td>4.0</td>\n",
       "      <td>4.000000</td>\n",
       "      <td>Long</td>\n",
       "      <td>Married</td>\n",
       "      <td>Bachelor</td>\n",
       "      <td>4.000000</td>\n",
       "      <td>12.000000</td>\n",
       "      <td>True</td>\n",
       "      <td>4.000000</td>\n",
       "      <td>0.0</td>\n",
       "      <td>3.000000</td>\n",
       "      <td>Highly Likely to Churn</td>\n",
       "    </tr>\n",
       "    <tr>\n",
       "      <th>1539</th>\n",
       "      <td>Boston</td>\n",
       "      <td>1.0</td>\n",
       "      <td>51500.0</td>\n",
       "      <td>Accounting</td>\n",
       "      <td>2.0</td>\n",
       "      <td>3.500000</td>\n",
       "      <td>Medium</td>\n",
       "      <td>Divorced</td>\n",
       "      <td>High School</td>\n",
       "      <td>3.666667</td>\n",
       "      <td>32.000000</td>\n",
       "      <td>True</td>\n",
       "      <td>4.000000</td>\n",
       "      <td>0.0</td>\n",
       "      <td>3.000000</td>\n",
       "      <td>Moderately Likely to Churn</td>\n",
       "    </tr>\n",
       "    <tr>\n",
       "      <th>1540</th>\n",
       "      <td>San Francisco</td>\n",
       "      <td>11.0</td>\n",
       "      <td>77500.0</td>\n",
       "      <td>Human Resources</td>\n",
       "      <td>4.0</td>\n",
       "      <td>4.029174</td>\n",
       "      <td>Long</td>\n",
       "      <td>Married</td>\n",
       "      <td>Bachelor</td>\n",
       "      <td>3.819578</td>\n",
       "      <td>11.040847</td>\n",
       "      <td>True</td>\n",
       "      <td>4.122893</td>\n",
       "      <td>3.0</td>\n",
       "      <td>4.791749</td>\n",
       "      <td>Slightly Likely to Churn</td>\n",
       "    </tr>\n",
       "    <tr>\n",
       "      <th>1541</th>\n",
       "      <td>New York</td>\n",
       "      <td>NaN</td>\n",
       "      <td>81000.0</td>\n",
       "      <td>Research and Development</td>\n",
       "      <td>4.0</td>\n",
       "      <td>3.000000</td>\n",
       "      <td>Medium</td>\n",
       "      <td>Married</td>\n",
       "      <td>Master</td>\n",
       "      <td>3.000000</td>\n",
       "      <td>18.000000</td>\n",
       "      <td>True</td>\n",
       "      <td>3.000000</td>\n",
       "      <td>0.0</td>\n",
       "      <td>NaN</td>\n",
       "      <td>Highly Likely to Churn</td>\n",
       "    </tr>\n",
       "    <tr>\n",
       "      <th>1542</th>\n",
       "      <td>Dallas</td>\n",
       "      <td>10.0</td>\n",
       "      <td>54500.0</td>\n",
       "      <td>Facilities Management</td>\n",
       "      <td>4.0</td>\n",
       "      <td>5.000000</td>\n",
       "      <td>Short</td>\n",
       "      <td>Married</td>\n",
       "      <td>High School</td>\n",
       "      <td>3.264538</td>\n",
       "      <td>71.724751</td>\n",
       "      <td>True</td>\n",
       "      <td>2.129905</td>\n",
       "      <td>4.0</td>\n",
       "      <td>1.000000</td>\n",
       "      <td>Highly Likely to Churn</td>\n",
       "    </tr>\n",
       "  </tbody>\n",
       "</table>\n",
       "<p>1543 rows × 16 columns</p>\n",
       "</div>"
      ],
      "text/plain": [
       "             Branch  Tenure   Salary                Department  \\\n",
       "0     San Francisco     4.0  63000.0                     Legal   \n",
       "1           Chicago    14.0  72000.0                Accounting   \n",
       "2             Miami     4.0  40000.0         Quality Assurance   \n",
       "3          Scranton     2.0  55000.0                     Legal   \n",
       "4          Scranton    10.0  55500.0                     Legal   \n",
       "...             ...     ...      ...                       ...   \n",
       "1538          Miami     6.0  58000.0  Research and Development   \n",
       "1539         Boston     1.0  51500.0                Accounting   \n",
       "1540  San Francisco    11.0  77500.0           Human Resources   \n",
       "1541       New York     NaN  81000.0  Research and Development   \n",
       "1542         Dallas    10.0  54500.0     Facilities Management   \n",
       "\n",
       "      JobSatisfaction  WorkLifeBalance CommuteDistance MaritalStatus  \\\n",
       "0                 3.0         3.000000            Long       Married   \n",
       "1                 4.0         4.000000           Short        Single   \n",
       "2                 3.0         3.000000          Medium        Single   \n",
       "3                 3.0         3.500000           Short       Married   \n",
       "4                 3.0         3.000000          Medium       Married   \n",
       "...               ...              ...             ...           ...   \n",
       "1538              4.0         4.000000            Long       Married   \n",
       "1539              2.0         3.500000          Medium      Divorced   \n",
       "1540              4.0         4.029174            Long       Married   \n",
       "1541              4.0         3.000000          Medium       Married   \n",
       "1542              4.0         5.000000           Short       Married   \n",
       "\n",
       "        Education  PerformanceRating  TrainingHours OverTime  NumProjects  \\\n",
       "0     High School           3.000000      88.000000     True     3.000000   \n",
       "1        Bachelor           3.666667      30.000000     True     3.000000   \n",
       "2     High School           3.666667      64.000000      NaN          NaN   \n",
       "3        Bachelor           3.666667      30.000000     True     4.000000   \n",
       "4        Bachelor           3.333333      18.000000      NaN     4.000000   \n",
       "...           ...                ...            ...      ...          ...   \n",
       "1538     Bachelor           4.000000      12.000000     True     4.000000   \n",
       "1539  High School           3.666667      32.000000     True     4.000000   \n",
       "1540     Bachelor           3.819578      11.040847     True     4.122893   \n",
       "1541       Master           3.000000      18.000000     True     3.000000   \n",
       "1542  High School           3.264538      71.724751     True     2.129905   \n",
       "\n",
       "      YearsSincePromotion  EnvironmentSatisfaction             ChurnLikelihood  \n",
       "0                     0.0                 2.000000      Highly Likely to Churn  \n",
       "1                     2.0                 3.000000  Moderately Likely to Churn  \n",
       "2                     0.0                 4.000000      Highly Likely to Churn  \n",
       "3                     0.0                 3.000000  Moderately Likely to Churn  \n",
       "4                     1.0                 3.000000  Moderately Likely to Churn  \n",
       "...                   ...                      ...                         ...  \n",
       "1538                  0.0                 3.000000      Highly Likely to Churn  \n",
       "1539                  0.0                 3.000000  Moderately Likely to Churn  \n",
       "1540                  3.0                 4.791749    Slightly Likely to Churn  \n",
       "1541                  0.0                      NaN      Highly Likely to Churn  \n",
       "1542                  4.0                 1.000000      Highly Likely to Churn  \n",
       "\n",
       "[1543 rows x 16 columns]"
      ]
     },
     "execution_count": 6,
     "metadata": {},
     "output_type": "execute_result"
    }
   ],
   "source": [
    "print(df.duplicated().value_counts())\n",
    "df.drop_duplicates()"
   ]
  },
  {
   "cell_type": "markdown",
   "metadata": {},
   "source": [
    "## Handling high and low cardinality features"
   ]
  },
  {
   "cell_type": "code",
   "execution_count": 7,
   "metadata": {},
   "outputs": [
    {
     "data": {
      "text/plain": [
       "Branch             12\n",
       "Department         15\n",
       "CommuteDistance     3\n",
       "MaritalStatus       3\n",
       "Education           3\n",
       "OverTime            1\n",
       "ChurnLikelihood     3\n",
       "dtype: int64"
      ]
     },
     "execution_count": 7,
     "metadata": {},
     "output_type": "execute_result"
    }
   ],
   "source": [
    "# checking the cardinality of features\n",
    "df.select_dtypes(\"object\").nunique()"
   ]
  },
  {
   "cell_type": "markdown",
   "metadata": {},
   "source": [
    "### Drop high cardinality features"
   ]
  },
  {
   "cell_type": "code",
   "execution_count": 8,
   "metadata": {},
   "outputs": [],
   "source": [
    "# high_cardinality = ['Branch', 'Department']\n",
    "\n",
    "# df.drop(columns=high_cardinality, inplace=True)\n",
    "# df.info()"
   ]
  },
  {
   "cell_type": "markdown",
   "metadata": {},
   "source": [
    "## Handling empty cells"
   ]
  },
  {
   "cell_type": "code",
   "execution_count": 9,
   "metadata": {},
   "outputs": [
    {
     "name": "stdout",
     "output_type": "stream",
     "text": [
      "Branch                       8\n",
      "Tenure                       9\n",
      "Salary                       9\n",
      "Department                   0\n",
      "JobSatisfaction             28\n",
      "WorkLifeBalance             28\n",
      "CommuteDistance              0\n",
      "MaritalStatus                0\n",
      "Education                    0\n",
      "PerformanceRating            7\n",
      "TrainingHours              191\n",
      "OverTime                   100\n",
      "NumProjects                 99\n",
      "YearsSincePromotion          1\n",
      "EnvironmentSatisfaction     28\n",
      "ChurnLikelihood              0\n",
      "dtype: int64\n"
     ]
    }
   ],
   "source": [
    "print(df.isnull().sum())"
   ]
  },
  {
   "cell_type": "code",
   "execution_count": 10,
   "metadata": {},
   "outputs": [
    {
     "name": "stdout",
     "output_type": "stream",
     "text": [
      "<class 'pandas.core.frame.DataFrame'>\n",
      "RangeIndex: 1543 entries, 0 to 1542\n",
      "Data columns (total 16 columns):\n",
      " #   Column                   Non-Null Count  Dtype  \n",
      "---  ------                   --------------  -----  \n",
      " 0   Branch                   1535 non-null   object \n",
      " 1   Tenure                   1534 non-null   float64\n",
      " 2   Salary                   1534 non-null   float64\n",
      " 3   Department               1543 non-null   object \n",
      " 4   JobSatisfaction          1515 non-null   float64\n",
      " 5   WorkLifeBalance          1515 non-null   float64\n",
      " 6   CommuteDistance          1543 non-null   object \n",
      " 7   MaritalStatus            1543 non-null   object \n",
      " 8   Education                1543 non-null   object \n",
      " 9   PerformanceRating        1536 non-null   float64\n",
      " 10  TrainingHours            1352 non-null   float64\n",
      " 11  OverTime                 1443 non-null   object \n",
      " 12  NumProjects              1444 non-null   float64\n",
      " 13  YearsSincePromotion      1542 non-null   float64\n",
      " 14  EnvironmentSatisfaction  1515 non-null   float64\n",
      " 15  ChurnLikelihood          1543 non-null   object \n",
      "dtypes: float64(9), object(7)\n",
      "memory usage: 193.0+ KB\n"
     ]
    }
   ],
   "source": [
    "df.info()"
   ]
  },
  {
   "cell_type": "markdown",
   "metadata": {},
   "source": [
    "### Fill categorical value(s)"
   ]
  },
  {
   "cell_type": "code",
   "execution_count": 11,
   "metadata": {},
   "outputs": [
    {
     "data": {
      "text/plain": [
       "Branch                       0\n",
       "Tenure                       9\n",
       "Salary                       9\n",
       "Department                   0\n",
       "JobSatisfaction             28\n",
       "WorkLifeBalance             28\n",
       "CommuteDistance              0\n",
       "MaritalStatus                0\n",
       "Education                    0\n",
       "PerformanceRating            7\n",
       "TrainingHours              191\n",
       "OverTime                     0\n",
       "NumProjects                 99\n",
       "YearsSincePromotion          1\n",
       "EnvironmentSatisfaction     28\n",
       "ChurnLikelihood              0\n",
       "dtype: int64"
      ]
     },
     "execution_count": 11,
     "metadata": {},
     "output_type": "execute_result"
    }
   ],
   "source": [
    "for col in df.select_dtypes(include=['object']).columns:\n",
    "    df[col]=df[col].fillna(df[col].mode()[0])\n",
    "\n",
    "df.isnull().sum()"
   ]
  },
  {
   "cell_type": "code",
   "execution_count": 12,
   "metadata": {},
   "outputs": [
    {
     "name": "stdout",
     "output_type": "stream",
     "text": [
      "<class 'pandas.core.frame.DataFrame'>\n",
      "RangeIndex: 1543 entries, 0 to 1542\n",
      "Data columns (total 16 columns):\n",
      " #   Column                   Non-Null Count  Dtype  \n",
      "---  ------                   --------------  -----  \n",
      " 0   Branch                   1543 non-null   object \n",
      " 1   Tenure                   1534 non-null   float64\n",
      " 2   Salary                   1534 non-null   float64\n",
      " 3   Department               1543 non-null   object \n",
      " 4   JobSatisfaction          1515 non-null   float64\n",
      " 5   WorkLifeBalance          1515 non-null   float64\n",
      " 6   CommuteDistance          1543 non-null   object \n",
      " 7   MaritalStatus            1543 non-null   object \n",
      " 8   Education                1543 non-null   object \n",
      " 9   PerformanceRating        1536 non-null   float64\n",
      " 10  TrainingHours            1352 non-null   float64\n",
      " 11  OverTime                 1543 non-null   bool   \n",
      " 12  NumProjects              1444 non-null   float64\n",
      " 13  YearsSincePromotion      1542 non-null   float64\n",
      " 14  EnvironmentSatisfaction  1515 non-null   float64\n",
      " 15  ChurnLikelihood          1543 non-null   object \n",
      "dtypes: bool(1), float64(9), object(6)\n",
      "memory usage: 182.5+ KB\n"
     ]
    }
   ],
   "source": [
    "df.info()"
   ]
  },
  {
   "cell_type": "markdown",
   "metadata": {},
   "source": [
    "### Fill numerical value(s)"
   ]
  },
  {
   "cell_type": "code",
   "execution_count": 13,
   "metadata": {},
   "outputs": [
    {
     "data": {
      "text/plain": [
       "Branch                     0\n",
       "Tenure                     0\n",
       "Salary                     0\n",
       "Department                 0\n",
       "JobSatisfaction            0\n",
       "WorkLifeBalance            0\n",
       "CommuteDistance            0\n",
       "MaritalStatus              0\n",
       "Education                  0\n",
       "PerformanceRating          0\n",
       "TrainingHours              0\n",
       "OverTime                   0\n",
       "NumProjects                0\n",
       "YearsSincePromotion        0\n",
       "EnvironmentSatisfaction    0\n",
       "ChurnLikelihood            0\n",
       "dtype: int64"
      ]
     },
     "execution_count": 13,
     "metadata": {},
     "output_type": "execute_result"
    }
   ],
   "source": [
    "for col in df.select_dtypes(include=['int64', 'float64']).columns:\n",
    "    df[col].fillna(df[col].mean(), inplace=True)\n",
    "\n",
    "df.isnull().sum()"
   ]
  },
  {
   "cell_type": "code",
   "execution_count": 14,
   "metadata": {},
   "outputs": [
    {
     "name": "stdout",
     "output_type": "stream",
     "text": [
      "<class 'pandas.core.frame.DataFrame'>\n",
      "RangeIndex: 1543 entries, 0 to 1542\n",
      "Data columns (total 16 columns):\n",
      " #   Column                   Non-Null Count  Dtype  \n",
      "---  ------                   --------------  -----  \n",
      " 0   Branch                   1543 non-null   object \n",
      " 1   Tenure                   1543 non-null   float64\n",
      " 2   Salary                   1543 non-null   float64\n",
      " 3   Department               1543 non-null   object \n",
      " 4   JobSatisfaction          1543 non-null   float64\n",
      " 5   WorkLifeBalance          1543 non-null   float64\n",
      " 6   CommuteDistance          1543 non-null   object \n",
      " 7   MaritalStatus            1543 non-null   object \n",
      " 8   Education                1543 non-null   object \n",
      " 9   PerformanceRating        1543 non-null   float64\n",
      " 10  TrainingHours            1543 non-null   float64\n",
      " 11  OverTime                 1543 non-null   bool   \n",
      " 12  NumProjects              1543 non-null   float64\n",
      " 13  YearsSincePromotion      1543 non-null   float64\n",
      " 14  EnvironmentSatisfaction  1543 non-null   float64\n",
      " 15  ChurnLikelihood          1543 non-null   object \n",
      "dtypes: bool(1), float64(9), object(6)\n",
      "memory usage: 182.5+ KB\n"
     ]
    }
   ],
   "source": [
    "df.info()"
   ]
  },
  {
   "cell_type": "markdown",
   "metadata": {},
   "source": [
    "## Outlier Treatment"
   ]
  },
  {
   "cell_type": "markdown",
   "metadata": {},
   "source": [
    "### Visualize the outliers of the numerical features"
   ]
  },
  {
   "cell_type": "code",
   "execution_count": 15,
   "metadata": {},
   "outputs": [
    {
     "data": {
      "application/vnd.plotly.v1+json": {
       "config": {
        "plotlyServerURL": "https://plot.ly"
       },
       "data": [
        {
         "alignmentgroup": "True",
         "hovertemplate": "Tenure=%{x}<extra></extra>",
         "legendgroup": "",
         "marker": {
          "color": "#636efa"
         },
         "name": "",
         "notched": false,
         "offsetgroup": "",
         "orientation": "h",
         "showlegend": false,
         "type": "box",
         "x": [
          4,
          14,
          4,
          2,
          10,
          4,
          10,
          6,
          10,
          3,
          4,
          7,
          10,
          8,
          6,
          13,
          2,
          8,
          3,
          11,
          6,
          8,
          16,
          4,
          8,
          7,
          6,
          14,
          4,
          4,
          3,
          4,
          10,
          13,
          17,
          3,
          3,
          3,
          2,
          3,
          12,
          12,
          4,
          3,
          11,
          3,
          10,
          14,
          8,
          5,
          4,
          7,
          18,
          7,
          6,
          2,
          4,
          5,
          5,
          12,
          8,
          10,
          7,
          6,
          5,
          7,
          10,
          11,
          9,
          7,
          7,
          9,
          11,
          4,
          7,
          4,
          7,
          5,
          7,
          2,
          11,
          6,
          12,
          6,
          6,
          9,
          9,
          2,
          9,
          12,
          10,
          3,
          7,
          10,
          11,
          18,
          6,
          8,
          13,
          8,
          16,
          5,
          9,
          7,
          5,
          12,
          3,
          14,
          5,
          5,
          6,
          8,
          8,
          11,
          14,
          10,
          9,
          3,
          12,
          11,
          13,
          4,
          8,
          7,
          7,
          7,
          12,
          15,
          7,
          8,
          4,
          9,
          9,
          3,
          3,
          8,
          2,
          5,
          9,
          5,
          1,
          3,
          8,
          10,
          6,
          5,
          24,
          13,
          3,
          10,
          6,
          8,
          8,
          4,
          6,
          6,
          7,
          2,
          20,
          3,
          10,
          8,
          13,
          13,
          7,
          23,
          9,
          14,
          6,
          12,
          7,
          13,
          13,
          4,
          7,
          6,
          19,
          6,
          7,
          5,
          12,
          8,
          5,
          8,
          5,
          11,
          6,
          16,
          14,
          6,
          8,
          6,
          6,
          18,
          13,
          9,
          10,
          5,
          14,
          7,
          4,
          8,
          4,
          6,
          5,
          5,
          8,
          14,
          4,
          6,
          3,
          17,
          4,
          14,
          9,
          7,
          6,
          6,
          3,
          8,
          9,
          8,
          8,
          7,
          13,
          7,
          8,
          5,
          5,
          8,
          8,
          6,
          6,
          13,
          8,
          7,
          4,
          10,
          1,
          9,
          6,
          7.612125162972621,
          3,
          8,
          8,
          11,
          6,
          7,
          4,
          4,
          12,
          6,
          3,
          9,
          13,
          5,
          14,
          14,
          14,
          13,
          3,
          7,
          3,
          12,
          4,
          4,
          6,
          5,
          2,
          10,
          9,
          8,
          4,
          13,
          7,
          4,
          5,
          11,
          7,
          4,
          8,
          8,
          6,
          4,
          8,
          10,
          14,
          7,
          3,
          4,
          10,
          1,
          2,
          3,
          3,
          2,
          12,
          10,
          6,
          5,
          7,
          6,
          13,
          7,
          14,
          6,
          10,
          12,
          4,
          7,
          10,
          3,
          6,
          10,
          14,
          6,
          14,
          15,
          5,
          3,
          8,
          5,
          11,
          8,
          9,
          10,
          7,
          10,
          7,
          10,
          6,
          12,
          11,
          6,
          12,
          13,
          5,
          10,
          2,
          1,
          3,
          11,
          8,
          5,
          13,
          14,
          4,
          4,
          7,
          6,
          4,
          11,
          16,
          9,
          9,
          5,
          3,
          4,
          3,
          12,
          6,
          7,
          5,
          4,
          9,
          3,
          13,
          13,
          8,
          2,
          8,
          6,
          20,
          6,
          11,
          5,
          3,
          4,
          7,
          11,
          4,
          4,
          7,
          6,
          5,
          4,
          5,
          6,
          4,
          2,
          8,
          3,
          12,
          6,
          4,
          12,
          5,
          14,
          6,
          5,
          4,
          5,
          7,
          6,
          14,
          7,
          7,
          3,
          4,
          5,
          7,
          12,
          8,
          2,
          10,
          5,
          9,
          7,
          2,
          5,
          4,
          4,
          10,
          5,
          10,
          8,
          7.612125162972621,
          5,
          16,
          3,
          7,
          4,
          4,
          6,
          6,
          15,
          14,
          6,
          7,
          8,
          3,
          6,
          9,
          5,
          4,
          10,
          4,
          5,
          15,
          8,
          3,
          5,
          7,
          17,
          4,
          16,
          6,
          13,
          9,
          5,
          1,
          12,
          10,
          3,
          16,
          11,
          10,
          9,
          9,
          3,
          5,
          9,
          8,
          4,
          6,
          7,
          13,
          7,
          7,
          9,
          4,
          12,
          6,
          8,
          6,
          2,
          9,
          5,
          11,
          12,
          6,
          8,
          13,
          18,
          7,
          3,
          3,
          9,
          9,
          11,
          11,
          3,
          7,
          18,
          9,
          8,
          4,
          8,
          7,
          8,
          6,
          8,
          6,
          17,
          15,
          12,
          5,
          2,
          13,
          12,
          10,
          9,
          3,
          6,
          10,
          14,
          5,
          1,
          9,
          9,
          7,
          9,
          8,
          3,
          5,
          4,
          9,
          4,
          10,
          11,
          5,
          9,
          5,
          16,
          4,
          5,
          5,
          3,
          4,
          4,
          18,
          6,
          3,
          8,
          2,
          4,
          9,
          10,
          8,
          6,
          3,
          8,
          5,
          12,
          11,
          10,
          13,
          10,
          19,
          7.612125162972621,
          4,
          2,
          1,
          3,
          3,
          4,
          5,
          20,
          14,
          11,
          14,
          7,
          10,
          9,
          4,
          7,
          3,
          9,
          9,
          8,
          12,
          8,
          4,
          10,
          7,
          5,
          22,
          1,
          6,
          10,
          9,
          6,
          10,
          2,
          16,
          12,
          5,
          7,
          6,
          4,
          6,
          10,
          7,
          6,
          4,
          4,
          2,
          1,
          12,
          9,
          11,
          5,
          10,
          9,
          13,
          10,
          4,
          9,
          11,
          3,
          5,
          5,
          7,
          8,
          10,
          4,
          1,
          8,
          8,
          6,
          7,
          5,
          9,
          10,
          9,
          4,
          14,
          1,
          8,
          6,
          6,
          9,
          4,
          2,
          5,
          3,
          14,
          2,
          5,
          9,
          4,
          2,
          4,
          10,
          7,
          7,
          6,
          5,
          7,
          4,
          6,
          3,
          5,
          6,
          11,
          15,
          3,
          5,
          10,
          5,
          2,
          6,
          2,
          8,
          19,
          7,
          9,
          3,
          4,
          11,
          8,
          7,
          3,
          10,
          5,
          10,
          7,
          9,
          9,
          4,
          7,
          3,
          5,
          7.612125162972621,
          5,
          4,
          1,
          10,
          3,
          4,
          8,
          10,
          6,
          14,
          3,
          8,
          3,
          4,
          5,
          15,
          2,
          6,
          7,
          8,
          9,
          2,
          6,
          3,
          16,
          7,
          3,
          4,
          3,
          2,
          13,
          7,
          4,
          3,
          7,
          16,
          13,
          5,
          1,
          12,
          6,
          4,
          6,
          9,
          17,
          9,
          8,
          12,
          20,
          8,
          2,
          5,
          20,
          19,
          3,
          3,
          12,
          13,
          8,
          8,
          3,
          9,
          7,
          7,
          9,
          7.612125162972621,
          4,
          17,
          20,
          4,
          8,
          19,
          16,
          4,
          9,
          13,
          18,
          5,
          8,
          5,
          9,
          3,
          12,
          1,
          3,
          19,
          8,
          4,
          7,
          5,
          7,
          6,
          9,
          14,
          13,
          3,
          23,
          11,
          8,
          21,
          6,
          6,
          10,
          3,
          10,
          3,
          11,
          2,
          4,
          5,
          10,
          10,
          7,
          6,
          14,
          8,
          1,
          2,
          7,
          6,
          6,
          5,
          9,
          5,
          11,
          12,
          8,
          4,
          11,
          1,
          9,
          9,
          8,
          1,
          7,
          6,
          4,
          3,
          15,
          12,
          4,
          8,
          6,
          8,
          13,
          5,
          8,
          1,
          6,
          6,
          1,
          4,
          22,
          8,
          9,
          5,
          5,
          4,
          10,
          6,
          4,
          6,
          13,
          7,
          6,
          6,
          4,
          5,
          9,
          6,
          6,
          13,
          14,
          19,
          10,
          7,
          9,
          2,
          5,
          7,
          9,
          16,
          8,
          4,
          2,
          6,
          3,
          7,
          5,
          3,
          7,
          7,
          10,
          3,
          8,
          7,
          4,
          5,
          8,
          3,
          5,
          5,
          9,
          8,
          10,
          3,
          7,
          2,
          5,
          11,
          11,
          3,
          4,
          1,
          6,
          2,
          3,
          5,
          5,
          12,
          11,
          7.612125162972621,
          7,
          3,
          12,
          9,
          11,
          6,
          7,
          5,
          8,
          8,
          9,
          4,
          7,
          4,
          8,
          6,
          4,
          15,
          8,
          4,
          15,
          12,
          8,
          3,
          5,
          2,
          4,
          6,
          4,
          3,
          3,
          3,
          8,
          3,
          3,
          2,
          7,
          8,
          6,
          7,
          15,
          4,
          3,
          2,
          5,
          10,
          14,
          5,
          10,
          6,
          15,
          4,
          7,
          7,
          7,
          11,
          4,
          6,
          3,
          6,
          3,
          4,
          6,
          3,
          3,
          8,
          15,
          9,
          13,
          12,
          4,
          3,
          3,
          3,
          5,
          16,
          10,
          6,
          5,
          7,
          4,
          12,
          4,
          3,
          9,
          6,
          10,
          7,
          2,
          16,
          11,
          17,
          7,
          7,
          5,
          7,
          7.612125162972621,
          5,
          8,
          6,
          12,
          1,
          9,
          9,
          8,
          11,
          4,
          10,
          5,
          10,
          5,
          12,
          4,
          2,
          10,
          15,
          8,
          10,
          5,
          10,
          8,
          11,
          11,
          9,
          12,
          3,
          9,
          5,
          8,
          13,
          9,
          5,
          4,
          7,
          11,
          6,
          10,
          9,
          14,
          17,
          11,
          8,
          6,
          8,
          12,
          15,
          6,
          7,
          2,
          4,
          7,
          8,
          5,
          14,
          4,
          5,
          5,
          9,
          4,
          10,
          10,
          21,
          6,
          5,
          11,
          8,
          7,
          12,
          6,
          5,
          2,
          3,
          7,
          6,
          8,
          7,
          2,
          10,
          6,
          7,
          14,
          5,
          5,
          6,
          15,
          5,
          1,
          15,
          7,
          6,
          6,
          6,
          4,
          10,
          5,
          11,
          15,
          11,
          27,
          5,
          9,
          7,
          10,
          3,
          7,
          8,
          4,
          6,
          8,
          4,
          5,
          3,
          20,
          8,
          6,
          2,
          11,
          14,
          5,
          9,
          3,
          7,
          10,
          15,
          6,
          10,
          5,
          9,
          4,
          3,
          6,
          9,
          8,
          3,
          16,
          10,
          9,
          9,
          7,
          7,
          2,
          18,
          9,
          6,
          7,
          11,
          14,
          4,
          7,
          13,
          8,
          5,
          8,
          1,
          3,
          3,
          8,
          7.612125162972621,
          6,
          3,
          8,
          8,
          11,
          8,
          9,
          1,
          3,
          3,
          12,
          11,
          4,
          9,
          7,
          6,
          6,
          7,
          4,
          3,
          9,
          2,
          15,
          4,
          6,
          9,
          12,
          5,
          18,
          2,
          3,
          6,
          4,
          10,
          10,
          10,
          10,
          10,
          6,
          7,
          5,
          1,
          15,
          10,
          8,
          14,
          11,
          10,
          5,
          6,
          9,
          3,
          13,
          11,
          16,
          1,
          7,
          4,
          13,
          2,
          11,
          8,
          10,
          11,
          3,
          3,
          7,
          10,
          5,
          8,
          20,
          8,
          17,
          6,
          6,
          3,
          4,
          14,
          22,
          5,
          7,
          8,
          3,
          8,
          3,
          5,
          5,
          8,
          7,
          6,
          8,
          10,
          19,
          7,
          4,
          5,
          7,
          5,
          2,
          10,
          12,
          3,
          6,
          7,
          2,
          1,
          9,
          10,
          9,
          14,
          13,
          10,
          14,
          9,
          13,
          3,
          9,
          7,
          5,
          2,
          4,
          7,
          8,
          15,
          8,
          6,
          4,
          16,
          7,
          7,
          13,
          12,
          8,
          5,
          6,
          8,
          9,
          15,
          22,
          2,
          6,
          5,
          14,
          6,
          14,
          5,
          3,
          12,
          7,
          4,
          21,
          8,
          10,
          12,
          11,
          6,
          13,
          3,
          4,
          9,
          7,
          9,
          11,
          5,
          4,
          5,
          4,
          6,
          9,
          3,
          2,
          8,
          11,
          7,
          5,
          3,
          5,
          8,
          8,
          11,
          7,
          21,
          2,
          5,
          5,
          12,
          5,
          8,
          1,
          4,
          5,
          8,
          11,
          11,
          7,
          4,
          4,
          2,
          8,
          12,
          3,
          4,
          6,
          12,
          10,
          4,
          7,
          8,
          18,
          7,
          6,
          13,
          6,
          5,
          0,
          13,
          4,
          6,
          5,
          8,
          8,
          13,
          4,
          8,
          13,
          7,
          13,
          10,
          5,
          7,
          8,
          8,
          3,
          3,
          14,
          9,
          5,
          3,
          5,
          4,
          4,
          4,
          7,
          5,
          4,
          13,
          6,
          5,
          14,
          3,
          5,
          9,
          3,
          7,
          12,
          13,
          4,
          7,
          2,
          15,
          13,
          3,
          15,
          11,
          6,
          12,
          16,
          12,
          5,
          9,
          3,
          3,
          16,
          6,
          13,
          3,
          6,
          5,
          6,
          5,
          12,
          8,
          14,
          12,
          6,
          9,
          4,
          24,
          6,
          8,
          4,
          14,
          8,
          11,
          6,
          12,
          8,
          5,
          4,
          8,
          5,
          9,
          8,
          2,
          17,
          2,
          11,
          10,
          4,
          5,
          4,
          8,
          1,
          6,
          6,
          6,
          10,
          9,
          14,
          5,
          12,
          2,
          15,
          2,
          11,
          13,
          4,
          7,
          14,
          14,
          5,
          8,
          6,
          10,
          8,
          8,
          7,
          5,
          4,
          9,
          9,
          9,
          11,
          11,
          6,
          5,
          5,
          6,
          9,
          6,
          16,
          5,
          8,
          6,
          6,
          1,
          11,
          7.612125162972621,
          10
         ],
         "x0": " ",
         "xaxis": "x",
         "y0": " ",
         "yaxis": "y"
        }
       ],
       "layout": {
        "boxmode": "group",
        "legend": {
         "tracegroupgap": 0
        },
        "template": {
         "data": {
          "bar": [
           {
            "error_x": {
             "color": "#2a3f5f"
            },
            "error_y": {
             "color": "#2a3f5f"
            },
            "marker": {
             "line": {
              "color": "#E5ECF6",
              "width": 0.5
             },
             "pattern": {
              "fillmode": "overlay",
              "size": 10,
              "solidity": 0.2
             }
            },
            "type": "bar"
           }
          ],
          "barpolar": [
           {
            "marker": {
             "line": {
              "color": "#E5ECF6",
              "width": 0.5
             },
             "pattern": {
              "fillmode": "overlay",
              "size": 10,
              "solidity": 0.2
             }
            },
            "type": "barpolar"
           }
          ],
          "carpet": [
           {
            "aaxis": {
             "endlinecolor": "#2a3f5f",
             "gridcolor": "white",
             "linecolor": "white",
             "minorgridcolor": "white",
             "startlinecolor": "#2a3f5f"
            },
            "baxis": {
             "endlinecolor": "#2a3f5f",
             "gridcolor": "white",
             "linecolor": "white",
             "minorgridcolor": "white",
             "startlinecolor": "#2a3f5f"
            },
            "type": "carpet"
           }
          ],
          "choropleth": [
           {
            "colorbar": {
             "outlinewidth": 0,
             "ticks": ""
            },
            "type": "choropleth"
           }
          ],
          "contour": [
           {
            "colorbar": {
             "outlinewidth": 0,
             "ticks": ""
            },
            "colorscale": [
             [
              0,
              "#0d0887"
             ],
             [
              0.1111111111111111,
              "#46039f"
             ],
             [
              0.2222222222222222,
              "#7201a8"
             ],
             [
              0.3333333333333333,
              "#9c179e"
             ],
             [
              0.4444444444444444,
              "#bd3786"
             ],
             [
              0.5555555555555556,
              "#d8576b"
             ],
             [
              0.6666666666666666,
              "#ed7953"
             ],
             [
              0.7777777777777778,
              "#fb9f3a"
             ],
             [
              0.8888888888888888,
              "#fdca26"
             ],
             [
              1,
              "#f0f921"
             ]
            ],
            "type": "contour"
           }
          ],
          "contourcarpet": [
           {
            "colorbar": {
             "outlinewidth": 0,
             "ticks": ""
            },
            "type": "contourcarpet"
           }
          ],
          "heatmap": [
           {
            "colorbar": {
             "outlinewidth": 0,
             "ticks": ""
            },
            "colorscale": [
             [
              0,
              "#0d0887"
             ],
             [
              0.1111111111111111,
              "#46039f"
             ],
             [
              0.2222222222222222,
              "#7201a8"
             ],
             [
              0.3333333333333333,
              "#9c179e"
             ],
             [
              0.4444444444444444,
              "#bd3786"
             ],
             [
              0.5555555555555556,
              "#d8576b"
             ],
             [
              0.6666666666666666,
              "#ed7953"
             ],
             [
              0.7777777777777778,
              "#fb9f3a"
             ],
             [
              0.8888888888888888,
              "#fdca26"
             ],
             [
              1,
              "#f0f921"
             ]
            ],
            "type": "heatmap"
           }
          ],
          "heatmapgl": [
           {
            "colorbar": {
             "outlinewidth": 0,
             "ticks": ""
            },
            "colorscale": [
             [
              0,
              "#0d0887"
             ],
             [
              0.1111111111111111,
              "#46039f"
             ],
             [
              0.2222222222222222,
              "#7201a8"
             ],
             [
              0.3333333333333333,
              "#9c179e"
             ],
             [
              0.4444444444444444,
              "#bd3786"
             ],
             [
              0.5555555555555556,
              "#d8576b"
             ],
             [
              0.6666666666666666,
              "#ed7953"
             ],
             [
              0.7777777777777778,
              "#fb9f3a"
             ],
             [
              0.8888888888888888,
              "#fdca26"
             ],
             [
              1,
              "#f0f921"
             ]
            ],
            "type": "heatmapgl"
           }
          ],
          "histogram": [
           {
            "marker": {
             "pattern": {
              "fillmode": "overlay",
              "size": 10,
              "solidity": 0.2
             }
            },
            "type": "histogram"
           }
          ],
          "histogram2d": [
           {
            "colorbar": {
             "outlinewidth": 0,
             "ticks": ""
            },
            "colorscale": [
             [
              0,
              "#0d0887"
             ],
             [
              0.1111111111111111,
              "#46039f"
             ],
             [
              0.2222222222222222,
              "#7201a8"
             ],
             [
              0.3333333333333333,
              "#9c179e"
             ],
             [
              0.4444444444444444,
              "#bd3786"
             ],
             [
              0.5555555555555556,
              "#d8576b"
             ],
             [
              0.6666666666666666,
              "#ed7953"
             ],
             [
              0.7777777777777778,
              "#fb9f3a"
             ],
             [
              0.8888888888888888,
              "#fdca26"
             ],
             [
              1,
              "#f0f921"
             ]
            ],
            "type": "histogram2d"
           }
          ],
          "histogram2dcontour": [
           {
            "colorbar": {
             "outlinewidth": 0,
             "ticks": ""
            },
            "colorscale": [
             [
              0,
              "#0d0887"
             ],
             [
              0.1111111111111111,
              "#46039f"
             ],
             [
              0.2222222222222222,
              "#7201a8"
             ],
             [
              0.3333333333333333,
              "#9c179e"
             ],
             [
              0.4444444444444444,
              "#bd3786"
             ],
             [
              0.5555555555555556,
              "#d8576b"
             ],
             [
              0.6666666666666666,
              "#ed7953"
             ],
             [
              0.7777777777777778,
              "#fb9f3a"
             ],
             [
              0.8888888888888888,
              "#fdca26"
             ],
             [
              1,
              "#f0f921"
             ]
            ],
            "type": "histogram2dcontour"
           }
          ],
          "mesh3d": [
           {
            "colorbar": {
             "outlinewidth": 0,
             "ticks": ""
            },
            "type": "mesh3d"
           }
          ],
          "parcoords": [
           {
            "line": {
             "colorbar": {
              "outlinewidth": 0,
              "ticks": ""
             }
            },
            "type": "parcoords"
           }
          ],
          "pie": [
           {
            "automargin": true,
            "type": "pie"
           }
          ],
          "scatter": [
           {
            "fillpattern": {
             "fillmode": "overlay",
             "size": 10,
             "solidity": 0.2
            },
            "type": "scatter"
           }
          ],
          "scatter3d": [
           {
            "line": {
             "colorbar": {
              "outlinewidth": 0,
              "ticks": ""
             }
            },
            "marker": {
             "colorbar": {
              "outlinewidth": 0,
              "ticks": ""
             }
            },
            "type": "scatter3d"
           }
          ],
          "scattercarpet": [
           {
            "marker": {
             "colorbar": {
              "outlinewidth": 0,
              "ticks": ""
             }
            },
            "type": "scattercarpet"
           }
          ],
          "scattergeo": [
           {
            "marker": {
             "colorbar": {
              "outlinewidth": 0,
              "ticks": ""
             }
            },
            "type": "scattergeo"
           }
          ],
          "scattergl": [
           {
            "marker": {
             "colorbar": {
              "outlinewidth": 0,
              "ticks": ""
             }
            },
            "type": "scattergl"
           }
          ],
          "scattermapbox": [
           {
            "marker": {
             "colorbar": {
              "outlinewidth": 0,
              "ticks": ""
             }
            },
            "type": "scattermapbox"
           }
          ],
          "scatterpolar": [
           {
            "marker": {
             "colorbar": {
              "outlinewidth": 0,
              "ticks": ""
             }
            },
            "type": "scatterpolar"
           }
          ],
          "scatterpolargl": [
           {
            "marker": {
             "colorbar": {
              "outlinewidth": 0,
              "ticks": ""
             }
            },
            "type": "scatterpolargl"
           }
          ],
          "scatterternary": [
           {
            "marker": {
             "colorbar": {
              "outlinewidth": 0,
              "ticks": ""
             }
            },
            "type": "scatterternary"
           }
          ],
          "surface": [
           {
            "colorbar": {
             "outlinewidth": 0,
             "ticks": ""
            },
            "colorscale": [
             [
              0,
              "#0d0887"
             ],
             [
              0.1111111111111111,
              "#46039f"
             ],
             [
              0.2222222222222222,
              "#7201a8"
             ],
             [
              0.3333333333333333,
              "#9c179e"
             ],
             [
              0.4444444444444444,
              "#bd3786"
             ],
             [
              0.5555555555555556,
              "#d8576b"
             ],
             [
              0.6666666666666666,
              "#ed7953"
             ],
             [
              0.7777777777777778,
              "#fb9f3a"
             ],
             [
              0.8888888888888888,
              "#fdca26"
             ],
             [
              1,
              "#f0f921"
             ]
            ],
            "type": "surface"
           }
          ],
          "table": [
           {
            "cells": {
             "fill": {
              "color": "#EBF0F8"
             },
             "line": {
              "color": "white"
             }
            },
            "header": {
             "fill": {
              "color": "#C8D4E3"
             },
             "line": {
              "color": "white"
             }
            },
            "type": "table"
           }
          ]
         },
         "layout": {
          "annotationdefaults": {
           "arrowcolor": "#2a3f5f",
           "arrowhead": 0,
           "arrowwidth": 1
          },
          "autotypenumbers": "strict",
          "coloraxis": {
           "colorbar": {
            "outlinewidth": 0,
            "ticks": ""
           }
          },
          "colorscale": {
           "diverging": [
            [
             0,
             "#8e0152"
            ],
            [
             0.1,
             "#c51b7d"
            ],
            [
             0.2,
             "#de77ae"
            ],
            [
             0.3,
             "#f1b6da"
            ],
            [
             0.4,
             "#fde0ef"
            ],
            [
             0.5,
             "#f7f7f7"
            ],
            [
             0.6,
             "#e6f5d0"
            ],
            [
             0.7,
             "#b8e186"
            ],
            [
             0.8,
             "#7fbc41"
            ],
            [
             0.9,
             "#4d9221"
            ],
            [
             1,
             "#276419"
            ]
           ],
           "sequential": [
            [
             0,
             "#0d0887"
            ],
            [
             0.1111111111111111,
             "#46039f"
            ],
            [
             0.2222222222222222,
             "#7201a8"
            ],
            [
             0.3333333333333333,
             "#9c179e"
            ],
            [
             0.4444444444444444,
             "#bd3786"
            ],
            [
             0.5555555555555556,
             "#d8576b"
            ],
            [
             0.6666666666666666,
             "#ed7953"
            ],
            [
             0.7777777777777778,
             "#fb9f3a"
            ],
            [
             0.8888888888888888,
             "#fdca26"
            ],
            [
             1,
             "#f0f921"
            ]
           ],
           "sequentialminus": [
            [
             0,
             "#0d0887"
            ],
            [
             0.1111111111111111,
             "#46039f"
            ],
            [
             0.2222222222222222,
             "#7201a8"
            ],
            [
             0.3333333333333333,
             "#9c179e"
            ],
            [
             0.4444444444444444,
             "#bd3786"
            ],
            [
             0.5555555555555556,
             "#d8576b"
            ],
            [
             0.6666666666666666,
             "#ed7953"
            ],
            [
             0.7777777777777778,
             "#fb9f3a"
            ],
            [
             0.8888888888888888,
             "#fdca26"
            ],
            [
             1,
             "#f0f921"
            ]
           ]
          },
          "colorway": [
           "#636efa",
           "#EF553B",
           "#00cc96",
           "#ab63fa",
           "#FFA15A",
           "#19d3f3",
           "#FF6692",
           "#B6E880",
           "#FF97FF",
           "#FECB52"
          ],
          "font": {
           "color": "#2a3f5f"
          },
          "geo": {
           "bgcolor": "white",
           "lakecolor": "white",
           "landcolor": "#E5ECF6",
           "showlakes": true,
           "showland": true,
           "subunitcolor": "white"
          },
          "hoverlabel": {
           "align": "left"
          },
          "hovermode": "closest",
          "mapbox": {
           "style": "light"
          },
          "paper_bgcolor": "white",
          "plot_bgcolor": "#E5ECF6",
          "polar": {
           "angularaxis": {
            "gridcolor": "white",
            "linecolor": "white",
            "ticks": ""
           },
           "bgcolor": "#E5ECF6",
           "radialaxis": {
            "gridcolor": "white",
            "linecolor": "white",
            "ticks": ""
           }
          },
          "scene": {
           "xaxis": {
            "backgroundcolor": "#E5ECF6",
            "gridcolor": "white",
            "gridwidth": 2,
            "linecolor": "white",
            "showbackground": true,
            "ticks": "",
            "zerolinecolor": "white"
           },
           "yaxis": {
            "backgroundcolor": "#E5ECF6",
            "gridcolor": "white",
            "gridwidth": 2,
            "linecolor": "white",
            "showbackground": true,
            "ticks": "",
            "zerolinecolor": "white"
           },
           "zaxis": {
            "backgroundcolor": "#E5ECF6",
            "gridcolor": "white",
            "gridwidth": 2,
            "linecolor": "white",
            "showbackground": true,
            "ticks": "",
            "zerolinecolor": "white"
           }
          },
          "shapedefaults": {
           "line": {
            "color": "#2a3f5f"
           }
          },
          "ternary": {
           "aaxis": {
            "gridcolor": "white",
            "linecolor": "white",
            "ticks": ""
           },
           "baxis": {
            "gridcolor": "white",
            "linecolor": "white",
            "ticks": ""
           },
           "bgcolor": "#E5ECF6",
           "caxis": {
            "gridcolor": "white",
            "linecolor": "white",
            "ticks": ""
           }
          },
          "title": {
           "x": 0.05
          },
          "xaxis": {
           "automargin": true,
           "gridcolor": "white",
           "linecolor": "white",
           "ticks": "",
           "title": {
            "standoff": 15
           },
           "zerolinecolor": "white",
           "zerolinewidth": 2
          },
          "yaxis": {
           "automargin": true,
           "gridcolor": "white",
           "linecolor": "white",
           "ticks": "",
           "title": {
            "standoff": 15
           },
           "zerolinecolor": "white",
           "zerolinewidth": 2
          }
         }
        },
        "title": {
         "text": "Boxplot of the Target (Tenure) - With Outliers"
        },
        "xaxis": {
         "anchor": "y",
         "domain": [
          0,
          1
         ],
         "title": {
          "text": "Tenure"
         }
        },
        "yaxis": {
         "anchor": "x",
         "domain": [
          0,
          1
         ]
        }
       }
      }
     },
     "metadata": {},
     "output_type": "display_data"
    },
    {
     "data": {
      "application/vnd.plotly.v1+json": {
       "config": {
        "plotlyServerURL": "https://plot.ly"
       },
       "data": [
        {
         "alignmentgroup": "True",
         "hovertemplate": "Salary=%{x}<extra></extra>",
         "legendgroup": "",
         "marker": {
          "color": "#636efa"
         },
         "name": "",
         "notched": false,
         "offsetgroup": "",
         "orientation": "h",
         "showlegend": false,
         "type": "box",
         "x": [
          63000,
          72000,
          40000,
          55000,
          55500,
          61500,
          82000,
          59000,
          73500,
          62500,
          43000,
          74000,
          61000,
          54000,
          68000,
          71500,
          76000,
          69000,
          73000,
          62000,
          66000,
          62000,
          67500,
          63000,
          74000,
          55000,
          64000,
          70500,
          58000,
          65000,
          40500,
          73500,
          74000,
          81500,
          70000,
          63000,
          60000,
          70000,
          53500,
          62500,
          73000,
          71000,
          58000,
          72500,
          69000,
          49500,
          70500,
          61500,
          66500,
          62000,
          64500,
          76500,
          81000,
          60000,
          68500,
          52000,
          62000,
          72500,
          63500,
          79000,
          59000,
          66500,
          60500,
          62500,
          60000,
          68000,
          68000,
          78500,
          68500,
          71500,
          53500,
          63000,
          70000,
          72000,
          73500,
          48000,
          59000,
          62500,
          83000,
          70500,
          80500,
          59500,
          74000,
          71500,
          61500,
          72500,
          63500,
          62500,
          63500,
          73000,
          68000,
          65000,
          67000,
          73500,
          76500,
          83500,
          52500,
          68500,
          61500,
          62500,
          80500,
          66000,
          55000,
          73000,
          57000,
          74000,
          65000,
          74000,
          64500,
          78500,
          65500,
          69500,
          75000,
          72500,
          70000,
          67500,
          66000,
          60500,
          65500,
          65500,
          86000,
          62000,
          66000,
          52500,
          70500,
          66000,
          84500,
          77000,
          79000,
          67000,
          68500,
          56500,
          79000,
          54000,
          67500,
          72500,
          57000,
          70000,
          66000,
          60000,
          67000,
          84500,
          60500,
          82000,
          65500,
          49500,
          79500,
          77500,
          62500,
          63000,
          70000,
          58500,
          55000,
          71500,
          56000,
          77000,
          59500,
          63000,
          86500,
          61000,
          63500,
          52500,
          78000,
          68500,
          67000,
          98000,
          53500,
          78500,
          73000,
          65500,
          71000,
          71000,
          74500,
          68000,
          66000,
          64000,
          71000,
          66500,
          64500,
          64000,
          77500,
          59000,
          60500,
          76500,
          64000,
          63000,
          67500,
          76000,
          71000,
          74000,
          71500,
          54000,
          71500,
          78500,
          77000,
          62000,
          81500,
          57000,
          91500,
          64500,
          72000,
          69000,
          70500,
          62000,
          66000,
          54500,
          70500,
          74000,
          60500,
          58500,
          60000,
          88000,
          57000,
          73500,
          62000,
          68500,
          64000,
          73000,
          61000,
          67500,
          61500,
          65500,
          77000,
          66500,
          71500,
          58000,
          70000,
          62500,
          61500,
          60500,
          65500,
          60000,
          59000,
          80000,
          76500,
          59500,
          61500,
          74500,
          62500,
          55500,
          83500,
          68000,
          63500,
          66000,
          55000,
          55500,
          74500,
          57500,
          67500,
          57000,
          75000,
          76000,
          69500,
          71500,
          72000,
          56500,
          72000,
          80000,
          71500,
          77500,
          69500,
          66000,
          65000,
          62000,
          67500,
          58500,
          52500,
          65000,
          69000,
          59500,
          67000,
          62000,
          63500,
          85500,
          72000,
          71500,
          72500,
          67000,
          65000,
          64000,
          80500,
          64500,
          53000,
          62500,
          70500,
          69500,
          72500,
          66000,
          67500,
          67000,
          73500,
          59500,
          59500,
          55000,
          62000,
          45000,
          82000,
          67000,
          59000,
          78000,
          77500,
          60000,
          68000,
          55500,
          63000,
          64000,
          71000,
          67000,
          44500,
          74500,
          67500,
          64000,
          70000,
          56500,
          79000,
          66500,
          75000,
          87000,
          60000,
          63000,
          80500,
          73500,
          65500,
          67000,
          79500,
          77500,
          64000,
          66500,
          69000,
          73500,
          72500,
          71500,
          79000,
          65000,
          82000,
          65500,
          85500,
          73000,
          57500,
          63500,
          56500,
          69500,
          77500,
          74500,
          67000,
          73500,
          80500,
          61000,
          49500,
          58500,
          70500,
          74000,
          68500,
          64000,
          63500,
          63500,
          70500,
          56000,
          62000,
          55500,
          63500,
          79000,
          63500,
          58500,
          70000,
          57000,
          66000,
          70000,
          66000,
          52000,
          66654.49804432855,
          56000,
          82000,
          62500,
          70000,
          66000,
          59500,
          72000,
          64500,
          70500,
          78500,
          65500,
          64500,
          68000,
          59500,
          55000,
          73000,
          65000,
          69500,
          57000,
          67000,
          64000,
          62500,
          67000,
          65000,
          78000,
          67000,
          61000,
          71000,
          61000,
          60500,
          54500,
          69000,
          57000,
          89000,
          69500,
          69000,
          63500,
          58000,
          62000,
          66500,
          75500,
          74000,
          61000,
          62000,
          57000,
          71000,
          64000,
          71500,
          52000,
          73500,
          55500,
          71000,
          55000,
          72000,
          73000,
          65500,
          55000,
          73500,
          49500,
          62000,
          73000,
          73000,
          69500,
          66000,
          83500,
          86500,
          61000,
          66500,
          61500,
          52000,
          71000,
          54500,
          68500,
          73500,
          83000,
          69000,
          70500,
          75000,
          71000,
          55000,
          52500,
          66000,
          77500,
          55500,
          85000,
          66500,
          84000,
          69500,
          47000,
          65000,
          74000,
          71500,
          66000,
          77000,
          71000,
          70000,
          66000,
          65500,
          63500,
          67500,
          75500,
          64000,
          58500,
          80500,
          63000,
          73000,
          64500,
          84500,
          66500,
          66500,
          62000,
          59000,
          60500,
          67000,
          61000,
          65000,
          66000,
          80500,
          72000,
          62000,
          67000,
          79000,
          78500,
          72500,
          65500,
          57500,
          67500,
          66500,
          77000,
          71500,
          52500,
          70500,
          73000,
          74000,
          72500,
          65000,
          62500,
          67000,
          72000,
          73500,
          74000,
          55000,
          69000,
          82500,
          74500,
          69500,
          48000,
          66000,
          75500,
          56500,
          64000,
          48500,
          67500,
          67500,
          53500,
          57000,
          65500,
          60500,
          54500,
          69000,
          62500,
          57500,
          70000,
          74000,
          66000,
          61000,
          71000,
          66654.49804432855,
          73000,
          54000,
          64000,
          61000,
          63500,
          64500,
          73000,
          66000,
          64000,
          67500,
          63500,
          77500,
          60500,
          55000,
          65000,
          56000,
          63000,
          63500,
          72500,
          65000,
          75000,
          58000,
          66500,
          66654.49804432855,
          81500,
          59500,
          69000,
          67000,
          67500,
          91000,
          61000,
          57500,
          61000,
          59500,
          62500,
          54500,
          70000,
          64000,
          76500,
          65500,
          69500,
          57500,
          77500,
          58000,
          72500,
          53500,
          53000,
          58000,
          69000,
          76000,
          71500,
          72500,
          56000,
          66000,
          72500,
          55000,
          67500,
          82500,
          58500,
          73000,
          58500,
          50500,
          57500,
          84000,
          53000,
          78000,
          64000,
          50500,
          78000,
          61500,
          70000,
          70500,
          63500,
          50500,
          77000,
          59000,
          56000,
          70000,
          57500,
          63500,
          86000,
          69500,
          70500,
          67500,
          63000,
          69000,
          66500,
          57500,
          70500,
          66654.49804432855,
          64000,
          66500,
          59500,
          73000,
          67500,
          72500,
          63000,
          68500,
          66500,
          55000,
          55000,
          67000,
          55500,
          69500,
          64000,
          60000,
          58000,
          67000,
          55500,
          57500,
          57500,
          61000,
          67500,
          64500,
          47000,
          66000,
          59500,
          82500,
          63500,
          63000,
          66500,
          60000,
          74500,
          53500,
          71500,
          62500,
          56500,
          74000,
          76000,
          54500,
          60000,
          65000,
          75500,
          68000,
          59000,
          70500,
          73000,
          78000,
          62500,
          63000,
          78000,
          66000,
          54000,
          68000,
          72500,
          79500,
          62000,
          63500,
          74500,
          53000,
          71500,
          69500,
          58000,
          58000,
          60500,
          79500,
          80000,
          71500,
          68500,
          58500,
          53500,
          67000,
          63000,
          71000,
          65000,
          60000,
          70000,
          53500,
          54500,
          58000,
          78000,
          57500,
          80000,
          70500,
          74500,
          68000,
          54500,
          52000,
          70500,
          62000,
          71500,
          56000,
          55000,
          64000,
          73000,
          75000,
          66000,
          53000,
          62000,
          91000,
          72500,
          58500,
          57000,
          57000,
          65500,
          75000,
          73000,
          66500,
          68000,
          62500,
          76500,
          76500,
          61500,
          64500,
          72500,
          61500,
          76000,
          63500,
          72500,
          81500,
          79500,
          65500,
          57000,
          77000,
          65000,
          56500,
          59500,
          70500,
          85000,
          72000,
          59500,
          89500,
          83500,
          64000,
          78500,
          72500,
          72000,
          69000,
          50500,
          72500,
          87000,
          71000,
          74500,
          70500,
          57000,
          77500,
          85500,
          72000,
          54500,
          75000,
          72000,
          77500,
          68000,
          83500,
          67500,
          76000,
          46000,
          73000,
          57000,
          62500,
          85000,
          63000,
          61000,
          66000,
          62000,
          63000,
          78500,
          57500,
          80000,
          70500,
          58500,
          79000,
          69000,
          64500,
          88000,
          71500,
          67500,
          70500,
          65000,
          80000,
          66500,
          73000,
          57000,
          71500,
          64500,
          65000,
          73500,
          66000,
          60500,
          57500,
          67500,
          68000,
          51500,
          62000,
          59000,
          60500,
          69500,
          75000,
          58000,
          73000,
          79500,
          56000,
          62000,
          66654.49804432855,
          49000,
          58000,
          57000,
          59000,
          53500,
          72000,
          68000,
          59500,
          68000,
          66000,
          73000,
          64000,
          67000,
          58000,
          66500,
          73500,
          68000,
          76000,
          64000,
          62000,
          74000,
          47500,
          58500,
          70500,
          65000,
          72500,
          64500,
          67500,
          76500,
          54500,
          68000,
          47500,
          77000,
          65500,
          66000,
          69000,
          64500,
          75500,
          59000,
          58500,
          62000,
          69000,
          83500,
          82000,
          80000,
          65500,
          47500,
          69000,
          67500,
          73500,
          57000,
          74500,
          68500,
          63500,
          75000,
          61000,
          61500,
          60500,
          53000,
          60000,
          48500,
          64000,
          67000,
          70500,
          66500,
          59000,
          57000,
          62000,
          80000,
          66000,
          62500,
          70500,
          60000,
          66000,
          67000,
          65000,
          70000,
          80000,
          66000,
          68000,
          67000,
          61000,
          72000,
          70000,
          65000,
          61000,
          46500,
          56000,
          65000,
          72000,
          73500,
          53500,
          69500,
          61000,
          60000,
          80000,
          58500,
          60000,
          62500,
          76500,
          58500,
          58500,
          76500,
          70500,
          63000,
          53000,
          67500,
          60000,
          64000,
          62000,
          77500,
          78000,
          52000,
          60500,
          78000,
          72500,
          66500,
          69000,
          49000,
          70000,
          56000,
          62000,
          70000,
          57000,
          68500,
          68500,
          56500,
          60500,
          72500,
          59500,
          82500,
          50500,
          66654.49804432855,
          63500,
          61500,
          70000,
          64000,
          60000,
          57500,
          77500,
          62500,
          77000,
          74000,
          70000,
          52000,
          59000,
          53500,
          66000,
          64500,
          59500,
          68500,
          50500,
          68500,
          49000,
          68000,
          71000,
          59000,
          73000,
          69500,
          66654.49804432855,
          68000,
          73500,
          79500,
          64000,
          71500,
          61500,
          73000,
          66000,
          71000,
          69500,
          64500,
          65000,
          53500,
          63000,
          76500,
          46000,
          63500,
          73500,
          64500,
          60000,
          56500,
          63500,
          68500,
          65500,
          62000,
          61000,
          75000,
          65500,
          69500,
          73000,
          58000,
          68000,
          66500,
          76500,
          58500,
          66500,
          65500,
          71000,
          72500,
          56500,
          58000,
          63000,
          76500,
          67500,
          75500,
          58000,
          57000,
          73000,
          79000,
          54000,
          67500,
          48500,
          71500,
          56000,
          77500,
          72500,
          62000,
          77000,
          54000,
          80000,
          65500,
          68000,
          83500,
          65000,
          64500,
          67500,
          64500,
          75500,
          69000,
          78000,
          72000,
          78500,
          65000,
          64000,
          64000,
          52500,
          69500,
          75500,
          88000,
          50000,
          64500,
          58000,
          63500,
          66000,
          56500,
          60000,
          78500,
          59000,
          74000,
          65500,
          72000,
          59500,
          53500,
          68500,
          82000,
          63500,
          59000,
          76000,
          71500,
          57500,
          71500,
          64000,
          68500,
          57500,
          50000,
          57500,
          77000,
          67500,
          60500,
          51000,
          56500,
          70000,
          65000,
          77000,
          64000,
          67000,
          59500,
          69000,
          65500,
          61000,
          62500,
          79500,
          73000,
          70500,
          56000,
          68000,
          83000,
          64500,
          69000,
          65000,
          64500,
          90000,
          49500,
          75000,
          65500,
          73000,
          68000,
          62500,
          78500,
          51500,
          65500,
          69500,
          59500,
          75000,
          78000,
          66654.49804432855,
          80500,
          74500,
          59500,
          66000,
          68500,
          62500,
          71000,
          56500,
          66500,
          67000,
          62000,
          56500,
          57500,
          58500,
          64500,
          66654.49804432855,
          73500,
          57000,
          58000,
          72500,
          63000,
          73000,
          69000,
          67500,
          70000,
          67500,
          58500,
          59000,
          70500,
          61500,
          70500,
          69000,
          70000,
          77000,
          59000,
          70000,
          60000,
          59500,
          60000,
          71500,
          67500,
          62000,
          44500,
          62000,
          59000,
          68500,
          73000,
          66500,
          83500,
          76000,
          76000,
          70500,
          56500,
          69000,
          62000,
          65500,
          73500,
          69500,
          61000,
          55500,
          49500,
          53000,
          50500,
          47500,
          64000,
          53500,
          69500,
          84000,
          56500,
          70000,
          62000,
          65000,
          62500,
          83500,
          61000,
          50500,
          73000,
          56000,
          63500,
          65000,
          62500,
          66000,
          65500,
          51500,
          79500,
          66000,
          80500,
          73000,
          68500,
          52500,
          67000,
          53000,
          71000,
          66500,
          66500,
          69000,
          47500,
          75000,
          76000,
          74000,
          49000,
          74500,
          63000,
          76000,
          64000,
          76500,
          67500,
          77500,
          72500,
          59500,
          69000,
          66500,
          72000,
          71000,
          76500,
          70500,
          68500,
          94500,
          59000,
          69000,
          65000,
          40500,
          73500,
          85500,
          65000,
          68000,
          86000,
          68000,
          64500,
          71500,
          57000,
          68500,
          61500,
          66500,
          70000,
          71000,
          74000,
          87500,
          82000,
          63000,
          65500,
          53000,
          63000,
          70500,
          80000,
          71500,
          61000,
          69500,
          71500,
          56500,
          69000,
          70000,
          74000,
          81500,
          63000,
          78000,
          71000,
          77500,
          77000,
          59000,
          78000,
          76000,
          58500,
          82000,
          64000,
          66500,
          72000,
          66000,
          77500,
          77000,
          69500,
          65500,
          84500,
          66500,
          66500,
          75000,
          65500,
          75500,
          48000,
          66000,
          64000,
          68000,
          66000,
          72000,
          66500,
          69000,
          68000,
          84000,
          71000,
          77000,
          61500,
          58500,
          63500,
          63000,
          52000,
          84500,
          54500,
          66500,
          64500,
          71500,
          70500,
          79500,
          60000,
          70500,
          65500,
          62500,
          69000,
          72500,
          70500,
          67000,
          60000,
          52000,
          71000,
          63000,
          49500,
          53000,
          52000,
          71000,
          66500,
          63500,
          68000,
          69500,
          70500,
          66500,
          65000,
          59000,
          86500,
          65000,
          72000,
          84000,
          55500,
          63000,
          58000,
          72500,
          51000,
          69500,
          58500,
          56000,
          73000,
          59500,
          66500,
          69500,
          69500,
          83000,
          70500,
          48000,
          62500,
          61000,
          69500,
          75500,
          61000,
          73500,
          57500,
          67000,
          66000,
          69000,
          80500,
          64500,
          74500,
          72500,
          71000,
          62000,
          65500,
          62500,
          68000,
          75000,
          63500,
          61000,
          70500,
          75500,
          66000,
          65500,
          53500,
          72500,
          60000,
          69500,
          66500,
          62000,
          61000,
          68000,
          67500,
          64500,
          68500,
          46000,
          67500,
          69500,
          67000,
          69500,
          77000,
          66500,
          76500,
          73000,
          71000,
          63500,
          59000,
          78500,
          70000,
          53500,
          63500,
          75500,
          53500,
          67500,
          68000,
          47500,
          75000,
          73500,
          53500,
          70000,
          51500,
          71500,
          77000,
          73500,
          78500,
          70000,
          76000,
          62500,
          70500,
          84000,
          68000,
          72500,
          70000,
          60500,
          82000,
          61000,
          72000,
          72500,
          69500,
          59000,
          70000,
          69000,
          60000,
          65500,
          72000,
          65000,
          59000,
          70000,
          81000,
          66500,
          73000,
          80500,
          71500,
          54000,
          59500,
          65000,
          64000,
          59000,
          55500,
          53000,
          64500,
          74500,
          69500,
          68000,
          65500,
          70000,
          72000,
          64500,
          80000,
          74500,
          67500,
          55000,
          65500,
          62000,
          66500,
          73000,
          53000,
          79000,
          57000,
          71500,
          72000,
          70500,
          79000,
          60500,
          65500,
          84000,
          62500,
          52000,
          75500,
          60000,
          72500,
          66500,
          72000,
          62500,
          66500,
          57500,
          66000,
          66000,
          73500,
          70000,
          70500,
          58500,
          67500,
          59500,
          68500,
          66000,
          61500,
          74000,
          73000,
          80000,
          73500,
          58000,
          51500,
          77500,
          81000,
          54500
         ],
         "x0": " ",
         "xaxis": "x",
         "y0": " ",
         "yaxis": "y"
        }
       ],
       "layout": {
        "boxmode": "group",
        "legend": {
         "tracegroupgap": 0
        },
        "template": {
         "data": {
          "bar": [
           {
            "error_x": {
             "color": "#2a3f5f"
            },
            "error_y": {
             "color": "#2a3f5f"
            },
            "marker": {
             "line": {
              "color": "#E5ECF6",
              "width": 0.5
             },
             "pattern": {
              "fillmode": "overlay",
              "size": 10,
              "solidity": 0.2
             }
            },
            "type": "bar"
           }
          ],
          "barpolar": [
           {
            "marker": {
             "line": {
              "color": "#E5ECF6",
              "width": 0.5
             },
             "pattern": {
              "fillmode": "overlay",
              "size": 10,
              "solidity": 0.2
             }
            },
            "type": "barpolar"
           }
          ],
          "carpet": [
           {
            "aaxis": {
             "endlinecolor": "#2a3f5f",
             "gridcolor": "white",
             "linecolor": "white",
             "minorgridcolor": "white",
             "startlinecolor": "#2a3f5f"
            },
            "baxis": {
             "endlinecolor": "#2a3f5f",
             "gridcolor": "white",
             "linecolor": "white",
             "minorgridcolor": "white",
             "startlinecolor": "#2a3f5f"
            },
            "type": "carpet"
           }
          ],
          "choropleth": [
           {
            "colorbar": {
             "outlinewidth": 0,
             "ticks": ""
            },
            "type": "choropleth"
           }
          ],
          "contour": [
           {
            "colorbar": {
             "outlinewidth": 0,
             "ticks": ""
            },
            "colorscale": [
             [
              0,
              "#0d0887"
             ],
             [
              0.1111111111111111,
              "#46039f"
             ],
             [
              0.2222222222222222,
              "#7201a8"
             ],
             [
              0.3333333333333333,
              "#9c179e"
             ],
             [
              0.4444444444444444,
              "#bd3786"
             ],
             [
              0.5555555555555556,
              "#d8576b"
             ],
             [
              0.6666666666666666,
              "#ed7953"
             ],
             [
              0.7777777777777778,
              "#fb9f3a"
             ],
             [
              0.8888888888888888,
              "#fdca26"
             ],
             [
              1,
              "#f0f921"
             ]
            ],
            "type": "contour"
           }
          ],
          "contourcarpet": [
           {
            "colorbar": {
             "outlinewidth": 0,
             "ticks": ""
            },
            "type": "contourcarpet"
           }
          ],
          "heatmap": [
           {
            "colorbar": {
             "outlinewidth": 0,
             "ticks": ""
            },
            "colorscale": [
             [
              0,
              "#0d0887"
             ],
             [
              0.1111111111111111,
              "#46039f"
             ],
             [
              0.2222222222222222,
              "#7201a8"
             ],
             [
              0.3333333333333333,
              "#9c179e"
             ],
             [
              0.4444444444444444,
              "#bd3786"
             ],
             [
              0.5555555555555556,
              "#d8576b"
             ],
             [
              0.6666666666666666,
              "#ed7953"
             ],
             [
              0.7777777777777778,
              "#fb9f3a"
             ],
             [
              0.8888888888888888,
              "#fdca26"
             ],
             [
              1,
              "#f0f921"
             ]
            ],
            "type": "heatmap"
           }
          ],
          "heatmapgl": [
           {
            "colorbar": {
             "outlinewidth": 0,
             "ticks": ""
            },
            "colorscale": [
             [
              0,
              "#0d0887"
             ],
             [
              0.1111111111111111,
              "#46039f"
             ],
             [
              0.2222222222222222,
              "#7201a8"
             ],
             [
              0.3333333333333333,
              "#9c179e"
             ],
             [
              0.4444444444444444,
              "#bd3786"
             ],
             [
              0.5555555555555556,
              "#d8576b"
             ],
             [
              0.6666666666666666,
              "#ed7953"
             ],
             [
              0.7777777777777778,
              "#fb9f3a"
             ],
             [
              0.8888888888888888,
              "#fdca26"
             ],
             [
              1,
              "#f0f921"
             ]
            ],
            "type": "heatmapgl"
           }
          ],
          "histogram": [
           {
            "marker": {
             "pattern": {
              "fillmode": "overlay",
              "size": 10,
              "solidity": 0.2
             }
            },
            "type": "histogram"
           }
          ],
          "histogram2d": [
           {
            "colorbar": {
             "outlinewidth": 0,
             "ticks": ""
            },
            "colorscale": [
             [
              0,
              "#0d0887"
             ],
             [
              0.1111111111111111,
              "#46039f"
             ],
             [
              0.2222222222222222,
              "#7201a8"
             ],
             [
              0.3333333333333333,
              "#9c179e"
             ],
             [
              0.4444444444444444,
              "#bd3786"
             ],
             [
              0.5555555555555556,
              "#d8576b"
             ],
             [
              0.6666666666666666,
              "#ed7953"
             ],
             [
              0.7777777777777778,
              "#fb9f3a"
             ],
             [
              0.8888888888888888,
              "#fdca26"
             ],
             [
              1,
              "#f0f921"
             ]
            ],
            "type": "histogram2d"
           }
          ],
          "histogram2dcontour": [
           {
            "colorbar": {
             "outlinewidth": 0,
             "ticks": ""
            },
            "colorscale": [
             [
              0,
              "#0d0887"
             ],
             [
              0.1111111111111111,
              "#46039f"
             ],
             [
              0.2222222222222222,
              "#7201a8"
             ],
             [
              0.3333333333333333,
              "#9c179e"
             ],
             [
              0.4444444444444444,
              "#bd3786"
             ],
             [
              0.5555555555555556,
              "#d8576b"
             ],
             [
              0.6666666666666666,
              "#ed7953"
             ],
             [
              0.7777777777777778,
              "#fb9f3a"
             ],
             [
              0.8888888888888888,
              "#fdca26"
             ],
             [
              1,
              "#f0f921"
             ]
            ],
            "type": "histogram2dcontour"
           }
          ],
          "mesh3d": [
           {
            "colorbar": {
             "outlinewidth": 0,
             "ticks": ""
            },
            "type": "mesh3d"
           }
          ],
          "parcoords": [
           {
            "line": {
             "colorbar": {
              "outlinewidth": 0,
              "ticks": ""
             }
            },
            "type": "parcoords"
           }
          ],
          "pie": [
           {
            "automargin": true,
            "type": "pie"
           }
          ],
          "scatter": [
           {
            "fillpattern": {
             "fillmode": "overlay",
             "size": 10,
             "solidity": 0.2
            },
            "type": "scatter"
           }
          ],
          "scatter3d": [
           {
            "line": {
             "colorbar": {
              "outlinewidth": 0,
              "ticks": ""
             }
            },
            "marker": {
             "colorbar": {
              "outlinewidth": 0,
              "ticks": ""
             }
            },
            "type": "scatter3d"
           }
          ],
          "scattercarpet": [
           {
            "marker": {
             "colorbar": {
              "outlinewidth": 0,
              "ticks": ""
             }
            },
            "type": "scattercarpet"
           }
          ],
          "scattergeo": [
           {
            "marker": {
             "colorbar": {
              "outlinewidth": 0,
              "ticks": ""
             }
            },
            "type": "scattergeo"
           }
          ],
          "scattergl": [
           {
            "marker": {
             "colorbar": {
              "outlinewidth": 0,
              "ticks": ""
             }
            },
            "type": "scattergl"
           }
          ],
          "scattermapbox": [
           {
            "marker": {
             "colorbar": {
              "outlinewidth": 0,
              "ticks": ""
             }
            },
            "type": "scattermapbox"
           }
          ],
          "scatterpolar": [
           {
            "marker": {
             "colorbar": {
              "outlinewidth": 0,
              "ticks": ""
             }
            },
            "type": "scatterpolar"
           }
          ],
          "scatterpolargl": [
           {
            "marker": {
             "colorbar": {
              "outlinewidth": 0,
              "ticks": ""
             }
            },
            "type": "scatterpolargl"
           }
          ],
          "scatterternary": [
           {
            "marker": {
             "colorbar": {
              "outlinewidth": 0,
              "ticks": ""
             }
            },
            "type": "scatterternary"
           }
          ],
          "surface": [
           {
            "colorbar": {
             "outlinewidth": 0,
             "ticks": ""
            },
            "colorscale": [
             [
              0,
              "#0d0887"
             ],
             [
              0.1111111111111111,
              "#46039f"
             ],
             [
              0.2222222222222222,
              "#7201a8"
             ],
             [
              0.3333333333333333,
              "#9c179e"
             ],
             [
              0.4444444444444444,
              "#bd3786"
             ],
             [
              0.5555555555555556,
              "#d8576b"
             ],
             [
              0.6666666666666666,
              "#ed7953"
             ],
             [
              0.7777777777777778,
              "#fb9f3a"
             ],
             [
              0.8888888888888888,
              "#fdca26"
             ],
             [
              1,
              "#f0f921"
             ]
            ],
            "type": "surface"
           }
          ],
          "table": [
           {
            "cells": {
             "fill": {
              "color": "#EBF0F8"
             },
             "line": {
              "color": "white"
             }
            },
            "header": {
             "fill": {
              "color": "#C8D4E3"
             },
             "line": {
              "color": "white"
             }
            },
            "type": "table"
           }
          ]
         },
         "layout": {
          "annotationdefaults": {
           "arrowcolor": "#2a3f5f",
           "arrowhead": 0,
           "arrowwidth": 1
          },
          "autotypenumbers": "strict",
          "coloraxis": {
           "colorbar": {
            "outlinewidth": 0,
            "ticks": ""
           }
          },
          "colorscale": {
           "diverging": [
            [
             0,
             "#8e0152"
            ],
            [
             0.1,
             "#c51b7d"
            ],
            [
             0.2,
             "#de77ae"
            ],
            [
             0.3,
             "#f1b6da"
            ],
            [
             0.4,
             "#fde0ef"
            ],
            [
             0.5,
             "#f7f7f7"
            ],
            [
             0.6,
             "#e6f5d0"
            ],
            [
             0.7,
             "#b8e186"
            ],
            [
             0.8,
             "#7fbc41"
            ],
            [
             0.9,
             "#4d9221"
            ],
            [
             1,
             "#276419"
            ]
           ],
           "sequential": [
            [
             0,
             "#0d0887"
            ],
            [
             0.1111111111111111,
             "#46039f"
            ],
            [
             0.2222222222222222,
             "#7201a8"
            ],
            [
             0.3333333333333333,
             "#9c179e"
            ],
            [
             0.4444444444444444,
             "#bd3786"
            ],
            [
             0.5555555555555556,
             "#d8576b"
            ],
            [
             0.6666666666666666,
             "#ed7953"
            ],
            [
             0.7777777777777778,
             "#fb9f3a"
            ],
            [
             0.8888888888888888,
             "#fdca26"
            ],
            [
             1,
             "#f0f921"
            ]
           ],
           "sequentialminus": [
            [
             0,
             "#0d0887"
            ],
            [
             0.1111111111111111,
             "#46039f"
            ],
            [
             0.2222222222222222,
             "#7201a8"
            ],
            [
             0.3333333333333333,
             "#9c179e"
            ],
            [
             0.4444444444444444,
             "#bd3786"
            ],
            [
             0.5555555555555556,
             "#d8576b"
            ],
            [
             0.6666666666666666,
             "#ed7953"
            ],
            [
             0.7777777777777778,
             "#fb9f3a"
            ],
            [
             0.8888888888888888,
             "#fdca26"
            ],
            [
             1,
             "#f0f921"
            ]
           ]
          },
          "colorway": [
           "#636efa",
           "#EF553B",
           "#00cc96",
           "#ab63fa",
           "#FFA15A",
           "#19d3f3",
           "#FF6692",
           "#B6E880",
           "#FF97FF",
           "#FECB52"
          ],
          "font": {
           "color": "#2a3f5f"
          },
          "geo": {
           "bgcolor": "white",
           "lakecolor": "white",
           "landcolor": "#E5ECF6",
           "showlakes": true,
           "showland": true,
           "subunitcolor": "white"
          },
          "hoverlabel": {
           "align": "left"
          },
          "hovermode": "closest",
          "mapbox": {
           "style": "light"
          },
          "paper_bgcolor": "white",
          "plot_bgcolor": "#E5ECF6",
          "polar": {
           "angularaxis": {
            "gridcolor": "white",
            "linecolor": "white",
            "ticks": ""
           },
           "bgcolor": "#E5ECF6",
           "radialaxis": {
            "gridcolor": "white",
            "linecolor": "white",
            "ticks": ""
           }
          },
          "scene": {
           "xaxis": {
            "backgroundcolor": "#E5ECF6",
            "gridcolor": "white",
            "gridwidth": 2,
            "linecolor": "white",
            "showbackground": true,
            "ticks": "",
            "zerolinecolor": "white"
           },
           "yaxis": {
            "backgroundcolor": "#E5ECF6",
            "gridcolor": "white",
            "gridwidth": 2,
            "linecolor": "white",
            "showbackground": true,
            "ticks": "",
            "zerolinecolor": "white"
           },
           "zaxis": {
            "backgroundcolor": "#E5ECF6",
            "gridcolor": "white",
            "gridwidth": 2,
            "linecolor": "white",
            "showbackground": true,
            "ticks": "",
            "zerolinecolor": "white"
           }
          },
          "shapedefaults": {
           "line": {
            "color": "#2a3f5f"
           }
          },
          "ternary": {
           "aaxis": {
            "gridcolor": "white",
            "linecolor": "white",
            "ticks": ""
           },
           "baxis": {
            "gridcolor": "white",
            "linecolor": "white",
            "ticks": ""
           },
           "bgcolor": "#E5ECF6",
           "caxis": {
            "gridcolor": "white",
            "linecolor": "white",
            "ticks": ""
           }
          },
          "title": {
           "x": 0.05
          },
          "xaxis": {
           "automargin": true,
           "gridcolor": "white",
           "linecolor": "white",
           "ticks": "",
           "title": {
            "standoff": 15
           },
           "zerolinecolor": "white",
           "zerolinewidth": 2
          },
          "yaxis": {
           "automargin": true,
           "gridcolor": "white",
           "linecolor": "white",
           "ticks": "",
           "title": {
            "standoff": 15
           },
           "zerolinecolor": "white",
           "zerolinewidth": 2
          }
         }
        },
        "title": {
         "text": "Boxplot of the Target (Salary) - With Outliers"
        },
        "xaxis": {
         "anchor": "y",
         "domain": [
          0,
          1
         ],
         "title": {
          "text": "Salary"
         }
        },
        "yaxis": {
         "anchor": "x",
         "domain": [
          0,
          1
         ]
        }
       }
      }
     },
     "metadata": {},
     "output_type": "display_data"
    },
    {
     "data": {
      "application/vnd.plotly.v1+json": {
       "config": {
        "plotlyServerURL": "https://plot.ly"
       },
       "data": [
        {
         "alignmentgroup": "True",
         "hovertemplate": "JobSatisfaction=%{x}<extra></extra>",
         "legendgroup": "",
         "marker": {
          "color": "#636efa"
         },
         "name": "",
         "notched": false,
         "offsetgroup": "",
         "orientation": "h",
         "showlegend": false,
         "type": "box",
         "x": [
          3,
          4,
          3,
          3,
          3,
          4,
          5,
          3,
          4,
          5,
          3,
          4,
          2,
          4,
          5,
          4,
          1,
          4,
          4,
          4,
          3,
          5,
          4,
          3,
          2,
          4,
          4,
          4,
          3,
          2,
          3,
          3,
          5,
          3,
          2,
          5,
          1,
          3,
          4,
          5,
          4,
          3,
          3,
          2,
          5,
          4,
          3,
          3,
          2,
          4,
          2,
          4,
          5,
          5,
          4,
          1,
          3,
          5,
          4,
          4,
          3,
          5,
          5,
          4,
          3,
          2,
          3,
          2,
          2,
          1,
          3,
          4,
          3,
          4,
          3,
          5,
          2,
          3,
          3,
          3,
          3,
          5,
          4,
          4,
          4,
          5,
          3,
          3,
          5,
          3,
          5,
          3,
          4,
          3,
          2,
          4,
          5,
          2,
          5,
          3,
          2,
          5,
          3,
          2,
          3,
          2,
          4,
          1,
          5,
          2,
          3,
          3,
          5,
          4,
          3,
          5,
          3,
          5,
          2,
          5,
          3.4217821782178217,
          3,
          4,
          3,
          5,
          3,
          3,
          5,
          4,
          4,
          4,
          3,
          2,
          4,
          1,
          4,
          3.4217821782178217,
          3,
          4,
          4,
          4,
          4,
          3,
          2,
          3,
          3,
          2,
          5,
          2,
          3,
          3,
          3,
          2,
          2,
          3,
          3,
          4,
          4,
          3,
          3,
          3,
          4,
          4,
          3,
          2,
          3,
          5,
          5,
          2,
          4,
          4,
          5,
          2,
          2,
          5,
          2,
          3,
          3,
          3,
          2,
          3,
          4,
          4,
          3.4217821782178217,
          1,
          3,
          4,
          3,
          2,
          3,
          4,
          5,
          5,
          4,
          4,
          3,
          3,
          4,
          3,
          2,
          3,
          2,
          4,
          3,
          4,
          4,
          3,
          3,
          3,
          4,
          4,
          3,
          4,
          2,
          5,
          3,
          2,
          3,
          4,
          3,
          5,
          2,
          3,
          3,
          4,
          2,
          1,
          3,
          5,
          4,
          5,
          5,
          5,
          3,
          3,
          5,
          2,
          2,
          2,
          3,
          4,
          2,
          3.4217821782178217,
          3,
          4,
          2,
          4,
          3,
          3,
          3,
          3.4217821782178217,
          5,
          3,
          4,
          4,
          4,
          2,
          3,
          4,
          4,
          4,
          4,
          4,
          4,
          2,
          4,
          1,
          4,
          4,
          3,
          5,
          5,
          3,
          3,
          4,
          5,
          4,
          4,
          2,
          3,
          4,
          3,
          5,
          4,
          3,
          3,
          4,
          3.4217821782178217,
          4,
          4,
          3,
          2,
          5,
          5,
          5,
          5,
          3,
          2,
          2,
          3,
          3,
          5,
          3,
          3,
          5,
          4,
          3,
          5,
          2,
          2,
          3,
          3,
          1,
          4,
          4,
          3,
          2,
          1,
          4,
          2,
          4,
          4,
          4,
          3,
          5,
          4,
          3,
          4,
          3,
          5,
          5,
          3,
          5,
          4,
          2,
          3,
          5,
          2,
          4,
          3,
          4,
          3,
          2,
          1,
          4,
          5,
          5,
          5,
          3,
          5,
          3,
          3,
          4,
          4,
          5,
          4,
          2,
          3,
          3,
          4,
          3,
          2,
          5,
          3,
          2,
          4,
          3,
          1,
          4,
          3,
          2,
          4,
          3,
          5,
          3,
          2,
          4,
          4,
          3,
          5,
          4,
          4,
          4,
          5,
          4,
          3,
          4,
          2,
          4,
          5,
          5,
          3,
          4,
          4,
          2,
          4,
          4,
          5,
          4,
          3.4217821782178217,
          3,
          4,
          5,
          5,
          3,
          5,
          3,
          3,
          5,
          4,
          2,
          2,
          2,
          4,
          3,
          3,
          4,
          3,
          5,
          5,
          3,
          5,
          4,
          5,
          2,
          5,
          3,
          2,
          3,
          3.4217821782178217,
          4,
          2,
          4,
          3,
          3,
          2,
          3,
          5,
          5,
          4,
          2,
          4,
          4,
          3,
          1,
          3,
          4,
          4,
          1,
          4,
          5,
          3,
          4,
          5,
          3,
          2,
          2,
          1,
          3,
          2,
          4,
          5,
          3,
          5,
          4,
          2,
          3,
          3,
          5,
          4,
          3,
          4,
          3,
          4,
          2,
          4,
          2,
          5,
          4,
          3,
          3,
          3,
          5,
          4,
          4,
          2,
          3.4217821782178217,
          3,
          5,
          3,
          2,
          4,
          3,
          3,
          3,
          2,
          5,
          2,
          4,
          4,
          4,
          1,
          4,
          2,
          4,
          2,
          3,
          3,
          5,
          4,
          3,
          3,
          5,
          2,
          4,
          3,
          3,
          1,
          3,
          3,
          3.4217821782178217,
          2,
          5,
          3,
          2,
          3,
          5,
          4,
          2,
          1,
          3,
          4,
          4,
          4,
          3,
          2,
          3.4217821782178217,
          3,
          3,
          4,
          1,
          5,
          4,
          3,
          1,
          5,
          4,
          5,
          5,
          3,
          2,
          4,
          4,
          3.4217821782178217,
          3,
          5,
          4,
          3,
          4,
          2,
          5,
          2,
          3,
          2,
          1,
          4,
          5,
          5,
          2,
          3,
          4,
          3,
          2,
          3,
          4,
          2,
          4,
          5,
          3,
          3.4217821782178217,
          5,
          3,
          2,
          4,
          5,
          4,
          4,
          1,
          4,
          3,
          5,
          4,
          4,
          3,
          4,
          3,
          3,
          5,
          3,
          4,
          2,
          4,
          4,
          4,
          5,
          3,
          3,
          2,
          3.4217821782178217,
          2,
          3,
          3,
          4,
          1,
          2,
          3,
          5,
          4,
          3,
          5,
          5,
          3,
          2,
          4,
          4,
          3,
          5,
          2,
          3,
          4,
          5,
          4,
          5,
          4,
          2,
          5,
          4,
          3,
          1,
          1,
          4,
          5,
          3,
          3,
          4,
          3,
          4,
          3,
          2,
          3,
          3,
          4,
          3,
          4,
          4,
          4,
          3,
          4,
          4,
          4,
          3,
          4,
          3,
          3,
          2,
          3,
          3,
          4,
          5,
          3,
          3,
          5,
          3,
          4,
          2,
          3,
          5,
          1,
          3,
          5,
          3,
          3,
          4,
          2,
          3,
          5,
          3,
          4,
          3,
          3,
          3.4217821782178217,
          5,
          2,
          4,
          3,
          4,
          4,
          3,
          5,
          2,
          5,
          1,
          3,
          2,
          5,
          3,
          2,
          3,
          3,
          4,
          5,
          4,
          3,
          4,
          1,
          1,
          2,
          5,
          4,
          3,
          5,
          3,
          2,
          4,
          3,
          5,
          2,
          4,
          5,
          4,
          5,
          4,
          5,
          2,
          2,
          3,
          4,
          3,
          3.4217821782178217,
          5,
          4,
          2,
          4,
          5,
          3,
          4,
          2,
          3,
          4,
          4,
          2,
          4,
          4,
          4,
          4,
          3,
          5,
          2,
          4,
          5,
          3,
          3,
          5,
          3,
          3,
          3,
          2,
          3,
          4,
          4,
          3,
          2,
          3,
          5,
          4,
          3,
          3,
          2,
          4,
          3,
          1,
          4,
          4,
          4,
          2,
          4,
          3.4217821782178217,
          3,
          5,
          5,
          4,
          4,
          5,
          3,
          3,
          2,
          3,
          2,
          4,
          3,
          5,
          3,
          4,
          5,
          3,
          4,
          3,
          2,
          2,
          1,
          2,
          4,
          2,
          4,
          3,
          4,
          2,
          4,
          1,
          3,
          4,
          2,
          5,
          5,
          5,
          5,
          5,
          1,
          3,
          4,
          3,
          5,
          2,
          4,
          5,
          3,
          4,
          4,
          3,
          3,
          5,
          2,
          4,
          2,
          4,
          4,
          4,
          4,
          3,
          3,
          3,
          5,
          3,
          4,
          4,
          5,
          3,
          3,
          3,
          2,
          3,
          3.4217821782178217,
          2,
          4,
          4,
          2,
          3,
          2,
          4,
          5,
          4,
          4,
          4,
          5,
          3,
          4,
          4,
          3,
          5,
          2,
          3,
          5,
          4,
          4,
          3,
          5,
          4,
          2,
          3,
          3,
          4,
          5,
          2,
          4,
          3,
          4,
          5,
          4,
          5,
          4,
          5,
          4,
          4,
          3,
          5,
          3,
          4,
          3.4217821782178217,
          2,
          5,
          4,
          5,
          5,
          3,
          3,
          3,
          3,
          4,
          5,
          2,
          4,
          4,
          4,
          5,
          2,
          4,
          1,
          2,
          2,
          3,
          3,
          5,
          4,
          2,
          1,
          3,
          2,
          3.4217821782178217,
          3,
          2,
          5,
          2,
          4,
          4,
          4,
          2,
          5,
          2,
          4,
          3,
          3,
          3,
          2,
          2,
          4,
          2,
          1,
          3,
          2,
          4,
          3,
          5,
          3,
          2,
          4,
          2,
          2,
          5,
          2,
          3,
          3,
          4,
          4,
          3,
          2,
          5,
          4,
          3,
          4,
          3,
          4,
          3,
          3,
          4,
          4,
          5,
          3,
          5,
          4,
          5,
          4,
          4,
          2,
          4,
          5,
          2,
          5,
          5,
          5,
          2,
          5,
          3,
          3,
          3,
          4,
          4,
          4,
          5,
          3,
          4,
          3,
          4,
          3,
          3,
          5,
          2,
          5,
          4,
          3,
          2,
          5,
          3,
          3,
          4,
          3,
          4,
          4,
          3,
          3,
          3,
          5,
          4,
          4,
          2,
          2,
          3,
          4,
          4,
          3,
          5,
          5,
          3,
          3.4217821782178217,
          3,
          3,
          2,
          1,
          3.4217821782178217,
          3,
          3,
          4,
          4,
          3,
          3,
          3,
          3,
          5,
          3,
          3,
          4,
          4,
          1,
          3,
          3,
          2,
          2,
          5,
          4,
          4,
          4,
          5,
          3,
          4,
          2,
          3,
          4,
          5,
          3,
          4,
          3,
          4,
          2,
          3,
          5,
          1,
          2,
          2,
          4,
          4,
          1,
          2,
          2,
          5,
          3,
          2,
          3,
          3,
          3,
          5,
          2,
          4,
          2,
          5,
          2,
          5,
          5,
          3,
          5,
          2,
          5,
          3,
          4,
          2,
          4,
          4,
          3,
          5,
          3,
          1,
          3,
          2,
          4,
          4,
          5,
          2,
          2,
          2,
          1,
          4,
          3,
          5,
          3,
          5,
          2,
          5,
          4,
          5,
          5,
          2,
          4,
          4,
          3,
          4,
          3,
          3,
          3,
          3,
          3,
          2,
          1,
          5,
          4,
          4,
          5,
          4,
          5,
          5,
          2,
          2,
          5,
          5,
          4,
          4,
          5,
          5,
          3,
          3,
          4,
          3,
          2,
          4,
          4,
          3,
          5,
          3,
          5,
          3,
          2,
          3,
          5,
          4,
          5,
          4,
          3,
          3.4217821782178217,
          3,
          2,
          2,
          5,
          3,
          5,
          3,
          2,
          3,
          5,
          5,
          2,
          5,
          5,
          1,
          3,
          3,
          3,
          2,
          2,
          2,
          3,
          3,
          4,
          3,
          2,
          4,
          5,
          4,
          5,
          5,
          5,
          2,
          3,
          3,
          5,
          2,
          4,
          5,
          4,
          3,
          4,
          2,
          3,
          1,
          2,
          4,
          3,
          3,
          4,
          2,
          3,
          5,
          4,
          4,
          3,
          5,
          3,
          3,
          5,
          4,
          3,
          3,
          5,
          4,
          4,
          2,
          3,
          4,
          3,
          2,
          3,
          3,
          3,
          5,
          3,
          3,
          5,
          3,
          5,
          4,
          5,
          2,
          3,
          2,
          3,
          4,
          1,
          5,
          3,
          2,
          5,
          2,
          5,
          2,
          2,
          5,
          5,
          5,
          4,
          4,
          4,
          1,
          3,
          3,
          4,
          4,
          1,
          5,
          3,
          5,
          5,
          3,
          5,
          5,
          5,
          3.4217821782178217,
          3,
          5,
          4,
          5,
          3,
          3,
          4,
          3,
          5,
          4,
          5,
          3,
          3,
          3,
          5,
          3,
          5,
          3,
          5,
          4,
          4,
          3,
          2,
          4,
          5,
          3,
          2,
          3,
          4,
          2,
          5,
          4,
          2,
          4,
          2,
          5,
          1,
          5,
          2,
          2,
          2,
          2,
          2,
          3,
          4,
          3,
          2,
          5,
          3,
          4,
          4,
          3,
          3.4217821782178217,
          4,
          5,
          4,
          4,
          2,
          4,
          3,
          3,
          5,
          5,
          4,
          5,
          2,
          3,
          2,
          3,
          2,
          3,
          4,
          3,
          4,
          3,
          3,
          2,
          3,
          3,
          2,
          3,
          3,
          2,
          2,
          4,
          3,
          3,
          3,
          3,
          5,
          3,
          3,
          3,
          5,
          3,
          3,
          5,
          3.4217821782178217,
          5,
          2,
          4,
          4,
          4,
          3,
          3,
          5,
          3,
          3,
          2,
          2,
          2,
          4,
          3,
          4,
          4,
          4,
          4,
          5,
          3,
          3.4217821782178217,
          2,
          3,
          4,
          2,
          4,
          3,
          4,
          4,
          4,
          2,
          1,
          4,
          4,
          3,
          3,
          3,
          5,
          3,
          5,
          5,
          2,
          5,
          2,
          3,
          3,
          3,
          4,
          3,
          2,
          3,
          3,
          4,
          4,
          1,
          2,
          2,
          5,
          3,
          2,
          4,
          3,
          3,
          3,
          3,
          5,
          4,
          2,
          3,
          2,
          2,
          4,
          2,
          4,
          3,
          5,
          3,
          4,
          4,
          5,
          5,
          3,
          2,
          3,
          5,
          4,
          5,
          4,
          3,
          2,
          2,
          5,
          4,
          4,
          4,
          3,
          3,
          5,
          2,
          5,
          4,
          2,
          4,
          3,
          5,
          4,
          2,
          2,
          4,
          2,
          3,
          3,
          4,
          5,
          4,
          4,
          3,
          4,
          5,
          2,
          2,
          3,
          2,
          2,
          3.4217821782178217,
          5,
          4,
          3,
          4,
          2,
          2,
          1,
          5,
          4,
          2,
          1,
          3,
          4,
          2,
          4,
          4,
          4
         ],
         "x0": " ",
         "xaxis": "x",
         "y0": " ",
         "yaxis": "y"
        }
       ],
       "layout": {
        "boxmode": "group",
        "legend": {
         "tracegroupgap": 0
        },
        "template": {
         "data": {
          "bar": [
           {
            "error_x": {
             "color": "#2a3f5f"
            },
            "error_y": {
             "color": "#2a3f5f"
            },
            "marker": {
             "line": {
              "color": "#E5ECF6",
              "width": 0.5
             },
             "pattern": {
              "fillmode": "overlay",
              "size": 10,
              "solidity": 0.2
             }
            },
            "type": "bar"
           }
          ],
          "barpolar": [
           {
            "marker": {
             "line": {
              "color": "#E5ECF6",
              "width": 0.5
             },
             "pattern": {
              "fillmode": "overlay",
              "size": 10,
              "solidity": 0.2
             }
            },
            "type": "barpolar"
           }
          ],
          "carpet": [
           {
            "aaxis": {
             "endlinecolor": "#2a3f5f",
             "gridcolor": "white",
             "linecolor": "white",
             "minorgridcolor": "white",
             "startlinecolor": "#2a3f5f"
            },
            "baxis": {
             "endlinecolor": "#2a3f5f",
             "gridcolor": "white",
             "linecolor": "white",
             "minorgridcolor": "white",
             "startlinecolor": "#2a3f5f"
            },
            "type": "carpet"
           }
          ],
          "choropleth": [
           {
            "colorbar": {
             "outlinewidth": 0,
             "ticks": ""
            },
            "type": "choropleth"
           }
          ],
          "contour": [
           {
            "colorbar": {
             "outlinewidth": 0,
             "ticks": ""
            },
            "colorscale": [
             [
              0,
              "#0d0887"
             ],
             [
              0.1111111111111111,
              "#46039f"
             ],
             [
              0.2222222222222222,
              "#7201a8"
             ],
             [
              0.3333333333333333,
              "#9c179e"
             ],
             [
              0.4444444444444444,
              "#bd3786"
             ],
             [
              0.5555555555555556,
              "#d8576b"
             ],
             [
              0.6666666666666666,
              "#ed7953"
             ],
             [
              0.7777777777777778,
              "#fb9f3a"
             ],
             [
              0.8888888888888888,
              "#fdca26"
             ],
             [
              1,
              "#f0f921"
             ]
            ],
            "type": "contour"
           }
          ],
          "contourcarpet": [
           {
            "colorbar": {
             "outlinewidth": 0,
             "ticks": ""
            },
            "type": "contourcarpet"
           }
          ],
          "heatmap": [
           {
            "colorbar": {
             "outlinewidth": 0,
             "ticks": ""
            },
            "colorscale": [
             [
              0,
              "#0d0887"
             ],
             [
              0.1111111111111111,
              "#46039f"
             ],
             [
              0.2222222222222222,
              "#7201a8"
             ],
             [
              0.3333333333333333,
              "#9c179e"
             ],
             [
              0.4444444444444444,
              "#bd3786"
             ],
             [
              0.5555555555555556,
              "#d8576b"
             ],
             [
              0.6666666666666666,
              "#ed7953"
             ],
             [
              0.7777777777777778,
              "#fb9f3a"
             ],
             [
              0.8888888888888888,
              "#fdca26"
             ],
             [
              1,
              "#f0f921"
             ]
            ],
            "type": "heatmap"
           }
          ],
          "heatmapgl": [
           {
            "colorbar": {
             "outlinewidth": 0,
             "ticks": ""
            },
            "colorscale": [
             [
              0,
              "#0d0887"
             ],
             [
              0.1111111111111111,
              "#46039f"
             ],
             [
              0.2222222222222222,
              "#7201a8"
             ],
             [
              0.3333333333333333,
              "#9c179e"
             ],
             [
              0.4444444444444444,
              "#bd3786"
             ],
             [
              0.5555555555555556,
              "#d8576b"
             ],
             [
              0.6666666666666666,
              "#ed7953"
             ],
             [
              0.7777777777777778,
              "#fb9f3a"
             ],
             [
              0.8888888888888888,
              "#fdca26"
             ],
             [
              1,
              "#f0f921"
             ]
            ],
            "type": "heatmapgl"
           }
          ],
          "histogram": [
           {
            "marker": {
             "pattern": {
              "fillmode": "overlay",
              "size": 10,
              "solidity": 0.2
             }
            },
            "type": "histogram"
           }
          ],
          "histogram2d": [
           {
            "colorbar": {
             "outlinewidth": 0,
             "ticks": ""
            },
            "colorscale": [
             [
              0,
              "#0d0887"
             ],
             [
              0.1111111111111111,
              "#46039f"
             ],
             [
              0.2222222222222222,
              "#7201a8"
             ],
             [
              0.3333333333333333,
              "#9c179e"
             ],
             [
              0.4444444444444444,
              "#bd3786"
             ],
             [
              0.5555555555555556,
              "#d8576b"
             ],
             [
              0.6666666666666666,
              "#ed7953"
             ],
             [
              0.7777777777777778,
              "#fb9f3a"
             ],
             [
              0.8888888888888888,
              "#fdca26"
             ],
             [
              1,
              "#f0f921"
             ]
            ],
            "type": "histogram2d"
           }
          ],
          "histogram2dcontour": [
           {
            "colorbar": {
             "outlinewidth": 0,
             "ticks": ""
            },
            "colorscale": [
             [
              0,
              "#0d0887"
             ],
             [
              0.1111111111111111,
              "#46039f"
             ],
             [
              0.2222222222222222,
              "#7201a8"
             ],
             [
              0.3333333333333333,
              "#9c179e"
             ],
             [
              0.4444444444444444,
              "#bd3786"
             ],
             [
              0.5555555555555556,
              "#d8576b"
             ],
             [
              0.6666666666666666,
              "#ed7953"
             ],
             [
              0.7777777777777778,
              "#fb9f3a"
             ],
             [
              0.8888888888888888,
              "#fdca26"
             ],
             [
              1,
              "#f0f921"
             ]
            ],
            "type": "histogram2dcontour"
           }
          ],
          "mesh3d": [
           {
            "colorbar": {
             "outlinewidth": 0,
             "ticks": ""
            },
            "type": "mesh3d"
           }
          ],
          "parcoords": [
           {
            "line": {
             "colorbar": {
              "outlinewidth": 0,
              "ticks": ""
             }
            },
            "type": "parcoords"
           }
          ],
          "pie": [
           {
            "automargin": true,
            "type": "pie"
           }
          ],
          "scatter": [
           {
            "fillpattern": {
             "fillmode": "overlay",
             "size": 10,
             "solidity": 0.2
            },
            "type": "scatter"
           }
          ],
          "scatter3d": [
           {
            "line": {
             "colorbar": {
              "outlinewidth": 0,
              "ticks": ""
             }
            },
            "marker": {
             "colorbar": {
              "outlinewidth": 0,
              "ticks": ""
             }
            },
            "type": "scatter3d"
           }
          ],
          "scattercarpet": [
           {
            "marker": {
             "colorbar": {
              "outlinewidth": 0,
              "ticks": ""
             }
            },
            "type": "scattercarpet"
           }
          ],
          "scattergeo": [
           {
            "marker": {
             "colorbar": {
              "outlinewidth": 0,
              "ticks": ""
             }
            },
            "type": "scattergeo"
           }
          ],
          "scattergl": [
           {
            "marker": {
             "colorbar": {
              "outlinewidth": 0,
              "ticks": ""
             }
            },
            "type": "scattergl"
           }
          ],
          "scattermapbox": [
           {
            "marker": {
             "colorbar": {
              "outlinewidth": 0,
              "ticks": ""
             }
            },
            "type": "scattermapbox"
           }
          ],
          "scatterpolar": [
           {
            "marker": {
             "colorbar": {
              "outlinewidth": 0,
              "ticks": ""
             }
            },
            "type": "scatterpolar"
           }
          ],
          "scatterpolargl": [
           {
            "marker": {
             "colorbar": {
              "outlinewidth": 0,
              "ticks": ""
             }
            },
            "type": "scatterpolargl"
           }
          ],
          "scatterternary": [
           {
            "marker": {
             "colorbar": {
              "outlinewidth": 0,
              "ticks": ""
             }
            },
            "type": "scatterternary"
           }
          ],
          "surface": [
           {
            "colorbar": {
             "outlinewidth": 0,
             "ticks": ""
            },
            "colorscale": [
             [
              0,
              "#0d0887"
             ],
             [
              0.1111111111111111,
              "#46039f"
             ],
             [
              0.2222222222222222,
              "#7201a8"
             ],
             [
              0.3333333333333333,
              "#9c179e"
             ],
             [
              0.4444444444444444,
              "#bd3786"
             ],
             [
              0.5555555555555556,
              "#d8576b"
             ],
             [
              0.6666666666666666,
              "#ed7953"
             ],
             [
              0.7777777777777778,
              "#fb9f3a"
             ],
             [
              0.8888888888888888,
              "#fdca26"
             ],
             [
              1,
              "#f0f921"
             ]
            ],
            "type": "surface"
           }
          ],
          "table": [
           {
            "cells": {
             "fill": {
              "color": "#EBF0F8"
             },
             "line": {
              "color": "white"
             }
            },
            "header": {
             "fill": {
              "color": "#C8D4E3"
             },
             "line": {
              "color": "white"
             }
            },
            "type": "table"
           }
          ]
         },
         "layout": {
          "annotationdefaults": {
           "arrowcolor": "#2a3f5f",
           "arrowhead": 0,
           "arrowwidth": 1
          },
          "autotypenumbers": "strict",
          "coloraxis": {
           "colorbar": {
            "outlinewidth": 0,
            "ticks": ""
           }
          },
          "colorscale": {
           "diverging": [
            [
             0,
             "#8e0152"
            ],
            [
             0.1,
             "#c51b7d"
            ],
            [
             0.2,
             "#de77ae"
            ],
            [
             0.3,
             "#f1b6da"
            ],
            [
             0.4,
             "#fde0ef"
            ],
            [
             0.5,
             "#f7f7f7"
            ],
            [
             0.6,
             "#e6f5d0"
            ],
            [
             0.7,
             "#b8e186"
            ],
            [
             0.8,
             "#7fbc41"
            ],
            [
             0.9,
             "#4d9221"
            ],
            [
             1,
             "#276419"
            ]
           ],
           "sequential": [
            [
             0,
             "#0d0887"
            ],
            [
             0.1111111111111111,
             "#46039f"
            ],
            [
             0.2222222222222222,
             "#7201a8"
            ],
            [
             0.3333333333333333,
             "#9c179e"
            ],
            [
             0.4444444444444444,
             "#bd3786"
            ],
            [
             0.5555555555555556,
             "#d8576b"
            ],
            [
             0.6666666666666666,
             "#ed7953"
            ],
            [
             0.7777777777777778,
             "#fb9f3a"
            ],
            [
             0.8888888888888888,
             "#fdca26"
            ],
            [
             1,
             "#f0f921"
            ]
           ],
           "sequentialminus": [
            [
             0,
             "#0d0887"
            ],
            [
             0.1111111111111111,
             "#46039f"
            ],
            [
             0.2222222222222222,
             "#7201a8"
            ],
            [
             0.3333333333333333,
             "#9c179e"
            ],
            [
             0.4444444444444444,
             "#bd3786"
            ],
            [
             0.5555555555555556,
             "#d8576b"
            ],
            [
             0.6666666666666666,
             "#ed7953"
            ],
            [
             0.7777777777777778,
             "#fb9f3a"
            ],
            [
             0.8888888888888888,
             "#fdca26"
            ],
            [
             1,
             "#f0f921"
            ]
           ]
          },
          "colorway": [
           "#636efa",
           "#EF553B",
           "#00cc96",
           "#ab63fa",
           "#FFA15A",
           "#19d3f3",
           "#FF6692",
           "#B6E880",
           "#FF97FF",
           "#FECB52"
          ],
          "font": {
           "color": "#2a3f5f"
          },
          "geo": {
           "bgcolor": "white",
           "lakecolor": "white",
           "landcolor": "#E5ECF6",
           "showlakes": true,
           "showland": true,
           "subunitcolor": "white"
          },
          "hoverlabel": {
           "align": "left"
          },
          "hovermode": "closest",
          "mapbox": {
           "style": "light"
          },
          "paper_bgcolor": "white",
          "plot_bgcolor": "#E5ECF6",
          "polar": {
           "angularaxis": {
            "gridcolor": "white",
            "linecolor": "white",
            "ticks": ""
           },
           "bgcolor": "#E5ECF6",
           "radialaxis": {
            "gridcolor": "white",
            "linecolor": "white",
            "ticks": ""
           }
          },
          "scene": {
           "xaxis": {
            "backgroundcolor": "#E5ECF6",
            "gridcolor": "white",
            "gridwidth": 2,
            "linecolor": "white",
            "showbackground": true,
            "ticks": "",
            "zerolinecolor": "white"
           },
           "yaxis": {
            "backgroundcolor": "#E5ECF6",
            "gridcolor": "white",
            "gridwidth": 2,
            "linecolor": "white",
            "showbackground": true,
            "ticks": "",
            "zerolinecolor": "white"
           },
           "zaxis": {
            "backgroundcolor": "#E5ECF6",
            "gridcolor": "white",
            "gridwidth": 2,
            "linecolor": "white",
            "showbackground": true,
            "ticks": "",
            "zerolinecolor": "white"
           }
          },
          "shapedefaults": {
           "line": {
            "color": "#2a3f5f"
           }
          },
          "ternary": {
           "aaxis": {
            "gridcolor": "white",
            "linecolor": "white",
            "ticks": ""
           },
           "baxis": {
            "gridcolor": "white",
            "linecolor": "white",
            "ticks": ""
           },
           "bgcolor": "#E5ECF6",
           "caxis": {
            "gridcolor": "white",
            "linecolor": "white",
            "ticks": ""
           }
          },
          "title": {
           "x": 0.05
          },
          "xaxis": {
           "automargin": true,
           "gridcolor": "white",
           "linecolor": "white",
           "ticks": "",
           "title": {
            "standoff": 15
           },
           "zerolinecolor": "white",
           "zerolinewidth": 2
          },
          "yaxis": {
           "automargin": true,
           "gridcolor": "white",
           "linecolor": "white",
           "ticks": "",
           "title": {
            "standoff": 15
           },
           "zerolinecolor": "white",
           "zerolinewidth": 2
          }
         }
        },
        "title": {
         "text": "Boxplot of the Target (JobSatisfaction) - With Outliers"
        },
        "xaxis": {
         "anchor": "y",
         "domain": [
          0,
          1
         ],
         "title": {
          "text": "JobSatisfaction"
         }
        },
        "yaxis": {
         "anchor": "x",
         "domain": [
          0,
          1
         ]
        }
       }
      }
     },
     "metadata": {},
     "output_type": "display_data"
    },
    {
     "data": {
      "application/vnd.plotly.v1+json": {
       "config": {
        "plotlyServerURL": "https://plot.ly"
       },
       "data": [
        {
         "alignmentgroup": "True",
         "hovertemplate": "WorkLifeBalance=%{x}<extra></extra>",
         "legendgroup": "",
         "marker": {
          "color": "#636efa"
         },
         "name": "",
         "notched": false,
         "offsetgroup": "",
         "orientation": "h",
         "showlegend": false,
         "type": "box",
         "x": [
          3,
          4,
          3,
          3.5,
          3,
          3.5,
          3,
          3.5,
          3.770770497920097,
          4,
          3.5,
          3.5,
          3,
          3.5,
          4,
          4,
          3.5,
          4.036633713584579,
          3.5,
          3.5,
          3.5,
          4,
          4,
          3.5,
          4,
          4.5,
          3.920726251668263,
          4,
          4,
          3,
          4,
          3.5,
          3.770770497920097,
          3.5,
          3,
          4.5,
          3.5,
          3,
          4.5,
          4,
          3.5,
          3,
          3.5,
          3.5,
          4,
          4,
          4,
          4.5,
          3.5,
          3,
          3,
          3.5,
          3.5,
          3,
          3.186398131468881,
          3.5,
          3,
          4,
          3,
          3.5,
          3.5,
          3.5,
          4.5,
          4,
          4,
          3.5,
          3.5,
          4.53039132337004,
          3.5,
          3.5,
          3.5,
          4,
          3.5,
          3.5,
          3.770770497920097,
          3.5,
          3,
          3.5,
          3.5,
          3.5,
          4,
          4.5,
          3.5,
          4,
          4.5,
          4.572294198545254,
          4,
          4.5,
          4,
          4,
          4,
          4.5,
          3.5,
          4.5,
          3,
          3,
          4.5,
          4,
          4,
          3.5,
          3,
          4.5,
          4,
          3,
          2.5,
          4,
          4,
          3.5,
          3.5,
          3.92746805070278,
          4,
          4.5,
          4,
          4,
          2.5,
          3.5,
          4,
          4,
          3.5,
          4.5,
          4,
          3,
          3.5,
          4.5,
          4,
          4,
          3.5,
          4,
          3.5,
          3.5,
          3.5,
          3.5,
          3.5,
          3,
          2.5,
          3.5,
          4,
          3.770770497920097,
          3,
          4,
          4,
          3.5,
          3.5,
          3.5,
          4,
          4,
          3.5,
          4,
          3.518910817899005,
          4.5,
          4.0664653896784895,
          4,
          4.5,
          3.5,
          4,
          3.5,
          4,
          3.5,
          3.5,
          3.5,
          3,
          4.5,
          4,
          3.770770497920097,
          3.5,
          3.5,
          4.5,
          4,
          4,
          4,
          3,
          4.5,
          4.5,
          3.5,
          4,
          3.5,
          3.5,
          3.5,
          4,
          4,
          3.629091835129724,
          4.5,
          4,
          4,
          3.5,
          3.5,
          4,
          4,
          3.5,
          3.770770497920097,
          3.5,
          3.5,
          4,
          3.060417422013291,
          3.5,
          4.5,
          3,
          3.5,
          3.5,
          3.5,
          4,
          4,
          4,
          3.5,
          3.770770497920097,
          4,
          3.5,
          4,
          3.5,
          5,
          4,
          3,
          4,
          3,
          5,
          3.824029910756975,
          4.5,
          2.4998518499176434,
          4,
          3.5,
          4,
          3.5,
          3.5,
          4,
          4,
          3.5,
          3,
          5,
          4,
          3.5,
          4,
          3,
          3.5,
          3.5,
          4,
          4,
          4,
          4,
          3.5,
          3,
          4.401159517359544,
          4,
          4,
          2.6146523121376357,
          3.5,
          5,
          4,
          4,
          3.5,
          4.5,
          4,
          4,
          3.5,
          4,
          3.346842219760238,
          4,
          4,
          4,
          3.5,
          3.5,
          4,
          3.5,
          3.340019036899836,
          4.490734563245563,
          3.5,
          3.5,
          3,
          3.5,
          3.5,
          4,
          3.5,
          4,
          4,
          3.5,
          3.5,
          3.5,
          3.5,
          4,
          4,
          3.5,
          3,
          3.5,
          4,
          4.5,
          4,
          4,
          4.5,
          4,
          4,
          4,
          4.5,
          4,
          4,
          4,
          4.5,
          4.5,
          3.5,
          3.5,
          3.5,
          4,
          4,
          3.5,
          4,
          3.5,
          3.5,
          3.5,
          3.819232221117932,
          4.105329603969764,
          3,
          4,
          4,
          3.770770497920097,
          3.5,
          4,
          3,
          3.5,
          3,
          2.5,
          3.5,
          3.5,
          3.5,
          3.5,
          4,
          3.5,
          3.5,
          3.5,
          4,
          4,
          4,
          3.6586697603676224,
          3.5,
          3.5,
          3.5,
          3.5,
          3,
          3.5,
          5,
          4,
          3.5,
          3.770770497920097,
          3,
          3.5,
          4,
          3.5,
          4,
          4,
          4,
          4,
          3.5,
          4,
          3,
          3.5,
          4,
          4,
          3.5,
          4.420985838557696,
          4,
          3,
          4,
          4.5,
          4.5,
          4,
          3.859858835739208,
          4,
          4,
          3,
          3,
          3.5,
          4,
          3,
          4,
          4,
          3.5,
          4,
          3.5,
          3.5,
          2.9459849407804675,
          4.10974417617866,
          3.5,
          4,
          4.5,
          4,
          3.5,
          3.5,
          3.5,
          3.5,
          3.770770497920097,
          4.185686894903624,
          3.5,
          3.5,
          5,
          4,
          4,
          3.770770497920097,
          4,
          3.5,
          4.5,
          4.5,
          4,
          3.5,
          3.5,
          3.5,
          4.5,
          3.5,
          4.5,
          4,
          3,
          3.5,
          3.5,
          4,
          4,
          4.5,
          3,
          3.5,
          3.5,
          4,
          3.770770497920097,
          4,
          3,
          3.639490664517047,
          3.5,
          3.770770497920097,
          4.5,
          4,
          3.5,
          3.5,
          4,
          3.5,
          3,
          3.483103779811108,
          3.5,
          2.5,
          3.5,
          5,
          3.5,
          3.770770497920097,
          4.5,
          3.768094682779767,
          4.5,
          3.1518006475240763,
          3.5,
          4,
          3.5,
          5,
          3.5,
          4,
          3.770770497920097,
          3.5,
          3.5,
          5,
          4.573435518471285,
          4,
          4,
          4,
          4,
          3.770770497920097,
          3.770770497920097,
          3,
          4,
          3.5,
          3.7910240237968216,
          4,
          3.5,
          4,
          4,
          4,
          3.5,
          4,
          3,
          4,
          3.5,
          4.5,
          4.588632810944823,
          4,
          3.5,
          4,
          3.5,
          4.549235743482336,
          3.922565011657649,
          3.5,
          4,
          3.5,
          4.5,
          3.5,
          4,
          4.0744719946538615,
          4,
          3.5,
          4,
          4,
          3.4533885749946056,
          3.819437341706173,
          3.5,
          4,
          4.5,
          3,
          3,
          4,
          4,
          4.5,
          3.770770497920097,
          3.5,
          3,
          4,
          4,
          4.5,
          3.5,
          3.5,
          4,
          3.9631849766988463,
          3.5,
          2.5,
          3.5,
          3,
          4,
          3.5,
          4,
          3.5,
          4,
          4,
          4,
          3.832455589941599,
          5,
          3.5,
          3.5,
          3.5,
          4,
          3,
          4,
          4,
          3.5,
          3.6094536807681097,
          3.5,
          3.770770497920097,
          3.5,
          4.5,
          3.5,
          3.0617214748480976,
          4.231299304060358,
          3.5,
          2.5,
          3.5,
          3,
          3.5,
          3.5,
          4,
          3.5,
          2.991769732878176,
          2.734140385417529,
          4,
          4.199543995751577,
          4,
          4,
          3.749282167269019,
          4,
          4,
          3.5,
          4,
          4,
          3,
          3.770770497920097,
          4,
          4,
          4,
          4.5,
          4,
          3,
          4.072036384484818,
          3.5,
          3,
          3,
          4,
          4,
          3,
          4.5,
          4,
          4,
          4.5,
          3.348779419840621,
          4,
          4.268599319467835,
          4,
          4,
          4,
          4,
          4,
          4,
          3,
          4,
          3,
          3.5,
          4.5,
          4,
          4,
          4.5,
          4.5,
          3.5,
          3.5,
          4,
          4,
          3.5,
          4,
          3.770770497920097,
          4,
          4.5,
          4,
          3.770770497920097,
          3.5,
          4,
          3,
          4,
          3,
          4.5,
          2,
          3.5,
          3.5,
          3.5,
          3.5,
          3.5,
          3.5,
          4.5,
          4,
          4,
          3.5,
          5,
          4,
          4,
          4,
          3,
          4.079655242855192,
          4,
          4.5,
          3.5,
          4,
          4.5,
          4.5,
          4,
          4,
          3.770770497920097,
          4,
          4.5,
          4,
          4,
          3.5,
          4.5,
          4.277739238417162,
          3.5,
          3.5,
          3.5,
          4,
          3,
          4.5,
          4.5,
          3.5,
          4.5,
          4,
          3.5,
          4,
          4.5,
          4,
          3.5,
          4.5,
          3.5,
          3,
          4.5,
          4,
          4,
          2.5,
          4,
          3.5,
          4,
          4.5,
          3.5,
          3.5103908807216126,
          3.336763980777054,
          3.5,
          4.5,
          4,
          3.5,
          3,
          3.5,
          3.5,
          4,
          3.5,
          3.5,
          3,
          3.5151885048099585,
          4,
          3.5,
          4,
          4,
          4,
          3,
          4.5,
          3.5,
          4.5,
          4,
          3.5,
          4,
          4,
          5,
          4,
          3.5,
          3.5,
          4.5,
          3.5,
          4,
          3,
          4,
          3.956864584477703,
          4.5,
          4.5,
          4,
          3.5,
          4,
          4,
          3.578044487074578,
          4,
          3.5,
          3.5,
          4,
          3.5,
          3.5,
          4.5,
          4,
          4,
          3.5,
          3.5,
          3.5,
          4,
          4.5,
          4,
          5,
          3.5,
          3.5,
          3.5,
          4,
          4.009951270157803,
          4,
          3.5,
          3.5,
          3.814811400571842,
          3,
          4.5,
          3.5,
          3.5,
          4,
          3.5,
          3.5,
          3,
          4,
          4.5,
          4,
          3.5,
          4,
          3,
          4.859526443524588,
          3.5,
          3.5,
          3,
          4,
          3.5,
          3.5,
          3,
          3.5,
          3.770770497920097,
          4,
          4,
          4,
          4.5,
          3.0808062787089043,
          3,
          3.854185497900121,
          3.5,
          4.5,
          3.770770497920097,
          3.5,
          3.5,
          4,
          3.5,
          3,
          3.5,
          3.7666767419592655,
          3.5,
          4,
          4,
          3,
          3,
          3.5,
          3.5,
          4,
          2.840206901311719,
          4,
          4,
          3.5,
          3.5,
          4,
          3.5,
          3.5,
          4,
          3.5,
          4,
          4,
          4,
          4,
          4.5,
          3.5,
          4,
          3.5,
          4,
          3.7946234067375615,
          4,
          3,
          4,
          3,
          3.5,
          4,
          3,
          4,
          4.5,
          3.5,
          3,
          4,
          4,
          4.5,
          3.5,
          4.5,
          4,
          4,
          4,
          4.5,
          3.5,
          3.5,
          3.5,
          4.5,
          4,
          4,
          3.876567148311009,
          2.5,
          3.5,
          4,
          4,
          4.356252186325421,
          4,
          3.5,
          4,
          3,
          3.5,
          3.5,
          3.5,
          4,
          3.5,
          4,
          5,
          3,
          3.5,
          3.5,
          4,
          3.5,
          3.5,
          3.5,
          4,
          3,
          4,
          4,
          4,
          3.552094195057474,
          4.5,
          3.5,
          4,
          3.5,
          4,
          4,
          4.922936456568026,
          3.5,
          4,
          3.5,
          4,
          3.5,
          3,
          3.5,
          4,
          4,
          3.5,
          4.5,
          3.5,
          4,
          3.5,
          3.5,
          4,
          3.5,
          3.5,
          3.5,
          4,
          4.5,
          3.5,
          4,
          3.5,
          4,
          2.313906858536217,
          4,
          3,
          4,
          3.5,
          4,
          3.5,
          3.5,
          3,
          4.93717195434281,
          3,
          4,
          3.5,
          4,
          4,
          3.5,
          3,
          3.5,
          4.5,
          4,
          2.7184050432935822,
          4,
          3,
          4,
          4.5,
          3,
          3.5,
          3,
          4,
          4,
          4.5,
          3.5,
          3.5,
          4,
          4.5,
          4,
          4.712463872976045,
          4.321076231953992,
          3.091971976609776,
          3,
          3.5,
          4.5,
          3.5,
          4,
          4,
          4.5,
          3.878870918422301,
          4.5,
          4,
          4,
          3.5,
          3.5,
          3.5,
          3.5,
          4,
          4,
          4,
          3.5,
          4.435139636752119,
          3.5,
          3.5,
          4,
          4,
          3.5,
          3.5,
          3.5,
          4.205656938408453,
          4.5,
          3.5,
          4,
          3.5,
          4.5,
          4,
          4,
          3.5,
          3,
          4,
          4.5,
          3.5,
          4,
          3.173058936492291,
          4,
          4,
          4,
          3,
          4,
          3,
          5,
          4,
          4,
          4.5,
          3.5,
          3.5,
          5,
          3.5,
          3.5,
          4.5,
          4,
          4,
          4.5,
          3.5,
          3.5,
          4,
          3.5,
          4,
          3.620773334145144,
          3.5,
          3.5,
          4,
          3.5,
          3.5,
          4,
          3.5,
          4,
          3.5,
          4,
          3.5,
          4,
          4,
          2.7029185801177977,
          4,
          3.5,
          3.5,
          4.5,
          3,
          3.5,
          3,
          3.5,
          3.770770497920097,
          4,
          3.5,
          3.5,
          4,
          4,
          3.5,
          4,
          4,
          3.5,
          4,
          3,
          4.5,
          3.5,
          3.5,
          3.5,
          4,
          4.5,
          3.5,
          4,
          4,
          4,
          4.5,
          4,
          3.5,
          4,
          3.5,
          3.5,
          4,
          4,
          3.5,
          3,
          4,
          3.5,
          4,
          4.5,
          4,
          3,
          3.5,
          3.5,
          4,
          3.5,
          3.239611034947861,
          4,
          3.9414205955877217,
          3,
          3,
          3,
          4,
          3.5,
          4,
          3.5,
          3.5,
          3.5,
          3.5,
          3.5,
          4,
          3.5,
          3.5,
          4.5,
          3.5,
          2.5,
          4,
          3.5,
          3.5,
          4,
          4.673389971641681,
          3.5,
          4,
          3.5,
          3.5,
          3.5,
          4,
          3.5,
          4.5,
          4.5,
          3,
          4.5,
          3.5,
          3.5,
          4.4959821178484605,
          3.5,
          3.5,
          3.5,
          4,
          4,
          3.5,
          4,
          3.5,
          4,
          3.231848754255778,
          3,
          4,
          3.5,
          3.5,
          4.933899165485029,
          3.5,
          4.142501164187526,
          4,
          4,
          3,
          4,
          3.5,
          3.4043017882519964,
          3.5,
          4.5,
          3.5,
          4.616617906518009,
          4,
          5,
          4,
          4,
          3.5,
          3.5,
          4,
          4,
          4.608253591148777,
          3,
          4.5,
          3.5,
          5,
          3,
          4,
          4,
          3.5,
          2.5,
          3.5,
          4,
          5,
          4.5,
          3.5,
          3.5,
          3.5,
          4,
          4,
          4.5,
          3,
          4,
          4,
          3,
          3.5,
          3.5,
          4,
          3,
          4,
          3.5,
          4.5,
          3.770770497920097,
          4,
          4.5,
          5,
          3.5,
          3.5,
          3.5,
          3.5,
          4,
          4.5,
          4.5,
          4,
          3.5,
          4,
          4,
          4,
          3.5,
          4,
          4,
          3.5,
          4,
          4,
          4.109718302397472,
          4,
          4.5,
          3.5,
          2.9601345088302167,
          3.5,
          3.110313254276761,
          3.426451452454994,
          3,
          4,
          4,
          3,
          4,
          3,
          3.5,
          4,
          3,
          4,
          4,
          2.5,
          4.393665929176404,
          3,
          4.5,
          4,
          4,
          3,
          3.5,
          3.5,
          4.5,
          3.5,
          4,
          3.5,
          4,
          4,
          4,
          4,
          3.69705377892139,
          3.5,
          4,
          2.6884201072847427,
          4,
          4,
          4,
          4,
          3.5,
          4,
          4,
          3.5,
          4,
          4.5,
          3,
          4,
          4,
          3.5,
          3.5,
          4,
          3.5,
          4.5,
          4,
          3.5,
          4,
          4,
          4,
          4,
          3.5,
          4.5,
          4.5,
          3.5,
          4,
          3.5,
          4,
          3,
          3.5,
          3.1508370571727133,
          4,
          3.5,
          4,
          4,
          3.5,
          3.5,
          3.5,
          4.5,
          3,
          3,
          4,
          4,
          4,
          3.5,
          4,
          4,
          4,
          3.5,
          3.5,
          3.5,
          4.5,
          4,
          3,
          4,
          4,
          3,
          3,
          3,
          3.5,
          4,
          5,
          4,
          4,
          3.5,
          3.5,
          3.965729109431903,
          4,
          4,
          4.401650726806012,
          4.5,
          4.5,
          4.5,
          4.5,
          4,
          4,
          4,
          4.5,
          4.5,
          4,
          3.5,
          3.304541227920009,
          3.5,
          4.5,
          3,
          3.5,
          3.5,
          4.5,
          3.5,
          2.969472174526718,
          4,
          4,
          3.5,
          3.5,
          3.5,
          3.4929306747328903,
          5,
          4.5,
          3,
          4,
          4,
          4.5,
          3,
          4,
          3,
          3,
          4,
          3,
          4,
          4,
          4,
          4,
          4,
          4,
          5,
          3.5,
          3.5,
          3,
          4,
          5,
          3.5,
          3.5,
          4,
          3,
          4,
          3.5,
          4.5,
          4.5,
          4,
          4.5,
          2.5,
          4.330398870196174,
          4,
          3.5,
          4,
          5,
          4,
          4.5,
          3.5,
          3.5,
          4,
          4,
          3.5,
          4.69680306654301,
          3.5,
          4.470355605934101,
          3,
          4.5,
          4,
          3.5,
          4.5,
          4.5,
          3.5,
          4,
          3,
          4,
          3.5,
          3,
          3.5,
          3,
          4.5,
          4,
          3.5,
          3.5,
          3.5,
          4,
          4,
          3.5,
          4.5,
          3.5,
          4,
          4,
          3.5,
          3.5,
          3.5,
          3.5,
          3.0942140155846776,
          3.5,
          4.5,
          4.5,
          4,
          3.5,
          3,
          3.5,
          3.5,
          4,
          3,
          3,
          3.720025306077119,
          3.5,
          4,
          4,
          4.5,
          4.5,
          3.5,
          3.5,
          3.5,
          3.5,
          4.5,
          3.5,
          3.403948335712011,
          4,
          3.770770497920097,
          4,
          3.5,
          3.5,
          2.5,
          4.385882724980879,
          3.5,
          3,
          4,
          3,
          4.5,
          3,
          3.5,
          5,
          3.5,
          4,
          3.5,
          3.5,
          3.5,
          3.5,
          4,
          3.5,
          4,
          4,
          4,
          4,
          4.5,
          3.5,
          3.5,
          4,
          3.5,
          3.5,
          4.5,
          4.5,
          3.5,
          4,
          3,
          3.3708626796970806,
          4,
          2.5,
          3.5,
          3,
          4,
          4,
          3,
          4,
          4,
          4,
          3.5,
          3.242616775019633,
          3.5,
          4.5,
          4.267098776452156,
          3.990622162962498,
          4.5,
          3.5,
          3.4955496296888624,
          3,
          3,
          3.5,
          3,
          4,
          4.5,
          4,
          4,
          3.5,
          3.5,
          3.5,
          4,
          3.5,
          3.5,
          4,
          4,
          4,
          4,
          3.5,
          4.5,
          4,
          4.5,
          3.7177831963808767,
          4,
          4.5,
          4,
          4,
          3.5,
          4,
          3.5,
          4,
          3.5,
          3.5,
          4,
          4,
          4,
          3.5,
          4,
          4,
          4,
          4,
          3.5,
          4.029173640075932,
          3,
          5
         ],
         "x0": " ",
         "xaxis": "x",
         "y0": " ",
         "yaxis": "y"
        }
       ],
       "layout": {
        "boxmode": "group",
        "legend": {
         "tracegroupgap": 0
        },
        "template": {
         "data": {
          "bar": [
           {
            "error_x": {
             "color": "#2a3f5f"
            },
            "error_y": {
             "color": "#2a3f5f"
            },
            "marker": {
             "line": {
              "color": "#E5ECF6",
              "width": 0.5
             },
             "pattern": {
              "fillmode": "overlay",
              "size": 10,
              "solidity": 0.2
             }
            },
            "type": "bar"
           }
          ],
          "barpolar": [
           {
            "marker": {
             "line": {
              "color": "#E5ECF6",
              "width": 0.5
             },
             "pattern": {
              "fillmode": "overlay",
              "size": 10,
              "solidity": 0.2
             }
            },
            "type": "barpolar"
           }
          ],
          "carpet": [
           {
            "aaxis": {
             "endlinecolor": "#2a3f5f",
             "gridcolor": "white",
             "linecolor": "white",
             "minorgridcolor": "white",
             "startlinecolor": "#2a3f5f"
            },
            "baxis": {
             "endlinecolor": "#2a3f5f",
             "gridcolor": "white",
             "linecolor": "white",
             "minorgridcolor": "white",
             "startlinecolor": "#2a3f5f"
            },
            "type": "carpet"
           }
          ],
          "choropleth": [
           {
            "colorbar": {
             "outlinewidth": 0,
             "ticks": ""
            },
            "type": "choropleth"
           }
          ],
          "contour": [
           {
            "colorbar": {
             "outlinewidth": 0,
             "ticks": ""
            },
            "colorscale": [
             [
              0,
              "#0d0887"
             ],
             [
              0.1111111111111111,
              "#46039f"
             ],
             [
              0.2222222222222222,
              "#7201a8"
             ],
             [
              0.3333333333333333,
              "#9c179e"
             ],
             [
              0.4444444444444444,
              "#bd3786"
             ],
             [
              0.5555555555555556,
              "#d8576b"
             ],
             [
              0.6666666666666666,
              "#ed7953"
             ],
             [
              0.7777777777777778,
              "#fb9f3a"
             ],
             [
              0.8888888888888888,
              "#fdca26"
             ],
             [
              1,
              "#f0f921"
             ]
            ],
            "type": "contour"
           }
          ],
          "contourcarpet": [
           {
            "colorbar": {
             "outlinewidth": 0,
             "ticks": ""
            },
            "type": "contourcarpet"
           }
          ],
          "heatmap": [
           {
            "colorbar": {
             "outlinewidth": 0,
             "ticks": ""
            },
            "colorscale": [
             [
              0,
              "#0d0887"
             ],
             [
              0.1111111111111111,
              "#46039f"
             ],
             [
              0.2222222222222222,
              "#7201a8"
             ],
             [
              0.3333333333333333,
              "#9c179e"
             ],
             [
              0.4444444444444444,
              "#bd3786"
             ],
             [
              0.5555555555555556,
              "#d8576b"
             ],
             [
              0.6666666666666666,
              "#ed7953"
             ],
             [
              0.7777777777777778,
              "#fb9f3a"
             ],
             [
              0.8888888888888888,
              "#fdca26"
             ],
             [
              1,
              "#f0f921"
             ]
            ],
            "type": "heatmap"
           }
          ],
          "heatmapgl": [
           {
            "colorbar": {
             "outlinewidth": 0,
             "ticks": ""
            },
            "colorscale": [
             [
              0,
              "#0d0887"
             ],
             [
              0.1111111111111111,
              "#46039f"
             ],
             [
              0.2222222222222222,
              "#7201a8"
             ],
             [
              0.3333333333333333,
              "#9c179e"
             ],
             [
              0.4444444444444444,
              "#bd3786"
             ],
             [
              0.5555555555555556,
              "#d8576b"
             ],
             [
              0.6666666666666666,
              "#ed7953"
             ],
             [
              0.7777777777777778,
              "#fb9f3a"
             ],
             [
              0.8888888888888888,
              "#fdca26"
             ],
             [
              1,
              "#f0f921"
             ]
            ],
            "type": "heatmapgl"
           }
          ],
          "histogram": [
           {
            "marker": {
             "pattern": {
              "fillmode": "overlay",
              "size": 10,
              "solidity": 0.2
             }
            },
            "type": "histogram"
           }
          ],
          "histogram2d": [
           {
            "colorbar": {
             "outlinewidth": 0,
             "ticks": ""
            },
            "colorscale": [
             [
              0,
              "#0d0887"
             ],
             [
              0.1111111111111111,
              "#46039f"
             ],
             [
              0.2222222222222222,
              "#7201a8"
             ],
             [
              0.3333333333333333,
              "#9c179e"
             ],
             [
              0.4444444444444444,
              "#bd3786"
             ],
             [
              0.5555555555555556,
              "#d8576b"
             ],
             [
              0.6666666666666666,
              "#ed7953"
             ],
             [
              0.7777777777777778,
              "#fb9f3a"
             ],
             [
              0.8888888888888888,
              "#fdca26"
             ],
             [
              1,
              "#f0f921"
             ]
            ],
            "type": "histogram2d"
           }
          ],
          "histogram2dcontour": [
           {
            "colorbar": {
             "outlinewidth": 0,
             "ticks": ""
            },
            "colorscale": [
             [
              0,
              "#0d0887"
             ],
             [
              0.1111111111111111,
              "#46039f"
             ],
             [
              0.2222222222222222,
              "#7201a8"
             ],
             [
              0.3333333333333333,
              "#9c179e"
             ],
             [
              0.4444444444444444,
              "#bd3786"
             ],
             [
              0.5555555555555556,
              "#d8576b"
             ],
             [
              0.6666666666666666,
              "#ed7953"
             ],
             [
              0.7777777777777778,
              "#fb9f3a"
             ],
             [
              0.8888888888888888,
              "#fdca26"
             ],
             [
              1,
              "#f0f921"
             ]
            ],
            "type": "histogram2dcontour"
           }
          ],
          "mesh3d": [
           {
            "colorbar": {
             "outlinewidth": 0,
             "ticks": ""
            },
            "type": "mesh3d"
           }
          ],
          "parcoords": [
           {
            "line": {
             "colorbar": {
              "outlinewidth": 0,
              "ticks": ""
             }
            },
            "type": "parcoords"
           }
          ],
          "pie": [
           {
            "automargin": true,
            "type": "pie"
           }
          ],
          "scatter": [
           {
            "fillpattern": {
             "fillmode": "overlay",
             "size": 10,
             "solidity": 0.2
            },
            "type": "scatter"
           }
          ],
          "scatter3d": [
           {
            "line": {
             "colorbar": {
              "outlinewidth": 0,
              "ticks": ""
             }
            },
            "marker": {
             "colorbar": {
              "outlinewidth": 0,
              "ticks": ""
             }
            },
            "type": "scatter3d"
           }
          ],
          "scattercarpet": [
           {
            "marker": {
             "colorbar": {
              "outlinewidth": 0,
              "ticks": ""
             }
            },
            "type": "scattercarpet"
           }
          ],
          "scattergeo": [
           {
            "marker": {
             "colorbar": {
              "outlinewidth": 0,
              "ticks": ""
             }
            },
            "type": "scattergeo"
           }
          ],
          "scattergl": [
           {
            "marker": {
             "colorbar": {
              "outlinewidth": 0,
              "ticks": ""
             }
            },
            "type": "scattergl"
           }
          ],
          "scattermapbox": [
           {
            "marker": {
             "colorbar": {
              "outlinewidth": 0,
              "ticks": ""
             }
            },
            "type": "scattermapbox"
           }
          ],
          "scatterpolar": [
           {
            "marker": {
             "colorbar": {
              "outlinewidth": 0,
              "ticks": ""
             }
            },
            "type": "scatterpolar"
           }
          ],
          "scatterpolargl": [
           {
            "marker": {
             "colorbar": {
              "outlinewidth": 0,
              "ticks": ""
             }
            },
            "type": "scatterpolargl"
           }
          ],
          "scatterternary": [
           {
            "marker": {
             "colorbar": {
              "outlinewidth": 0,
              "ticks": ""
             }
            },
            "type": "scatterternary"
           }
          ],
          "surface": [
           {
            "colorbar": {
             "outlinewidth": 0,
             "ticks": ""
            },
            "colorscale": [
             [
              0,
              "#0d0887"
             ],
             [
              0.1111111111111111,
              "#46039f"
             ],
             [
              0.2222222222222222,
              "#7201a8"
             ],
             [
              0.3333333333333333,
              "#9c179e"
             ],
             [
              0.4444444444444444,
              "#bd3786"
             ],
             [
              0.5555555555555556,
              "#d8576b"
             ],
             [
              0.6666666666666666,
              "#ed7953"
             ],
             [
              0.7777777777777778,
              "#fb9f3a"
             ],
             [
              0.8888888888888888,
              "#fdca26"
             ],
             [
              1,
              "#f0f921"
             ]
            ],
            "type": "surface"
           }
          ],
          "table": [
           {
            "cells": {
             "fill": {
              "color": "#EBF0F8"
             },
             "line": {
              "color": "white"
             }
            },
            "header": {
             "fill": {
              "color": "#C8D4E3"
             },
             "line": {
              "color": "white"
             }
            },
            "type": "table"
           }
          ]
         },
         "layout": {
          "annotationdefaults": {
           "arrowcolor": "#2a3f5f",
           "arrowhead": 0,
           "arrowwidth": 1
          },
          "autotypenumbers": "strict",
          "coloraxis": {
           "colorbar": {
            "outlinewidth": 0,
            "ticks": ""
           }
          },
          "colorscale": {
           "diverging": [
            [
             0,
             "#8e0152"
            ],
            [
             0.1,
             "#c51b7d"
            ],
            [
             0.2,
             "#de77ae"
            ],
            [
             0.3,
             "#f1b6da"
            ],
            [
             0.4,
             "#fde0ef"
            ],
            [
             0.5,
             "#f7f7f7"
            ],
            [
             0.6,
             "#e6f5d0"
            ],
            [
             0.7,
             "#b8e186"
            ],
            [
             0.8,
             "#7fbc41"
            ],
            [
             0.9,
             "#4d9221"
            ],
            [
             1,
             "#276419"
            ]
           ],
           "sequential": [
            [
             0,
             "#0d0887"
            ],
            [
             0.1111111111111111,
             "#46039f"
            ],
            [
             0.2222222222222222,
             "#7201a8"
            ],
            [
             0.3333333333333333,
             "#9c179e"
            ],
            [
             0.4444444444444444,
             "#bd3786"
            ],
            [
             0.5555555555555556,
             "#d8576b"
            ],
            [
             0.6666666666666666,
             "#ed7953"
            ],
            [
             0.7777777777777778,
             "#fb9f3a"
            ],
            [
             0.8888888888888888,
             "#fdca26"
            ],
            [
             1,
             "#f0f921"
            ]
           ],
           "sequentialminus": [
            [
             0,
             "#0d0887"
            ],
            [
             0.1111111111111111,
             "#46039f"
            ],
            [
             0.2222222222222222,
             "#7201a8"
            ],
            [
             0.3333333333333333,
             "#9c179e"
            ],
            [
             0.4444444444444444,
             "#bd3786"
            ],
            [
             0.5555555555555556,
             "#d8576b"
            ],
            [
             0.6666666666666666,
             "#ed7953"
            ],
            [
             0.7777777777777778,
             "#fb9f3a"
            ],
            [
             0.8888888888888888,
             "#fdca26"
            ],
            [
             1,
             "#f0f921"
            ]
           ]
          },
          "colorway": [
           "#636efa",
           "#EF553B",
           "#00cc96",
           "#ab63fa",
           "#FFA15A",
           "#19d3f3",
           "#FF6692",
           "#B6E880",
           "#FF97FF",
           "#FECB52"
          ],
          "font": {
           "color": "#2a3f5f"
          },
          "geo": {
           "bgcolor": "white",
           "lakecolor": "white",
           "landcolor": "#E5ECF6",
           "showlakes": true,
           "showland": true,
           "subunitcolor": "white"
          },
          "hoverlabel": {
           "align": "left"
          },
          "hovermode": "closest",
          "mapbox": {
           "style": "light"
          },
          "paper_bgcolor": "white",
          "plot_bgcolor": "#E5ECF6",
          "polar": {
           "angularaxis": {
            "gridcolor": "white",
            "linecolor": "white",
            "ticks": ""
           },
           "bgcolor": "#E5ECF6",
           "radialaxis": {
            "gridcolor": "white",
            "linecolor": "white",
            "ticks": ""
           }
          },
          "scene": {
           "xaxis": {
            "backgroundcolor": "#E5ECF6",
            "gridcolor": "white",
            "gridwidth": 2,
            "linecolor": "white",
            "showbackground": true,
            "ticks": "",
            "zerolinecolor": "white"
           },
           "yaxis": {
            "backgroundcolor": "#E5ECF6",
            "gridcolor": "white",
            "gridwidth": 2,
            "linecolor": "white",
            "showbackground": true,
            "ticks": "",
            "zerolinecolor": "white"
           },
           "zaxis": {
            "backgroundcolor": "#E5ECF6",
            "gridcolor": "white",
            "gridwidth": 2,
            "linecolor": "white",
            "showbackground": true,
            "ticks": "",
            "zerolinecolor": "white"
           }
          },
          "shapedefaults": {
           "line": {
            "color": "#2a3f5f"
           }
          },
          "ternary": {
           "aaxis": {
            "gridcolor": "white",
            "linecolor": "white",
            "ticks": ""
           },
           "baxis": {
            "gridcolor": "white",
            "linecolor": "white",
            "ticks": ""
           },
           "bgcolor": "#E5ECF6",
           "caxis": {
            "gridcolor": "white",
            "linecolor": "white",
            "ticks": ""
           }
          },
          "title": {
           "x": 0.05
          },
          "xaxis": {
           "automargin": true,
           "gridcolor": "white",
           "linecolor": "white",
           "ticks": "",
           "title": {
            "standoff": 15
           },
           "zerolinecolor": "white",
           "zerolinewidth": 2
          },
          "yaxis": {
           "automargin": true,
           "gridcolor": "white",
           "linecolor": "white",
           "ticks": "",
           "title": {
            "standoff": 15
           },
           "zerolinecolor": "white",
           "zerolinewidth": 2
          }
         }
        },
        "title": {
         "text": "Boxplot of the Target (WorkLifeBalance) - With Outliers"
        },
        "xaxis": {
         "anchor": "y",
         "domain": [
          0,
          1
         ],
         "title": {
          "text": "WorkLifeBalance"
         }
        },
        "yaxis": {
         "anchor": "x",
         "domain": [
          0,
          1
         ]
        }
       }
      }
     },
     "metadata": {},
     "output_type": "display_data"
    },
    {
     "data": {
      "application/vnd.plotly.v1+json": {
       "config": {
        "plotlyServerURL": "https://plot.ly"
       },
       "data": [
        {
         "alignmentgroup": "True",
         "hovertemplate": "PerformanceRating=%{x}<extra></extra>",
         "legendgroup": "",
         "marker": {
          "color": "#636efa"
         },
         "name": "",
         "notched": false,
         "offsetgroup": "",
         "orientation": "h",
         "showlegend": false,
         "type": "box",
         "x": [
          3,
          3.6666666666666665,
          3.6666666666666665,
          3.6666666666666665,
          3.333333333333333,
          3.6666666666666665,
          3.6666666666666665,
          3.333333333333333,
          3.333333333333333,
          3.6666666666666665,
          3.6666666666666665,
          3.333333333333333,
          3.333333333333333,
          3.333333333333333,
          3.333333333333333,
          3,
          3.6666666666666665,
          3.14297977302147,
          3.333333333333333,
          3,
          3,
          3.6666666666666665,
          3.6666666666666665,
          4,
          3.6666666666666665,
          4,
          3.351795257684092,
          3.6666666666666665,
          3.6666666666666665,
          3.6666666666666665,
          3.333333333333333,
          3.333333333333333,
          3.6666666666666665,
          4,
          3.6666666666666665,
          4.333333333333333,
          3.333333333333333,
          3,
          4,
          3.333333333333333,
          3,
          3,
          3.6666666666666665,
          3,
          3.6666666666666665,
          3.6666666666666665,
          3.333333333333333,
          3.6666666666666665,
          3.333333333333333,
          3.6666666666666665,
          3.333333333333333,
          3.333333333333333,
          3.6666666666666665,
          3.333333333333333,
          4.175277940544083,
          3.333333333333333,
          3.333333333333333,
          3.6666666666666665,
          2.6666666666666665,
          3.6666666666666665,
          3.333333333333333,
          3,
          4.333333333333333,
          3,
          3.6666666666666665,
          3.333333333333333,
          3,
          2.785148997771336,
          2.6666666666666665,
          3.333333333333333,
          3.6666666666666665,
          4.333333333333333,
          3.333333333333333,
          2.6666666666666665,
          3.6666666666666665,
          4,
          3.333333333333333,
          3.333333333333333,
          3,
          4,
          3,
          4.333333333333333,
          3.333333333333333,
          3.6666666666666665,
          4,
          4.440581931944117,
          3.6666666666666665,
          3,
          4,
          3.333333333333333,
          3.6666666666666665,
          3.6666666666666665,
          3.333333333333333,
          3,
          3.333333333333333,
          3.6666666666666665,
          3.6666666666666665,
          3.6666666666666665,
          3.6666666666666665,
          3,
          3,
          3.6666666666666665,
          3.6666666666666665,
          3,
          2,
          3.333333333333333,
          3.6666666666666665,
          3.333333333333333,
          3,
          2.7672788904397323,
          3.333333333333333,
          4,
          4.333333333333333,
          3.333333333333333,
          3.333333333333333,
          3,
          3.6666666666666665,
          3.333333333333333,
          4,
          4,
          3.6666666666666665,
          3.493309951707513,
          3.6666666666666665,
          4,
          4,
          3.333333333333333,
          4,
          3.6666666666666665,
          4.333333333333333,
          3.333333333333333,
          3.6666666666666665,
          3.6666666666666665,
          3.333333333333333,
          3.333333333333333,
          2.6666666666666665,
          3.333333333333333,
          4,
          3.333333333333333,
          3,
          3.6666666666666665,
          3,
          3,
          3.6666666666666665,
          3.333333333333333,
          3.333333333333333,
          4,
          3.6666666666666665,
          4,
          3.38608155452864,
          3.6666666666666665,
          4.037931621821137,
          4,
          3.333333333333333,
          3.6666666666666665,
          3.6666666666666665,
          2.6666666666666665,
          3.6666666666666665,
          3.333333333333333,
          4,
          4.333333333333333,
          3.6666666666666665,
          4,
          4,
          3.6666666666666665,
          3.6666666666666665,
          3.333333333333333,
          3.6666666666666665,
          3.6666666666666665,
          4,
          3.333333333333333,
          3.333333333333333,
          4,
          4,
          4,
          4,
          3.333333333333333,
          3.6666666666666665,
          3.333333333333333,
          3,
          4,
          3.56070629836796,
          3.333333333333333,
          3,
          4,
          3.6666666666666665,
          3.333333333333333,
          3.6666666666666665,
          3.6666666666666665,
          3.333333333333333,
          3.6666666666666665,
          3.6666666666666665,
          3.6666666666666665,
          4,
          3.363288821487856,
          3,
          3.333333333333333,
          3,
          3.6666666666666665,
          3.6666666666666665,
          4,
          4,
          3.333333333333333,
          3.6666666666666665,
          3,
          3,
          3.6666666666666665,
          3.333333333333333,
          3,
          3.333333333333333,
          4,
          3.333333333333333,
          3.6666666666666665,
          3.6666666666666665,
          3,
          3.6666666666666665,
          3.309257925252168,
          3.6666666666666665,
          3.0635136015112177,
          3.333333333333333,
          3,
          3.6666666666666665,
          3.333333333333333,
          3.333333333333333,
          3.333333333333333,
          4,
          3.6666666666666665,
          3.333333333333333,
          3.6666666666666665,
          3.6666666666666665,
          3.333333333333333,
          3.6666666666666665,
          3.333333333333333,
          3.333333333333333,
          3.6666666666666665,
          4,
          3.333333333333333,
          3.333333333333333,
          3.6666666666666665,
          3.333333333333333,
          3,
          3.096173236098731,
          3.6666666666666665,
          3,
          4.105904160087386,
          4,
          4,
          3.333333333333333,
          4,
          3,
          4,
          3.6666666666666665,
          3.333333333333333,
          3,
          3.333333333333333,
          3.510620326358342,
          4,
          3.6666666666666665,
          4,
          3,
          3,
          4.333333333333333,
          3.6666666666666665,
          3.3517893694577983,
          3.126393214600764,
          3.6666666666666665,
          3.6666666666666665,
          3.6666666666666665,
          3.6666666666666665,
          3.6666666666666665,
          3.6666666666666665,
          3.6666666666666665,
          3.6666666666666665,
          4.333333333333333,
          3.333333333333333,
          3.333333333333333,
          3.333333333333333,
          2.6666666666666665,
          3.6666666666666665,
          3.6666666666666665,
          3.6666666666666665,
          3.6666666666666665,
          3.333333333333333,
          4,
          4.333333333333333,
          3,
          3.6666666666666665,
          3.6666666666666665,
          3.333333333333333,
          3,
          3.6666666666666665,
          3,
          3.333333333333333,
          3.6666666666666665,
          4.333333333333333,
          3,
          4,
          3,
          3.333333333333333,
          3.333333333333333,
          3.333333333333333,
          3.333333333333333,
          3.333333333333333,
          3.333333333333333,
          3.6666666666666665,
          4,
          3.6666666666666665,
          1.6398339485866704,
          2.367224339830792,
          3.333333333333333,
          3.333333333333333,
          3.333333333333333,
          3,
          3.333333333333333,
          3.333333333333333,
          3,
          4,
          2.6666666666666665,
          2.6666666666666665,
          3,
          2.6666666666666665,
          3.333333333333333,
          3.6666666666666665,
          3.6666666666666665,
          3,
          3.6666666666666665,
          3.6666666666666665,
          3.6666666666666665,
          4,
          4.333333333333333,
          3.4600279487641896,
          4,
          3.333333333333333,
          3.333333333333333,
          4,
          3,
          3,
          4.333333333333333,
          3.6666666666666665,
          3,
          3.333333333333333,
          3.6666666666666665,
          3.333333333333333,
          4,
          3.333333333333333,
          3.6666666666666665,
          3.333333333333333,
          3.6666666666666665,
          3.6666666666666665,
          3,
          3.333333333333333,
          2.6666666666666665,
          4,
          3.6666666666666665,
          3.6666666666666665,
          2.6666666666666665,
          3.280939942195684,
          3.6666666666666665,
          3.6666666666666665,
          3.6666666666666665,
          3,
          3.6666666666666665,
          3.333333333333333,
          3.879783716583804,
          4,
          3.333333333333333,
          2.6666666666666665,
          2.6666666666666665,
          3,
          4,
          3,
          4,
          3.333333333333333,
          3.333333333333333,
          4,
          3.6666666666666665,
          4,
          1.9338742317133435,
          3.1533387183348776,
          2.6666666666666665,
          3,
          3.6666666666666665,
          3.6666666666666665,
          3,
          3.333333333333333,
          3.6666666666666665,
          3.333333333333333,
          3.333333333333333,
          3.456459417296697,
          3.6666666666666665,
          3.6666666666666665,
          2.688648073686828,
          3.6666666666666665,
          4.333333333333333,
          3.6666666666666665,
          3.6666666666666665,
          3.6666666666666665,
          4,
          3.333333333333333,
          3.333333333333333,
          3,
          3.6666666666666665,
          3.333333333333333,
          3.333333333333333,
          4,
          4,
          3.6666666666666665,
          3.333333333333333,
          2.6666666666666665,
          3.333333333333333,
          3.333333333333333,
          4,
          4.333333333333333,
          3,
          3.333333333333333,
          3.333333333333333,
          4,
          3.6724393281526138,
          3.333333333333333,
          3.333333333333333,
          3.218029073839053,
          4,
          3.6666666666666665,
          3.6666666666666665,
          4,
          3.333333333333333,
          4,
          4,
          3.6666666666666665,
          3,
          3.705439311195708,
          3.333333333333333,
          2.333333333333333,
          3,
          3.6386614591126474,
          3.333333333333333,
          3.6666666666666665,
          3.333333333333333,
          4.948214487841232,
          3.6666666666666665,
          3.406672434395471,
          3,
          3,
          3.6666666666666665,
          4.666666666666667,
          3,
          3.6666666666666665,
          3.6666666666666665,
          3.6666666666666665,
          3,
          4,
          3.358910862565238,
          3.6666666666666665,
          3.6666666666666665,
          3.333333333333333,
          3,
          3.333333333333333,
          4,
          3.333333333333333,
          4,
          3.333333333333333,
          3.818271501986687,
          3,
          3.6666666666666665,
          3.6666666666666665,
          4,
          3.333333333333333,
          3.6666666666666665,
          4.333333333333333,
          3.333333333333333,
          3.333333333333333,
          3.333333333333333,
          3.6666666666666665,
          2.569362739955456,
          3.6666666666666665,
          3,
          3,
          3.333333333333333,
          4.602173911799578,
          4.137730062131408,
          3.333333333333333,
          3.333333333333333,
          3.333333333333333,
          3.6666666666666665,
          3.333333333333333,
          3.6666666666666665,
          4.406148538450602,
          4,
          4,
          3.6666666666666665,
          3.333333333333333,
          3.333897031879044,
          3.430920168377403,
          3.333333333333333,
          3.6666666666666665,
          3.6666666666666665,
          3,
          3,
          3.6666666666666665,
          3.333333333333333,
          3,
          4,
          3,
          3.6666666666666665,
          4,
          3.6666666666666665,
          4.666666666666667,
          3.333333333333333,
          4.333333333333333,
          3.6666666666666665,
          3.598524726508965,
          3.6666666666666665,
          3,
          3.333333333333333,
          3,
          3.6666666666666665,
          4,
          3.333333333333333,
          3,
          3.333333333333333,
          3.333333333333333,
          3.6666666666666665,
          3.594976558062513,
          4,
          3,
          3.6666666666666665,
          3.6666666666666665,
          3.333333333333333,
          3.333333333333333,
          3.6666666666666665,
          3.333333333333333,
          2.333333333333333,
          4.908175797046646,
          3.333333333333333,
          3.333333333333333,
          3.333333333333333,
          3.6666666666666665,
          4.333333333333333,
          3.012119187388565,
          3.889683585405231,
          3.6666666666666665,
          3,
          3.6666666666666665,
          3,
          3.6666666666666665,
          3.333333333333333,
          3.333333333333333,
          3.6666666666666665,
          2.982973104394775,
          2.7662803257000395,
          3.6666666666666665,
          4.1137257732422965,
          3.333333333333333,
          4,
          3.257361763339542,
          3.6666666666666665,
          3.493309951707513,
          3,
          3,
          3.6666666666666665,
          3,
          3.333333333333333,
          3.333333333333333,
          4,
          3.333333333333333,
          3.6666666666666665,
          3.6666666666666665,
          3.6666666666666665,
          3.906081862050073,
          3.6666666666666665,
          2.6666666666666665,
          3.333333333333333,
          3.6666666666666665,
          3.6666666666666665,
          3,
          4,
          3.6666666666666665,
          3.333333333333333,
          3.6666666666666665,
          4.046868118404338,
          3.6666666666666665,
          4.04265552529516,
          3.6666666666666665,
          4,
          3.6666666666666665,
          3,
          3,
          3,
          3.333333333333333,
          4,
          4,
          3,
          4.333333333333333,
          4,
          3.6666666666666665,
          3.6666666666666665,
          3.6666666666666665,
          3,
          3.6666666666666665,
          3.333333333333333,
          4,
          3.333333333333333,
          3.333333333333333,
          3.333333333333333,
          3.6666666666666665,
          3.333333333333333,
          3.6666666666666665,
          4,
          3.6666666666666665,
          3.6666666666666665,
          2.6666666666666665,
          3.333333333333333,
          3,
          4,
          3,
          3.333333333333333,
          4,
          3.6666666666666665,
          3.333333333333333,
          3.6666666666666665,
          2.6666666666666665,
          4,
          4,
          4,
          3,
          4,
          3.333333333333333,
          3.6666666666666665,
          4,
          3.333333333333333,
          2.598118625750768,
          3.333333333333333,
          4,
          4,
          3.6666666666666665,
          4,
          4.333333333333333,
          3.333333333333333,
          3.6666666666666665,
          3,
          3.6666666666666665,
          4.333333333333333,
          4,
          3.333333333333333,
          3.333333333333333,
          3.333333333333333,
          3.9891903219094496,
          3.333333333333333,
          2.6666666666666665,
          3.6666666666666665,
          3.6666666666666665,
          3,
          4,
          3.6666666666666665,
          3,
          3.333333333333333,
          3.333333333333333,
          3.333333333333333,
          3.333333333333333,
          3,
          3.333333333333333,
          3.333333333333333,
          3.333333333333333,
          3,
          3.333333333333333,
          3.6666666666666665,
          4,
          3,
          3.333333333333333,
          4,
          3.333333333333333,
          3.6666666666666665,
          4.333333333333333,
          3.333333333333333,
          2.650891969327191,
          3.041031991738231,
          3,
          3.6666666666666665,
          3.6666666666666665,
          3.333333333333333,
          3,
          3.6666666666666665,
          3.6666666666666665,
          3.6666666666666665,
          3,
          3.333333333333333,
          3.333333333333333,
          3.9445524625528954,
          2.6666666666666665,
          3.6666666666666665,
          3.6666666666666665,
          3.6666666666666665,
          4,
          3.6666666666666665,
          3.6666666666666665,
          3,
          4,
          4,
          3.333333333333333,
          3.6666666666666665,
          4,
          4,
          3.333333333333333,
          3.6666666666666665,
          3.333333333333333,
          3.333333333333333,
          3.333333333333333,
          3.333333333333333,
          3.333333333333333,
          3.6666666666666665,
          2.8350835024117247,
          4,
          3.6666666666666665,
          3.6666666666666665,
          3.333333333333333,
          3.6666666666666665,
          3.333333333333333,
          3.106655780955279,
          3,
          3.6666666666666665,
          4,
          3.6666666666666665,
          4,
          3.6666666666666665,
          4,
          3.6666666666666665,
          3.333333333333333,
          3.333333333333333,
          3.333333333333333,
          4,
          3.333333333333333,
          4,
          3.6666666666666665,
          4.333333333333333,
          3.6666666666666665,
          3,
          3.333333333333333,
          3.6666666666666665,
          4.0968725742045375,
          3.6666666666666665,
          4,
          3.6666666666666665,
          2.6373546739546363,
          4.333333333333333,
          3.6666666666666665,
          3.6666666666666665,
          3.6666666666666665,
          3.333333333333333,
          3,
          3.333333333333333,
          4,
          3.6666666666666665,
          3.6666666666666665,
          3.6666666666666665,
          3.333333333333333,
          3.6666666666666665,
          3,
          2.7258959867630908,
          3.333333333333333,
          3.6666666666666665,
          3,
          3.333333333333333,
          3.333333333333333,
          3,
          3.333333333333333,
          3.6666666666666665,
          3.6666666666666665,
          3.6666666666666665,
          3.333333333333333,
          4,
          3.6666666666666665,
          2.8534957488912838,
          3,
          3.176438877054923,
          3,
          4,
          3,
          3.333333333333333,
          4,
          3.333333333333333,
          3,
          2.6666666666666665,
          3.333333333333333,
          3.7659553919991327,
          3,
          3,
          3.333333333333333,
          3.333333333333333,
          3,
          3.6666666666666665,
          3,
          4,
          3.19874386431427,
          3.6666666666666665,
          4,
          3.6666666666666665,
          3,
          3.6666666666666665,
          3.333333333333333,
          3.333333333333333,
          3.333333333333333,
          3.333333333333333,
          3.333333333333333,
          4,
          3.333333333333333,
          3.6666666666666665,
          4,
          3,
          4,
          3,
          3.6666666666666665,
          2.918492713965878,
          3.333333333333333,
          3.333333333333333,
          3,
          3.333333333333333,
          3.333333333333333,
          3,
          4,
          3.333333333333333,
          3.333333333333333,
          3.333333333333333,
          3,
          3.333333333333333,
          4,
          4.333333333333333,
          3,
          4.333333333333333,
          3.6666666666666665,
          3,
          3,
          4,
          3.333333333333333,
          3.333333333333333,
          3.6666666666666665,
          4,
          3.6666666666666665,
          3.333333333333333,
          3.760919873644019,
          3,
          3.6666666666666665,
          4,
          3.333333333333333,
          2.959851895031827,
          3.333333333333333,
          3.6666666666666665,
          3.6666666666666665,
          2.6666666666666665,
          3,
          3,
          3.333333333333333,
          4,
          3.6666666666666665,
          3,
          4,
          3,
          3.6666666666666665,
          3.6666666666666665,
          3.6666666666666665,
          3.6666666666666665,
          3,
          3,
          3.333333333333333,
          4,
          4,
          3.6666666666666665,
          4,
          3.072083636608068,
          3.6666666666666665,
          3.6666666666666665,
          4,
          3.6666666666666665,
          3.333333333333333,
          4,
          3.1437988299954007,
          3.333333333333333,
          3.333333333333333,
          3.333333333333333,
          3.333333333333333,
          3.6666666666666665,
          3.333333333333333,
          3.6666666666666665,
          3.333333333333333,
          3.6666666666666665,
          3.6666666666666665,
          4,
          3.333333333333333,
          3.333333333333333,
          3.333333333333333,
          3.6666666666666665,
          3.333333333333333,
          3.333333333333333,
          2.6666666666666665,
          3,
          3.6666666666666665,
          4,
          3,
          4,
          3.333333333333333,
          3.333333333333333,
          3.23696640781767,
          3.493309951707513,
          3.333333333333333,
          3.333333333333333,
          3.6666666666666665,
          4,
          3.6666666666666665,
          3.333333333333333,
          4,
          4.0602697970900845,
          3.333333333333333,
          3.6666666666666665,
          3,
          3.6666666666666665,
          3.333333333333333,
          3.6666666666666665,
          3,
          3.333333333333333,
          4.333333333333333,
          3.6666666666666665,
          4.406849641169334,
          4,
          3.333333333333333,
          3.333333333333333,
          4.333333333333333,
          3.333333333333333,
          3,
          3,
          3.6666666666666665,
          3.333333333333333,
          3.6666666666666665,
          3,
          3.333333333333333,
          3.6666666666666665,
          3,
          3.333333333333333,
          4.904118959769639,
          2.933349724141244,
          3.830275529833397,
          3,
          3.6666666666666665,
          4,
          3.333333333333333,
          4,
          3.6666666666666665,
          4,
          3.49260268030374,
          4.333333333333333,
          3.333333333333333,
          4.333333333333333,
          3,
          3,
          3,
          3.6666666666666665,
          3.6666666666666665,
          4,
          3.6666666666666665,
          3.333333333333333,
          3.516650846028964,
          3.333333333333333,
          3.6666666666666665,
          3,
          3.6666666666666665,
          3,
          3,
          4.333333333333333,
          1.7342544897278818,
          3.333333333333333,
          3.333333333333333,
          3.6666666666666665,
          3,
          3.6666666666666665,
          4,
          3,
          3,
          3,
          3.6666666666666665,
          3,
          3.6666666666666665,
          3.333333333333333,
          4.366345348169602,
          3.6666666666666665,
          3.6666666666666665,
          3.6666666666666665,
          3,
          3.333333333333333,
          3.6666666666666665,
          4.117167251237995,
          4,
          3.333333333333333,
          3.333333333333333,
          3.333333333333333,
          3.6666666666666665,
          3.6666666666666665,
          3.333333333333333,
          3.6666666666666665,
          3.6666666666666665,
          3,
          4,
          4,
          3.6666666666666665,
          3.6666666666666665,
          3.6666666666666665,
          4,
          4,
          3.473177138926875,
          3,
          3.6666666666666665,
          3.6666666666666665,
          3.6666666666666665,
          3.333333333333333,
          3,
          3,
          4,
          3.333333333333333,
          3.333333333333333,
          4,
          3.333333333333333,
          2.6666666666666665,
          3.2421128113291924,
          3.6666666666666665,
          3.333333333333333,
          3.333333333333333,
          4,
          3.333333333333333,
          3.333333333333333,
          2.6666666666666665,
          3.6666666666666665,
          3.6666666666666665,
          3.333333333333333,
          2.6666666666666665,
          3.6666666666666665,
          3.6666666666666665,
          4,
          3.6666666666666665,
          3.6666666666666665,
          3.333333333333333,
          3,
          3.333333333333333,
          2.6666666666666665,
          3.6666666666666665,
          3.333333333333333,
          3.6666666666666665,
          3.333333333333333,
          3,
          4,
          3.493309951707513,
          3.6666666666666665,
          3,
          3.333333333333333,
          2.6666666666666665,
          3.6666666666666665,
          3.333333333333333,
          3.6666666666666665,
          4,
          3.6666666666666665,
          3,
          3.6666666666666665,
          3,
          3.6666666666666665,
          3.6666666666666665,
          3.333333333333333,
          3.6666666666666665,
          4,
          3,
          3,
          3.6666666666666665,
          3.333333333333333,
          4,
          3.6666666666666665,
          3.493309951707513,
          3.6666666666666665,
          4.361325313771836,
          2.6666666666666665,
          3.333333333333333,
          3.333333333333333,
          4,
          3.6666666666666665,
          3.333333333333333,
          4,
          3,
          3.333333333333333,
          2.6666666666666665,
          3.333333333333333,
          3.6666666666666665,
          3.6666666666666665,
          3,
          3.6666666666666665,
          3.333333333333333,
          2.333333333333333,
          3.333333333333333,
          3,
          3.6666666666666665,
          3.333333333333333,
          3.035979073313408,
          3.333333333333333,
          3.6666666666666665,
          4,
          3.333333333333333,
          3.6666666666666665,
          3.6666666666666665,
          3,
          4,
          3.6666666666666665,
          3.333333333333333,
          3.333333333333333,
          3.6666666666666665,
          3.333333333333333,
          3.4229357686891397,
          2.6666666666666665,
          2.6666666666666665,
          4,
          3.333333333333333,
          3.6666666666666665,
          3.6666666666666665,
          4,
          3.6666666666666665,
          4,
          2.9818663001765406,
          3.6666666666666665,
          3.333333333333333,
          3.6666666666666665,
          4,
          3.8896542112885366,
          3.333333333333333,
          3.8728568288312406,
          3.333333333333333,
          3.333333333333333,
          3.333333333333333,
          3.333333333333333,
          3.333333333333333,
          2.6823572167315466,
          3.6666666666666665,
          3.6666666666666665,
          2.6666666666666665,
          2.8947541273640005,
          3.333333333333333,
          5,
          3,
          3,
          3,
          3,
          3.333333333333333,
          3.333333333333333,
          2.5504122215602893,
          2.6666666666666665,
          3,
          3.333333333333333,
          4.333333333333333,
          3,
          3.333333333333333,
          3.6666666666666665,
          4,
          2.6666666666666665,
          3.333333333333333,
          4,
          3.6666666666666665,
          4,
          3.6666666666666665,
          3.333333333333333,
          3.333333333333333,
          4,
          3.6666666666666665,
          4.333333333333333,
          3.333333333333333,
          4,
          4,
          3,
          3.6666666666666665,
          3.333333333333333,
          4,
          3.333333333333333,
          3,
          3.493309951707513,
          3.333333333333333,
          3.9145592411993873,
          4,
          3.6666666666666665,
          3.333333333333333,
          3.333333333333333,
          3.6666666666666665,
          3.333333333333333,
          3.6666666666666665,
          3.333333333333333,
          4,
          3.6666666666666665,
          3.333333333333333,
          3.6666666666666665,
          3.333333333333333,
          3,
          3.6666666666666665,
          4,
          3.6666666666666665,
          3.6666666666666665,
          3.333333333333333,
          3.333333333333333,
          3.333333333333333,
          4.583912159964839,
          3.333333333333333,
          3.333333333333333,
          3.6666666666666665,
          3.536933211307417,
          3,
          4.035162726697791,
          3.494848916603541,
          3.6666666666666665,
          3.333333333333333,
          3.6666666666666665,
          3.333333333333333,
          4,
          3,
          3.333333333333333,
          3.6666666666666665,
          2.6666666666666665,
          3.6666666666666665,
          3.333333333333333,
          3.333333333333333,
          4.506030020145347,
          3,
          3.6666666666666665,
          3.333333333333333,
          3.333333333333333,
          3.333333333333333,
          3.333333333333333,
          3.333333333333333,
          3.6666666666666665,
          4,
          4,
          3,
          3.6666666666666665,
          3,
          4.333333333333333,
          4,
          3.6569416030298574,
          3.333333333333333,
          4,
          2.477679296485983,
          3.333333333333333,
          3.333333333333333,
          3.6666666666666665,
          3.333333333333333,
          3,
          3.333333333333333,
          3.333333333333333,
          3.333333333333333,
          3.333333333333333,
          3.6666666666666665,
          3,
          3.6666666666666665,
          3.6666666666666665,
          3.333333333333333,
          3,
          4,
          3,
          3.6666666666666665,
          3.333333333333333,
          3.333333333333333,
          3.6666666666666665,
          3.333333333333333,
          3.6666666666666665,
          3.6666666666666665,
          3,
          3,
          3.333333333333333,
          3,
          3.333333333333333,
          3.333333333333333,
          3.333333333333333,
          3.6666666666666665,
          3.6666666666666665,
          3.0878620185280554,
          3.333333333333333,
          4,
          3.6666666666666665,
          3.6666666666666665,
          3,
          3.333333333333333,
          3.333333333333333,
          4.333333333333333,
          3.6666666666666665,
          3,
          3.6666666666666665,
          3.333333333333333,
          3.6666666666666665,
          3,
          3.6666666666666665,
          3,
          3.6666666666666665,
          3,
          4,
          3.333333333333333,
          4,
          3.6666666666666665,
          3,
          3.6666666666666665,
          4,
          2.6666666666666665,
          3.333333333333333,
          3.333333333333333,
          3.333333333333333,
          3.493309951707513,
          4,
          4,
          3.6666666666666665,
          3.333333333333333,
          3.6666666666666665,
          4.199703321879571,
          3,
          3.333333333333333,
          3.2024334031624795,
          3.6666666666666665,
          4.666666666666667,
          3.6666666666666665,
          3.6666666666666665,
          3.333333333333333,
          3.6666666666666665,
          3.333333333333333,
          3.333333333333333,
          3.6666666666666665,
          3.6666666666666665,
          3,
          3.276131828649804,
          3.333333333333333,
          3.6666666666666665,
          3.333333333333333,
          3.333333333333333,
          3.333333333333333,
          3.6666666666666665,
          3.333333333333333,
          3.6171233094404016,
          4,
          3.6666666666666665,
          3.333333333333333,
          3.6666666666666665,
          3.333333333333333,
          3.438497326765797,
          3.6666666666666665,
          3.6666666666666665,
          3.333333333333333,
          2.6666666666666665,
          3.6666666666666665,
          3,
          3.6666666666666665,
          3.6666666666666665,
          3,
          3.333333333333333,
          3.6666666666666665,
          4,
          3,
          4,
          3.333333333333333,
          3.333333333333333,
          3.333333333333333,
          3.333333333333333,
          4,
          3.333333333333333,
          4,
          4,
          3.333333333333333,
          4.333333333333333,
          3,
          3,
          3,
          3,
          4,
          4,
          3.333333333333333,
          4,
          3.6666666666666665,
          3,
          3.6666666666666665,
          3.857905801394075,
          4,
          3.333333333333333,
          3.6666666666666665,
          3.6666666666666665,
          4,
          4.333333333333333,
          3.6666666666666665,
          3.333333333333333,
          4,
          3.6666666666666665,
          4,
          2.93516118211773,
          3,
          4.275552875407402,
          2.6666666666666665,
          3.333333333333333,
          4.333333333333333,
          3.6666666666666665,
          4,
          4,
          4.333333333333333,
          3.333333333333333,
          3.333333333333333,
          4,
          2.6666666666666665,
          3,
          3.333333333333333,
          3.6666666666666665,
          3.333333333333333,
          3,
          3,
          3.6666666666666665,
          3.6666666666666665,
          3.333333333333333,
          4,
          3.333333333333333,
          3,
          3.6666666666666665,
          3.6666666666666665,
          3.6666666666666665,
          3.333333333333333,
          3.333333333333333,
          3,
          3,
          3.905607721570552,
          3.6666666666666665,
          4,
          4,
          3.333333333333333,
          3,
          3.333333333333333,
          3.333333333333333,
          3.333333333333333,
          4.333333333333333,
          3.6666666666666665,
          3,
          2.9458043436551824,
          3.333333333333333,
          3.333333333333333,
          4,
          4.666666666666667,
          3.6666666666666665,
          3.6666666666666665,
          4,
          3.333333333333333,
          3,
          4,
          3.6666666666666665,
          3.5523335355517016,
          3.6666666666666665,
          3.6666666666666665,
          3.333333333333333,
          4,
          3.6666666666666665,
          2.333333333333333,
          2.925238799512417,
          3.333333333333333,
          3.333333333333333,
          3.6666666666666665,
          3.333333333333333,
          3.6666666666666665,
          3,
          3.6666666666666665,
          3.6666666666666665,
          3.333333333333333,
          3.333333333333333,
          4,
          3.6666666666666665,
          3.333333333333333,
          3,
          4.333333333333333,
          2.6666666666666665,
          4.333333333333333,
          3.333333333333333,
          3.6666666666666665,
          3.333333333333333,
          4.333333333333333,
          3.6666666666666665,
          3,
          3.6666666666666665,
          3.6666666666666665,
          3.333333333333333,
          3.6666666666666665,
          4,
          3.333333333333333,
          4,
          3.6666666666666665,
          3.363094669193502,
          3,
          3.333333333333333,
          3.333333333333333,
          2.6666666666666665,
          3,
          3.333333333333333,
          3.333333333333333,
          4,
          3.6666666666666665,
          3.6666666666666665,
          3,
          3.5176408638668213,
          3.333333333333333,
          4.333333333333333,
          2.6252272609202465,
          2.947704048155809,
          3.6666666666666665,
          3.333333333333333,
          2.473695734405907,
          3.333333333333333,
          3.333333333333333,
          3,
          3.6666666666666665,
          4,
          4,
          3.333333333333333,
          3.333333333333333,
          3.6666666666666665,
          3.333333333333333,
          3,
          3.333333333333333,
          3,
          3,
          4,
          4,
          3.333333333333333,
          3.333333333333333,
          3.333333333333333,
          3.6666666666666665,
          3.6666666666666665,
          3.6666666666666665,
          3.337657047101526,
          3.6666666666666665,
          4,
          2.6666666666666665,
          3.333333333333333,
          3,
          4,
          3.6666666666666665,
          3,
          3.6666666666666665,
          3.333333333333333,
          3.333333333333333,
          3.6666666666666665,
          3.6666666666666665,
          3.6666666666666665,
          3.333333333333333,
          4,
          4,
          4,
          3.6666666666666665,
          3.819578352284419,
          3,
          3.2645376322415958
         ],
         "x0": " ",
         "xaxis": "x",
         "y0": " ",
         "yaxis": "y"
        }
       ],
       "layout": {
        "boxmode": "group",
        "legend": {
         "tracegroupgap": 0
        },
        "template": {
         "data": {
          "bar": [
           {
            "error_x": {
             "color": "#2a3f5f"
            },
            "error_y": {
             "color": "#2a3f5f"
            },
            "marker": {
             "line": {
              "color": "#E5ECF6",
              "width": 0.5
             },
             "pattern": {
              "fillmode": "overlay",
              "size": 10,
              "solidity": 0.2
             }
            },
            "type": "bar"
           }
          ],
          "barpolar": [
           {
            "marker": {
             "line": {
              "color": "#E5ECF6",
              "width": 0.5
             },
             "pattern": {
              "fillmode": "overlay",
              "size": 10,
              "solidity": 0.2
             }
            },
            "type": "barpolar"
           }
          ],
          "carpet": [
           {
            "aaxis": {
             "endlinecolor": "#2a3f5f",
             "gridcolor": "white",
             "linecolor": "white",
             "minorgridcolor": "white",
             "startlinecolor": "#2a3f5f"
            },
            "baxis": {
             "endlinecolor": "#2a3f5f",
             "gridcolor": "white",
             "linecolor": "white",
             "minorgridcolor": "white",
             "startlinecolor": "#2a3f5f"
            },
            "type": "carpet"
           }
          ],
          "choropleth": [
           {
            "colorbar": {
             "outlinewidth": 0,
             "ticks": ""
            },
            "type": "choropleth"
           }
          ],
          "contour": [
           {
            "colorbar": {
             "outlinewidth": 0,
             "ticks": ""
            },
            "colorscale": [
             [
              0,
              "#0d0887"
             ],
             [
              0.1111111111111111,
              "#46039f"
             ],
             [
              0.2222222222222222,
              "#7201a8"
             ],
             [
              0.3333333333333333,
              "#9c179e"
             ],
             [
              0.4444444444444444,
              "#bd3786"
             ],
             [
              0.5555555555555556,
              "#d8576b"
             ],
             [
              0.6666666666666666,
              "#ed7953"
             ],
             [
              0.7777777777777778,
              "#fb9f3a"
             ],
             [
              0.8888888888888888,
              "#fdca26"
             ],
             [
              1,
              "#f0f921"
             ]
            ],
            "type": "contour"
           }
          ],
          "contourcarpet": [
           {
            "colorbar": {
             "outlinewidth": 0,
             "ticks": ""
            },
            "type": "contourcarpet"
           }
          ],
          "heatmap": [
           {
            "colorbar": {
             "outlinewidth": 0,
             "ticks": ""
            },
            "colorscale": [
             [
              0,
              "#0d0887"
             ],
             [
              0.1111111111111111,
              "#46039f"
             ],
             [
              0.2222222222222222,
              "#7201a8"
             ],
             [
              0.3333333333333333,
              "#9c179e"
             ],
             [
              0.4444444444444444,
              "#bd3786"
             ],
             [
              0.5555555555555556,
              "#d8576b"
             ],
             [
              0.6666666666666666,
              "#ed7953"
             ],
             [
              0.7777777777777778,
              "#fb9f3a"
             ],
             [
              0.8888888888888888,
              "#fdca26"
             ],
             [
              1,
              "#f0f921"
             ]
            ],
            "type": "heatmap"
           }
          ],
          "heatmapgl": [
           {
            "colorbar": {
             "outlinewidth": 0,
             "ticks": ""
            },
            "colorscale": [
             [
              0,
              "#0d0887"
             ],
             [
              0.1111111111111111,
              "#46039f"
             ],
             [
              0.2222222222222222,
              "#7201a8"
             ],
             [
              0.3333333333333333,
              "#9c179e"
             ],
             [
              0.4444444444444444,
              "#bd3786"
             ],
             [
              0.5555555555555556,
              "#d8576b"
             ],
             [
              0.6666666666666666,
              "#ed7953"
             ],
             [
              0.7777777777777778,
              "#fb9f3a"
             ],
             [
              0.8888888888888888,
              "#fdca26"
             ],
             [
              1,
              "#f0f921"
             ]
            ],
            "type": "heatmapgl"
           }
          ],
          "histogram": [
           {
            "marker": {
             "pattern": {
              "fillmode": "overlay",
              "size": 10,
              "solidity": 0.2
             }
            },
            "type": "histogram"
           }
          ],
          "histogram2d": [
           {
            "colorbar": {
             "outlinewidth": 0,
             "ticks": ""
            },
            "colorscale": [
             [
              0,
              "#0d0887"
             ],
             [
              0.1111111111111111,
              "#46039f"
             ],
             [
              0.2222222222222222,
              "#7201a8"
             ],
             [
              0.3333333333333333,
              "#9c179e"
             ],
             [
              0.4444444444444444,
              "#bd3786"
             ],
             [
              0.5555555555555556,
              "#d8576b"
             ],
             [
              0.6666666666666666,
              "#ed7953"
             ],
             [
              0.7777777777777778,
              "#fb9f3a"
             ],
             [
              0.8888888888888888,
              "#fdca26"
             ],
             [
              1,
              "#f0f921"
             ]
            ],
            "type": "histogram2d"
           }
          ],
          "histogram2dcontour": [
           {
            "colorbar": {
             "outlinewidth": 0,
             "ticks": ""
            },
            "colorscale": [
             [
              0,
              "#0d0887"
             ],
             [
              0.1111111111111111,
              "#46039f"
             ],
             [
              0.2222222222222222,
              "#7201a8"
             ],
             [
              0.3333333333333333,
              "#9c179e"
             ],
             [
              0.4444444444444444,
              "#bd3786"
             ],
             [
              0.5555555555555556,
              "#d8576b"
             ],
             [
              0.6666666666666666,
              "#ed7953"
             ],
             [
              0.7777777777777778,
              "#fb9f3a"
             ],
             [
              0.8888888888888888,
              "#fdca26"
             ],
             [
              1,
              "#f0f921"
             ]
            ],
            "type": "histogram2dcontour"
           }
          ],
          "mesh3d": [
           {
            "colorbar": {
             "outlinewidth": 0,
             "ticks": ""
            },
            "type": "mesh3d"
           }
          ],
          "parcoords": [
           {
            "line": {
             "colorbar": {
              "outlinewidth": 0,
              "ticks": ""
             }
            },
            "type": "parcoords"
           }
          ],
          "pie": [
           {
            "automargin": true,
            "type": "pie"
           }
          ],
          "scatter": [
           {
            "fillpattern": {
             "fillmode": "overlay",
             "size": 10,
             "solidity": 0.2
            },
            "type": "scatter"
           }
          ],
          "scatter3d": [
           {
            "line": {
             "colorbar": {
              "outlinewidth": 0,
              "ticks": ""
             }
            },
            "marker": {
             "colorbar": {
              "outlinewidth": 0,
              "ticks": ""
             }
            },
            "type": "scatter3d"
           }
          ],
          "scattercarpet": [
           {
            "marker": {
             "colorbar": {
              "outlinewidth": 0,
              "ticks": ""
             }
            },
            "type": "scattercarpet"
           }
          ],
          "scattergeo": [
           {
            "marker": {
             "colorbar": {
              "outlinewidth": 0,
              "ticks": ""
             }
            },
            "type": "scattergeo"
           }
          ],
          "scattergl": [
           {
            "marker": {
             "colorbar": {
              "outlinewidth": 0,
              "ticks": ""
             }
            },
            "type": "scattergl"
           }
          ],
          "scattermapbox": [
           {
            "marker": {
             "colorbar": {
              "outlinewidth": 0,
              "ticks": ""
             }
            },
            "type": "scattermapbox"
           }
          ],
          "scatterpolar": [
           {
            "marker": {
             "colorbar": {
              "outlinewidth": 0,
              "ticks": ""
             }
            },
            "type": "scatterpolar"
           }
          ],
          "scatterpolargl": [
           {
            "marker": {
             "colorbar": {
              "outlinewidth": 0,
              "ticks": ""
             }
            },
            "type": "scatterpolargl"
           }
          ],
          "scatterternary": [
           {
            "marker": {
             "colorbar": {
              "outlinewidth": 0,
              "ticks": ""
             }
            },
            "type": "scatterternary"
           }
          ],
          "surface": [
           {
            "colorbar": {
             "outlinewidth": 0,
             "ticks": ""
            },
            "colorscale": [
             [
              0,
              "#0d0887"
             ],
             [
              0.1111111111111111,
              "#46039f"
             ],
             [
              0.2222222222222222,
              "#7201a8"
             ],
             [
              0.3333333333333333,
              "#9c179e"
             ],
             [
              0.4444444444444444,
              "#bd3786"
             ],
             [
              0.5555555555555556,
              "#d8576b"
             ],
             [
              0.6666666666666666,
              "#ed7953"
             ],
             [
              0.7777777777777778,
              "#fb9f3a"
             ],
             [
              0.8888888888888888,
              "#fdca26"
             ],
             [
              1,
              "#f0f921"
             ]
            ],
            "type": "surface"
           }
          ],
          "table": [
           {
            "cells": {
             "fill": {
              "color": "#EBF0F8"
             },
             "line": {
              "color": "white"
             }
            },
            "header": {
             "fill": {
              "color": "#C8D4E3"
             },
             "line": {
              "color": "white"
             }
            },
            "type": "table"
           }
          ]
         },
         "layout": {
          "annotationdefaults": {
           "arrowcolor": "#2a3f5f",
           "arrowhead": 0,
           "arrowwidth": 1
          },
          "autotypenumbers": "strict",
          "coloraxis": {
           "colorbar": {
            "outlinewidth": 0,
            "ticks": ""
           }
          },
          "colorscale": {
           "diverging": [
            [
             0,
             "#8e0152"
            ],
            [
             0.1,
             "#c51b7d"
            ],
            [
             0.2,
             "#de77ae"
            ],
            [
             0.3,
             "#f1b6da"
            ],
            [
             0.4,
             "#fde0ef"
            ],
            [
             0.5,
             "#f7f7f7"
            ],
            [
             0.6,
             "#e6f5d0"
            ],
            [
             0.7,
             "#b8e186"
            ],
            [
             0.8,
             "#7fbc41"
            ],
            [
             0.9,
             "#4d9221"
            ],
            [
             1,
             "#276419"
            ]
           ],
           "sequential": [
            [
             0,
             "#0d0887"
            ],
            [
             0.1111111111111111,
             "#46039f"
            ],
            [
             0.2222222222222222,
             "#7201a8"
            ],
            [
             0.3333333333333333,
             "#9c179e"
            ],
            [
             0.4444444444444444,
             "#bd3786"
            ],
            [
             0.5555555555555556,
             "#d8576b"
            ],
            [
             0.6666666666666666,
             "#ed7953"
            ],
            [
             0.7777777777777778,
             "#fb9f3a"
            ],
            [
             0.8888888888888888,
             "#fdca26"
            ],
            [
             1,
             "#f0f921"
            ]
           ],
           "sequentialminus": [
            [
             0,
             "#0d0887"
            ],
            [
             0.1111111111111111,
             "#46039f"
            ],
            [
             0.2222222222222222,
             "#7201a8"
            ],
            [
             0.3333333333333333,
             "#9c179e"
            ],
            [
             0.4444444444444444,
             "#bd3786"
            ],
            [
             0.5555555555555556,
             "#d8576b"
            ],
            [
             0.6666666666666666,
             "#ed7953"
            ],
            [
             0.7777777777777778,
             "#fb9f3a"
            ],
            [
             0.8888888888888888,
             "#fdca26"
            ],
            [
             1,
             "#f0f921"
            ]
           ]
          },
          "colorway": [
           "#636efa",
           "#EF553B",
           "#00cc96",
           "#ab63fa",
           "#FFA15A",
           "#19d3f3",
           "#FF6692",
           "#B6E880",
           "#FF97FF",
           "#FECB52"
          ],
          "font": {
           "color": "#2a3f5f"
          },
          "geo": {
           "bgcolor": "white",
           "lakecolor": "white",
           "landcolor": "#E5ECF6",
           "showlakes": true,
           "showland": true,
           "subunitcolor": "white"
          },
          "hoverlabel": {
           "align": "left"
          },
          "hovermode": "closest",
          "mapbox": {
           "style": "light"
          },
          "paper_bgcolor": "white",
          "plot_bgcolor": "#E5ECF6",
          "polar": {
           "angularaxis": {
            "gridcolor": "white",
            "linecolor": "white",
            "ticks": ""
           },
           "bgcolor": "#E5ECF6",
           "radialaxis": {
            "gridcolor": "white",
            "linecolor": "white",
            "ticks": ""
           }
          },
          "scene": {
           "xaxis": {
            "backgroundcolor": "#E5ECF6",
            "gridcolor": "white",
            "gridwidth": 2,
            "linecolor": "white",
            "showbackground": true,
            "ticks": "",
            "zerolinecolor": "white"
           },
           "yaxis": {
            "backgroundcolor": "#E5ECF6",
            "gridcolor": "white",
            "gridwidth": 2,
            "linecolor": "white",
            "showbackground": true,
            "ticks": "",
            "zerolinecolor": "white"
           },
           "zaxis": {
            "backgroundcolor": "#E5ECF6",
            "gridcolor": "white",
            "gridwidth": 2,
            "linecolor": "white",
            "showbackground": true,
            "ticks": "",
            "zerolinecolor": "white"
           }
          },
          "shapedefaults": {
           "line": {
            "color": "#2a3f5f"
           }
          },
          "ternary": {
           "aaxis": {
            "gridcolor": "white",
            "linecolor": "white",
            "ticks": ""
           },
           "baxis": {
            "gridcolor": "white",
            "linecolor": "white",
            "ticks": ""
           },
           "bgcolor": "#E5ECF6",
           "caxis": {
            "gridcolor": "white",
            "linecolor": "white",
            "ticks": ""
           }
          },
          "title": {
           "x": 0.05
          },
          "xaxis": {
           "automargin": true,
           "gridcolor": "white",
           "linecolor": "white",
           "ticks": "",
           "title": {
            "standoff": 15
           },
           "zerolinecolor": "white",
           "zerolinewidth": 2
          },
          "yaxis": {
           "automargin": true,
           "gridcolor": "white",
           "linecolor": "white",
           "ticks": "",
           "title": {
            "standoff": 15
           },
           "zerolinecolor": "white",
           "zerolinewidth": 2
          }
         }
        },
        "title": {
         "text": "Boxplot of the Target (PerformanceRating) - With Outliers"
        },
        "xaxis": {
         "anchor": "y",
         "domain": [
          0,
          1
         ],
         "title": {
          "text": "PerformanceRating"
         }
        },
        "yaxis": {
         "anchor": "x",
         "domain": [
          0,
          1
         ]
        }
       }
      }
     },
     "metadata": {},
     "output_type": "display_data"
    },
    {
     "data": {
      "application/vnd.plotly.v1+json": {
       "config": {
        "plotlyServerURL": "https://plot.ly"
       },
       "data": [
        {
         "alignmentgroup": "True",
         "hovertemplate": "TrainingHours=%{x}<extra></extra>",
         "legendgroup": "",
         "marker": {
          "color": "#636efa"
         },
         "name": "",
         "notched": false,
         "offsetgroup": "",
         "orientation": "h",
         "showlegend": false,
         "type": "box",
         "x": [
          88,
          30,
          64,
          30,
          18,
          72,
          34.6456461541377,
          40,
          18,
          34.6456461541377,
          80,
          36,
          88,
          80,
          64,
          36,
          18,
          34.6456461541377,
          30,
          40,
          24,
          24,
          56,
          30,
          30,
          24,
          17.792134365057528,
          18,
          18,
          34.6456461541377,
          56,
          18,
          48,
          30,
          6,
          36,
          36,
          6,
          88,
          64,
          30,
          34.6456461541377,
          34.6456461541377,
          30,
          34.6456461541377,
          80,
          80,
          12,
          36,
          24,
          24,
          36,
          36,
          40,
          30.66950420255595,
          40,
          34.6456461541377,
          24,
          12,
          18,
          24,
          34.6456461541377,
          24,
          30,
          30,
          24,
          18,
          18.463141058296603,
          34.6456461541377,
          12,
          48,
          36,
          34.6456461541377,
          24,
          34.6456461541377,
          34.6456461541377,
          34.6456461541377,
          12,
          36,
          30,
          80,
          12,
          12,
          30,
          18,
          29.39521992170149,
          24,
          12,
          34.6456461541377,
          24,
          12,
          34.6456461541377,
          24,
          24,
          64,
          40,
          56,
          80,
          32,
          18,
          30,
          18,
          40,
          34.6456461541377,
          12,
          18,
          30,
          34.6456461541377,
          34.6456461541377,
          11.115533942607144,
          6,
          30,
          6,
          24,
          30,
          96,
          56,
          88,
          12,
          6,
          80,
          30,
          18,
          64,
          48,
          18,
          18,
          64,
          24,
          72,
          36,
          12,
          36,
          48,
          12,
          30,
          18,
          18,
          24,
          18,
          18,
          12,
          40,
          80,
          34.6456461541377,
          56,
          80,
          12,
          34.6456461541377,
          48,
          23.69463024144574,
          34.6456461541377,
          34.6456461541377,
          6,
          30,
          34.6456461541377,
          12,
          12,
          12,
          18,
          48,
          24,
          18,
          30,
          12,
          24,
          64,
          24,
          12,
          6,
          34.6456461541377,
          40,
          36,
          6,
          18,
          30,
          34.6456461541377,
          30,
          40,
          12,
          5.196001709576651,
          88,
          36,
          12,
          30,
          88,
          36,
          36,
          34.6456461541377,
          24,
          36,
          24,
          12,
          31.405146663354856,
          18,
          64,
          30,
          30,
          24,
          36,
          24,
          34.6456461541377,
          30,
          12,
          30,
          48,
          96,
          80,
          12,
          88,
          30,
          30,
          6,
          36,
          30,
          35.70892263145249,
          36,
          30.43374423549085,
          34.6456461541377,
          6,
          80,
          24,
          18,
          36,
          56,
          12,
          36,
          56,
          34.6456461541377,
          24,
          12,
          40,
          24,
          36,
          36,
          64,
          34.6456461541377,
          12,
          24,
          64,
          32.223285009370905,
          18,
          32,
          34.6456461541377,
          64,
          24,
          24,
          18,
          64,
          24,
          12,
          6,
          80,
          12,
          16.975483576090795,
          36,
          12,
          24,
          18,
          30,
          24,
          12,
          17.858475590571913,
          34.6456461541377,
          36,
          12,
          48,
          30,
          18,
          24,
          36,
          34.6456461541377,
          72,
          18,
          88,
          18,
          30,
          18,
          32,
          30,
          6,
          24,
          72,
          18,
          56,
          34.6456461541377,
          32,
          30,
          18,
          36,
          34.6456461541377,
          32,
          24,
          18,
          56,
          72,
          30,
          80,
          18,
          6,
          64,
          56,
          24,
          18,
          88,
          18,
          35.48634238021911,
          23.90040337737477,
          64,
          18,
          34.6456461541377,
          6,
          72,
          18,
          80,
          30,
          18,
          24,
          40,
          88,
          34.6456461541377,
          34.6456461541377,
          48,
          34.6456461541377,
          6,
          18,
          34.6456461541377,
          36,
          96,
          5.551309390426835,
          30,
          34.6456461541377,
          24,
          64,
          34.6456461541377,
          88,
          34.6456461541377,
          30,
          12,
          36,
          72,
          18,
          30,
          18,
          34.6456461541377,
          56,
          30,
          34.6456461541377,
          72,
          6,
          24,
          24,
          34.6456461541377,
          72,
          80,
          35.542843303151884,
          18,
          18,
          96,
          18,
          34.6456461541377,
          36,
          24.16800461117017,
          12,
          24,
          34.6456461541377,
          30,
          12,
          6,
          30,
          24,
          24,
          18,
          48,
          34.6456461541377,
          72,
          36.19448892193789,
          36.08521231253319,
          64,
          12,
          24,
          6,
          80,
          24,
          12,
          30,
          18,
          24.337135313426703,
          30,
          30,
          47.60000167012285,
          12,
          18,
          56,
          64,
          34.6456461541377,
          34.6456461541377,
          72,
          18,
          88,
          56,
          12,
          30,
          88,
          24,
          18,
          6,
          12,
          18,
          34.6456461541377,
          30,
          64,
          24,
          30,
          34.6456461541377,
          30,
          11.96939818128018,
          32,
          18,
          34.6456461541377,
          18,
          18,
          12,
          88,
          32,
          12,
          18,
          34.6456461541377,
          36,
          56.376249021323474,
          34.6456461541377,
          24,
          96,
          18.400401454329792,
          12,
          30,
          88,
          23.66123694966884,
          30,
          30.421864534773807,
          64,
          64,
          88,
          18,
          36,
          24,
          96,
          36,
          30,
          56,
          64.59683150291605,
          48,
          12,
          30,
          30,
          36,
          30,
          96,
          30,
          64,
          35.957656928586765,
          40,
          18,
          6,
          30,
          30,
          6,
          24,
          18,
          36,
          34.6456461541377,
          30,
          71.68087798580233,
          34.6456461541377,
          30,
          12,
          30,
          18.10394037472667,
          18.17240776113743,
          30,
          18,
          56,
          64,
          56,
          12,
          34.6456461541377,
          80,
          18,
          24,
          12,
          24.323422297538347,
          34.6456461541377,
          24,
          34.6456461541377,
          12,
          24,
          80,
          30,
          24,
          96,
          88,
          72,
          18,
          12,
          12,
          12,
          24,
          12,
          6,
          36.25057309640256,
          96,
          96,
          24,
          34.6456461541377,
          24,
          48,
          18,
          88,
          34.6456461541377,
          34.6456461541377,
          24,
          47.94610038401808,
          12,
          24,
          34.6456461541377,
          40,
          30,
          36,
          36,
          80,
          12,
          18.717819563505863,
          56,
          24,
          6,
          6,
          12,
          24.32014284692986,
          11.74950893195945,
          64,
          34.6456461541377,
          34.6456461541377,
          24,
          96,
          34.6456461541377,
          36,
          12,
          30.582338553688576,
          23.944341416340944,
          18,
          30.940224670988552,
          12,
          32,
          88.48811950493999,
          24,
          34.6456461541377,
          34.6456461541377,
          48,
          12,
          18,
          40,
          34.6456461541377,
          24,
          24,
          32,
          34.6456461541377,
          12,
          79.67694671481121,
          12,
          12,
          72,
          24,
          64,
          18,
          18,
          24,
          24,
          80,
          18.211989656091323,
          18,
          34.6456461541377,
          18,
          18,
          24,
          18,
          34.6456461541377,
          80,
          24,
          12,
          12,
          12,
          48,
          24,
          30,
          30,
          80,
          12,
          30,
          24,
          30,
          96,
          34.6456461541377,
          12,
          56,
          12,
          48,
          34.6456461541377,
          18,
          48,
          88,
          40,
          32,
          24,
          36,
          36,
          18,
          34.6456461541377,
          80,
          48,
          18,
          12,
          6,
          6,
          24,
          80,
          34.6456461541377,
          72,
          30,
          96,
          23.319071649216426,
          12,
          40,
          12,
          32,
          30,
          24,
          40,
          88,
          72,
          12,
          30,
          18,
          30,
          34.6456461541377,
          56,
          11.64688158951846,
          12,
          24,
          72,
          72,
          18,
          64,
          36,
          34.6456461541377,
          24,
          48,
          24,
          36,
          12,
          64,
          24,
          30,
          18,
          12,
          48,
          36,
          88,
          30,
          30,
          12,
          24,
          34.6456461541377,
          30,
          32.507931969387606,
          30.357908780990734,
          34.6456461541377,
          34.6456461541377,
          40,
          88,
          24,
          34.6456461541377,
          12,
          12,
          18,
          18,
          72,
          30.31870448279232,
          18,
          40,
          34.6456461541377,
          30,
          30,
          18,
          36,
          12,
          24,
          12,
          80,
          18,
          12,
          32,
          40,
          72,
          80,
          18,
          24,
          36,
          72,
          30,
          29.436121875087174,
          40,
          6,
          64,
          96,
          32,
          34.6456461541377,
          56.11861136665003,
          6,
          30,
          80,
          18,
          34.6456461541377,
          24,
          30,
          18,
          32,
          18,
          34.6456461541377,
          36,
          24,
          32,
          48,
          12,
          36,
          24,
          12,
          18,
          18.035917558491025,
          40,
          12,
          34.6456461541377,
          31.022015317126197,
          18,
          24,
          24,
          36,
          24,
          40,
          12,
          12,
          80,
          36,
          32,
          24,
          6,
          56,
          72.84951194781173,
          36,
          12,
          30,
          36,
          36,
          32,
          24,
          18,
          12,
          34.6456461541377,
          34.6456461541377,
          48,
          24,
          29.997799895314625,
          34.6456461541377,
          6.524288153405126,
          12,
          34.6456461541377,
          30,
          12,
          56,
          36,
          34.6456461541377,
          34.6456461541377,
          12,
          24.11515753485501,
          12,
          24,
          18,
          30,
          64,
          18,
          12,
          18,
          40.24840417668647,
          12,
          24,
          18,
          12,
          64,
          34.6456461541377,
          80,
          64,
          18,
          24,
          36,
          34.6456461541377,
          34.6456461541377,
          72,
          34.6456461541377,
          30,
          34.6456461541377,
          30,
          18.413953619040647,
          30,
          30,
          30,
          34.6456461541377,
          12,
          36,
          34.6456461541377,
          24,
          24,
          34.6456461541377,
          24,
          88,
          12,
          32,
          12,
          24,
          80,
          12,
          30,
          40,
          30,
          32,
          6,
          6,
          34.6456461541377,
          34.6456461541377,
          30.66269760456148,
          12,
          36,
          24,
          6,
          23.802884612442103,
          18,
          36,
          34.6456461541377,
          34.6456461541377,
          12,
          48,
          30,
          56,
          18,
          24,
          18,
          96,
          56,
          6,
          56,
          30,
          24,
          30,
          36,
          32,
          30,
          72,
          24,
          47.141701050324286,
          30,
          6,
          24,
          12,
          30,
          56,
          23.44708398976447,
          18,
          24,
          18,
          36,
          30,
          40,
          24,
          80,
          36,
          88,
          18,
          34.6456461541377,
          30,
          18,
          24,
          32,
          24,
          40,
          24,
          72,
          56,
          18,
          18,
          34.6456461541377,
          32,
          48.81739543026333,
          12,
          80,
          56,
          24,
          72,
          30,
          34.6456461541377,
          64,
          34.6456461541377,
          12,
          12,
          24,
          12,
          72,
          72,
          36,
          24,
          64,
          36,
          5.726498343799985,
          32,
          24,
          18,
          80,
          48,
          24,
          24,
          12,
          24,
          34.6456461541377,
          80,
          24,
          18,
          34.6456461541377,
          36,
          35.76849780729939,
          17.14723208981325,
          29.32636724996777,
          34.6456461541377,
          6,
          88,
          40,
          72,
          36,
          24,
          31.629804784437813,
          18,
          30,
          30,
          64,
          64,
          18,
          34.6456461541377,
          88,
          30,
          24,
          36,
          29.476262203111236,
          18,
          36,
          12,
          34.6456461541377,
          88,
          32,
          48,
          24.240274149880484,
          36,
          12,
          24,
          56,
          6,
          24,
          12,
          36,
          12,
          80,
          24,
          18,
          30,
          55.82112699497595,
          24,
          24,
          80,
          34.6456461541377,
          64,
          30,
          23.369698331602915,
          24,
          32,
          64,
          32,
          30,
          34.6456461541377,
          12,
          24,
          24,
          34.6456461541377,
          34.6456461541377,
          32,
          36,
          30,
          88,
          88,
          6,
          18.14216328950159,
          48,
          80,
          36,
          24,
          56,
          12,
          24,
          18,
          34.6456461541377,
          34.6456461541377,
          80,
          64,
          56,
          31.89372111990151,
          24,
          18,
          72,
          18,
          80,
          34.6456461541377,
          34.6456461541377,
          30,
          6,
          32,
          30,
          6,
          30,
          12,
          34.6456461541377,
          12,
          6,
          30,
          34.6456461541377,
          18,
          30,
          36,
          56,
          64,
          30,
          64,
          30,
          56,
          12,
          12,
          18,
          88,
          32,
          12,
          30,
          24,
          24,
          88,
          36,
          30,
          30,
          18,
          24,
          30,
          6,
          18,
          48,
          30,
          56,
          48,
          18.252350022091044,
          34.6456461541377,
          25.254169431057328,
          56,
          34.6456461541377,
          36,
          72,
          36,
          30,
          80,
          12,
          18,
          24,
          24,
          12,
          40,
          64,
          88,
          32,
          30,
          56,
          30,
          30,
          12,
          30.476433143480428,
          56,
          36,
          96,
          72,
          56,
          6,
          12,
          36,
          18,
          88,
          30,
          56,
          30,
          23.959281964933183,
          18,
          30,
          64,
          88,
          24,
          72,
          12,
          6,
          12,
          12.608225226466644,
          34.6456461541377,
          18,
          32,
          72,
          23.59794665578496,
          36,
          23.61200186411692,
          34.6456461541377,
          18,
          56,
          30,
          34.6456461541377,
          29.01681795441744,
          34.6456461541377,
          80,
          12,
          64.25748919100556,
          24,
          36,
          24,
          12,
          36,
          12,
          56,
          34.6456461541377,
          48.43972204868842,
          12,
          18,
          18,
          18,
          18,
          64,
          34.6456461541377,
          36,
          34.6456461541377,
          80,
          48,
          30,
          56,
          96,
          24,
          24,
          88,
          34.6456461541377,
          24,
          12,
          30,
          34.6456461541377,
          30,
          18,
          12,
          24,
          36,
          24,
          30,
          80,
          34.6456461541377,
          72,
          36,
          18,
          34.6456461541377,
          12,
          80,
          40,
          88,
          30,
          48,
          24,
          34.6456461541377,
          24,
          24,
          18,
          72,
          12,
          18,
          30,
          36,
          12,
          34.6456461541377,
          80,
          30,
          64,
          12.42415892337715,
          36,
          72.26356719775485,
          79.61435585892026,
          34.6456461541377,
          12,
          12,
          18,
          56,
          12,
          64,
          30,
          18,
          32,
          34.6456461541377,
          40,
          80.51040429448055,
          24,
          12,
          34.6456461541377,
          34.6456461541377,
          40,
          40,
          34.6456461541377,
          18,
          30,
          18,
          34.6456461541377,
          34.6456461541377,
          32,
          80,
          18,
          23.73682706451263,
          48,
          80,
          72.08722790696828,
          30,
          34.6456461541377,
          64,
          72,
          30,
          34.6456461541377,
          34.6456461541377,
          12,
          18,
          24,
          24,
          12,
          72,
          18,
          6,
          30,
          32,
          30,
          12,
          34.6456461541377,
          12,
          48,
          12,
          30,
          80,
          72,
          72,
          24,
          12,
          12,
          56,
          18,
          32,
          87.94569911396178,
          18,
          30,
          30,
          12,
          30,
          72,
          12,
          18,
          40,
          40,
          24,
          80,
          24,
          34.6456461541377,
          56,
          80,
          12,
          34.6456461541377,
          24,
          24,
          34.6456461541377,
          12,
          24,
          34.6456461541377,
          30,
          88,
          56,
          30,
          88,
          12,
          12,
          32,
          24,
          12,
          18,
          35.549821004541144,
          6,
          18,
          29.59827703493196,
          12,
          34.6456461541377,
          24,
          30,
          64,
          18,
          30,
          12,
          6,
          24,
          40,
          6.04364527499635,
          12,
          30,
          12,
          12,
          12,
          24,
          30,
          11.475236637491918,
          48,
          30,
          48,
          30,
          80,
          17.414546565051378,
          96,
          34.6456461541377,
          34.6456461541377,
          34.6456461541377,
          6,
          24,
          72,
          18,
          36,
          18,
          18,
          48,
          24,
          36,
          34.6456461541377,
          24,
          96,
          48,
          6,
          30,
          48,
          56,
          64,
          30,
          56,
          6,
          34.6456461541377,
          24,
          36,
          24,
          64,
          24,
          56,
          12,
          34.6456461541377,
          6.0198431002571295,
          18,
          24,
          96,
          30,
          36,
          12,
          24,
          34.6456461541377,
          36,
          18,
          34.6456461541377,
          48.13456221418226,
          34.6456461541377,
          87.94912075603013,
          24,
          72,
          40,
          12,
          30,
          30,
          32,
          56,
          24,
          12,
          34.6456461541377,
          80,
          24,
          12,
          30,
          32,
          24,
          30,
          24,
          34.6456461541377,
          34.6456461541377,
          12,
          32,
          88,
          88,
          34.6456461541377,
          96,
          36,
          34.6456461541377,
          36,
          72.1404772125035,
          18,
          18,
          18,
          80,
          12,
          30,
          18,
          30,
          34.6456461541377,
          24,
          6,
          72.16283240089798,
          34.6456461541377,
          12,
          30,
          30,
          12,
          96,
          64,
          30,
          34.6456461541377,
          36,
          36,
          72.80513993899572,
          34.6456461541377,
          24,
          12,
          24,
          12,
          40,
          89.10265280529993,
          96,
          36,
          24,
          12,
          18,
          34.6456461541377,
          18,
          30,
          12,
          88,
          18,
          12,
          56,
          80,
          18,
          24,
          18,
          30,
          88,
          34.6456461541377,
          18,
          6,
          40,
          30,
          72,
          48,
          56,
          12,
          24,
          36,
          34.6456461541377,
          35.670231780980494,
          30,
          34.6456461541377,
          12,
          32,
          34.6456461541377,
          34.6456461541377,
          12,
          36,
          34.6456461541377,
          18,
          12,
          29.39328037028832,
          40,
          24,
          12.64983532445356,
          34.6456461541377,
          30,
          36,
          80.53868682636937,
          36,
          12,
          12,
          36,
          88,
          18,
          34.6456461541377,
          30,
          34.6456461541377,
          12,
          24,
          36,
          30,
          36,
          18,
          32,
          48,
          24,
          48,
          18,
          30,
          36,
          11.828089707890609,
          18,
          56,
          18,
          6,
          34.6456461541377,
          24,
          48,
          34.6456461541377,
          12,
          72,
          56,
          18,
          34.6456461541377,
          12,
          34.6456461541377,
          18,
          34.6456461541377,
          12,
          32,
          11.040847329234596,
          18,
          71.72475052003715
         ],
         "x0": " ",
         "xaxis": "x",
         "y0": " ",
         "yaxis": "y"
        }
       ],
       "layout": {
        "boxmode": "group",
        "legend": {
         "tracegroupgap": 0
        },
        "template": {
         "data": {
          "bar": [
           {
            "error_x": {
             "color": "#2a3f5f"
            },
            "error_y": {
             "color": "#2a3f5f"
            },
            "marker": {
             "line": {
              "color": "#E5ECF6",
              "width": 0.5
             },
             "pattern": {
              "fillmode": "overlay",
              "size": 10,
              "solidity": 0.2
             }
            },
            "type": "bar"
           }
          ],
          "barpolar": [
           {
            "marker": {
             "line": {
              "color": "#E5ECF6",
              "width": 0.5
             },
             "pattern": {
              "fillmode": "overlay",
              "size": 10,
              "solidity": 0.2
             }
            },
            "type": "barpolar"
           }
          ],
          "carpet": [
           {
            "aaxis": {
             "endlinecolor": "#2a3f5f",
             "gridcolor": "white",
             "linecolor": "white",
             "minorgridcolor": "white",
             "startlinecolor": "#2a3f5f"
            },
            "baxis": {
             "endlinecolor": "#2a3f5f",
             "gridcolor": "white",
             "linecolor": "white",
             "minorgridcolor": "white",
             "startlinecolor": "#2a3f5f"
            },
            "type": "carpet"
           }
          ],
          "choropleth": [
           {
            "colorbar": {
             "outlinewidth": 0,
             "ticks": ""
            },
            "type": "choropleth"
           }
          ],
          "contour": [
           {
            "colorbar": {
             "outlinewidth": 0,
             "ticks": ""
            },
            "colorscale": [
             [
              0,
              "#0d0887"
             ],
             [
              0.1111111111111111,
              "#46039f"
             ],
             [
              0.2222222222222222,
              "#7201a8"
             ],
             [
              0.3333333333333333,
              "#9c179e"
             ],
             [
              0.4444444444444444,
              "#bd3786"
             ],
             [
              0.5555555555555556,
              "#d8576b"
             ],
             [
              0.6666666666666666,
              "#ed7953"
             ],
             [
              0.7777777777777778,
              "#fb9f3a"
             ],
             [
              0.8888888888888888,
              "#fdca26"
             ],
             [
              1,
              "#f0f921"
             ]
            ],
            "type": "contour"
           }
          ],
          "contourcarpet": [
           {
            "colorbar": {
             "outlinewidth": 0,
             "ticks": ""
            },
            "type": "contourcarpet"
           }
          ],
          "heatmap": [
           {
            "colorbar": {
             "outlinewidth": 0,
             "ticks": ""
            },
            "colorscale": [
             [
              0,
              "#0d0887"
             ],
             [
              0.1111111111111111,
              "#46039f"
             ],
             [
              0.2222222222222222,
              "#7201a8"
             ],
             [
              0.3333333333333333,
              "#9c179e"
             ],
             [
              0.4444444444444444,
              "#bd3786"
             ],
             [
              0.5555555555555556,
              "#d8576b"
             ],
             [
              0.6666666666666666,
              "#ed7953"
             ],
             [
              0.7777777777777778,
              "#fb9f3a"
             ],
             [
              0.8888888888888888,
              "#fdca26"
             ],
             [
              1,
              "#f0f921"
             ]
            ],
            "type": "heatmap"
           }
          ],
          "heatmapgl": [
           {
            "colorbar": {
             "outlinewidth": 0,
             "ticks": ""
            },
            "colorscale": [
             [
              0,
              "#0d0887"
             ],
             [
              0.1111111111111111,
              "#46039f"
             ],
             [
              0.2222222222222222,
              "#7201a8"
             ],
             [
              0.3333333333333333,
              "#9c179e"
             ],
             [
              0.4444444444444444,
              "#bd3786"
             ],
             [
              0.5555555555555556,
              "#d8576b"
             ],
             [
              0.6666666666666666,
              "#ed7953"
             ],
             [
              0.7777777777777778,
              "#fb9f3a"
             ],
             [
              0.8888888888888888,
              "#fdca26"
             ],
             [
              1,
              "#f0f921"
             ]
            ],
            "type": "heatmapgl"
           }
          ],
          "histogram": [
           {
            "marker": {
             "pattern": {
              "fillmode": "overlay",
              "size": 10,
              "solidity": 0.2
             }
            },
            "type": "histogram"
           }
          ],
          "histogram2d": [
           {
            "colorbar": {
             "outlinewidth": 0,
             "ticks": ""
            },
            "colorscale": [
             [
              0,
              "#0d0887"
             ],
             [
              0.1111111111111111,
              "#46039f"
             ],
             [
              0.2222222222222222,
              "#7201a8"
             ],
             [
              0.3333333333333333,
              "#9c179e"
             ],
             [
              0.4444444444444444,
              "#bd3786"
             ],
             [
              0.5555555555555556,
              "#d8576b"
             ],
             [
              0.6666666666666666,
              "#ed7953"
             ],
             [
              0.7777777777777778,
              "#fb9f3a"
             ],
             [
              0.8888888888888888,
              "#fdca26"
             ],
             [
              1,
              "#f0f921"
             ]
            ],
            "type": "histogram2d"
           }
          ],
          "histogram2dcontour": [
           {
            "colorbar": {
             "outlinewidth": 0,
             "ticks": ""
            },
            "colorscale": [
             [
              0,
              "#0d0887"
             ],
             [
              0.1111111111111111,
              "#46039f"
             ],
             [
              0.2222222222222222,
              "#7201a8"
             ],
             [
              0.3333333333333333,
              "#9c179e"
             ],
             [
              0.4444444444444444,
              "#bd3786"
             ],
             [
              0.5555555555555556,
              "#d8576b"
             ],
             [
              0.6666666666666666,
              "#ed7953"
             ],
             [
              0.7777777777777778,
              "#fb9f3a"
             ],
             [
              0.8888888888888888,
              "#fdca26"
             ],
             [
              1,
              "#f0f921"
             ]
            ],
            "type": "histogram2dcontour"
           }
          ],
          "mesh3d": [
           {
            "colorbar": {
             "outlinewidth": 0,
             "ticks": ""
            },
            "type": "mesh3d"
           }
          ],
          "parcoords": [
           {
            "line": {
             "colorbar": {
              "outlinewidth": 0,
              "ticks": ""
             }
            },
            "type": "parcoords"
           }
          ],
          "pie": [
           {
            "automargin": true,
            "type": "pie"
           }
          ],
          "scatter": [
           {
            "fillpattern": {
             "fillmode": "overlay",
             "size": 10,
             "solidity": 0.2
            },
            "type": "scatter"
           }
          ],
          "scatter3d": [
           {
            "line": {
             "colorbar": {
              "outlinewidth": 0,
              "ticks": ""
             }
            },
            "marker": {
             "colorbar": {
              "outlinewidth": 0,
              "ticks": ""
             }
            },
            "type": "scatter3d"
           }
          ],
          "scattercarpet": [
           {
            "marker": {
             "colorbar": {
              "outlinewidth": 0,
              "ticks": ""
             }
            },
            "type": "scattercarpet"
           }
          ],
          "scattergeo": [
           {
            "marker": {
             "colorbar": {
              "outlinewidth": 0,
              "ticks": ""
             }
            },
            "type": "scattergeo"
           }
          ],
          "scattergl": [
           {
            "marker": {
             "colorbar": {
              "outlinewidth": 0,
              "ticks": ""
             }
            },
            "type": "scattergl"
           }
          ],
          "scattermapbox": [
           {
            "marker": {
             "colorbar": {
              "outlinewidth": 0,
              "ticks": ""
             }
            },
            "type": "scattermapbox"
           }
          ],
          "scatterpolar": [
           {
            "marker": {
             "colorbar": {
              "outlinewidth": 0,
              "ticks": ""
             }
            },
            "type": "scatterpolar"
           }
          ],
          "scatterpolargl": [
           {
            "marker": {
             "colorbar": {
              "outlinewidth": 0,
              "ticks": ""
             }
            },
            "type": "scatterpolargl"
           }
          ],
          "scatterternary": [
           {
            "marker": {
             "colorbar": {
              "outlinewidth": 0,
              "ticks": ""
             }
            },
            "type": "scatterternary"
           }
          ],
          "surface": [
           {
            "colorbar": {
             "outlinewidth": 0,
             "ticks": ""
            },
            "colorscale": [
             [
              0,
              "#0d0887"
             ],
             [
              0.1111111111111111,
              "#46039f"
             ],
             [
              0.2222222222222222,
              "#7201a8"
             ],
             [
              0.3333333333333333,
              "#9c179e"
             ],
             [
              0.4444444444444444,
              "#bd3786"
             ],
             [
              0.5555555555555556,
              "#d8576b"
             ],
             [
              0.6666666666666666,
              "#ed7953"
             ],
             [
              0.7777777777777778,
              "#fb9f3a"
             ],
             [
              0.8888888888888888,
              "#fdca26"
             ],
             [
              1,
              "#f0f921"
             ]
            ],
            "type": "surface"
           }
          ],
          "table": [
           {
            "cells": {
             "fill": {
              "color": "#EBF0F8"
             },
             "line": {
              "color": "white"
             }
            },
            "header": {
             "fill": {
              "color": "#C8D4E3"
             },
             "line": {
              "color": "white"
             }
            },
            "type": "table"
           }
          ]
         },
         "layout": {
          "annotationdefaults": {
           "arrowcolor": "#2a3f5f",
           "arrowhead": 0,
           "arrowwidth": 1
          },
          "autotypenumbers": "strict",
          "coloraxis": {
           "colorbar": {
            "outlinewidth": 0,
            "ticks": ""
           }
          },
          "colorscale": {
           "diverging": [
            [
             0,
             "#8e0152"
            ],
            [
             0.1,
             "#c51b7d"
            ],
            [
             0.2,
             "#de77ae"
            ],
            [
             0.3,
             "#f1b6da"
            ],
            [
             0.4,
             "#fde0ef"
            ],
            [
             0.5,
             "#f7f7f7"
            ],
            [
             0.6,
             "#e6f5d0"
            ],
            [
             0.7,
             "#b8e186"
            ],
            [
             0.8,
             "#7fbc41"
            ],
            [
             0.9,
             "#4d9221"
            ],
            [
             1,
             "#276419"
            ]
           ],
           "sequential": [
            [
             0,
             "#0d0887"
            ],
            [
             0.1111111111111111,
             "#46039f"
            ],
            [
             0.2222222222222222,
             "#7201a8"
            ],
            [
             0.3333333333333333,
             "#9c179e"
            ],
            [
             0.4444444444444444,
             "#bd3786"
            ],
            [
             0.5555555555555556,
             "#d8576b"
            ],
            [
             0.6666666666666666,
             "#ed7953"
            ],
            [
             0.7777777777777778,
             "#fb9f3a"
            ],
            [
             0.8888888888888888,
             "#fdca26"
            ],
            [
             1,
             "#f0f921"
            ]
           ],
           "sequentialminus": [
            [
             0,
             "#0d0887"
            ],
            [
             0.1111111111111111,
             "#46039f"
            ],
            [
             0.2222222222222222,
             "#7201a8"
            ],
            [
             0.3333333333333333,
             "#9c179e"
            ],
            [
             0.4444444444444444,
             "#bd3786"
            ],
            [
             0.5555555555555556,
             "#d8576b"
            ],
            [
             0.6666666666666666,
             "#ed7953"
            ],
            [
             0.7777777777777778,
             "#fb9f3a"
            ],
            [
             0.8888888888888888,
             "#fdca26"
            ],
            [
             1,
             "#f0f921"
            ]
           ]
          },
          "colorway": [
           "#636efa",
           "#EF553B",
           "#00cc96",
           "#ab63fa",
           "#FFA15A",
           "#19d3f3",
           "#FF6692",
           "#B6E880",
           "#FF97FF",
           "#FECB52"
          ],
          "font": {
           "color": "#2a3f5f"
          },
          "geo": {
           "bgcolor": "white",
           "lakecolor": "white",
           "landcolor": "#E5ECF6",
           "showlakes": true,
           "showland": true,
           "subunitcolor": "white"
          },
          "hoverlabel": {
           "align": "left"
          },
          "hovermode": "closest",
          "mapbox": {
           "style": "light"
          },
          "paper_bgcolor": "white",
          "plot_bgcolor": "#E5ECF6",
          "polar": {
           "angularaxis": {
            "gridcolor": "white",
            "linecolor": "white",
            "ticks": ""
           },
           "bgcolor": "#E5ECF6",
           "radialaxis": {
            "gridcolor": "white",
            "linecolor": "white",
            "ticks": ""
           }
          },
          "scene": {
           "xaxis": {
            "backgroundcolor": "#E5ECF6",
            "gridcolor": "white",
            "gridwidth": 2,
            "linecolor": "white",
            "showbackground": true,
            "ticks": "",
            "zerolinecolor": "white"
           },
           "yaxis": {
            "backgroundcolor": "#E5ECF6",
            "gridcolor": "white",
            "gridwidth": 2,
            "linecolor": "white",
            "showbackground": true,
            "ticks": "",
            "zerolinecolor": "white"
           },
           "zaxis": {
            "backgroundcolor": "#E5ECF6",
            "gridcolor": "white",
            "gridwidth": 2,
            "linecolor": "white",
            "showbackground": true,
            "ticks": "",
            "zerolinecolor": "white"
           }
          },
          "shapedefaults": {
           "line": {
            "color": "#2a3f5f"
           }
          },
          "ternary": {
           "aaxis": {
            "gridcolor": "white",
            "linecolor": "white",
            "ticks": ""
           },
           "baxis": {
            "gridcolor": "white",
            "linecolor": "white",
            "ticks": ""
           },
           "bgcolor": "#E5ECF6",
           "caxis": {
            "gridcolor": "white",
            "linecolor": "white",
            "ticks": ""
           }
          },
          "title": {
           "x": 0.05
          },
          "xaxis": {
           "automargin": true,
           "gridcolor": "white",
           "linecolor": "white",
           "ticks": "",
           "title": {
            "standoff": 15
           },
           "zerolinecolor": "white",
           "zerolinewidth": 2
          },
          "yaxis": {
           "automargin": true,
           "gridcolor": "white",
           "linecolor": "white",
           "ticks": "",
           "title": {
            "standoff": 15
           },
           "zerolinecolor": "white",
           "zerolinewidth": 2
          }
         }
        },
        "title": {
         "text": "Boxplot of the Target (TrainingHours) - With Outliers"
        },
        "xaxis": {
         "anchor": "y",
         "domain": [
          0,
          1
         ],
         "title": {
          "text": "TrainingHours"
         }
        },
        "yaxis": {
         "anchor": "x",
         "domain": [
          0,
          1
         ]
        }
       }
      }
     },
     "metadata": {},
     "output_type": "display_data"
    },
    {
     "data": {
      "application/vnd.plotly.v1+json": {
       "config": {
        "plotlyServerURL": "https://plot.ly"
       },
       "data": [
        {
         "alignmentgroup": "True",
         "hovertemplate": "NumProjects=%{x}<extra></extra>",
         "legendgroup": "",
         "marker": {
          "color": "#636efa"
         },
         "name": "",
         "notched": false,
         "offsetgroup": "",
         "orientation": "h",
         "showlegend": false,
         "type": "box",
         "x": [
          3,
          3,
          3.500686575267348,
          4,
          4,
          3,
          3,
          3,
          2,
          4,
          4,
          4,
          3,
          3.500686575267348,
          3,
          4,
          4,
          2.818418044690876,
          4,
          4,
          3,
          3,
          3,
          4,
          3,
          3,
          3.849695822023277,
          3,
          3,
          3,
          4,
          3.500686575267348,
          3,
          4,
          3,
          4,
          4,
          4,
          3,
          4,
          3.500686575267348,
          4,
          4,
          3,
          3,
          3,
          4,
          3,
          4,
          4,
          4,
          3,
          4,
          3.500686575267348,
          3.763649085892066,
          3,
          3,
          5,
          3.500686575267348,
          4,
          3,
          4,
          5,
          3,
          3.500686575267348,
          3,
          3,
          4.825463138526716,
          3,
          5,
          4,
          4,
          3.500686575267348,
          2,
          3,
          4,
          4,
          4,
          4,
          4,
          4,
          2,
          3.500686575267348,
          3,
          4,
          2.9896512587773234,
          3,
          2,
          4,
          3.500686575267348,
          4,
          4,
          3,
          2,
          4,
          3,
          4,
          2,
          4,
          3,
          3,
          2,
          4,
          4,
          2,
          3,
          3,
          4,
          3,
          2.885854813276497,
          3,
          3,
          3.500686575267348,
          3,
          4,
          4,
          4,
          4,
          3,
          3,
          3,
          3,
          4,
          3,
          4,
          3,
          4,
          3,
          4,
          3,
          3,
          3,
          4,
          4,
          4,
          3,
          2,
          4,
          4,
          5,
          2,
          3,
          4,
          3,
          3.500686575267348,
          4,
          3,
          5,
          4.387893748330009,
          3,
          3.718718251122992,
          4,
          3,
          4,
          3,
          3,
          3,
          4,
          4,
          4,
          4,
          4,
          5,
          4,
          3,
          3,
          3,
          4,
          3,
          3,
          3.500686575267348,
          5,
          4,
          4,
          4,
          5,
          4,
          4,
          3,
          4,
          3.500686575267348,
          3,
          3,
          3,
          4,
          4,
          5,
          4,
          3,
          4,
          3,
          4,
          4,
          3.4000792829801725,
          3.500686575267348,
          4,
          4,
          3,
          5,
          4,
          3,
          3,
          4,
          4,
          4,
          3,
          4,
          3,
          4,
          3,
          4,
          4,
          4,
          3,
          3,
          2.9071264040924114,
          3,
          3.032130584669015,
          4,
          4,
          5,
          4,
          4,
          4,
          4,
          3,
          3,
          3,
          3,
          4,
          3,
          2,
          3,
          5,
          4,
          3,
          3,
          4,
          3,
          3,
          2.1707010110588616,
          4,
          3,
          3.5677153118886804,
          4,
          3,
          4,
          4,
          3,
          4,
          3,
          4,
          3,
          3,
          3.290979897971656,
          4,
          4,
          3.500686575267348,
          3,
          4,
          5,
          4,
          4.377512715009802,
          3.299583528848421,
          4,
          3.500686575267348,
          4,
          4,
          3,
          3,
          4,
          3.500686575267348,
          4,
          3.500686575267348,
          4,
          3.500686575267348,
          3,
          4,
          4,
          3.500686575267348,
          4,
          3.500686575267348,
          2,
          3,
          3,
          3,
          4,
          3.500686575267348,
          4,
          4,
          2,
          4,
          3,
          3,
          3,
          4,
          4,
          3,
          3,
          3,
          4,
          3,
          3,
          3.500686575267348,
          4,
          3,
          3.401883381324428,
          3.0215266518317465,
          4,
          3,
          4,
          3,
          3,
          4,
          4,
          4,
          3,
          2,
          3,
          3.500686575267348,
          3,
          3,
          4,
          4,
          3.500686575267348,
          3.500686575267348,
          3,
          5,
          5,
          2.5505575754389653,
          4,
          4,
          2,
          4,
          3,
          3,
          4,
          3,
          2,
          3,
          3,
          4,
          3.500686575267348,
          4,
          3,
          3,
          4,
          3,
          3,
          4,
          3,
          3,
          4,
          4,
          3,
          4.858832905283717,
          4,
          4,
          4,
          2,
          3,
          4,
          3.5993398276109088,
          3,
          3,
          3,
          4,
          3,
          4,
          3,
          5,
          3,
          4,
          4,
          3,
          4,
          4.436839487706208,
          3.326087077712538,
          2,
          3,
          4,
          3,
          3,
          3.500686575267348,
          4,
          4,
          4,
          3.839032428461537,
          4,
          4,
          2.973593717406441,
          4,
          5,
          5,
          5,
          4,
          4,
          3,
          3,
          4,
          3,
          4,
          4,
          3.500686575267348,
          4,
          4,
          4,
          3,
          4,
          4,
          4,
          4,
          3,
          4,
          3.500686575267348,
          4,
          3.1433356055720214,
          3,
          4,
          1.505266497785989,
          4,
          4,
          4,
          3,
          3,
          4,
          3.500686575267348,
          3,
          2,
          3.166054315698552,
          3,
          3,
          2,
          1.5655981053909018,
          3,
          4,
          4,
          3.451029062924958,
          3,
          4.572415718775882,
          3,
          3,
          4,
          3,
          4,
          4,
          4,
          3.500686575267348,
          3,
          3,
          4.865163698137439,
          4,
          3,
          3,
          3,
          3,
          2,
          3,
          3.500686575267348,
          3,
          2.023732312194044,
          3,
          4,
          4,
          4,
          3,
          4,
          5,
          4,
          2,
          4,
          3.500686575267348,
          4.485226924808279,
          4,
          4,
          3,
          3,
          2.1164467029093545,
          3.612610203616872,
          3,
          3,
          4,
          3.500686575267348,
          3,
          3,
          2.3171107087650906,
          4,
          3.500686575267348,
          4,
          3,
          3.62105145197682,
          3.5825205668879905,
          4,
          4,
          3,
          4,
          4,
          3,
          3,
          3,
          4,
          3,
          4,
          4,
          4,
          5,
          3.500686575267348,
          4,
          4,
          4.487721404334742,
          5,
          3.500686575267348,
          3,
          3,
          3,
          4,
          2,
          4,
          3,
          4,
          3,
          2.100030816834538,
          3,
          3,
          4,
          4,
          3,
          4,
          4,
          4,
          3,
          4.340873140995655,
          3,
          2,
          4,
          3,
          5,
          2.459315049030032,
          2.5297335668875505,
          5,
          4,
          5,
          3,
          3,
          3.500686575267348,
          4,
          4,
          3.420268466553008,
          3.80854279559363,
          2,
          3.616033966095334,
          3,
          3,
          2.8812095960833104,
          3,
          4,
          3,
          4,
          3,
          4,
          3,
          3.500686575267348,
          4,
          3,
          4,
          4,
          4,
          4.320890451990205,
          4,
          3,
          4,
          3,
          3,
          2,
          4,
          4,
          3.500686575267348,
          3,
          3.926451430185325,
          4,
          5.096738163484319,
          4,
          4,
          4,
          3,
          3,
          2,
          4,
          4,
          5,
          4,
          3,
          4,
          3.500686575267348,
          3.500686575267348,
          3,
          3,
          3,
          3,
          3,
          4,
          4,
          3,
          3,
          3,
          3,
          4,
          4,
          4,
          3,
          3,
          4,
          4,
          3,
          3,
          4,
          4,
          4,
          3.500686575267348,
          3,
          4,
          4,
          3,
          3,
          4,
          3,
          4,
          3,
          3,
          4.039203712981638,
          4,
          4,
          4,
          4,
          4,
          4,
          4,
          5,
          3.500686575267348,
          3,
          5,
          3,
          3,
          4,
          3,
          3.918991988162869,
          4,
          3,
          3.500686575267348,
          3,
          4,
          3,
          4,
          3,
          2,
          3,
          3,
          3,
          4,
          3,
          4,
          4,
          3,
          3,
          5,
          5,
          4,
          4,
          4,
          3,
          4,
          3.500686575267348,
          3,
          3.5137000483419767,
          4.550291280129516,
          3,
          3,
          3,
          3,
          3,
          3,
          4,
          3,
          4,
          2,
          4,
          3.4712621240016523,
          3.500686575267348,
          5,
          4,
          4,
          4,
          4,
          3,
          3,
          5,
          3,
          4,
          5,
          4,
          4,
          5,
          3,
          4,
          2,
          3.500686575267348,
          3,
          4,
          3,
          3.91858729413272,
          2,
          3,
          4,
          3,
          4,
          4,
          3.1243725703645118,
          4,
          3.500686575267348,
          3.500686575267348,
          3,
          4,
          4,
          4,
          3.500686575267348,
          4,
          4,
          3,
          3,
          4,
          4,
          4,
          4,
          4,
          4,
          4,
          4,
          3.918459731855549,
          4,
          3,
          4,
          2.840022014481924,
          4,
          3.500686575267348,
          4,
          3,
          4,
          3,
          3,
          3,
          4,
          2,
          3,
          3,
          3,
          3,
          2.644816578676137,
          2,
          3,
          3,
          3,
          3,
          3,
          4,
          4,
          3,
          4,
          4,
          3,
          3,
          3.23781390433899,
          4,
          3.092427037148576,
          3,
          4,
          3,
          3,
          3.500686575267348,
          3,
          2,
          4,
          5,
          3.32050538040774,
          3,
          4,
          3,
          4,
          2,
          5,
          3,
          3,
          2.5108641876853888,
          3,
          3,
          5,
          3,
          3,
          4,
          2,
          3,
          3,
          5,
          4,
          3,
          3,
          4,
          4,
          3.500686575267348,
          3.500686575267348,
          4,
          3.8706830980921656,
          4,
          3,
          3,
          4,
          4,
          3,
          3,
          3,
          4,
          3,
          3,
          4,
          4,
          4,
          3,
          3,
          4,
          3,
          3,
          5,
          4,
          4,
          4,
          4,
          3,
          3,
          3.822366175570392,
          4,
          3,
          4,
          3,
          3.42871085133662,
          3.500686575267348,
          3.500686575267348,
          4,
          4,
          3,
          3,
          2,
          4,
          3,
          2,
          4,
          4,
          4,
          3,
          3,
          4,
          2,
          4,
          4,
          4,
          4,
          3,
          3,
          4.731953972867365,
          3,
          3,
          4,
          4,
          4,
          5,
          3.072883126403324,
          4,
          3,
          3,
          4,
          3,
          3,
          3,
          3.500686575267348,
          4,
          5,
          3,
          4,
          3,
          3,
          3,
          3,
          3,
          3,
          3,
          4,
          3,
          4,
          3.500686575267348,
          4,
          3,
          2.966423503588543,
          3,
          3,
          3,
          3,
          4,
          4,
          3,
          3,
          3.5950887839803,
          3,
          5,
          3,
          3,
          4,
          5,
          3,
          3,
          4,
          2,
          3.0107356715321925,
          4,
          3,
          4,
          3,
          4,
          3,
          4,
          3,
          4,
          4,
          3,
          3,
          5,
          3,
          4,
          5.130837157693255,
          3.9688089657425674,
          4.285736575703689,
          3,
          5,
          3,
          3,
          4,
          4,
          3,
          3.107620068229882,
          4,
          3,
          4,
          3,
          3,
          3,
          5,
          4,
          4,
          3.500686575267348,
          5,
          5.668755478397359,
          4,
          4,
          2,
          3,
          3,
          2,
          4,
          4.220886695097755,
          3,
          4,
          3.500686575267348,
          4,
          2,
          5,
          3,
          4,
          4,
          4,
          3,
          4,
          3.500686575267348,
          4.51937895814079,
          3,
          4,
          4,
          2,
          2,
          3.500686575267348,
          2.7636410462030976,
          3,
          4,
          4,
          4,
          5,
          3,
          4,
          2,
          5,
          3,
          5,
          4,
          3,
          4,
          3,
          4,
          5,
          4.673375852055969,
          3,
          3,
          3,
          4,
          3.500686575267348,
          3,
          4,
          4,
          4,
          5,
          3,
          3.500686575267348,
          3,
          3.0908384471477865,
          3,
          3,
          3,
          3,
          4,
          3,
          5,
          4,
          4,
          2,
          3,
          3,
          3,
          3.500686575267348,
          4,
          2,
          3,
          3,
          3.500686575267348,
          3,
          3,
          3,
          4,
          3,
          3,
          5,
          3,
          4,
          3,
          4,
          3,
          4,
          4,
          4,
          4,
          4,
          3,
          3,
          3.500686575267348,
          4,
          4,
          3,
          4,
          4,
          3,
          4,
          3,
          3,
          4,
          4,
          2.143819650839474,
          4,
          3.717200168914125,
          2,
          4,
          3,
          4,
          5,
          3,
          3,
          3,
          4,
          3,
          3,
          3,
          3,
          4,
          4,
          4,
          3,
          5,
          3.500686575267348,
          3,
          3,
          3.500686575267348,
          3,
          4,
          5,
          3,
          4,
          3,
          2,
          4,
          3,
          3,
          3,
          4,
          4,
          4.23641589981954,
          3,
          3.500686575267348,
          4,
          3,
          3,
          4,
          4,
          4,
          3,
          5.38489867579019,
          4,
          3,
          3,
          5,
          4.233075964449165,
          4,
          4.762244556679304,
          4,
          3,
          4,
          4,
          3,
          3.4091762417891864,
          4,
          3,
          3,
          4.3393522500894965,
          2,
          4,
          3,
          3,
          3,
          4,
          3.500686575267348,
          3,
          3.107261640299116,
          3,
          2,
          4,
          3.500686575267348,
          4,
          4,
          4,
          4,
          3,
          3,
          4,
          3,
          4,
          3,
          3,
          3.500686575267348,
          5,
          4,
          4,
          3,
          4,
          5,
          5,
          4,
          3.500686575267348,
          4,
          3,
          4,
          4,
          3,
          3.5560122701817622,
          5,
          4,
          3,
          4,
          4,
          4,
          4,
          4,
          4,
          3,
          4,
          4,
          2,
          2,
          4,
          5,
          4,
          3,
          3,
          4,
          3,
          4.319793359931415,
          4,
          3,
          3,
          3.134536286452402,
          4,
          2.163917211158442,
          3.771257834039593,
          4,
          3,
          3,
          3,
          4,
          4,
          3,
          4,
          3,
          4,
          3,
          4,
          2.1959267398664,
          4,
          3,
          2,
          3,
          3.500686575267348,
          4,
          4,
          4,
          3,
          3,
          3,
          3,
          3,
          4,
          3,
          3.9919319370725592,
          4,
          4,
          3.258171121309997,
          4,
          3,
          4,
          3,
          2,
          3,
          2,
          4,
          3,
          4,
          4,
          4,
          3,
          3,
          4,
          4,
          4,
          4,
          4,
          4,
          4,
          4,
          4,
          3,
          3,
          2,
          2,
          3,
          4,
          4,
          2,
          3.500686575267348,
          3,
          2.0765596256196077,
          3,
          4,
          4,
          3,
          3,
          3,
          4,
          3,
          4,
          3,
          3,
          3,
          4,
          3,
          4,
          3,
          4,
          3,
          3.500686575267348,
          2,
          3,
          3,
          2,
          3,
          4,
          2,
          3,
          4,
          3,
          3,
          3,
          4,
          4,
          3.500686575267348,
          4,
          4.05565244811947,
          3,
          2,
          3.978519512586336,
          4,
          4,
          3,
          3,
          4,
          3,
          2,
          3,
          4,
          3,
          3,
          5.636056062113341,
          3,
          3,
          3.500686575267348,
          4,
          3,
          3,
          4,
          3.3270060783155118,
          2,
          4,
          4,
          4,
          4,
          1.9557738469543464,
          3,
          3,
          4,
          3,
          2,
          3,
          4,
          4,
          4,
          4,
          4,
          5,
          3,
          4,
          4,
          4,
          2,
          3,
          4,
          3,
          4,
          4,
          3,
          3,
          3,
          3,
          4,
          4,
          3,
          4,
          3,
          4,
          5,
          3.500686575267348,
          3,
          4.597234393546926,
          4,
          3.500686575267348,
          4,
          3,
          4,
          4,
          2,
          2,
          4,
          3,
          4,
          2.355588290707368,
          5,
          6.394718485301759,
          4,
          2,
          3,
          4,
          4,
          4,
          4,
          4,
          3,
          3.500686575267348,
          3.500686575267348,
          3,
          4,
          4,
          2,
          3,
          3.500686575267348,
          4,
          3,
          3,
          3,
          3,
          3,
          4,
          4,
          3,
          3,
          3,
          3.500686575267348,
          2,
          2.734087326132512,
          4,
          3,
          4,
          3,
          3,
          5,
          4,
          3.500686575267348,
          5,
          4,
          2,
          4.260274737037129,
          2,
          2,
          3,
          3,
          4,
          3,
          3,
          3,
          4,
          4,
          4,
          4.754770896389406,
          3.500686575267348,
          3,
          4,
          3,
          4,
          4,
          4.055917970807986,
          3,
          3.500686575267348,
          2,
          4,
          4,
          3,
          4,
          3.500686575267348,
          2,
          4,
          4,
          3,
          4,
          3,
          4,
          3,
          4,
          3.500686575267348,
          3,
          3,
          3.500686575267348,
          3,
          2,
          3,
          4,
          3,
          3,
          4,
          3,
          4,
          4,
          3.500686575267348,
          4,
          4,
          3,
          3,
          3,
          3,
          3,
          4,
          3,
          4,
          3,
          2.983166644119553,
          3,
          3,
          2.8618357457366077,
          4.1701082922576616,
          4,
          2,
          3.0918333881626774,
          4,
          4,
          2,
          4,
          4,
          3,
          3.500686575267348,
          3,
          4,
          3,
          3.500686575267348,
          4,
          4,
          3,
          4,
          3.500686575267348,
          4,
          4,
          4,
          3,
          3,
          4,
          4.386241273123045,
          4,
          4,
          2,
          2,
          3,
          4,
          5,
          3,
          4,
          3,
          4,
          3.500686575267348,
          3,
          4,
          3,
          4,
          4,
          4,
          4,
          4.122893467574344,
          3,
          2.129905436823368
         ],
         "x0": " ",
         "xaxis": "x",
         "y0": " ",
         "yaxis": "y"
        }
       ],
       "layout": {
        "boxmode": "group",
        "legend": {
         "tracegroupgap": 0
        },
        "template": {
         "data": {
          "bar": [
           {
            "error_x": {
             "color": "#2a3f5f"
            },
            "error_y": {
             "color": "#2a3f5f"
            },
            "marker": {
             "line": {
              "color": "#E5ECF6",
              "width": 0.5
             },
             "pattern": {
              "fillmode": "overlay",
              "size": 10,
              "solidity": 0.2
             }
            },
            "type": "bar"
           }
          ],
          "barpolar": [
           {
            "marker": {
             "line": {
              "color": "#E5ECF6",
              "width": 0.5
             },
             "pattern": {
              "fillmode": "overlay",
              "size": 10,
              "solidity": 0.2
             }
            },
            "type": "barpolar"
           }
          ],
          "carpet": [
           {
            "aaxis": {
             "endlinecolor": "#2a3f5f",
             "gridcolor": "white",
             "linecolor": "white",
             "minorgridcolor": "white",
             "startlinecolor": "#2a3f5f"
            },
            "baxis": {
             "endlinecolor": "#2a3f5f",
             "gridcolor": "white",
             "linecolor": "white",
             "minorgridcolor": "white",
             "startlinecolor": "#2a3f5f"
            },
            "type": "carpet"
           }
          ],
          "choropleth": [
           {
            "colorbar": {
             "outlinewidth": 0,
             "ticks": ""
            },
            "type": "choropleth"
           }
          ],
          "contour": [
           {
            "colorbar": {
             "outlinewidth": 0,
             "ticks": ""
            },
            "colorscale": [
             [
              0,
              "#0d0887"
             ],
             [
              0.1111111111111111,
              "#46039f"
             ],
             [
              0.2222222222222222,
              "#7201a8"
             ],
             [
              0.3333333333333333,
              "#9c179e"
             ],
             [
              0.4444444444444444,
              "#bd3786"
             ],
             [
              0.5555555555555556,
              "#d8576b"
             ],
             [
              0.6666666666666666,
              "#ed7953"
             ],
             [
              0.7777777777777778,
              "#fb9f3a"
             ],
             [
              0.8888888888888888,
              "#fdca26"
             ],
             [
              1,
              "#f0f921"
             ]
            ],
            "type": "contour"
           }
          ],
          "contourcarpet": [
           {
            "colorbar": {
             "outlinewidth": 0,
             "ticks": ""
            },
            "type": "contourcarpet"
           }
          ],
          "heatmap": [
           {
            "colorbar": {
             "outlinewidth": 0,
             "ticks": ""
            },
            "colorscale": [
             [
              0,
              "#0d0887"
             ],
             [
              0.1111111111111111,
              "#46039f"
             ],
             [
              0.2222222222222222,
              "#7201a8"
             ],
             [
              0.3333333333333333,
              "#9c179e"
             ],
             [
              0.4444444444444444,
              "#bd3786"
             ],
             [
              0.5555555555555556,
              "#d8576b"
             ],
             [
              0.6666666666666666,
              "#ed7953"
             ],
             [
              0.7777777777777778,
              "#fb9f3a"
             ],
             [
              0.8888888888888888,
              "#fdca26"
             ],
             [
              1,
              "#f0f921"
             ]
            ],
            "type": "heatmap"
           }
          ],
          "heatmapgl": [
           {
            "colorbar": {
             "outlinewidth": 0,
             "ticks": ""
            },
            "colorscale": [
             [
              0,
              "#0d0887"
             ],
             [
              0.1111111111111111,
              "#46039f"
             ],
             [
              0.2222222222222222,
              "#7201a8"
             ],
             [
              0.3333333333333333,
              "#9c179e"
             ],
             [
              0.4444444444444444,
              "#bd3786"
             ],
             [
              0.5555555555555556,
              "#d8576b"
             ],
             [
              0.6666666666666666,
              "#ed7953"
             ],
             [
              0.7777777777777778,
              "#fb9f3a"
             ],
             [
              0.8888888888888888,
              "#fdca26"
             ],
             [
              1,
              "#f0f921"
             ]
            ],
            "type": "heatmapgl"
           }
          ],
          "histogram": [
           {
            "marker": {
             "pattern": {
              "fillmode": "overlay",
              "size": 10,
              "solidity": 0.2
             }
            },
            "type": "histogram"
           }
          ],
          "histogram2d": [
           {
            "colorbar": {
             "outlinewidth": 0,
             "ticks": ""
            },
            "colorscale": [
             [
              0,
              "#0d0887"
             ],
             [
              0.1111111111111111,
              "#46039f"
             ],
             [
              0.2222222222222222,
              "#7201a8"
             ],
             [
              0.3333333333333333,
              "#9c179e"
             ],
             [
              0.4444444444444444,
              "#bd3786"
             ],
             [
              0.5555555555555556,
              "#d8576b"
             ],
             [
              0.6666666666666666,
              "#ed7953"
             ],
             [
              0.7777777777777778,
              "#fb9f3a"
             ],
             [
              0.8888888888888888,
              "#fdca26"
             ],
             [
              1,
              "#f0f921"
             ]
            ],
            "type": "histogram2d"
           }
          ],
          "histogram2dcontour": [
           {
            "colorbar": {
             "outlinewidth": 0,
             "ticks": ""
            },
            "colorscale": [
             [
              0,
              "#0d0887"
             ],
             [
              0.1111111111111111,
              "#46039f"
             ],
             [
              0.2222222222222222,
              "#7201a8"
             ],
             [
              0.3333333333333333,
              "#9c179e"
             ],
             [
              0.4444444444444444,
              "#bd3786"
             ],
             [
              0.5555555555555556,
              "#d8576b"
             ],
             [
              0.6666666666666666,
              "#ed7953"
             ],
             [
              0.7777777777777778,
              "#fb9f3a"
             ],
             [
              0.8888888888888888,
              "#fdca26"
             ],
             [
              1,
              "#f0f921"
             ]
            ],
            "type": "histogram2dcontour"
           }
          ],
          "mesh3d": [
           {
            "colorbar": {
             "outlinewidth": 0,
             "ticks": ""
            },
            "type": "mesh3d"
           }
          ],
          "parcoords": [
           {
            "line": {
             "colorbar": {
              "outlinewidth": 0,
              "ticks": ""
             }
            },
            "type": "parcoords"
           }
          ],
          "pie": [
           {
            "automargin": true,
            "type": "pie"
           }
          ],
          "scatter": [
           {
            "fillpattern": {
             "fillmode": "overlay",
             "size": 10,
             "solidity": 0.2
            },
            "type": "scatter"
           }
          ],
          "scatter3d": [
           {
            "line": {
             "colorbar": {
              "outlinewidth": 0,
              "ticks": ""
             }
            },
            "marker": {
             "colorbar": {
              "outlinewidth": 0,
              "ticks": ""
             }
            },
            "type": "scatter3d"
           }
          ],
          "scattercarpet": [
           {
            "marker": {
             "colorbar": {
              "outlinewidth": 0,
              "ticks": ""
             }
            },
            "type": "scattercarpet"
           }
          ],
          "scattergeo": [
           {
            "marker": {
             "colorbar": {
              "outlinewidth": 0,
              "ticks": ""
             }
            },
            "type": "scattergeo"
           }
          ],
          "scattergl": [
           {
            "marker": {
             "colorbar": {
              "outlinewidth": 0,
              "ticks": ""
             }
            },
            "type": "scattergl"
           }
          ],
          "scattermapbox": [
           {
            "marker": {
             "colorbar": {
              "outlinewidth": 0,
              "ticks": ""
             }
            },
            "type": "scattermapbox"
           }
          ],
          "scatterpolar": [
           {
            "marker": {
             "colorbar": {
              "outlinewidth": 0,
              "ticks": ""
             }
            },
            "type": "scatterpolar"
           }
          ],
          "scatterpolargl": [
           {
            "marker": {
             "colorbar": {
              "outlinewidth": 0,
              "ticks": ""
             }
            },
            "type": "scatterpolargl"
           }
          ],
          "scatterternary": [
           {
            "marker": {
             "colorbar": {
              "outlinewidth": 0,
              "ticks": ""
             }
            },
            "type": "scatterternary"
           }
          ],
          "surface": [
           {
            "colorbar": {
             "outlinewidth": 0,
             "ticks": ""
            },
            "colorscale": [
             [
              0,
              "#0d0887"
             ],
             [
              0.1111111111111111,
              "#46039f"
             ],
             [
              0.2222222222222222,
              "#7201a8"
             ],
             [
              0.3333333333333333,
              "#9c179e"
             ],
             [
              0.4444444444444444,
              "#bd3786"
             ],
             [
              0.5555555555555556,
              "#d8576b"
             ],
             [
              0.6666666666666666,
              "#ed7953"
             ],
             [
              0.7777777777777778,
              "#fb9f3a"
             ],
             [
              0.8888888888888888,
              "#fdca26"
             ],
             [
              1,
              "#f0f921"
             ]
            ],
            "type": "surface"
           }
          ],
          "table": [
           {
            "cells": {
             "fill": {
              "color": "#EBF0F8"
             },
             "line": {
              "color": "white"
             }
            },
            "header": {
             "fill": {
              "color": "#C8D4E3"
             },
             "line": {
              "color": "white"
             }
            },
            "type": "table"
           }
          ]
         },
         "layout": {
          "annotationdefaults": {
           "arrowcolor": "#2a3f5f",
           "arrowhead": 0,
           "arrowwidth": 1
          },
          "autotypenumbers": "strict",
          "coloraxis": {
           "colorbar": {
            "outlinewidth": 0,
            "ticks": ""
           }
          },
          "colorscale": {
           "diverging": [
            [
             0,
             "#8e0152"
            ],
            [
             0.1,
             "#c51b7d"
            ],
            [
             0.2,
             "#de77ae"
            ],
            [
             0.3,
             "#f1b6da"
            ],
            [
             0.4,
             "#fde0ef"
            ],
            [
             0.5,
             "#f7f7f7"
            ],
            [
             0.6,
             "#e6f5d0"
            ],
            [
             0.7,
             "#b8e186"
            ],
            [
             0.8,
             "#7fbc41"
            ],
            [
             0.9,
             "#4d9221"
            ],
            [
             1,
             "#276419"
            ]
           ],
           "sequential": [
            [
             0,
             "#0d0887"
            ],
            [
             0.1111111111111111,
             "#46039f"
            ],
            [
             0.2222222222222222,
             "#7201a8"
            ],
            [
             0.3333333333333333,
             "#9c179e"
            ],
            [
             0.4444444444444444,
             "#bd3786"
            ],
            [
             0.5555555555555556,
             "#d8576b"
            ],
            [
             0.6666666666666666,
             "#ed7953"
            ],
            [
             0.7777777777777778,
             "#fb9f3a"
            ],
            [
             0.8888888888888888,
             "#fdca26"
            ],
            [
             1,
             "#f0f921"
            ]
           ],
           "sequentialminus": [
            [
             0,
             "#0d0887"
            ],
            [
             0.1111111111111111,
             "#46039f"
            ],
            [
             0.2222222222222222,
             "#7201a8"
            ],
            [
             0.3333333333333333,
             "#9c179e"
            ],
            [
             0.4444444444444444,
             "#bd3786"
            ],
            [
             0.5555555555555556,
             "#d8576b"
            ],
            [
             0.6666666666666666,
             "#ed7953"
            ],
            [
             0.7777777777777778,
             "#fb9f3a"
            ],
            [
             0.8888888888888888,
             "#fdca26"
            ],
            [
             1,
             "#f0f921"
            ]
           ]
          },
          "colorway": [
           "#636efa",
           "#EF553B",
           "#00cc96",
           "#ab63fa",
           "#FFA15A",
           "#19d3f3",
           "#FF6692",
           "#B6E880",
           "#FF97FF",
           "#FECB52"
          ],
          "font": {
           "color": "#2a3f5f"
          },
          "geo": {
           "bgcolor": "white",
           "lakecolor": "white",
           "landcolor": "#E5ECF6",
           "showlakes": true,
           "showland": true,
           "subunitcolor": "white"
          },
          "hoverlabel": {
           "align": "left"
          },
          "hovermode": "closest",
          "mapbox": {
           "style": "light"
          },
          "paper_bgcolor": "white",
          "plot_bgcolor": "#E5ECF6",
          "polar": {
           "angularaxis": {
            "gridcolor": "white",
            "linecolor": "white",
            "ticks": ""
           },
           "bgcolor": "#E5ECF6",
           "radialaxis": {
            "gridcolor": "white",
            "linecolor": "white",
            "ticks": ""
           }
          },
          "scene": {
           "xaxis": {
            "backgroundcolor": "#E5ECF6",
            "gridcolor": "white",
            "gridwidth": 2,
            "linecolor": "white",
            "showbackground": true,
            "ticks": "",
            "zerolinecolor": "white"
           },
           "yaxis": {
            "backgroundcolor": "#E5ECF6",
            "gridcolor": "white",
            "gridwidth": 2,
            "linecolor": "white",
            "showbackground": true,
            "ticks": "",
            "zerolinecolor": "white"
           },
           "zaxis": {
            "backgroundcolor": "#E5ECF6",
            "gridcolor": "white",
            "gridwidth": 2,
            "linecolor": "white",
            "showbackground": true,
            "ticks": "",
            "zerolinecolor": "white"
           }
          },
          "shapedefaults": {
           "line": {
            "color": "#2a3f5f"
           }
          },
          "ternary": {
           "aaxis": {
            "gridcolor": "white",
            "linecolor": "white",
            "ticks": ""
           },
           "baxis": {
            "gridcolor": "white",
            "linecolor": "white",
            "ticks": ""
           },
           "bgcolor": "#E5ECF6",
           "caxis": {
            "gridcolor": "white",
            "linecolor": "white",
            "ticks": ""
           }
          },
          "title": {
           "x": 0.05
          },
          "xaxis": {
           "automargin": true,
           "gridcolor": "white",
           "linecolor": "white",
           "ticks": "",
           "title": {
            "standoff": 15
           },
           "zerolinecolor": "white",
           "zerolinewidth": 2
          },
          "yaxis": {
           "automargin": true,
           "gridcolor": "white",
           "linecolor": "white",
           "ticks": "",
           "title": {
            "standoff": 15
           },
           "zerolinecolor": "white",
           "zerolinewidth": 2
          }
         }
        },
        "title": {
         "text": "Boxplot of the Target (NumProjects) - With Outliers"
        },
        "xaxis": {
         "anchor": "y",
         "domain": [
          0,
          1
         ],
         "title": {
          "text": "NumProjects"
         }
        },
        "yaxis": {
         "anchor": "x",
         "domain": [
          0,
          1
         ]
        }
       }
      }
     },
     "metadata": {},
     "output_type": "display_data"
    },
    {
     "data": {
      "application/vnd.plotly.v1+json": {
       "config": {
        "plotlyServerURL": "https://plot.ly"
       },
       "data": [
        {
         "alignmentgroup": "True",
         "hovertemplate": "YearsSincePromotion=%{x}<extra></extra>",
         "legendgroup": "",
         "marker": {
          "color": "#636efa"
         },
         "name": "",
         "notched": false,
         "offsetgroup": "",
         "orientation": "h",
         "showlegend": false,
         "type": "box",
         "x": [
          0,
          2,
          0,
          0,
          1,
          0,
          1,
          0,
          2,
          0,
          0,
          1,
          4,
          1,
          0,
          7,
          0,
          2,
          0,
          4,
          0,
          0,
          8,
          0,
          2,
          1,
          0,
          2,
          0,
          0,
          0,
          0,
          2,
          5,
          0,
          0,
          0,
          0,
          0,
          0,
          0,
          3,
          0,
          0,
          3,
          0,
          3,
          3,
          0,
          0,
          0,
          1,
          3,
          0,
          0,
          0,
          0,
          0,
          0,
          2,
          1.2036316472114137,
          0,
          1,
          0,
          0,
          0,
          3,
          0,
          1,
          0,
          1,
          0,
          2,
          0,
          1,
          0,
          1,
          0,
          1,
          0,
          4,
          0,
          1,
          0,
          0,
          1,
          3,
          0,
          3,
          1,
          3,
          0,
          0,
          4,
          3,
          11,
          0,
          1,
          0,
          0,
          3,
          0,
          0,
          0,
          0,
          5,
          0,
          1,
          0,
          0,
          0,
          0,
          2,
          4,
          2,
          4,
          1,
          0,
          2,
          3,
          4,
          0,
          2,
          0,
          0,
          1,
          4,
          5,
          1,
          1,
          0,
          2,
          2,
          0,
          0,
          2,
          0,
          0,
          0,
          0,
          0,
          0,
          1,
          3,
          0,
          0,
          11,
          3,
          0,
          3,
          0,
          1,
          0,
          0,
          0,
          0,
          1,
          0,
          9,
          0,
          3,
          0,
          2,
          4,
          0,
          8,
          1,
          3,
          0,
          0,
          1,
          2,
          0,
          0,
          1,
          0,
          11,
          0,
          1,
          0,
          4,
          1,
          0,
          2,
          0,
          0,
          0,
          0,
          4,
          0,
          0,
          0,
          0,
          3,
          5,
          3,
          4,
          0,
          8,
          1,
          0,
          0,
          0,
          0,
          0,
          0,
          1,
          6,
          0,
          0,
          0,
          3,
          0,
          2,
          3,
          1,
          0,
          0,
          0,
          2,
          2,
          1,
          2,
          0,
          1,
          0,
          2,
          0,
          0,
          1,
          0,
          0,
          0,
          5,
          0,
          1,
          0,
          0,
          0,
          1,
          0,
          0,
          0,
          0,
          1,
          2,
          0,
          1,
          0,
          0,
          3,
          0,
          0,
          1,
          0,
          0,
          8,
          8,
          5,
          7,
          0,
          0,
          0,
          3,
          0,
          0,
          0,
          0,
          0,
          3,
          0,
          2,
          0,
          3,
          1,
          0,
          0,
          1,
          1,
          0,
          2,
          0,
          0,
          0,
          2,
          1,
          3,
          1,
          0,
          0,
          2,
          0,
          0,
          0,
          0,
          0,
          0,
          0,
          0,
          0,
          1,
          0,
          1,
          1,
          7,
          0,
          4,
          4,
          0,
          0,
          0,
          0,
          0,
          1,
          6,
          0,
          2,
          0,
          0,
          0,
          0,
          0,
          4,
          0,
          3,
          0,
          0,
          3,
          1,
          3,
          0,
          1,
          1,
          0,
          0,
          7,
          0,
          1,
          0,
          0,
          0,
          5,
          1,
          0,
          1,
          6,
          0,
          0,
          1,
          0,
          0,
          3,
          6,
          1,
          2,
          0,
          0,
          0,
          0,
          6,
          0,
          1,
          0,
          0,
          1,
          0,
          1,
          3,
          2,
          0,
          1,
          0,
          7,
          0,
          0,
          0,
          0,
          0,
          0,
          5,
          0,
          0,
          1,
          0,
          0,
          0,
          0,
          0,
          0,
          0,
          2,
          0,
          2,
          0,
          0,
          2,
          0,
          2,
          0,
          0,
          0,
          0,
          0,
          0,
          4,
          0,
          0,
          0,
          0,
          0,
          1,
          0,
          2,
          0,
          3,
          0,
          0,
          1,
          0,
          0,
          0,
          0,
          1,
          0,
          0,
          1,
          0,
          0,
          9,
          0,
          0,
          0,
          0,
          0,
          0,
          2,
          2,
          0,
          0,
          2,
          0,
          0,
          2,
          0,
          0,
          4,
          0,
          0,
          5,
          2,
          0,
          0,
          0,
          2,
          0,
          9,
          0,
          0,
          2,
          0,
          0,
          3,
          4,
          0,
          1,
          4,
          0,
          2,
          1,
          0,
          0,
          0,
          1,
          0,
          0,
          1,
          7,
          0,
          0,
          1,
          0,
          5,
          0,
          0,
          0,
          0,
          0,
          0,
          4,
          6,
          0,
          2,
          2,
          5,
          0,
          0,
          0,
          2,
          1,
          4,
          3,
          0,
          1,
          4,
          3,
          0,
          0,
          0,
          1,
          1,
          0,
          0,
          0,
          4,
          3,
          6,
          0,
          0,
          2,
          6,
          4,
          1,
          0,
          0,
          0,
          6,
          0,
          0,
          0,
          3,
          0,
          1,
          1,
          0,
          0,
          0,
          2,
          0,
          2,
          1,
          0,
          1,
          0,
          2,
          0,
          0,
          0,
          0,
          0,
          0,
          5,
          0,
          0,
          1,
          0,
          0,
          0,
          1,
          0,
          0,
          0,
          1,
          0,
          1,
          3,
          4,
          2,
          2,
          9,
          0,
          0,
          0,
          0,
          0,
          0,
          0,
          0,
          10,
          5,
          4,
          3,
          0,
          0,
          3,
          0,
          1,
          0,
          2,
          1,
          2,
          3,
          1,
          0,
          2,
          1,
          0,
          3,
          0,
          0,
          2,
          2,
          0,
          1,
          0,
          9,
          0,
          0,
          1,
          0,
          0,
          0,
          2,
          1,
          0,
          0,
          0,
          0,
          0,
          3,
          0,
          2,
          0,
          2,
          0,
          2,
          3,
          0,
          3,
          2,
          0,
          0,
          0,
          1,
          1,
          2,
          0,
          0,
          2,
          1,
          0,
          0,
          0,
          3,
          0,
          0,
          0,
          3,
          0,
          2,
          0,
          0,
          3,
          0,
          0,
          0,
          0,
          1,
          0,
          0,
          0,
          0,
          0,
          0,
          0,
          0,
          1,
          0,
          0,
          1,
          0,
          0,
          0,
          0,
          0,
          3,
          7,
          0,
          0,
          2,
          0,
          0,
          0,
          0,
          2,
          9,
          0,
          3,
          0,
          0,
          5,
          1,
          1,
          0,
          1,
          0,
          4,
          0,
          3,
          3,
          0,
          1,
          0,
          0,
          0,
          0,
          0,
          0,
          3,
          0,
          0,
          0,
          2,
          0,
          5,
          0,
          2,
          0,
          0,
          0,
          6,
          0,
          0,
          1,
          0,
          1,
          0,
          0,
          0,
          9,
          1,
          0,
          0,
          0,
          0,
          5,
          0,
          0,
          0,
          0,
          1,
          2,
          0,
          0,
          6,
          0,
          0,
          0,
          1,
          9,
          2,
          1,
          3,
          14,
          1,
          0,
          0,
          10,
          0,
          0,
          0,
          4,
          0,
          0,
          2,
          0,
          1,
          1,
          1,
          2,
          6,
          0,
          10,
          7,
          0,
          0,
          12,
          4,
          0,
          3,
          3,
          8,
          0,
          1,
          0,
          2,
          0,
          0,
          0,
          0,
          7,
          0,
          0,
          0,
          0,
          1,
          0,
          3,
          4,
          7,
          0,
          6,
          3,
          2,
          7,
          0,
          0,
          1,
          0,
          4,
          0,
          5,
          0,
          0,
          0,
          4,
          0,
          1,
          0,
          2,
          1,
          0,
          0,
          0,
          0,
          0,
          0,
          1,
          0,
          2,
          6,
          2,
          0,
          3,
          0,
          1,
          2,
          1,
          0,
          1,
          0,
          0,
          0,
          5,
          3,
          0,
          0,
          0,
          2,
          6,
          0,
          0,
          0,
          0,
          0,
          0,
          0,
          16,
          0,
          2,
          0,
          0,
          0,
          3,
          0,
          0,
          0,
          4,
          1,
          0,
          0,
          0,
          0,
          1,
          0,
          0,
          1,
          2,
          6,
          3,
          1,
          2,
          0,
          0,
          0,
          1,
          7,
          1,
          0,
          0,
          0,
          0,
          1,
          0,
          0,
          0,
          0,
          3,
          0,
          0,
          1,
          0,
          0,
          1,
          0,
          0,
          0,
          2,
          0,
          4,
          0,
          1,
          0,
          0,
          1,
          2,
          0,
          0,
          0,
          0,
          0,
          0,
          0,
          0,
          5,
          3,
          2,
          1,
          0,
          4,
          2,
          5,
          0,
          1,
          0,
          0,
          0,
          1,
          0,
          1,
          0,
          2,
          0,
          0,
          7,
          0,
          0,
          7,
          5,
          1,
          0,
          0,
          0,
          0,
          0,
          0,
          0,
          0,
          0,
          0,
          0,
          0,
          0,
          0,
          1,
          0,
          1,
          7,
          0,
          0,
          0,
          0,
          4,
          8,
          0,
          1,
          0,
          9,
          0,
          0,
          1,
          1,
          4,
          0,
          0,
          0,
          0,
          0,
          0,
          0,
          0,
          0,
          2,
          3,
          2,
          2,
          3,
          0,
          0,
          0,
          0,
          0,
          3,
          1,
          0,
          0,
          1,
          0,
          3,
          0,
          0,
          3,
          0,
          4,
          1,
          0,
          5,
          1,
          0,
          0,
          1,
          0,
          1,
          0,
          0,
          2,
          0,
          2,
          0,
          2,
          0,
          0,
          3,
          0,
          3,
          0,
          1,
          0,
          3,
          0,
          0,
          1,
          6,
          2,
          3,
          0,
          3,
          0,
          0,
          1,
          3,
          0,
          0,
          1,
          0,
          0,
          5,
          0,
          0,
          0,
          1,
          5,
          0,
          3,
          0,
          0,
          8,
          2,
          0,
          0,
          0,
          2,
          8,
          0,
          1,
          0,
          0,
          0,
          0,
          0,
          3,
          0,
          0,
          0,
          1,
          0,
          0,
          3,
          11,
          0,
          0,
          4,
          2,
          0,
          3,
          0,
          0,
          0,
          0,
          0,
          0,
          2,
          1,
          0,
          2,
          0,
          1,
          6,
          0,
          0,
          0,
          1,
          0,
          0,
          0,
          0,
          0,
          0,
          0,
          0,
          1,
          0,
          3,
          5,
          0,
          14,
          0,
          2,
          0,
          2,
          0,
          0,
          0,
          0,
          0,
          1,
          0,
          0,
          0,
          6,
          0,
          0,
          0,
          1,
          3,
          0,
          1,
          0,
          0,
          4,
          3,
          0,
          0,
          0,
          1,
          0,
          0,
          0,
          1,
          2,
          0,
          4,
          0,
          3,
          3,
          0,
          1,
          0,
          3,
          1,
          0,
          0,
          3,
          7,
          0,
          1,
          1,
          2,
          0,
          0,
          0,
          0,
          0,
          1,
          0,
          0,
          0,
          2,
          1,
          5,
          2,
          3,
          0,
          0,
          0,
          3,
          2,
          0,
          2,
          0,
          0,
          0,
          1,
          0,
          0,
          2,
          0,
          9,
          0,
          0,
          1,
          6,
          0,
          7,
          0,
          0,
          0,
          0,
          4,
          4,
          0,
          4,
          0,
          0,
          1,
          0,
          0,
          4,
          2,
          2,
          8,
          0,
          0,
          0,
          0,
          1,
          0,
          3,
          1,
          3,
          0,
          0,
          0,
          2,
          0,
          1,
          0,
          1,
          1,
          0,
          0,
          0,
          2,
          0,
          0,
          8,
          0,
          7,
          0,
          0,
          0,
          0,
          1,
          3,
          0,
          0,
          1,
          0,
          2,
          0,
          0,
          0,
          1,
          0,
          0,
          2,
          0,
          5,
          0,
          0,
          0,
          0,
          0,
          0,
          1,
          3,
          0,
          0,
          1,
          0,
          0,
          0,
          0,
          0,
          7,
          7,
          4,
          0,
          2,
          4,
          0,
          2,
          0,
          0,
          0,
          0,
          0,
          2,
          2,
          2,
          0,
          0,
          4,
          0,
          1,
          7,
          1,
          2,
          0,
          0,
          0,
          2,
          7,
          8,
          0,
          0,
          0,
          6,
          0,
          0,
          0,
          0,
          2,
          0,
          0,
          5,
          0,
          0,
          4,
          4,
          0,
          6,
          0,
          0,
          3,
          0,
          1,
          5,
          0,
          0,
          0,
          0,
          0,
          2,
          0,
          0,
          2,
          3,
          0,
          0,
          0,
          0,
          2,
          2,
          5,
          1,
          1,
          0,
          0,
          0,
          3,
          0,
          1,
          0,
          0,
          0,
          2,
          2,
          1,
          0,
          0,
          0,
          0,
          1,
          6,
          0,
          0,
          0,
          6,
          4,
          0,
          0,
          1,
          3,
          0,
          0,
          4,
          0,
          0,
          0,
          2,
          0,
          0,
          0,
          0,
          2,
          4,
          0,
          0,
          0,
          1,
          3,
          0,
          0,
          0,
          1,
          1,
          0,
          0,
          4,
          1,
          0,
          0,
          0,
          0,
          0,
          0,
          0,
          0,
          0,
          0,
          0,
          0,
          3,
          0,
          0,
          3,
          0,
          1,
          4,
          3,
          0,
          0,
          0,
          2,
          6,
          0,
          4,
          1,
          0,
          4,
          4,
          0,
          0,
          3,
          0,
          0,
          4,
          0,
          0,
          0,
          0,
          0,
          0,
          0,
          4,
          0,
          4,
          4,
          0,
          3,
          0,
          0,
          0,
          0,
          0,
          5,
          1,
          4,
          0,
          1,
          1,
          0,
          0,
          2,
          0,
          2,
          0,
          0,
          1,
          0,
          3,
          0,
          0,
          0,
          0,
          1,
          0,
          0,
          0,
          0,
          0,
          2,
          6,
          0,
          3,
          0,
          3,
          0,
          4,
          3,
          0,
          0,
          1,
          6,
          0,
          1,
          0,
          3,
          1,
          0,
          0,
          0,
          0,
          1,
          2,
          0,
          5,
          0,
          0,
          0,
          0,
          0,
          0,
          0,
          0,
          0,
          0,
          0,
          0,
          0,
          3,
          0,
          4
         ],
         "x0": " ",
         "xaxis": "x",
         "y0": " ",
         "yaxis": "y"
        }
       ],
       "layout": {
        "boxmode": "group",
        "legend": {
         "tracegroupgap": 0
        },
        "template": {
         "data": {
          "bar": [
           {
            "error_x": {
             "color": "#2a3f5f"
            },
            "error_y": {
             "color": "#2a3f5f"
            },
            "marker": {
             "line": {
              "color": "#E5ECF6",
              "width": 0.5
             },
             "pattern": {
              "fillmode": "overlay",
              "size": 10,
              "solidity": 0.2
             }
            },
            "type": "bar"
           }
          ],
          "barpolar": [
           {
            "marker": {
             "line": {
              "color": "#E5ECF6",
              "width": 0.5
             },
             "pattern": {
              "fillmode": "overlay",
              "size": 10,
              "solidity": 0.2
             }
            },
            "type": "barpolar"
           }
          ],
          "carpet": [
           {
            "aaxis": {
             "endlinecolor": "#2a3f5f",
             "gridcolor": "white",
             "linecolor": "white",
             "minorgridcolor": "white",
             "startlinecolor": "#2a3f5f"
            },
            "baxis": {
             "endlinecolor": "#2a3f5f",
             "gridcolor": "white",
             "linecolor": "white",
             "minorgridcolor": "white",
             "startlinecolor": "#2a3f5f"
            },
            "type": "carpet"
           }
          ],
          "choropleth": [
           {
            "colorbar": {
             "outlinewidth": 0,
             "ticks": ""
            },
            "type": "choropleth"
           }
          ],
          "contour": [
           {
            "colorbar": {
             "outlinewidth": 0,
             "ticks": ""
            },
            "colorscale": [
             [
              0,
              "#0d0887"
             ],
             [
              0.1111111111111111,
              "#46039f"
             ],
             [
              0.2222222222222222,
              "#7201a8"
             ],
             [
              0.3333333333333333,
              "#9c179e"
             ],
             [
              0.4444444444444444,
              "#bd3786"
             ],
             [
              0.5555555555555556,
              "#d8576b"
             ],
             [
              0.6666666666666666,
              "#ed7953"
             ],
             [
              0.7777777777777778,
              "#fb9f3a"
             ],
             [
              0.8888888888888888,
              "#fdca26"
             ],
             [
              1,
              "#f0f921"
             ]
            ],
            "type": "contour"
           }
          ],
          "contourcarpet": [
           {
            "colorbar": {
             "outlinewidth": 0,
             "ticks": ""
            },
            "type": "contourcarpet"
           }
          ],
          "heatmap": [
           {
            "colorbar": {
             "outlinewidth": 0,
             "ticks": ""
            },
            "colorscale": [
             [
              0,
              "#0d0887"
             ],
             [
              0.1111111111111111,
              "#46039f"
             ],
             [
              0.2222222222222222,
              "#7201a8"
             ],
             [
              0.3333333333333333,
              "#9c179e"
             ],
             [
              0.4444444444444444,
              "#bd3786"
             ],
             [
              0.5555555555555556,
              "#d8576b"
             ],
             [
              0.6666666666666666,
              "#ed7953"
             ],
             [
              0.7777777777777778,
              "#fb9f3a"
             ],
             [
              0.8888888888888888,
              "#fdca26"
             ],
             [
              1,
              "#f0f921"
             ]
            ],
            "type": "heatmap"
           }
          ],
          "heatmapgl": [
           {
            "colorbar": {
             "outlinewidth": 0,
             "ticks": ""
            },
            "colorscale": [
             [
              0,
              "#0d0887"
             ],
             [
              0.1111111111111111,
              "#46039f"
             ],
             [
              0.2222222222222222,
              "#7201a8"
             ],
             [
              0.3333333333333333,
              "#9c179e"
             ],
             [
              0.4444444444444444,
              "#bd3786"
             ],
             [
              0.5555555555555556,
              "#d8576b"
             ],
             [
              0.6666666666666666,
              "#ed7953"
             ],
             [
              0.7777777777777778,
              "#fb9f3a"
             ],
             [
              0.8888888888888888,
              "#fdca26"
             ],
             [
              1,
              "#f0f921"
             ]
            ],
            "type": "heatmapgl"
           }
          ],
          "histogram": [
           {
            "marker": {
             "pattern": {
              "fillmode": "overlay",
              "size": 10,
              "solidity": 0.2
             }
            },
            "type": "histogram"
           }
          ],
          "histogram2d": [
           {
            "colorbar": {
             "outlinewidth": 0,
             "ticks": ""
            },
            "colorscale": [
             [
              0,
              "#0d0887"
             ],
             [
              0.1111111111111111,
              "#46039f"
             ],
             [
              0.2222222222222222,
              "#7201a8"
             ],
             [
              0.3333333333333333,
              "#9c179e"
             ],
             [
              0.4444444444444444,
              "#bd3786"
             ],
             [
              0.5555555555555556,
              "#d8576b"
             ],
             [
              0.6666666666666666,
              "#ed7953"
             ],
             [
              0.7777777777777778,
              "#fb9f3a"
             ],
             [
              0.8888888888888888,
              "#fdca26"
             ],
             [
              1,
              "#f0f921"
             ]
            ],
            "type": "histogram2d"
           }
          ],
          "histogram2dcontour": [
           {
            "colorbar": {
             "outlinewidth": 0,
             "ticks": ""
            },
            "colorscale": [
             [
              0,
              "#0d0887"
             ],
             [
              0.1111111111111111,
              "#46039f"
             ],
             [
              0.2222222222222222,
              "#7201a8"
             ],
             [
              0.3333333333333333,
              "#9c179e"
             ],
             [
              0.4444444444444444,
              "#bd3786"
             ],
             [
              0.5555555555555556,
              "#d8576b"
             ],
             [
              0.6666666666666666,
              "#ed7953"
             ],
             [
              0.7777777777777778,
              "#fb9f3a"
             ],
             [
              0.8888888888888888,
              "#fdca26"
             ],
             [
              1,
              "#f0f921"
             ]
            ],
            "type": "histogram2dcontour"
           }
          ],
          "mesh3d": [
           {
            "colorbar": {
             "outlinewidth": 0,
             "ticks": ""
            },
            "type": "mesh3d"
           }
          ],
          "parcoords": [
           {
            "line": {
             "colorbar": {
              "outlinewidth": 0,
              "ticks": ""
             }
            },
            "type": "parcoords"
           }
          ],
          "pie": [
           {
            "automargin": true,
            "type": "pie"
           }
          ],
          "scatter": [
           {
            "fillpattern": {
             "fillmode": "overlay",
             "size": 10,
             "solidity": 0.2
            },
            "type": "scatter"
           }
          ],
          "scatter3d": [
           {
            "line": {
             "colorbar": {
              "outlinewidth": 0,
              "ticks": ""
             }
            },
            "marker": {
             "colorbar": {
              "outlinewidth": 0,
              "ticks": ""
             }
            },
            "type": "scatter3d"
           }
          ],
          "scattercarpet": [
           {
            "marker": {
             "colorbar": {
              "outlinewidth": 0,
              "ticks": ""
             }
            },
            "type": "scattercarpet"
           }
          ],
          "scattergeo": [
           {
            "marker": {
             "colorbar": {
              "outlinewidth": 0,
              "ticks": ""
             }
            },
            "type": "scattergeo"
           }
          ],
          "scattergl": [
           {
            "marker": {
             "colorbar": {
              "outlinewidth": 0,
              "ticks": ""
             }
            },
            "type": "scattergl"
           }
          ],
          "scattermapbox": [
           {
            "marker": {
             "colorbar": {
              "outlinewidth": 0,
              "ticks": ""
             }
            },
            "type": "scattermapbox"
           }
          ],
          "scatterpolar": [
           {
            "marker": {
             "colorbar": {
              "outlinewidth": 0,
              "ticks": ""
             }
            },
            "type": "scatterpolar"
           }
          ],
          "scatterpolargl": [
           {
            "marker": {
             "colorbar": {
              "outlinewidth": 0,
              "ticks": ""
             }
            },
            "type": "scatterpolargl"
           }
          ],
          "scatterternary": [
           {
            "marker": {
             "colorbar": {
              "outlinewidth": 0,
              "ticks": ""
             }
            },
            "type": "scatterternary"
           }
          ],
          "surface": [
           {
            "colorbar": {
             "outlinewidth": 0,
             "ticks": ""
            },
            "colorscale": [
             [
              0,
              "#0d0887"
             ],
             [
              0.1111111111111111,
              "#46039f"
             ],
             [
              0.2222222222222222,
              "#7201a8"
             ],
             [
              0.3333333333333333,
              "#9c179e"
             ],
             [
              0.4444444444444444,
              "#bd3786"
             ],
             [
              0.5555555555555556,
              "#d8576b"
             ],
             [
              0.6666666666666666,
              "#ed7953"
             ],
             [
              0.7777777777777778,
              "#fb9f3a"
             ],
             [
              0.8888888888888888,
              "#fdca26"
             ],
             [
              1,
              "#f0f921"
             ]
            ],
            "type": "surface"
           }
          ],
          "table": [
           {
            "cells": {
             "fill": {
              "color": "#EBF0F8"
             },
             "line": {
              "color": "white"
             }
            },
            "header": {
             "fill": {
              "color": "#C8D4E3"
             },
             "line": {
              "color": "white"
             }
            },
            "type": "table"
           }
          ]
         },
         "layout": {
          "annotationdefaults": {
           "arrowcolor": "#2a3f5f",
           "arrowhead": 0,
           "arrowwidth": 1
          },
          "autotypenumbers": "strict",
          "coloraxis": {
           "colorbar": {
            "outlinewidth": 0,
            "ticks": ""
           }
          },
          "colorscale": {
           "diverging": [
            [
             0,
             "#8e0152"
            ],
            [
             0.1,
             "#c51b7d"
            ],
            [
             0.2,
             "#de77ae"
            ],
            [
             0.3,
             "#f1b6da"
            ],
            [
             0.4,
             "#fde0ef"
            ],
            [
             0.5,
             "#f7f7f7"
            ],
            [
             0.6,
             "#e6f5d0"
            ],
            [
             0.7,
             "#b8e186"
            ],
            [
             0.8,
             "#7fbc41"
            ],
            [
             0.9,
             "#4d9221"
            ],
            [
             1,
             "#276419"
            ]
           ],
           "sequential": [
            [
             0,
             "#0d0887"
            ],
            [
             0.1111111111111111,
             "#46039f"
            ],
            [
             0.2222222222222222,
             "#7201a8"
            ],
            [
             0.3333333333333333,
             "#9c179e"
            ],
            [
             0.4444444444444444,
             "#bd3786"
            ],
            [
             0.5555555555555556,
             "#d8576b"
            ],
            [
             0.6666666666666666,
             "#ed7953"
            ],
            [
             0.7777777777777778,
             "#fb9f3a"
            ],
            [
             0.8888888888888888,
             "#fdca26"
            ],
            [
             1,
             "#f0f921"
            ]
           ],
           "sequentialminus": [
            [
             0,
             "#0d0887"
            ],
            [
             0.1111111111111111,
             "#46039f"
            ],
            [
             0.2222222222222222,
             "#7201a8"
            ],
            [
             0.3333333333333333,
             "#9c179e"
            ],
            [
             0.4444444444444444,
             "#bd3786"
            ],
            [
             0.5555555555555556,
             "#d8576b"
            ],
            [
             0.6666666666666666,
             "#ed7953"
            ],
            [
             0.7777777777777778,
             "#fb9f3a"
            ],
            [
             0.8888888888888888,
             "#fdca26"
            ],
            [
             1,
             "#f0f921"
            ]
           ]
          },
          "colorway": [
           "#636efa",
           "#EF553B",
           "#00cc96",
           "#ab63fa",
           "#FFA15A",
           "#19d3f3",
           "#FF6692",
           "#B6E880",
           "#FF97FF",
           "#FECB52"
          ],
          "font": {
           "color": "#2a3f5f"
          },
          "geo": {
           "bgcolor": "white",
           "lakecolor": "white",
           "landcolor": "#E5ECF6",
           "showlakes": true,
           "showland": true,
           "subunitcolor": "white"
          },
          "hoverlabel": {
           "align": "left"
          },
          "hovermode": "closest",
          "mapbox": {
           "style": "light"
          },
          "paper_bgcolor": "white",
          "plot_bgcolor": "#E5ECF6",
          "polar": {
           "angularaxis": {
            "gridcolor": "white",
            "linecolor": "white",
            "ticks": ""
           },
           "bgcolor": "#E5ECF6",
           "radialaxis": {
            "gridcolor": "white",
            "linecolor": "white",
            "ticks": ""
           }
          },
          "scene": {
           "xaxis": {
            "backgroundcolor": "#E5ECF6",
            "gridcolor": "white",
            "gridwidth": 2,
            "linecolor": "white",
            "showbackground": true,
            "ticks": "",
            "zerolinecolor": "white"
           },
           "yaxis": {
            "backgroundcolor": "#E5ECF6",
            "gridcolor": "white",
            "gridwidth": 2,
            "linecolor": "white",
            "showbackground": true,
            "ticks": "",
            "zerolinecolor": "white"
           },
           "zaxis": {
            "backgroundcolor": "#E5ECF6",
            "gridcolor": "white",
            "gridwidth": 2,
            "linecolor": "white",
            "showbackground": true,
            "ticks": "",
            "zerolinecolor": "white"
           }
          },
          "shapedefaults": {
           "line": {
            "color": "#2a3f5f"
           }
          },
          "ternary": {
           "aaxis": {
            "gridcolor": "white",
            "linecolor": "white",
            "ticks": ""
           },
           "baxis": {
            "gridcolor": "white",
            "linecolor": "white",
            "ticks": ""
           },
           "bgcolor": "#E5ECF6",
           "caxis": {
            "gridcolor": "white",
            "linecolor": "white",
            "ticks": ""
           }
          },
          "title": {
           "x": 0.05
          },
          "xaxis": {
           "automargin": true,
           "gridcolor": "white",
           "linecolor": "white",
           "ticks": "",
           "title": {
            "standoff": 15
           },
           "zerolinecolor": "white",
           "zerolinewidth": 2
          },
          "yaxis": {
           "automargin": true,
           "gridcolor": "white",
           "linecolor": "white",
           "ticks": "",
           "title": {
            "standoff": 15
           },
           "zerolinecolor": "white",
           "zerolinewidth": 2
          }
         }
        },
        "title": {
         "text": "Boxplot of the Target (YearsSincePromotion) - With Outliers"
        },
        "xaxis": {
         "anchor": "y",
         "domain": [
          0,
          1
         ],
         "title": {
          "text": "YearsSincePromotion"
         }
        },
        "yaxis": {
         "anchor": "x",
         "domain": [
          0,
          1
         ]
        }
       }
      }
     },
     "metadata": {},
     "output_type": "display_data"
    },
    {
     "data": {
      "application/vnd.plotly.v1+json": {
       "config": {
        "plotlyServerURL": "https://plot.ly"
       },
       "data": [
        {
         "alignmentgroup": "True",
         "hovertemplate": "EnvironmentSatisfaction=%{x}<extra></extra>",
         "legendgroup": "",
         "marker": {
          "color": "#636efa"
         },
         "name": "",
         "notched": false,
         "offsetgroup": "",
         "orientation": "h",
         "showlegend": false,
         "type": "box",
         "x": [
          2,
          3,
          4,
          3,
          3,
          2,
          3,
          3,
          1,
          3,
          3,
          3,
          2,
          2,
          2,
          2,
          3,
          2.2253888788695644,
          3,
          2,
          2,
          2,
          2,
          3,
          2,
          2,
          2.923242857528135,
          3,
          2,
          2,
          3,
          3,
          2,
          3,
          2,
          2,
          3,
          3,
          2,
          3,
          2,
          2,
          3,
          2,
          2,
          2,
          3,
          2,
          2.521420843816405,
          3,
          3,
          2,
          3,
          2,
          2.4084116610224817,
          2,
          2,
          3,
          1,
          3,
          1,
          2,
          3,
          2,
          3,
          2,
          2,
          3.259542000715463,
          3,
          3,
          4,
          4,
          3,
          1,
          3,
          3,
          3,
          2,
          1,
          3,
          2,
          3,
          2,
          3,
          4,
          1.693378380709028,
          2,
          1,
          2,
          3,
          3,
          3,
          2,
          1,
          2.521420843816405,
          2,
          3,
          2,
          2,
          3,
          2,
          2,
          3,
          2,
          1,
          2,
          2,
          2,
          2,
          1.4593589508606644,
          1,
          2,
          4,
          2,
          3,
          3,
          3,
          2,
          3,
          2.521420843816405,
          2,
          2,
          2,
          3,
          3,
          2,
          4,
          3,
          4,
          2,
          3,
          2.521420843816405,
          2,
          2,
          3,
          2,
          2,
          3,
          3,
          4,
          2,
          3,
          4,
          2,
          3,
          3,
          2,
          4,
          1.9503080645826243,
          3,
          4.196881420524662,
          3,
          3,
          3,
          1,
          2,
          2.521420843816405,
          3,
          2,
          4,
          3,
          3,
          4,
          3,
          2,
          2,
          2,
          3,
          3,
          2,
          3,
          5,
          4,
          3,
          3,
          3,
          3,
          3,
          2,
          3,
          3.601952102859721,
          2,
          2,
          2,
          3,
          3,
          3,
          3,
          3,
          2,
          4,
          3,
          3,
          2.521420843816405,
          1,
          4,
          2,
          1,
          3,
          3,
          3,
          2,
          3,
          2,
          2,
          3,
          3,
          2,
          3,
          2,
          2,
          3,
          3,
          2,
          2,
          2.4478529556999,
          2,
          1.4619533956961976,
          3,
          3,
          2,
          2,
          3,
          4,
          3,
          2,
          2,
          2,
          2,
          3,
          3,
          2.521420843816405,
          2,
          4,
          3,
          2,
          3,
          3,
          2,
          2,
          1.746813584427405,
          3,
          2,
          2.95108880127038,
          2,
          3,
          2,
          3,
          2,
          3,
          2,
          2,
          2,
          2.521420843816405,
          1.997483247641873,
          2,
          3,
          3,
          2,
          3,
          4,
          2,
          2.9480366404630507,
          1.7894200887206375,
          3,
          3,
          3,
          3,
          2,
          2,
          2,
          2,
          3,
          3,
          3,
          3,
          2,
          2,
          3,
          4,
          2,
          2,
          2,
          3,
          2,
          2,
          3,
          2.521420843816405,
          2,
          3,
          1,
          2,
          2,
          2,
          2,
          2,
          3,
          2,
          3,
          2,
          3,
          2,
          2,
          3,
          3,
          3,
          1.276059475808654,
          2.194450385295753,
          3,
          2,
          3,
          3,
          3,
          2,
          4,
          3,
          2,
          2,
          2,
          2,
          2,
          2,
          3,
          3,
          2,
          2,
          3,
          3,
          3,
          1.7560650338009631,
          3,
          3,
          2.521420843816405,
          3,
          2,
          2,
          2,
          2,
          1,
          3,
          3,
          3,
          3,
          4,
          2,
          2,
          3,
          2,
          2,
          3,
          2,
          3,
          2,
          2,
          2,
          3.95608224098318,
          3,
          3,
          3,
          2,
          2,
          2,
          3.3909860203344984,
          3,
          2,
          2,
          3,
          2,
          2,
          2,
          4,
          3,
          2,
          3,
          2,
          3,
          2.940309646170724,
          2.896691850207767,
          2.521420843816405,
          2,
          3,
          2,
          2,
          2,
          3,
          4,
          3,
          2.8668981445189456,
          2,
          3,
          2.952345539522153,
          4,
          4,
          3,
          3,
          3,
          3,
          2,
          2,
          2,
          2,
          4,
          2,
          3,
          3,
          2,
          3,
          2,
          3,
          3,
          3,
          3,
          2,
          3,
          3,
          3,
          2.7559522250917223,
          3,
          3,
          3.017328099445176,
          3,
          4,
          3,
          2,
          2,
          2,
          3,
          2,
          2,
          2.7804985786920717,
          3,
          2,
          2,
          1.251083968443389,
          2,
          4,
          3,
          2.794559858150457,
          1,
          2.964367758158524,
          2,
          3,
          3,
          3,
          3,
          3,
          2,
          1,
          2,
          3,
          3.508523234232007,
          2,
          2,
          2,
          2,
          1,
          2,
          2,
          2,
          3,
          1.838612509762205,
          2,
          3,
          3,
          3,
          1,
          2,
          4,
          3,
          1,
          2,
          4,
          2.115251300007197,
          2,
          2,
          3,
          2,
          1.462219165137884,
          2.414766329394216,
          2,
          2,
          3,
          3,
          3,
          2,
          1.2622107832324263,
          4,
          3,
          2,
          2,
          1,
          3.41425937991977,
          3,
          3,
          2,
          3,
          3,
          2,
          2,
          2,
          3,
          2,
          2,
          3,
          3,
          3,
          3,
          3,
          2,
          1.3669035259626128,
          3,
          4,
          3,
          3,
          2,
          3,
          2,
          3,
          2,
          3,
          2,
          2.3285214672181085,
          2,
          3,
          3,
          2,
          2,
          3,
          3,
          2,
          1,
          2.6973431546189026,
          2,
          4,
          2,
          2,
          3,
          2.516362462586704,
          1.5366092926643335,
          3,
          2,
          3,
          2,
          3,
          3,
          2,
          2,
          3.584804556876429,
          1.5239272530138936,
          2,
          1.4171765639229417,
          1,
          2,
          2.8646981815159265,
          3,
          3,
          1,
          2,
          3,
          2,
          3,
          4,
          4,
          3,
          2,
          3,
          2,
          1.8867752035679703,
          3,
          2,
          2,
          2,
          3,
          2,
          3,
          3,
          2,
          3,
          2.5145239105777764,
          3,
          3.253694786109841,
          3,
          3,
          2,
          2,
          2,
          1,
          4,
          2,
          3,
          2,
          3,
          3,
          2,
          2,
          3,
          3,
          3,
          2,
          2,
          3,
          3,
          3,
          3,
          2,
          3,
          3,
          3,
          4,
          2,
          2,
          3,
          3,
          2,
          2,
          2,
          3,
          3,
          2,
          2,
          3,
          3,
          2,
          2,
          3,
          2,
          2,
          2,
          2,
          2.653980142894854,
          3,
          2,
          3,
          2,
          3,
          4,
          3,
          3,
          3,
          2,
          3,
          2,
          1,
          3,
          2,
          1.9739497408392397,
          3,
          2,
          3,
          3,
          3,
          3,
          3,
          2,
          2,
          3,
          2,
          2,
          2,
          3,
          3,
          2,
          2,
          2,
          3,
          2.521420843816405,
          2,
          3,
          2.521420843816405,
          2,
          3,
          2,
          3,
          2.1038285050747487,
          3.457843050333413,
          2.521420843816405,
          2,
          2,
          3,
          2,
          3,
          3,
          2,
          2.521420843816405,
          2,
          3,
          3.715500252148764,
          3,
          4,
          3,
          2,
          3,
          3,
          2,
          2,
          3,
          2,
          2,
          3,
          2,
          2,
          3,
          2,
          3,
          1,
          2,
          2,
          3,
          2,
          3.430544191683756,
          2,
          2,
          2,
          2,
          3,
          3,
          3.3879126166286198,
          2,
          2,
          2,
          3,
          3,
          3,
          2,
          3,
          3,
          3,
          2,
          2,
          4,
          3,
          3,
          4,
          3,
          3,
          2,
          3,
          3.192580419663577,
          2,
          3,
          3,
          2.198303467706303,
          3,
          3,
          3,
          2,
          3,
          2,
          2,
          3,
          3,
          2,
          2,
          3,
          2,
          2,
          2.8035452049347422,
          2,
          2,
          2,
          1,
          1,
          2,
          2,
          3,
          2,
          3,
          3,
          2,
          2,
          1,
          3,
          3.895393177364768,
          2,
          2,
          2,
          2,
          3,
          2,
          2,
          3,
          4,
          2.7145112382043464,
          1,
          2,
          2,
          3,
          2,
          4,
          2,
          3,
          2.2550789483307434,
          2,
          2,
          3,
          2,
          3,
          3,
          1,
          2,
          2,
          4,
          4,
          2,
          2,
          2,
          3,
          3,
          1,
          3,
          2.233012534233754,
          2,
          2,
          2,
          3,
          3,
          3,
          3,
          2,
          2,
          2,
          2.521420843816405,
          2,
          3,
          2,
          1,
          2,
          3,
          2,
          2,
          3,
          3,
          2,
          3,
          2,
          1,
          3,
          2.847737301066017,
          3,
          2,
          3,
          2,
          2.33406133637484,
          2,
          3,
          3,
          3,
          2,
          2.521420843816405,
          1,
          3,
          2,
          2,
          2,
          2,
          3,
          2,
          3,
          3,
          1,
          2,
          3,
          3,
          3,
          3,
          3,
          2.8048730690259323,
          1,
          3,
          3,
          2,
          3,
          4,
          2.7817437173118096,
          2,
          2,
          2,
          3,
          3,
          3,
          3,
          2,
          3,
          3,
          2,
          3,
          2,
          2,
          2,
          2,
          2,
          2,
          2,
          3,
          3,
          2,
          2,
          2,
          3,
          1.9760069802501916,
          2,
          1,
          3,
          3,
          3,
          2.521420843816405,
          2,
          2,
          2.583496320297024,
          2,
          4,
          3,
          2,
          3,
          2.521420843816405,
          2,
          3,
          3,
          2,
          2.972576329585088,
          3,
          2,
          3,
          2,
          3,
          2,
          3,
          2,
          3,
          3,
          2,
          2,
          3,
          2,
          3,
          2.863631816235985,
          3.070097648110942,
          3.1556089960130715,
          2,
          3,
          3,
          2,
          4,
          2,
          3,
          3.1929284855717257,
          3,
          2,
          3,
          2,
          2.521420843816405,
          2,
          3,
          2.521420843816405,
          4,
          4,
          3,
          2.706112712007492,
          2,
          3,
          1,
          3,
          1,
          2,
          3,
          3.255573921318861,
          3,
          3,
          3,
          3,
          2,
          3,
          2,
          4,
          2,
          3,
          1,
          3,
          3,
          2.209608631656999,
          2,
          3,
          3,
          1,
          2,
          4,
          1.3869263706978086,
          3,
          3,
          2,
          2,
          4,
          2,
          3,
          1,
          4,
          2,
          4,
          2.521420843816405,
          3,
          3,
          2,
          2,
          3,
          4.068229321217579,
          2,
          3,
          2,
          2,
          2,
          2,
          3,
          3,
          3,
          3,
          2,
          1,
          2,
          1.5915842415229955,
          3,
          2,
          2,
          2,
          2,
          2,
          4,
          3,
          3,
          1,
          3,
          2,
          2,
          3,
          3,
          2,
          2,
          1,
          3,
          1,
          2,
          3,
          3,
          2,
          3,
          3,
          1,
          4,
          2,
          2,
          2,
          2,
          2,
          3,
          3,
          3,
          3,
          2.521420843816405,
          3,
          3,
          3,
          2,
          3,
          3,
          2,
          3,
          3,
          2,
          3,
          3,
          3.907788438335911,
          3,
          2.752918501682988,
          1,
          3,
          2,
          3,
          2,
          2,
          2,
          2,
          3,
          2,
          2,
          2,
          2,
          3,
          2,
          2,
          3,
          3,
          2,
          3,
          2,
          2.205762978632904,
          2,
          3,
          4,
          2,
          3,
          3,
          2,
          3,
          2,
          2,
          2,
          3,
          3,
          1.7743909705889611,
          2,
          3,
          3,
          2,
          2,
          4,
          3,
          2,
          3,
          2.995126720875341,
          3,
          2,
          3,
          4,
          2.814749749818136,
          3,
          3.069507681642569,
          3,
          2,
          3,
          3,
          2,
          3.286783741250368,
          3,
          3,
          2,
          2.6414204475820138,
          1,
          3,
          2,
          3,
          3,
          4,
          2,
          2,
          2.070924276236928,
          3,
          1,
          2,
          3,
          2,
          3,
          3,
          3,
          2,
          3,
          2,
          2,
          2,
          3,
          1,
          2,
          4,
          3,
          3,
          2,
          2,
          3,
          3,
          2,
          3,
          3,
          2,
          2,
          2,
          2,
          3.749952630640016,
          4,
          3,
          3,
          3,
          3,
          3,
          3,
          2,
          3,
          2,
          3,
          4,
          2,
          2,
          3,
          4,
          4,
          3,
          2,
          3,
          2,
          2.8523824625096705,
          3,
          2,
          2,
          3.831795330028616,
          2,
          2.380659569598196,
          3.24321034242268,
          3,
          1,
          3,
          3,
          3,
          2,
          2,
          3,
          2,
          3,
          3,
          3,
          3.723231288472089,
          3,
          2,
          1,
          2,
          3,
          2,
          3,
          3,
          2,
          3,
          2,
          2,
          3,
          3,
          3,
          2.0955410784970856,
          3,
          2,
          3.2376804040007223,
          2,
          3,
          3,
          2,
          2,
          2,
          1,
          2,
          2,
          2,
          3,
          2,
          3,
          3,
          3,
          3,
          3,
          3,
          2,
          2,
          3,
          3,
          2,
          2,
          2,
          3,
          2,
          2,
          2,
          3,
          2,
          3,
          3,
          2.6736888312274374,
          1,
          3,
          3,
          1,
          2,
          3,
          3,
          3,
          4,
          3,
          2,
          2,
          3,
          2,
          3,
          2,
          3,
          2,
          3,
          1,
          2,
          3,
          1,
          3,
          3,
          2,
          3,
          4,
          3,
          2,
          2.521420843816405,
          3,
          3,
          2,
          3,
          2.4781122215777067,
          3,
          1,
          3.231634262984842,
          2,
          3,
          2,
          2,
          2,
          2,
          2,
          2,
          3,
          2,
          2,
          2.7116728053196986,
          2,
          1,
          4,
          3,
          2,
          1,
          3,
          2.00574229696638,
          2,
          2,
          4,
          3,
          3,
          1.098736601506302,
          2,
          2,
          3,
          2,
          2,
          2,
          3,
          3,
          3,
          4,
          3,
          3,
          2,
          4,
          2,
          3,
          2,
          3,
          2,
          2,
          3,
          2,
          2,
          2,
          3,
          2,
          2,
          3,
          2,
          3,
          2,
          2,
          3,
          2,
          3,
          2.315870787421555,
          3,
          4,
          3,
          2,
          3,
          2,
          1,
          1,
          3,
          2,
          3,
          2.1496916835830766,
          3,
          4.109593229689852,
          2,
          2,
          3,
          4,
          3,
          3,
          3,
          2,
          2,
          3,
          2,
          2,
          3,
          2,
          2,
          1,
          3,
          3,
          3,
          3,
          2,
          2,
          2,
          3,
          2,
          2,
          3,
          2,
          3,
          2,
          2.0918786431143497,
          2,
          2,
          2,
          2,
          2,
          4,
          3,
          2,
          3,
          3,
          2,
          4.546797046087658,
          2,
          2.521420843816405,
          3,
          2,
          3,
          2,
          3,
          2,
          2,
          3,
          2,
          3.3186003931896746,
          2,
          4,
          3,
          3,
          4,
          2,
          3.779568876366985,
          1,
          2,
          2,
          3,
          3,
          3,
          2,
          2,
          1,
          3,
          3,
          2,
          3,
          2,
          3,
          2,
          2,
          2,
          2,
          2,
          3,
          3,
          2,
          2,
          3,
          2,
          2,
          2,
          3,
          3,
          3,
          2.076626214696068,
          3,
          2.521420843816405,
          2,
          2,
          2,
          3,
          3,
          3,
          3,
          3,
          2,
          2.4501538495408246,
          3,
          3,
          2.1975179578514057,
          3.226971831944653,
          2,
          1,
          2.9187136634557094,
          3,
          2.521420843816405,
          2,
          3,
          3,
          2,
          2,
          3,
          3,
          2,
          2,
          3,
          3,
          2,
          4,
          3,
          3,
          2,
          2,
          2,
          2,
          3,
          2.966676098623111,
          3,
          2,
          2,
          1,
          3,
          3,
          3,
          3,
          3,
          2,
          3,
          2,
          2,
          2,
          2,
          2,
          2,
          3,
          3,
          4.791748869048451,
          2.521420843816405,
          1
         ],
         "x0": " ",
         "xaxis": "x",
         "y0": " ",
         "yaxis": "y"
        }
       ],
       "layout": {
        "boxmode": "group",
        "legend": {
         "tracegroupgap": 0
        },
        "template": {
         "data": {
          "bar": [
           {
            "error_x": {
             "color": "#2a3f5f"
            },
            "error_y": {
             "color": "#2a3f5f"
            },
            "marker": {
             "line": {
              "color": "#E5ECF6",
              "width": 0.5
             },
             "pattern": {
              "fillmode": "overlay",
              "size": 10,
              "solidity": 0.2
             }
            },
            "type": "bar"
           }
          ],
          "barpolar": [
           {
            "marker": {
             "line": {
              "color": "#E5ECF6",
              "width": 0.5
             },
             "pattern": {
              "fillmode": "overlay",
              "size": 10,
              "solidity": 0.2
             }
            },
            "type": "barpolar"
           }
          ],
          "carpet": [
           {
            "aaxis": {
             "endlinecolor": "#2a3f5f",
             "gridcolor": "white",
             "linecolor": "white",
             "minorgridcolor": "white",
             "startlinecolor": "#2a3f5f"
            },
            "baxis": {
             "endlinecolor": "#2a3f5f",
             "gridcolor": "white",
             "linecolor": "white",
             "minorgridcolor": "white",
             "startlinecolor": "#2a3f5f"
            },
            "type": "carpet"
           }
          ],
          "choropleth": [
           {
            "colorbar": {
             "outlinewidth": 0,
             "ticks": ""
            },
            "type": "choropleth"
           }
          ],
          "contour": [
           {
            "colorbar": {
             "outlinewidth": 0,
             "ticks": ""
            },
            "colorscale": [
             [
              0,
              "#0d0887"
             ],
             [
              0.1111111111111111,
              "#46039f"
             ],
             [
              0.2222222222222222,
              "#7201a8"
             ],
             [
              0.3333333333333333,
              "#9c179e"
             ],
             [
              0.4444444444444444,
              "#bd3786"
             ],
             [
              0.5555555555555556,
              "#d8576b"
             ],
             [
              0.6666666666666666,
              "#ed7953"
             ],
             [
              0.7777777777777778,
              "#fb9f3a"
             ],
             [
              0.8888888888888888,
              "#fdca26"
             ],
             [
              1,
              "#f0f921"
             ]
            ],
            "type": "contour"
           }
          ],
          "contourcarpet": [
           {
            "colorbar": {
             "outlinewidth": 0,
             "ticks": ""
            },
            "type": "contourcarpet"
           }
          ],
          "heatmap": [
           {
            "colorbar": {
             "outlinewidth": 0,
             "ticks": ""
            },
            "colorscale": [
             [
              0,
              "#0d0887"
             ],
             [
              0.1111111111111111,
              "#46039f"
             ],
             [
              0.2222222222222222,
              "#7201a8"
             ],
             [
              0.3333333333333333,
              "#9c179e"
             ],
             [
              0.4444444444444444,
              "#bd3786"
             ],
             [
              0.5555555555555556,
              "#d8576b"
             ],
             [
              0.6666666666666666,
              "#ed7953"
             ],
             [
              0.7777777777777778,
              "#fb9f3a"
             ],
             [
              0.8888888888888888,
              "#fdca26"
             ],
             [
              1,
              "#f0f921"
             ]
            ],
            "type": "heatmap"
           }
          ],
          "heatmapgl": [
           {
            "colorbar": {
             "outlinewidth": 0,
             "ticks": ""
            },
            "colorscale": [
             [
              0,
              "#0d0887"
             ],
             [
              0.1111111111111111,
              "#46039f"
             ],
             [
              0.2222222222222222,
              "#7201a8"
             ],
             [
              0.3333333333333333,
              "#9c179e"
             ],
             [
              0.4444444444444444,
              "#bd3786"
             ],
             [
              0.5555555555555556,
              "#d8576b"
             ],
             [
              0.6666666666666666,
              "#ed7953"
             ],
             [
              0.7777777777777778,
              "#fb9f3a"
             ],
             [
              0.8888888888888888,
              "#fdca26"
             ],
             [
              1,
              "#f0f921"
             ]
            ],
            "type": "heatmapgl"
           }
          ],
          "histogram": [
           {
            "marker": {
             "pattern": {
              "fillmode": "overlay",
              "size": 10,
              "solidity": 0.2
             }
            },
            "type": "histogram"
           }
          ],
          "histogram2d": [
           {
            "colorbar": {
             "outlinewidth": 0,
             "ticks": ""
            },
            "colorscale": [
             [
              0,
              "#0d0887"
             ],
             [
              0.1111111111111111,
              "#46039f"
             ],
             [
              0.2222222222222222,
              "#7201a8"
             ],
             [
              0.3333333333333333,
              "#9c179e"
             ],
             [
              0.4444444444444444,
              "#bd3786"
             ],
             [
              0.5555555555555556,
              "#d8576b"
             ],
             [
              0.6666666666666666,
              "#ed7953"
             ],
             [
              0.7777777777777778,
              "#fb9f3a"
             ],
             [
              0.8888888888888888,
              "#fdca26"
             ],
             [
              1,
              "#f0f921"
             ]
            ],
            "type": "histogram2d"
           }
          ],
          "histogram2dcontour": [
           {
            "colorbar": {
             "outlinewidth": 0,
             "ticks": ""
            },
            "colorscale": [
             [
              0,
              "#0d0887"
             ],
             [
              0.1111111111111111,
              "#46039f"
             ],
             [
              0.2222222222222222,
              "#7201a8"
             ],
             [
              0.3333333333333333,
              "#9c179e"
             ],
             [
              0.4444444444444444,
              "#bd3786"
             ],
             [
              0.5555555555555556,
              "#d8576b"
             ],
             [
              0.6666666666666666,
              "#ed7953"
             ],
             [
              0.7777777777777778,
              "#fb9f3a"
             ],
             [
              0.8888888888888888,
              "#fdca26"
             ],
             [
              1,
              "#f0f921"
             ]
            ],
            "type": "histogram2dcontour"
           }
          ],
          "mesh3d": [
           {
            "colorbar": {
             "outlinewidth": 0,
             "ticks": ""
            },
            "type": "mesh3d"
           }
          ],
          "parcoords": [
           {
            "line": {
             "colorbar": {
              "outlinewidth": 0,
              "ticks": ""
             }
            },
            "type": "parcoords"
           }
          ],
          "pie": [
           {
            "automargin": true,
            "type": "pie"
           }
          ],
          "scatter": [
           {
            "fillpattern": {
             "fillmode": "overlay",
             "size": 10,
             "solidity": 0.2
            },
            "type": "scatter"
           }
          ],
          "scatter3d": [
           {
            "line": {
             "colorbar": {
              "outlinewidth": 0,
              "ticks": ""
             }
            },
            "marker": {
             "colorbar": {
              "outlinewidth": 0,
              "ticks": ""
             }
            },
            "type": "scatter3d"
           }
          ],
          "scattercarpet": [
           {
            "marker": {
             "colorbar": {
              "outlinewidth": 0,
              "ticks": ""
             }
            },
            "type": "scattercarpet"
           }
          ],
          "scattergeo": [
           {
            "marker": {
             "colorbar": {
              "outlinewidth": 0,
              "ticks": ""
             }
            },
            "type": "scattergeo"
           }
          ],
          "scattergl": [
           {
            "marker": {
             "colorbar": {
              "outlinewidth": 0,
              "ticks": ""
             }
            },
            "type": "scattergl"
           }
          ],
          "scattermapbox": [
           {
            "marker": {
             "colorbar": {
              "outlinewidth": 0,
              "ticks": ""
             }
            },
            "type": "scattermapbox"
           }
          ],
          "scatterpolar": [
           {
            "marker": {
             "colorbar": {
              "outlinewidth": 0,
              "ticks": ""
             }
            },
            "type": "scatterpolar"
           }
          ],
          "scatterpolargl": [
           {
            "marker": {
             "colorbar": {
              "outlinewidth": 0,
              "ticks": ""
             }
            },
            "type": "scatterpolargl"
           }
          ],
          "scatterternary": [
           {
            "marker": {
             "colorbar": {
              "outlinewidth": 0,
              "ticks": ""
             }
            },
            "type": "scatterternary"
           }
          ],
          "surface": [
           {
            "colorbar": {
             "outlinewidth": 0,
             "ticks": ""
            },
            "colorscale": [
             [
              0,
              "#0d0887"
             ],
             [
              0.1111111111111111,
              "#46039f"
             ],
             [
              0.2222222222222222,
              "#7201a8"
             ],
             [
              0.3333333333333333,
              "#9c179e"
             ],
             [
              0.4444444444444444,
              "#bd3786"
             ],
             [
              0.5555555555555556,
              "#d8576b"
             ],
             [
              0.6666666666666666,
              "#ed7953"
             ],
             [
              0.7777777777777778,
              "#fb9f3a"
             ],
             [
              0.8888888888888888,
              "#fdca26"
             ],
             [
              1,
              "#f0f921"
             ]
            ],
            "type": "surface"
           }
          ],
          "table": [
           {
            "cells": {
             "fill": {
              "color": "#EBF0F8"
             },
             "line": {
              "color": "white"
             }
            },
            "header": {
             "fill": {
              "color": "#C8D4E3"
             },
             "line": {
              "color": "white"
             }
            },
            "type": "table"
           }
          ]
         },
         "layout": {
          "annotationdefaults": {
           "arrowcolor": "#2a3f5f",
           "arrowhead": 0,
           "arrowwidth": 1
          },
          "autotypenumbers": "strict",
          "coloraxis": {
           "colorbar": {
            "outlinewidth": 0,
            "ticks": ""
           }
          },
          "colorscale": {
           "diverging": [
            [
             0,
             "#8e0152"
            ],
            [
             0.1,
             "#c51b7d"
            ],
            [
             0.2,
             "#de77ae"
            ],
            [
             0.3,
             "#f1b6da"
            ],
            [
             0.4,
             "#fde0ef"
            ],
            [
             0.5,
             "#f7f7f7"
            ],
            [
             0.6,
             "#e6f5d0"
            ],
            [
             0.7,
             "#b8e186"
            ],
            [
             0.8,
             "#7fbc41"
            ],
            [
             0.9,
             "#4d9221"
            ],
            [
             1,
             "#276419"
            ]
           ],
           "sequential": [
            [
             0,
             "#0d0887"
            ],
            [
             0.1111111111111111,
             "#46039f"
            ],
            [
             0.2222222222222222,
             "#7201a8"
            ],
            [
             0.3333333333333333,
             "#9c179e"
            ],
            [
             0.4444444444444444,
             "#bd3786"
            ],
            [
             0.5555555555555556,
             "#d8576b"
            ],
            [
             0.6666666666666666,
             "#ed7953"
            ],
            [
             0.7777777777777778,
             "#fb9f3a"
            ],
            [
             0.8888888888888888,
             "#fdca26"
            ],
            [
             1,
             "#f0f921"
            ]
           ],
           "sequentialminus": [
            [
             0,
             "#0d0887"
            ],
            [
             0.1111111111111111,
             "#46039f"
            ],
            [
             0.2222222222222222,
             "#7201a8"
            ],
            [
             0.3333333333333333,
             "#9c179e"
            ],
            [
             0.4444444444444444,
             "#bd3786"
            ],
            [
             0.5555555555555556,
             "#d8576b"
            ],
            [
             0.6666666666666666,
             "#ed7953"
            ],
            [
             0.7777777777777778,
             "#fb9f3a"
            ],
            [
             0.8888888888888888,
             "#fdca26"
            ],
            [
             1,
             "#f0f921"
            ]
           ]
          },
          "colorway": [
           "#636efa",
           "#EF553B",
           "#00cc96",
           "#ab63fa",
           "#FFA15A",
           "#19d3f3",
           "#FF6692",
           "#B6E880",
           "#FF97FF",
           "#FECB52"
          ],
          "font": {
           "color": "#2a3f5f"
          },
          "geo": {
           "bgcolor": "white",
           "lakecolor": "white",
           "landcolor": "#E5ECF6",
           "showlakes": true,
           "showland": true,
           "subunitcolor": "white"
          },
          "hoverlabel": {
           "align": "left"
          },
          "hovermode": "closest",
          "mapbox": {
           "style": "light"
          },
          "paper_bgcolor": "white",
          "plot_bgcolor": "#E5ECF6",
          "polar": {
           "angularaxis": {
            "gridcolor": "white",
            "linecolor": "white",
            "ticks": ""
           },
           "bgcolor": "#E5ECF6",
           "radialaxis": {
            "gridcolor": "white",
            "linecolor": "white",
            "ticks": ""
           }
          },
          "scene": {
           "xaxis": {
            "backgroundcolor": "#E5ECF6",
            "gridcolor": "white",
            "gridwidth": 2,
            "linecolor": "white",
            "showbackground": true,
            "ticks": "",
            "zerolinecolor": "white"
           },
           "yaxis": {
            "backgroundcolor": "#E5ECF6",
            "gridcolor": "white",
            "gridwidth": 2,
            "linecolor": "white",
            "showbackground": true,
            "ticks": "",
            "zerolinecolor": "white"
           },
           "zaxis": {
            "backgroundcolor": "#E5ECF6",
            "gridcolor": "white",
            "gridwidth": 2,
            "linecolor": "white",
            "showbackground": true,
            "ticks": "",
            "zerolinecolor": "white"
           }
          },
          "shapedefaults": {
           "line": {
            "color": "#2a3f5f"
           }
          },
          "ternary": {
           "aaxis": {
            "gridcolor": "white",
            "linecolor": "white",
            "ticks": ""
           },
           "baxis": {
            "gridcolor": "white",
            "linecolor": "white",
            "ticks": ""
           },
           "bgcolor": "#E5ECF6",
           "caxis": {
            "gridcolor": "white",
            "linecolor": "white",
            "ticks": ""
           }
          },
          "title": {
           "x": 0.05
          },
          "xaxis": {
           "automargin": true,
           "gridcolor": "white",
           "linecolor": "white",
           "ticks": "",
           "title": {
            "standoff": 15
           },
           "zerolinecolor": "white",
           "zerolinewidth": 2
          },
          "yaxis": {
           "automargin": true,
           "gridcolor": "white",
           "linecolor": "white",
           "ticks": "",
           "title": {
            "standoff": 15
           },
           "zerolinecolor": "white",
           "zerolinewidth": 2
          }
         }
        },
        "title": {
         "text": "Boxplot of the Target (EnvironmentSatisfaction) - With Outliers"
        },
        "xaxis": {
         "anchor": "y",
         "domain": [
          0,
          1
         ],
         "title": {
          "text": "EnvironmentSatisfaction"
         }
        },
        "yaxis": {
         "anchor": "x",
         "domain": [
          0,
          1
         ]
        }
       }
      }
     },
     "metadata": {},
     "output_type": "display_data"
    }
   ],
   "source": [
    "# Plot / Visualize the outliers of the numerical features\n",
    "import matplotlib.pyplot as plt\n",
    "import plotly.express as px\n",
    "\n",
    "for col in df.select_dtypes(include=['int64', 'float64']).columns:\n",
    "    fig = px.box(\n",
    "        data_frame=df, \n",
    "        x=col,\n",
    "        orientation='h',\n",
    "        title=f'Boxplot of the Target ({col}) - With Outliers'\n",
    "    )\n",
    "    fig.show()"
   ]
  },
  {
   "cell_type": "markdown",
   "metadata": {},
   "source": [
    "### Handling Outliers"
   ]
  },
  {
   "cell_type": "markdown",
   "metadata": {},
   "source": [
    "#### Create a mask to filter out the outliers for 'Age'"
   ]
  },
  {
   "cell_type": "code",
   "execution_count": 16,
   "metadata": {},
   "outputs": [
    {
     "ename": "KeyError",
     "evalue": "'Age'",
     "output_type": "error",
     "traceback": [
      "\u001b[1;31m---------------------------------------------------------------------------\u001b[0m",
      "\u001b[1;31mKeyError\u001b[0m                                  Traceback (most recent call last)",
      "File \u001b[1;32mc:\\ProgramData\\anaconda3\\Lib\\site-packages\\pandas\\core\\indexes\\base.py:3791\u001b[0m, in \u001b[0;36mIndex.get_loc\u001b[1;34m(self, key)\u001b[0m\n\u001b[0;32m   3790\u001b[0m \u001b[38;5;28;01mtry\u001b[39;00m:\n\u001b[1;32m-> 3791\u001b[0m     \u001b[38;5;28;01mreturn\u001b[39;00m \u001b[38;5;28mself\u001b[39m\u001b[38;5;241m.\u001b[39m_engine\u001b[38;5;241m.\u001b[39mget_loc(casted_key)\n\u001b[0;32m   3792\u001b[0m \u001b[38;5;28;01mexcept\u001b[39;00m \u001b[38;5;167;01mKeyError\u001b[39;00m \u001b[38;5;28;01mas\u001b[39;00m err:\n",
      "File \u001b[1;32mindex.pyx:152\u001b[0m, in \u001b[0;36mpandas._libs.index.IndexEngine.get_loc\u001b[1;34m()\u001b[0m\n",
      "File \u001b[1;32mindex.pyx:181\u001b[0m, in \u001b[0;36mpandas._libs.index.IndexEngine.get_loc\u001b[1;34m()\u001b[0m\n",
      "File \u001b[1;32mpandas\\_libs\\hashtable_class_helper.pxi:7080\u001b[0m, in \u001b[0;36mpandas._libs.hashtable.PyObjectHashTable.get_item\u001b[1;34m()\u001b[0m\n",
      "File \u001b[1;32mpandas\\_libs\\hashtable_class_helper.pxi:7088\u001b[0m, in \u001b[0;36mpandas._libs.hashtable.PyObjectHashTable.get_item\u001b[1;34m()\u001b[0m\n",
      "\u001b[1;31mKeyError\u001b[0m: 'Age'",
      "\nThe above exception was the direct cause of the following exception:\n",
      "\u001b[1;31mKeyError\u001b[0m                                  Traceback (most recent call last)",
      "Cell \u001b[1;32mIn[16], line 1\u001b[0m\n\u001b[1;32m----> 1\u001b[0m mask_Age1 \u001b[38;5;241m=\u001b[39m df[\u001b[38;5;124m'\u001b[39m\u001b[38;5;124mAge\u001b[39m\u001b[38;5;124m'\u001b[39m] \u001b[38;5;241m>\u001b[39m\u001b[38;5;241m=\u001b[39m \u001b[38;5;241m10\u001b[39m\n\u001b[0;32m      2\u001b[0m mask_Age2 \u001b[38;5;241m=\u001b[39m df[\u001b[38;5;124m'\u001b[39m\u001b[38;5;124mAge\u001b[39m\u001b[38;5;124m'\u001b[39m] \u001b[38;5;241m<\u001b[39m\u001b[38;5;241m=\u001b[39m \u001b[38;5;241m45.5\u001b[39m\n\u001b[0;32m      4\u001b[0m \u001b[38;5;28mprint\u001b[39m(df[mask_Age1]\u001b[38;5;241m.\u001b[39mhead())\n",
      "File \u001b[1;32mc:\\ProgramData\\anaconda3\\Lib\\site-packages\\pandas\\core\\frame.py:3893\u001b[0m, in \u001b[0;36mDataFrame.__getitem__\u001b[1;34m(self, key)\u001b[0m\n\u001b[0;32m   3891\u001b[0m \u001b[38;5;28;01mif\u001b[39;00m \u001b[38;5;28mself\u001b[39m\u001b[38;5;241m.\u001b[39mcolumns\u001b[38;5;241m.\u001b[39mnlevels \u001b[38;5;241m>\u001b[39m \u001b[38;5;241m1\u001b[39m:\n\u001b[0;32m   3892\u001b[0m     \u001b[38;5;28;01mreturn\u001b[39;00m \u001b[38;5;28mself\u001b[39m\u001b[38;5;241m.\u001b[39m_getitem_multilevel(key)\n\u001b[1;32m-> 3893\u001b[0m indexer \u001b[38;5;241m=\u001b[39m \u001b[38;5;28mself\u001b[39m\u001b[38;5;241m.\u001b[39mcolumns\u001b[38;5;241m.\u001b[39mget_loc(key)\n\u001b[0;32m   3894\u001b[0m \u001b[38;5;28;01mif\u001b[39;00m is_integer(indexer):\n\u001b[0;32m   3895\u001b[0m     indexer \u001b[38;5;241m=\u001b[39m [indexer]\n",
      "File \u001b[1;32mc:\\ProgramData\\anaconda3\\Lib\\site-packages\\pandas\\core\\indexes\\base.py:3798\u001b[0m, in \u001b[0;36mIndex.get_loc\u001b[1;34m(self, key)\u001b[0m\n\u001b[0;32m   3793\u001b[0m     \u001b[38;5;28;01mif\u001b[39;00m \u001b[38;5;28misinstance\u001b[39m(casted_key, \u001b[38;5;28mslice\u001b[39m) \u001b[38;5;129;01mor\u001b[39;00m (\n\u001b[0;32m   3794\u001b[0m         \u001b[38;5;28misinstance\u001b[39m(casted_key, abc\u001b[38;5;241m.\u001b[39mIterable)\n\u001b[0;32m   3795\u001b[0m         \u001b[38;5;129;01mand\u001b[39;00m \u001b[38;5;28many\u001b[39m(\u001b[38;5;28misinstance\u001b[39m(x, \u001b[38;5;28mslice\u001b[39m) \u001b[38;5;28;01mfor\u001b[39;00m x \u001b[38;5;129;01min\u001b[39;00m casted_key)\n\u001b[0;32m   3796\u001b[0m     ):\n\u001b[0;32m   3797\u001b[0m         \u001b[38;5;28;01mraise\u001b[39;00m InvalidIndexError(key)\n\u001b[1;32m-> 3798\u001b[0m     \u001b[38;5;28;01mraise\u001b[39;00m \u001b[38;5;167;01mKeyError\u001b[39;00m(key) \u001b[38;5;28;01mfrom\u001b[39;00m \u001b[38;5;21;01merr\u001b[39;00m\n\u001b[0;32m   3799\u001b[0m \u001b[38;5;28;01mexcept\u001b[39;00m \u001b[38;5;167;01mTypeError\u001b[39;00m:\n\u001b[0;32m   3800\u001b[0m     \u001b[38;5;66;03m# If we have a listlike key, _check_indexing_error will raise\u001b[39;00m\n\u001b[0;32m   3801\u001b[0m     \u001b[38;5;66;03m#  InvalidIndexError. Otherwise we fall through and re-raise\u001b[39;00m\n\u001b[0;32m   3802\u001b[0m     \u001b[38;5;66;03m#  the TypeError.\u001b[39;00m\n\u001b[0;32m   3803\u001b[0m     \u001b[38;5;28mself\u001b[39m\u001b[38;5;241m.\u001b[39m_check_indexing_error(key)\n",
      "\u001b[1;31mKeyError\u001b[0m: 'Age'"
     ]
    }
   ],
   "source": [
    "mask_Age1 = df['Age'] >= 10\n",
    "mask_Age2 = df['Age'] <= 45.5\n",
    "\n",
    "print(df[mask_Age1].head())\n",
    "print(df[mask_Age2].head())\n",
    "\n",
    "fig = px.box(\n",
    "    data_frame=df[mask_Age1 & mask_Age2], \n",
    "    x='Age', \n",
    "    orientation='h',\n",
    "    title='Boxplot of the Target (Age) - Without Outliers')\n",
    "\n",
    "fig.update_layout(xaxis_title='Target')\n",
    "fig.show()"
   ]
  },
  {
   "cell_type": "markdown",
   "metadata": {},
   "source": [
    "#### Create a mask to filter out the outliers for 'SibSp'"
   ]
  },
  {
   "cell_type": "code",
   "execution_count": null,
   "metadata": {},
   "outputs": [],
   "source": [
    "mask_SibSp = df['SibSp'] <= 2\n",
    "\n",
    "print(df[mask_SibSp].head())\n",
    "print(df[mask_SibSp].info())\n",
    "\n",
    "fig = px.box(\n",
    "    data_frame=df[mask_SibSp], \n",
    "    x='SibSp', \n",
    "    orientation='h',\n",
    "    title='Boxplot of the Target (SibSp) - Without Outliers')\n",
    "\n",
    "fig.update_layout(xaxis_title='Target')\n",
    "fig.show()"
   ]
  },
  {
   "cell_type": "markdown",
   "metadata": {},
   "source": [
    "#### Create a mask to filter out the outliers for 'Parch'"
   ]
  },
  {
   "cell_type": "code",
   "execution_count": null,
   "metadata": {},
   "outputs": [],
   "source": [
    "mask_Parch = df['Parch'] == 0\n",
    "\n",
    "print(df[mask_Parch].head())\n",
    "print(df[mask_Parch].info())\n",
    "\n",
    "fig = px.box(\n",
    "    data_frame=df[mask_Parch], \n",
    "    x='Parch', \n",
    "    orientation='h',\n",
    "    title='Boxplot of the Target (Parch) - Without Outliers')\n",
    "\n",
    "fig.update_layout(xaxis_title='Target')\n",
    "fig.show()"
   ]
  },
  {
   "cell_type": "markdown",
   "metadata": {},
   "source": [
    "#### Create a mask to filter out the outliers for 'Fare'"
   ]
  },
  {
   "cell_type": "code",
   "execution_count": null,
   "metadata": {},
   "outputs": [],
   "source": [
    "mask_Fare = df['Fare'] <= 42.4\n",
    "\n",
    "print(df[mask_Fare].head())\n",
    "print(df[mask_Fare].info())\n",
    "\n",
    "fig = px.box(\n",
    "    data_frame=df[mask_Fare], \n",
    "    x='Fare', \n",
    "    orientation='h',\n",
    "    title='Boxplot of the Target (Fare) - Without Outliers')\n",
    "\n",
    "fig.update_layout(xaxis_title='Target')\n",
    "fig.show()"
   ]
  },
  {
   "cell_type": "markdown",
   "metadata": {},
   "source": [
    "### Filtering out the outliers"
   ]
  },
  {
   "cell_type": "code",
   "execution_count": null,
   "metadata": {},
   "outputs": [],
   "source": [
    "df = df[mask_Age1 & mask_Age2 & mask_SibSp & mask_Parch & mask_Fare]\n",
    "\n",
    "print(df.info())\n",
    "df.head()"
   ]
  },
  {
   "cell_type": "markdown",
   "metadata": {},
   "source": [
    "## Scaling"
   ]
  },
  {
   "cell_type": "code",
   "execution_count": 17,
   "metadata": {},
   "outputs": [],
   "source": [
    "df['ChurnLikelihood'] = df['ChurnLikelihood'].map({'Slightly Likely to Churn' : 0, 'Moderately Likely to Churn' : 1, 'Highly Likely to Churn' : 2}).astype('int')"
   ]
  },
  {
   "cell_type": "markdown",
   "metadata": {},
   "source": [
    "# 6. Modeling"
   ]
  },
  {
   "cell_type": "markdown",
   "metadata": {},
   "source": [
    "## Split Data"
   ]
  },
  {
   "cell_type": "code",
   "execution_count": 18,
   "metadata": {},
   "outputs": [],
   "source": [
    "from sklearn.model_selection import train_test_split\n",
    "\n",
    "X = df.drop(columns=['ChurnLikelihood'], inplace=False)\n",
    "y = df['ChurnLikelihood']\n",
    "\n",
    "X_train, X_test, y_train, y_test = train_test_split(X, y, test_size=0.2, random_state=1)"
   ]
  },
  {
   "cell_type": "markdown",
   "metadata": {},
   "source": [
    "## Build Model"
   ]
  },
  {
   "cell_type": "code",
   "execution_count": 19,
   "metadata": {},
   "outputs": [
    {
     "data": {
      "text/html": [
       "<style>#sk-container-id-1 {color: black;background-color: white;}#sk-container-id-1 pre{padding: 0;}#sk-container-id-1 div.sk-toggleable {background-color: white;}#sk-container-id-1 label.sk-toggleable__label {cursor: pointer;display: block;width: 100%;margin-bottom: 0;padding: 0.3em;box-sizing: border-box;text-align: center;}#sk-container-id-1 label.sk-toggleable__label-arrow:before {content: \"▸\";float: left;margin-right: 0.25em;color: #696969;}#sk-container-id-1 label.sk-toggleable__label-arrow:hover:before {color: black;}#sk-container-id-1 div.sk-estimator:hover label.sk-toggleable__label-arrow:before {color: black;}#sk-container-id-1 div.sk-toggleable__content {max-height: 0;max-width: 0;overflow: hidden;text-align: left;background-color: #f0f8ff;}#sk-container-id-1 div.sk-toggleable__content pre {margin: 0.2em;color: black;border-radius: 0.25em;background-color: #f0f8ff;}#sk-container-id-1 input.sk-toggleable__control:checked~div.sk-toggleable__content {max-height: 200px;max-width: 100%;overflow: auto;}#sk-container-id-1 input.sk-toggleable__control:checked~label.sk-toggleable__label-arrow:before {content: \"▾\";}#sk-container-id-1 div.sk-estimator input.sk-toggleable__control:checked~label.sk-toggleable__label {background-color: #d4ebff;}#sk-container-id-1 div.sk-label input.sk-toggleable__control:checked~label.sk-toggleable__label {background-color: #d4ebff;}#sk-container-id-1 input.sk-hidden--visually {border: 0;clip: rect(1px 1px 1px 1px);clip: rect(1px, 1px, 1px, 1px);height: 1px;margin: -1px;overflow: hidden;padding: 0;position: absolute;width: 1px;}#sk-container-id-1 div.sk-estimator {font-family: monospace;background-color: #f0f8ff;border: 1px dotted black;border-radius: 0.25em;box-sizing: border-box;margin-bottom: 0.5em;}#sk-container-id-1 div.sk-estimator:hover {background-color: #d4ebff;}#sk-container-id-1 div.sk-parallel-item::after {content: \"\";width: 100%;border-bottom: 1px solid gray;flex-grow: 1;}#sk-container-id-1 div.sk-label:hover label.sk-toggleable__label {background-color: #d4ebff;}#sk-container-id-1 div.sk-serial::before {content: \"\";position: absolute;border-left: 1px solid gray;box-sizing: border-box;top: 0;bottom: 0;left: 50%;z-index: 0;}#sk-container-id-1 div.sk-serial {display: flex;flex-direction: column;align-items: center;background-color: white;padding-right: 0.2em;padding-left: 0.2em;position: relative;}#sk-container-id-1 div.sk-item {position: relative;z-index: 1;}#sk-container-id-1 div.sk-parallel {display: flex;align-items: stretch;justify-content: center;background-color: white;position: relative;}#sk-container-id-1 div.sk-item::before, #sk-container-id-1 div.sk-parallel-item::before {content: \"\";position: absolute;border-left: 1px solid gray;box-sizing: border-box;top: 0;bottom: 0;left: 50%;z-index: -1;}#sk-container-id-1 div.sk-parallel-item {display: flex;flex-direction: column;z-index: 1;position: relative;background-color: white;}#sk-container-id-1 div.sk-parallel-item:first-child::after {align-self: flex-end;width: 50%;}#sk-container-id-1 div.sk-parallel-item:last-child::after {align-self: flex-start;width: 50%;}#sk-container-id-1 div.sk-parallel-item:only-child::after {width: 0;}#sk-container-id-1 div.sk-dashed-wrapped {border: 1px dashed gray;margin: 0 0.4em 0.5em 0.4em;box-sizing: border-box;padding-bottom: 0.4em;background-color: white;}#sk-container-id-1 div.sk-label label {font-family: monospace;font-weight: bold;display: inline-block;line-height: 1.2em;}#sk-container-id-1 div.sk-label-container {text-align: center;}#sk-container-id-1 div.sk-container {/* jupyter's `normalize.less` sets `[hidden] { display: none; }` but bootstrap.min.css set `[hidden] { display: none !important; }` so we also need the `!important` here to be able to override the default hidden behavior on the sphinx rendered scikit-learn.org. See: https://github.com/scikit-learn/scikit-learn/issues/21755 */display: inline-block !important;position: relative;}#sk-container-id-1 div.sk-text-repr-fallback {display: none;}</style><div id=\"sk-container-id-1\" class=\"sk-top-container\"><div class=\"sk-text-repr-fallback\"><pre>Pipeline(steps=[(&#x27;onehotencoder&#x27;,\n",
       "                 OneHotEncoder(cols=[&#x27;Branch&#x27;, &#x27;Department&#x27;, &#x27;CommuteDistance&#x27;,\n",
       "                                     &#x27;MaritalStatus&#x27;, &#x27;Education&#x27;],\n",
       "                               use_cat_names=True)),\n",
       "                (&#x27;standardscaler&#x27;, StandardScaler()),\n",
       "                (&#x27;logisticregression&#x27;, LogisticRegression())])</pre><b>In a Jupyter environment, please rerun this cell to show the HTML representation or trust the notebook. <br />On GitHub, the HTML representation is unable to render, please try loading this page with nbviewer.org.</b></div><div class=\"sk-container\" hidden><div class=\"sk-item sk-dashed-wrapped\"><div class=\"sk-label-container\"><div class=\"sk-label sk-toggleable\"><input class=\"sk-toggleable__control sk-hidden--visually\" id=\"sk-estimator-id-1\" type=\"checkbox\" ><label for=\"sk-estimator-id-1\" class=\"sk-toggleable__label sk-toggleable__label-arrow\">Pipeline</label><div class=\"sk-toggleable__content\"><pre>Pipeline(steps=[(&#x27;onehotencoder&#x27;,\n",
       "                 OneHotEncoder(cols=[&#x27;Branch&#x27;, &#x27;Department&#x27;, &#x27;CommuteDistance&#x27;,\n",
       "                                     &#x27;MaritalStatus&#x27;, &#x27;Education&#x27;],\n",
       "                               use_cat_names=True)),\n",
       "                (&#x27;standardscaler&#x27;, StandardScaler()),\n",
       "                (&#x27;logisticregression&#x27;, LogisticRegression())])</pre></div></div></div><div class=\"sk-serial\"><div class=\"sk-item\"><div class=\"sk-estimator sk-toggleable\"><input class=\"sk-toggleable__control sk-hidden--visually\" id=\"sk-estimator-id-2\" type=\"checkbox\" ><label for=\"sk-estimator-id-2\" class=\"sk-toggleable__label sk-toggleable__label-arrow\">OneHotEncoder</label><div class=\"sk-toggleable__content\"><pre>OneHotEncoder(cols=[&#x27;Branch&#x27;, &#x27;Department&#x27;, &#x27;CommuteDistance&#x27;, &#x27;MaritalStatus&#x27;,\n",
       "                    &#x27;Education&#x27;],\n",
       "              use_cat_names=True)</pre></div></div></div><div class=\"sk-item\"><div class=\"sk-estimator sk-toggleable\"><input class=\"sk-toggleable__control sk-hidden--visually\" id=\"sk-estimator-id-3\" type=\"checkbox\" ><label for=\"sk-estimator-id-3\" class=\"sk-toggleable__label sk-toggleable__label-arrow\">StandardScaler</label><div class=\"sk-toggleable__content\"><pre>StandardScaler()</pre></div></div></div><div class=\"sk-item\"><div class=\"sk-estimator sk-toggleable\"><input class=\"sk-toggleable__control sk-hidden--visually\" id=\"sk-estimator-id-4\" type=\"checkbox\" ><label for=\"sk-estimator-id-4\" class=\"sk-toggleable__label sk-toggleable__label-arrow\">LogisticRegression</label><div class=\"sk-toggleable__content\"><pre>LogisticRegression()</pre></div></div></div></div></div></div></div>"
      ],
      "text/plain": [
       "Pipeline(steps=[('onehotencoder',\n",
       "                 OneHotEncoder(cols=['Branch', 'Department', 'CommuteDistance',\n",
       "                                     'MaritalStatus', 'Education'],\n",
       "                               use_cat_names=True)),\n",
       "                ('standardscaler', StandardScaler()),\n",
       "                ('logisticregression', LogisticRegression())])"
      ]
     },
     "execution_count": 19,
     "metadata": {},
     "output_type": "execute_result"
    }
   ],
   "source": [
    "from sklearn.pipeline import make_pipeline\n",
    "from category_encoders import OneHotEncoder\n",
    "from sklearn.preprocessing import StandardScaler\n",
    "from sklearn.tree import DecisionTreeClassifier\n",
    "from sklearn.ensemble import RandomForestClassifier\n",
    "from sklearn.linear_model import LogisticRegression\n",
    "\n",
    "model_dt = make_pipeline(\n",
    "    OneHotEncoder(use_cat_names=True), # encode cat features\n",
    "    StandardScaler(), # imputation\n",
    "    DecisionTreeClassifier()) # build model\n",
    "\n",
    "model_rf = make_pipeline(\n",
    "    OneHotEncoder(use_cat_names=True), # encode cat features\n",
    "    StandardScaler(), # imputation\n",
    "    RandomForestClassifier()) # build model\n",
    "\n",
    "model_lr = make_pipeline(\n",
    "    OneHotEncoder(use_cat_names=True), # encode cat features\n",
    "    StandardScaler(), # imputation\n",
    "    LogisticRegression()) # build model\n",
    "\n",
    "# fit the model\n",
    "model_dt.fit(X_train, y_train)\n",
    "model_rf.fit(X_train, y_train)\n",
    "model_lr.fit(X_train, y_train)"
   ]
  },
  {
   "cell_type": "markdown",
   "metadata": {},
   "source": [
    "## Accuracy of Model"
   ]
  },
  {
   "cell_type": "code",
   "execution_count": 20,
   "metadata": {},
   "outputs": [
    {
     "name": "stdout",
     "output_type": "stream",
     "text": [
      "Decision Tree Accuracy: 97.7346\n",
      "Random Forest Classifier: 98.0583\n",
      "Logistic Regression: 97.7346\n"
     ]
    }
   ],
   "source": [
    "from sklearn.metrics import accuracy_score\n",
    "\n",
    "y_pred = model_dt.predict(X_test)\n",
    "accuracy = accuracy_score(y_test, y_pred)\n",
    "print(\"Decision Tree Accuracy:\", (accuracy*100).__round__(4))\n",
    "\n",
    "y_pred = model_rf.predict(X_test)\n",
    "accuracy = accuracy_score(y_test, y_pred)\n",
    "print(\"Random Forest Classifier:\", (accuracy*100).__round__(4))\n",
    "\n",
    "y_pred = model_lr.predict(X_test)\n",
    "accuracy = accuracy_score(y_test, y_pred)\n",
    "print(\"Logistic Regression:\", (accuracy*100).__round__(4))"
   ]
  },
  {
   "cell_type": "markdown",
   "metadata": {},
   "source": [
    "## Evaluate"
   ]
  },
  {
   "cell_type": "code",
   "execution_count": 21,
   "metadata": {},
   "outputs": [
    {
     "name": "stdout",
     "output_type": "stream",
     "text": [
      "Training MAE: 0.0\n",
      "Test data MAE: 0.02\n",
      "Training MAE: 0.0\n",
      "Test data MAE: 0.02\n",
      "Training MAE: 0.02\n",
      "Test data MAE: 0.02\n"
     ]
    }
   ],
   "source": [
    "from sklearn.metrics import mean_absolute_error\n",
    "\n",
    "# Decision Tree\n",
    "# Predict the train data\n",
    "y_pred_training = model_dt.predict(X_train)\n",
    "y_pred_test = model_dt.predict(X_test)\n",
    "\n",
    "# Compute MAE\n",
    "print(\"Training MAE:\", round(mean_absolute_error(y_train, y_pred_training),2))\n",
    "print(\"Test data MAE:\", round(mean_absolute_error(y_test, y_pred_test),2))\n",
    "\n",
    "# Random Forest Regressor\n",
    "# Predict the train data\n",
    "y_pred_training = model_rf.predict(X_train)\n",
    "y_pred_test = model_rf.predict(X_test)\n",
    "\n",
    "# Compute MAE\n",
    "print(\"Training MAE:\", round(mean_absolute_error(y_train, y_pred_training),2))\n",
    "print(\"Test data MAE:\", round(mean_absolute_error(y_test, y_pred_test),2))\n",
    "\n",
    "# Logistic Regression\n",
    "# Predict the train data\n",
    "y_pred_training = model_lr.predict(X_train)\n",
    "y_pred_test = model_lr.predict(X_test)\n",
    "\n",
    "# Compute MAE\n",
    "print(\"Training MAE:\", round(mean_absolute_error(y_train, y_pred_training),2))\n",
    "print(\"Test data MAE:\", round(mean_absolute_error(y_test, y_pred_test),2))"
   ]
  },
  {
   "cell_type": "code",
   "execution_count": 22,
   "metadata": {},
   "outputs": [
    {
     "name": "stderr",
     "output_type": "stream",
     "text": [
      "C:\\Users\\hroux\\AppData\\Roaming\\Python\\Python311\\site-packages\\category_encoders\\utils.py:366: FutureWarning:\n",
      "\n",
      "`get_feature_names` is deprecated in all of sklearn. Use `get_feature_names_out` instead.\n",
      "\n"
     ]
    }
   ],
   "source": [
    "features = model_lr.named_steps[\"onehotencoder\"].get_feature_names()\n",
    "coefs = model_lr.named_steps[\"logisticregression\"].coef_[0]"
   ]
  },
  {
   "cell_type": "code",
   "execution_count": 23,
   "metadata": {},
   "outputs": [
    {
     "data": {
      "text/plain": [
       "Branch_Miami           0.418963\n",
       "Branch_Denver          0.479723\n",
       "Branch_Atlanta         0.535864\n",
       "Department_Legal       0.707691\n",
       "YearsSincePromotion    0.766494\n",
       "dtype: float64"
      ]
     },
     "execution_count": 23,
     "metadata": {},
     "output_type": "execute_result"
    }
   ],
   "source": [
    "import numpy as np\n",
    "\n",
    "odds_ratios = pd.Series(np.exp(coefs), index=features).sort_values()\n",
    "odds_ratios.head()"
   ]
  },
  {
   "cell_type": "code",
   "execution_count": 24,
   "metadata": {},
   "outputs": [
    {
     "data": {
      "application/vnd.plotly.v1+json": {
       "config": {
        "plotlyServerURL": "https://plot.ly"
       },
       "data": [
        {
         "alignmentgroup": "True",
         "hovertemplate": "x=%{x}<br>y=%{y}<extra></extra>",
         "legendgroup": "",
         "marker": {
          "color": "#636efa",
          "pattern": {
           "shape": ""
          }
         },
         "name": "",
         "offsetgroup": "",
         "orientation": "h",
         "showlegend": false,
         "textposition": "auto",
         "type": "bar",
         "x": [
          0.4189634517050193,
          0.47972302073063294,
          0.5358636492692819,
          0.7076913606986207,
          0.7664941900792499,
          0.8291447279333442,
          0.8383844123003359,
          0.8434077325304099,
          0.8678313991106545,
          0.8778769466927755
         ],
         "xaxis": "x",
         "y": [
          "Branch_Miami",
          "Branch_Denver",
          "Branch_Atlanta",
          "Department_Legal",
          "YearsSincePromotion",
          "Education_High School",
          "Department_Accounting",
          "Department_Procurement",
          "Department_Human Resources",
          "MaritalStatus_Married"
         ],
         "yaxis": "y"
        }
       ],
       "layout": {
        "barmode": "relative",
        "legend": {
         "tracegroupgap": 0
        },
        "template": {
         "data": {
          "bar": [
           {
            "error_x": {
             "color": "#2a3f5f"
            },
            "error_y": {
             "color": "#2a3f5f"
            },
            "marker": {
             "line": {
              "color": "#E5ECF6",
              "width": 0.5
             },
             "pattern": {
              "fillmode": "overlay",
              "size": 10,
              "solidity": 0.2
             }
            },
            "type": "bar"
           }
          ],
          "barpolar": [
           {
            "marker": {
             "line": {
              "color": "#E5ECF6",
              "width": 0.5
             },
             "pattern": {
              "fillmode": "overlay",
              "size": 10,
              "solidity": 0.2
             }
            },
            "type": "barpolar"
           }
          ],
          "carpet": [
           {
            "aaxis": {
             "endlinecolor": "#2a3f5f",
             "gridcolor": "white",
             "linecolor": "white",
             "minorgridcolor": "white",
             "startlinecolor": "#2a3f5f"
            },
            "baxis": {
             "endlinecolor": "#2a3f5f",
             "gridcolor": "white",
             "linecolor": "white",
             "minorgridcolor": "white",
             "startlinecolor": "#2a3f5f"
            },
            "type": "carpet"
           }
          ],
          "choropleth": [
           {
            "colorbar": {
             "outlinewidth": 0,
             "ticks": ""
            },
            "type": "choropleth"
           }
          ],
          "contour": [
           {
            "colorbar": {
             "outlinewidth": 0,
             "ticks": ""
            },
            "colorscale": [
             [
              0,
              "#0d0887"
             ],
             [
              0.1111111111111111,
              "#46039f"
             ],
             [
              0.2222222222222222,
              "#7201a8"
             ],
             [
              0.3333333333333333,
              "#9c179e"
             ],
             [
              0.4444444444444444,
              "#bd3786"
             ],
             [
              0.5555555555555556,
              "#d8576b"
             ],
             [
              0.6666666666666666,
              "#ed7953"
             ],
             [
              0.7777777777777778,
              "#fb9f3a"
             ],
             [
              0.8888888888888888,
              "#fdca26"
             ],
             [
              1,
              "#f0f921"
             ]
            ],
            "type": "contour"
           }
          ],
          "contourcarpet": [
           {
            "colorbar": {
             "outlinewidth": 0,
             "ticks": ""
            },
            "type": "contourcarpet"
           }
          ],
          "heatmap": [
           {
            "colorbar": {
             "outlinewidth": 0,
             "ticks": ""
            },
            "colorscale": [
             [
              0,
              "#0d0887"
             ],
             [
              0.1111111111111111,
              "#46039f"
             ],
             [
              0.2222222222222222,
              "#7201a8"
             ],
             [
              0.3333333333333333,
              "#9c179e"
             ],
             [
              0.4444444444444444,
              "#bd3786"
             ],
             [
              0.5555555555555556,
              "#d8576b"
             ],
             [
              0.6666666666666666,
              "#ed7953"
             ],
             [
              0.7777777777777778,
              "#fb9f3a"
             ],
             [
              0.8888888888888888,
              "#fdca26"
             ],
             [
              1,
              "#f0f921"
             ]
            ],
            "type": "heatmap"
           }
          ],
          "heatmapgl": [
           {
            "colorbar": {
             "outlinewidth": 0,
             "ticks": ""
            },
            "colorscale": [
             [
              0,
              "#0d0887"
             ],
             [
              0.1111111111111111,
              "#46039f"
             ],
             [
              0.2222222222222222,
              "#7201a8"
             ],
             [
              0.3333333333333333,
              "#9c179e"
             ],
             [
              0.4444444444444444,
              "#bd3786"
             ],
             [
              0.5555555555555556,
              "#d8576b"
             ],
             [
              0.6666666666666666,
              "#ed7953"
             ],
             [
              0.7777777777777778,
              "#fb9f3a"
             ],
             [
              0.8888888888888888,
              "#fdca26"
             ],
             [
              1,
              "#f0f921"
             ]
            ],
            "type": "heatmapgl"
           }
          ],
          "histogram": [
           {
            "marker": {
             "pattern": {
              "fillmode": "overlay",
              "size": 10,
              "solidity": 0.2
             }
            },
            "type": "histogram"
           }
          ],
          "histogram2d": [
           {
            "colorbar": {
             "outlinewidth": 0,
             "ticks": ""
            },
            "colorscale": [
             [
              0,
              "#0d0887"
             ],
             [
              0.1111111111111111,
              "#46039f"
             ],
             [
              0.2222222222222222,
              "#7201a8"
             ],
             [
              0.3333333333333333,
              "#9c179e"
             ],
             [
              0.4444444444444444,
              "#bd3786"
             ],
             [
              0.5555555555555556,
              "#d8576b"
             ],
             [
              0.6666666666666666,
              "#ed7953"
             ],
             [
              0.7777777777777778,
              "#fb9f3a"
             ],
             [
              0.8888888888888888,
              "#fdca26"
             ],
             [
              1,
              "#f0f921"
             ]
            ],
            "type": "histogram2d"
           }
          ],
          "histogram2dcontour": [
           {
            "colorbar": {
             "outlinewidth": 0,
             "ticks": ""
            },
            "colorscale": [
             [
              0,
              "#0d0887"
             ],
             [
              0.1111111111111111,
              "#46039f"
             ],
             [
              0.2222222222222222,
              "#7201a8"
             ],
             [
              0.3333333333333333,
              "#9c179e"
             ],
             [
              0.4444444444444444,
              "#bd3786"
             ],
             [
              0.5555555555555556,
              "#d8576b"
             ],
             [
              0.6666666666666666,
              "#ed7953"
             ],
             [
              0.7777777777777778,
              "#fb9f3a"
             ],
             [
              0.8888888888888888,
              "#fdca26"
             ],
             [
              1,
              "#f0f921"
             ]
            ],
            "type": "histogram2dcontour"
           }
          ],
          "mesh3d": [
           {
            "colorbar": {
             "outlinewidth": 0,
             "ticks": ""
            },
            "type": "mesh3d"
           }
          ],
          "parcoords": [
           {
            "line": {
             "colorbar": {
              "outlinewidth": 0,
              "ticks": ""
             }
            },
            "type": "parcoords"
           }
          ],
          "pie": [
           {
            "automargin": true,
            "type": "pie"
           }
          ],
          "scatter": [
           {
            "fillpattern": {
             "fillmode": "overlay",
             "size": 10,
             "solidity": 0.2
            },
            "type": "scatter"
           }
          ],
          "scatter3d": [
           {
            "line": {
             "colorbar": {
              "outlinewidth": 0,
              "ticks": ""
             }
            },
            "marker": {
             "colorbar": {
              "outlinewidth": 0,
              "ticks": ""
             }
            },
            "type": "scatter3d"
           }
          ],
          "scattercarpet": [
           {
            "marker": {
             "colorbar": {
              "outlinewidth": 0,
              "ticks": ""
             }
            },
            "type": "scattercarpet"
           }
          ],
          "scattergeo": [
           {
            "marker": {
             "colorbar": {
              "outlinewidth": 0,
              "ticks": ""
             }
            },
            "type": "scattergeo"
           }
          ],
          "scattergl": [
           {
            "marker": {
             "colorbar": {
              "outlinewidth": 0,
              "ticks": ""
             }
            },
            "type": "scattergl"
           }
          ],
          "scattermapbox": [
           {
            "marker": {
             "colorbar": {
              "outlinewidth": 0,
              "ticks": ""
             }
            },
            "type": "scattermapbox"
           }
          ],
          "scatterpolar": [
           {
            "marker": {
             "colorbar": {
              "outlinewidth": 0,
              "ticks": ""
             }
            },
            "type": "scatterpolar"
           }
          ],
          "scatterpolargl": [
           {
            "marker": {
             "colorbar": {
              "outlinewidth": 0,
              "ticks": ""
             }
            },
            "type": "scatterpolargl"
           }
          ],
          "scatterternary": [
           {
            "marker": {
             "colorbar": {
              "outlinewidth": 0,
              "ticks": ""
             }
            },
            "type": "scatterternary"
           }
          ],
          "surface": [
           {
            "colorbar": {
             "outlinewidth": 0,
             "ticks": ""
            },
            "colorscale": [
             [
              0,
              "#0d0887"
             ],
             [
              0.1111111111111111,
              "#46039f"
             ],
             [
              0.2222222222222222,
              "#7201a8"
             ],
             [
              0.3333333333333333,
              "#9c179e"
             ],
             [
              0.4444444444444444,
              "#bd3786"
             ],
             [
              0.5555555555555556,
              "#d8576b"
             ],
             [
              0.6666666666666666,
              "#ed7953"
             ],
             [
              0.7777777777777778,
              "#fb9f3a"
             ],
             [
              0.8888888888888888,
              "#fdca26"
             ],
             [
              1,
              "#f0f921"
             ]
            ],
            "type": "surface"
           }
          ],
          "table": [
           {
            "cells": {
             "fill": {
              "color": "#EBF0F8"
             },
             "line": {
              "color": "white"
             }
            },
            "header": {
             "fill": {
              "color": "#C8D4E3"
             },
             "line": {
              "color": "white"
             }
            },
            "type": "table"
           }
          ]
         },
         "layout": {
          "annotationdefaults": {
           "arrowcolor": "#2a3f5f",
           "arrowhead": 0,
           "arrowwidth": 1
          },
          "autotypenumbers": "strict",
          "coloraxis": {
           "colorbar": {
            "outlinewidth": 0,
            "ticks": ""
           }
          },
          "colorscale": {
           "diverging": [
            [
             0,
             "#8e0152"
            ],
            [
             0.1,
             "#c51b7d"
            ],
            [
             0.2,
             "#de77ae"
            ],
            [
             0.3,
             "#f1b6da"
            ],
            [
             0.4,
             "#fde0ef"
            ],
            [
             0.5,
             "#f7f7f7"
            ],
            [
             0.6,
             "#e6f5d0"
            ],
            [
             0.7,
             "#b8e186"
            ],
            [
             0.8,
             "#7fbc41"
            ],
            [
             0.9,
             "#4d9221"
            ],
            [
             1,
             "#276419"
            ]
           ],
           "sequential": [
            [
             0,
             "#0d0887"
            ],
            [
             0.1111111111111111,
             "#46039f"
            ],
            [
             0.2222222222222222,
             "#7201a8"
            ],
            [
             0.3333333333333333,
             "#9c179e"
            ],
            [
             0.4444444444444444,
             "#bd3786"
            ],
            [
             0.5555555555555556,
             "#d8576b"
            ],
            [
             0.6666666666666666,
             "#ed7953"
            ],
            [
             0.7777777777777778,
             "#fb9f3a"
            ],
            [
             0.8888888888888888,
             "#fdca26"
            ],
            [
             1,
             "#f0f921"
            ]
           ],
           "sequentialminus": [
            [
             0,
             "#0d0887"
            ],
            [
             0.1111111111111111,
             "#46039f"
            ],
            [
             0.2222222222222222,
             "#7201a8"
            ],
            [
             0.3333333333333333,
             "#9c179e"
            ],
            [
             0.4444444444444444,
             "#bd3786"
            ],
            [
             0.5555555555555556,
             "#d8576b"
            ],
            [
             0.6666666666666666,
             "#ed7953"
            ],
            [
             0.7777777777777778,
             "#fb9f3a"
            ],
            [
             0.8888888888888888,
             "#fdca26"
            ],
            [
             1,
             "#f0f921"
            ]
           ]
          },
          "colorway": [
           "#636efa",
           "#EF553B",
           "#00cc96",
           "#ab63fa",
           "#FFA15A",
           "#19d3f3",
           "#FF6692",
           "#B6E880",
           "#FF97FF",
           "#FECB52"
          ],
          "font": {
           "color": "#2a3f5f"
          },
          "geo": {
           "bgcolor": "white",
           "lakecolor": "white",
           "landcolor": "#E5ECF6",
           "showlakes": true,
           "showland": true,
           "subunitcolor": "white"
          },
          "hoverlabel": {
           "align": "left"
          },
          "hovermode": "closest",
          "mapbox": {
           "style": "light"
          },
          "paper_bgcolor": "white",
          "plot_bgcolor": "#E5ECF6",
          "polar": {
           "angularaxis": {
            "gridcolor": "white",
            "linecolor": "white",
            "ticks": ""
           },
           "bgcolor": "#E5ECF6",
           "radialaxis": {
            "gridcolor": "white",
            "linecolor": "white",
            "ticks": ""
           }
          },
          "scene": {
           "xaxis": {
            "backgroundcolor": "#E5ECF6",
            "gridcolor": "white",
            "gridwidth": 2,
            "linecolor": "white",
            "showbackground": true,
            "ticks": "",
            "zerolinecolor": "white"
           },
           "yaxis": {
            "backgroundcolor": "#E5ECF6",
            "gridcolor": "white",
            "gridwidth": 2,
            "linecolor": "white",
            "showbackground": true,
            "ticks": "",
            "zerolinecolor": "white"
           },
           "zaxis": {
            "backgroundcolor": "#E5ECF6",
            "gridcolor": "white",
            "gridwidth": 2,
            "linecolor": "white",
            "showbackground": true,
            "ticks": "",
            "zerolinecolor": "white"
           }
          },
          "shapedefaults": {
           "line": {
            "color": "#2a3f5f"
           }
          },
          "ternary": {
           "aaxis": {
            "gridcolor": "white",
            "linecolor": "white",
            "ticks": ""
           },
           "baxis": {
            "gridcolor": "white",
            "linecolor": "white",
            "ticks": ""
           },
           "bgcolor": "#E5ECF6",
           "caxis": {
            "gridcolor": "white",
            "linecolor": "white",
            "ticks": ""
           }
          },
          "title": {
           "x": 0.05
          },
          "xaxis": {
           "automargin": true,
           "gridcolor": "white",
           "linecolor": "white",
           "ticks": "",
           "title": {
            "standoff": 15
           },
           "zerolinecolor": "white",
           "zerolinewidth": 2
          },
          "yaxis": {
           "automargin": true,
           "gridcolor": "white",
           "linecolor": "white",
           "ticks": "",
           "title": {
            "standoff": 15
           },
           "zerolinecolor": "white",
           "zerolinewidth": 2
          }
         }
        },
        "title": {
         "text": "Customer Churn Logistic Regression, Feature Importance (Odds Ratio)"
        },
        "xaxis": {
         "anchor": "y",
         "domain": [
          0,
          1
         ],
         "title": {
          "text": "Odds Ratio"
         }
        },
        "yaxis": {
         "anchor": "x",
         "domain": [
          0,
          1
         ],
         "title": {
          "text": ""
         }
        }
       }
      }
     },
     "metadata": {},
     "output_type": "display_data"
    }
   ],
   "source": [
    "plt.Figure(figsize=(15,10))\n",
    "fig = px.bar(\n",
    "    data_frame=odds_ratios, \n",
    "    x=odds_ratios[:10].values, \n",
    "    y=odds_ratios[:10].index,\n",
    "    title=\"Customer Churn Logistic Regression, Feature Importance (Odds Ratio)\"\n",
    ")\n",
    "\n",
    "fig.update_layout(xaxis_title='Odds Ratio', yaxis_title='')\n",
    "fig.show()"
   ]
  },
  {
   "cell_type": "markdown",
   "metadata": {},
   "source": [
    "## Predict"
   ]
  },
  {
   "cell_type": "code",
   "execution_count": 27,
   "metadata": {},
   "outputs": [],
   "source": [
    "def make_prediction(row):\n",
    "\n",
    "    data = {\n",
    "        \"Branch\": row[1],\n",
    "        \"Tenure\": row[2],\n",
    "        \"Salary\": row[3],\n",
    "        \"Department\": row[4],\n",
    "        \"JobSatisfaction\": row[5],\n",
    "        \"WorkLifeBalance\": row[6],\n",
    "        \"CommuteDistance\": row[7],\n",
    "        \"MaritalStatus\": row[8],\n",
    "        \"Education\": row[9],\n",
    "        \"PerformanceRating\": row[10],\n",
    "        \"TrainingHours\": row[11],\n",
    "        \"OverTime\": row[12],\n",
    "        \"NumProjects\": row[13],\n",
    "        \"YearsSincePromotion\": row[14],\n",
    "        \"EnvironmentSatisfaction\": row[15]\n",
    "    }\n",
    "\n",
    "    df_predict = pd.DataFrame(data, index=[0])\n",
    "    prediction_dt = model_dt.predict(df_predict)[0]\n",
    "    prediction_rf = model_rf.predict(df_predict)[0]\n",
    "    prediction_lr = model_lr.predict(df_predict)[0]\n",
    "    return f\"Decision Tree: {prediction_dt}; Random Forest: {prediction_rf} Logistic Regression: {prediction_lr}\""
   ]
  },
  {
   "cell_type": "code",
   "execution_count": 31,
   "metadata": {},
   "outputs": [
    {
     "name": "stdout",
     "output_type": "stream",
     "text": [
      "Decision Tree: 2; Random Forest: 2 Logistic Regression: 2\n",
      "Decision Tree: 1; Random Forest: 1 Logistic Regression: 1\n"
     ]
    }
   ],
   "source": [
    "print(make_prediction(pd.Series([1,'San Francisco',4.0,63000.0,'Legal',3.0,3.0,'Long','Married','High School',3.0,88.0,True,3.0,0.0,2.0]))) # Should output 2\n",
    "print(make_prediction(pd.Series([2,'Chicago',14.0,72000.0,'Accounting',4.0,4.0,'Short','Single','Bachelor',3.6666666666666665,30.0,True,3.0,2.0,3.0]))) # Should output 1"
   ]
  },
  {
   "cell_type": "markdown",
   "metadata": {},
   "source": [
    "## Save Model"
   ]
  },
  {
   "cell_type": "code",
   "execution_count": 38,
   "metadata": {},
   "outputs": [
    {
     "data": {
      "text/plain": [
       "['../../artifacts/model_1.pkl']"
      ]
     },
     "execution_count": 38,
     "metadata": {},
     "output_type": "execute_result"
    }
   ],
   "source": [
    "import joblib\n",
    "# Save Model\n",
    "joblib.dump(model_dt, '../../artifacts/model_1.pkl')"
   ]
  },
  {
   "cell_type": "markdown",
   "metadata": {},
   "source": [
    "# Dash App"
   ]
  },
  {
   "cell_type": "code",
   "execution_count": 39,
   "metadata": {},
   "outputs": [
    {
     "name": "stdout",
     "output_type": "stream",
     "text": [
      "---------------------------------------------------------------------------\n",
      "DuplicateIdError                          Traceback (most recent call last)\n",
      "DuplicateIdError: Duplicate component id found in the initial layout: `branch`\n",
      "\n"
     ]
    },
    {
     "data": {
      "text/html": [
       "\n",
       "        <iframe\n",
       "            width=\"100%\"\n",
       "            height=\"650\"\n",
       "            src=\"http://127.0.0.1:8050/\"\n",
       "            frameborder=\"0\"\n",
       "            allowfullscreen\n",
       "            \n",
       "        ></iframe>\n",
       "        "
      ],
      "text/plain": [
       "<IPython.lib.display.IFrame at 0x1df37947c10>"
      ]
     },
     "metadata": {},
     "output_type": "display_data"
    }
   ],
   "source": [
    "import dash\n",
    "from dash import dcc, html\n",
    "from dash.dependencies import Input, Output\n",
    "import joblib\n",
    "import pandas as pd\n",
    "\n",
    "# Load the trained model\n",
    "model = joblib.load(\"../../artifacts/model_1.pkl\")\n",
    "\n",
    "# Initialize the Dash app\n",
    "app = dash.Dash(__name__)\n",
    "\n",
    "# Define the layout of the app\n",
    "app.layout = html.Div([\n",
    "    html.H1(\"Employee Churn Prediction\"),\n",
    "\n",
    "    html.Label(\"Branch\"),\n",
    "    dcc.Dropdown(\n",
    "        id=\"branch\",\n",
    "        options=[\n",
    "            {'label': 'San Francisco', 'value': 'San Francisco'},\n",
    "            {'label': 'Chicago', 'value': 'Chicago'},\n",
    "            {'label': 'Miami', 'value': 'Miami'},\n",
    "            {'label': 'Scranton', 'value': 'Scranton'},\n",
    "            {'label': 'Boston', 'value': 'Boston'},\n",
    "            {'label': 'New York', 'value': 'New York'},\n",
    "            {'label': 'Philadelphia', 'value': 'Philadelphia'},\n",
    "            {'label': 'Seattle', 'value': 'Seattle'},\n",
    "            {'label': 'Atlanta', 'value': 'Atlanta'},\n",
    "            {'label': 'Los Angeles', 'value': 'Los Angeles'},\n",
    "            {'label': 'Denver', 'value': 'Denver'},\n",
    "            {'label': 'Dallas', 'value': 'Dallas'}\n",
    "        ],\n",
    "        value='San Francisco'\n",
    "    ),\n",
    "\n",
    "    html.Label(\"Tenure\"),\n",
    "    dcc.Input(id=\"tenure\", type=\"number\", value=4.0),\n",
    "\n",
    "    html.Label(\"Salary\"),\n",
    "    dcc.Input(id=\"salary\", type=\"number\", value=63000.0),\n",
    "\n",
    "    html.Label(\"Department\"),\n",
    "    dcc.Dropdown(\n",
    "        id=\"branch\",\n",
    "        options=[\n",
    "            {'label': 'Legal', 'value': 'Legal'},\n",
    "            {'label': 'Accounting', 'value': 'Accounting'},\n",
    "            {'label': 'Quality Assurance', 'value': 'Quality Assurance'},\n",
    "            {'label': 'Customer Service', 'value': 'Customer Service'},\n",
    "            {'label': 'Sales', 'value': 'Sales'},\n",
    "            {'label': 'Administration', 'value': 'Administration'},\n",
    "            {'label': 'Facilities Management', 'value': 'Facilities Management'},\n",
    "            {'label': 'Research and Development', 'value': 'Research and Development'},\n",
    "            {'label': 'Operations', 'value': 'Operations'},\n",
    "            {'label': 'Marketing', 'value': 'Marketing'},\n",
    "            {'label': 'Public Relations', 'value': 'Public Relations'},\n",
    "            {'label': 'IT Support', 'value': 'IT Support'},\n",
    "            {'label': 'Procurement', 'value': 'Procurement'},\n",
    "            {'label': 'Product Management', 'value': 'Product Management'},\n",
    "            {'label': 'Human Resources', 'value': 'Human Resources'}\n",
    "        ],\n",
    "        value='San Francisco'\n",
    "    ),\n",
    "\n",
    "    html.Label(\"JobSatisfaction\"),\n",
    "    dcc.Input(id=\"job\", type=\"number\", value=3.0),\n",
    "\n",
    "    html.Label(\"WorkLifeBalance\"),\n",
    "    dcc.Input(id=\"balance\", type=\"number\", value=3.0),\n",
    "\n",
    "    html.Label(\"CommuteDistance\"),\n",
    "    dcc.Dropdown(\n",
    "        id=\"commute\",\n",
    "        options=[\n",
    "            {'label': 'Short', 'value': 'Short'},\n",
    "            {'label': 'Medium', 'value': 'Medium'},\n",
    "            {'label': 'Long', 'value': 'Long'}\n",
    "        ],\n",
    "        value='Long'\n",
    "    ),\n",
    "\n",
    "    html.Label(\"MaritalStatus\"),\n",
    "    dcc.Dropdown(\n",
    "        id=\"married\",\n",
    "        options=[\n",
    "            {'label': 'Single', 'value': 'Single'},\n",
    "            {'label': 'Married', 'value': 'Married'},\n",
    "        ],\n",
    "        value='Married'\n",
    "    ),\n",
    "\n",
    "    html.Label(\"Education\"),\n",
    "    dcc.Dropdown(\n",
    "        id=\"education\",\n",
    "        options=[\n",
    "            {'label': 'High School', 'value': 'High School'},\n",
    "            {'label': 'Bachelor', 'value': 'Bachelor'},\n",
    "            {'label': 'Master', 'value': 'Master'},\n",
    "            {'label': 'Doctor', 'value': 'Doctor'}\n",
    "        ],\n",
    "        value='High School'\n",
    "    ),\n",
    "\n",
    "    html.Label(\"PerformanceRating\"),\n",
    "    dcc.Input(id=\"rating\", type=\"number\", value=3.0),\n",
    "\n",
    "    html.Label(\"TrainingHours\"),\n",
    "    dcc.Input(id=\"training\", type=\"number\", value=88.0),\n",
    "\n",
    "    html.Label(\"OverTime\"),\n",
    "    dcc.Dropdown(\n",
    "        id=\"overtime\",\n",
    "        options=[\n",
    "            {'label': 'True', 'value': True},\n",
    "            {'label': 'False', 'value': False}\n",
    "        ],\n",
    "        value=True\n",
    "    ),\n",
    "\n",
    "    html.Label(\"NumProjects\"),\n",
    "    dcc.Input(id=\"projects\", type=\"number\", value=3.0),\n",
    "\n",
    "    html.Label(\"YearsSincePromotion\"),\n",
    "    dcc.Input(id=\"promotion\", type=\"number\", value=0.0),\n",
    "\n",
    "    html.Label(\"EnvironmentSatisfaction\"),\n",
    "    dcc.Input(id=\"satisfaction\", type=\"number\", value=2.0),\n",
    "\n",
    "    html.Button(\"Predict\", id=\"predict_button\", n_clicks=0),\n",
    "    html.Div(id=\"prediction_output\")\n",
    "])\n",
    "\n",
    "# Define callback to update prediction result\n",
    "@app.callback(\n",
    "    Output(\"prediction_output\", \"children\"),\n",
    "    [Input(\"predict_button\", \"n_clicks\")],\n",
    "    \n",
    "    [Input(\"branch\", \"value\"),\n",
    "        Input(\"tenure\", \"value\"),\n",
    "        Input(\"salary\", \"value\"),\n",
    "        Input(\"department\", \"value\"),\n",
    "        Input(\"job\", \"value\"),\n",
    "        Input(\"balance\", \"value\"),\n",
    "        Input(\"commute\", \"value\"),\n",
    "        Input(\"married\", \"value\"),\n",
    "        Input(\"education\", \"value\"),\n",
    "        Input(\"rating\", \"value\"),\n",
    "        Input(\"training\", \"value\"),\n",
    "        Input(\"overtime\", \"value\"),\n",
    "        Input(\"projects\", \"value\"),\n",
    "        Input(\"promotion\", \"value\"),\n",
    "        Input(\"satisfaction\", \"value\")]\n",
    ")\n",
    "def update_prediction(n_clicks, branch, tenure, salary, department, job, balance, commute, married, education, rating, training, overtime, projects, promotion, satisfaction):\n",
    "    if n_clicks > 0:\n",
    "        # Preprocess input data\n",
    "        data = pd.DataFrame({\n",
    "            \"Branch\": [branch],\n",
    "            \"Tenure\": [tenure],\n",
    "            \"Salary\": [salary],\n",
    "            \"Department\": [department],\n",
    "            \"JobSatisfaction\": [job],\n",
    "            \"WorkLifeBalance\": [balance],\n",
    "            \"CommuteDistance\": [commute],\n",
    "            \"MaritalStatus\": [married],\n",
    "            \"Education\": [education],\n",
    "            \"PerformanceRating\": [rating],\n",
    "            \"TrainingHours\": [training],\n",
    "            \"OverTime\": [overtime],\n",
    "            \"NumProjects\": [projects],\n",
    "            \"YearsSincePromotion\": [promotion],\n",
    "            \"EnvironmentSatisfaction\": [satisfaction]\n",
    "        })\n",
    "        # Make prediction\n",
    "        prediction = model.predict(data)[0]\n",
    "        \n",
    "        if prediction == 2:\n",
    "            prediction_str = 'Highly Likely to Churn'\n",
    "        elif prediction == 1:\n",
    "            prediction_str = 'Moderately Likely to Churn'\n",
    "        else:\n",
    "            prediction_str = 'Slightly Likely to Churn'\n",
    "\n",
    "        return html.Div(f\"Churn Likelihood: {prediction_str}\")\n",
    "    else:\n",
    "        return \"\"\n",
    "\n",
    "# Run the app\n",
    "if __name__ == \"__main__\":\n",
    "    app.run_server(debug=True)"
   ]
  }
 ],
 "metadata": {
  "kernelspec": {
   "display_name": "base",
   "language": "python",
   "name": "python3"
  },
  "language_info": {
   "codemirror_mode": {
    "name": "ipython",
    "version": 3
   },
   "file_extension": ".py",
   "mimetype": "text/x-python",
   "name": "python",
   "nbconvert_exporter": "python",
   "pygments_lexer": "ipython3",
   "version": "3.11.7"
  },
  "orig_nbformat": 4
 },
 "nbformat": 4,
 "nbformat_minor": 2
}
